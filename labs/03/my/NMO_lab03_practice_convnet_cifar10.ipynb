{
 "cells": [
  {
   "cell_type": "markdown",
   "metadata": {
    "id": "EmkK3B_LVS4t"
   },
   "source": [
    "---"
   ]
  },
  {
   "cell_type": "markdown",
   "metadata": {
    "id": "DqJ9IpyWVS4w"
   },
   "source": [
    "<h2 style=\"text-align: center;\"><b>Свёрточные нейронные сети: CIFAR10</b></h3>"
   ]
  },
  {
   "cell_type": "markdown",
   "metadata": {
    "id": "2ZB1i5htVS4x"
   },
   "source": [
    "---"
   ]
  },
  {
   "cell_type": "markdown",
   "metadata": {
    "id": "fNQJ_TgsVS4y"
   },
   "source": [
    "В этом ноутбке мы посмотрим, насколько хорошо CNN будут предсказывать классы на более сложном датасете картинок -- CIFAR10. \n",
    "\n",
    "**Внимание:** Рассматривается ***задача классификации изображений***.\n",
    "\n",
    "***Свёрточная нейросеть (Convolutional Neural Network, CNN)*** - это многослойная нейросеть, имеющая в своей архитектуре помимо *полносвязных слоёв* (а иногда их может и не быть) ещё и **свёрточные слои (Conv Layers)** и **pooling-слои (Pool Layers)**.  \n",
    "\n",
    "Собственно, название такое эти сети получили потому, что в основе их работы лежит операция **свёртки**.\n",
    "\n",
    "Сразу же стоит сказать, что свёрточные нейросети **были придуманы прежде всего для задач, связанных с изображениями**, следовательно, на вход они тоже \"ожидают\" изображение.\n",
    "\n",
    "* Например, вот так выглядит неглубокая свёрточная нейросеть, имеющая такую архитектуру:  \n",
    "`Input -> Conv 5x5 -> Pool 2x2 -> Conv 5x5 -> Pool 2x2 -> FC -> Output`\n",
    "\n",
    "<img src=\"https://camo.githubusercontent.com/269e3903f62eb2c4d13ac4c9ab979510010f8968/68747470733a2f2f7261772e6769746875622e636f6d2f746176677265656e2f6c616e647573655f636c617373696669636174696f6e2f6d61737465722f66696c652f636e6e2e706e673f7261773d74727565\" width=800, height=600>  \n",
    "  \n",
    "Свёрточные нейросети (простые, есть и намного более продвинутые) почти всегда строятся по следующему правилу:  \n",
    "\n",
    "`INPUT -> [[CONV -> RELU]*N -> POOL?]*M -> [FC -> RELU]*L -> FC`  \n",
    "\n",
    "то есть:  \n",
    "\n",
    "1). ***Входной слой***: batch картинок -- тензор размера `(batch_size, H, W, C)` или `(batch_size, C, H, W)`\n",
    "\n",
    "2). $M$ блоков (M $\\ge$ 0) из свёрток и pooling-ов, причём именно в том порядке, как в формуле выше. Все эти $M$ блоков вместе называют ***feature extractor*** свёрточной нейросети, потому что эта часть сети отвечает непосредственно за формирование новых, более сложных признаков поверх тех, которые подаются (то есть, по аналогии с MLP, мы опять же переходим к новому признаковому пространству, однако здесь оно строится сложнее, чем в обычных многослойных сетях, поскольку используется операция свёртки)  \n",
    "\n",
    "3). $L$ штук FullyConnected-слоёв (с активациями). Эту часть из $L$ FC-слоёв называют ***classificator***, поскольку эти слои отвечают непосредственно за предсказание нужно класса (сейчас рассматривается задача классификации изображений)."
   ]
  },
  {
   "cell_type": "markdown",
   "metadata": {
    "id": "o09BQ_MrVS4z"
   },
   "source": [
    "\n",
    "<h3 style=\"text-align: center;\"><b>Свёрточная нейросеть на PyTorch</b></h3>\n",
    "\n",
    "Ешё раз напомним про основные компоненты нейросети:\n",
    "\n",
    "- непосредственно, сама **архитектура** нейросети (сюда входят типы функций активации у каждого нейрона);\n",
    "- начальная **инициализация** весов каждого слоя;\n",
    "- метод **оптимизации** нейросети (сюда ещё входит метод изменения `learning_rate`);\n",
    "- размер **батчей** (`batch_size`);\n",
    "- количетсво **эпох** обучения (`num_epochs`);\n",
    "- **функция потерь** (`loss`);  \n",
    "- тип **регуляризации** нейросети (`weight_decay`, для каждого слоя можно свой);  \n",
    "\n",
    "То, что связано с ***данными и задачей***:  \n",
    "- само **качество** выборки (непротиворечивость, чистота, корректность постановки задачи);  \n",
    "- **размер** выборки;  \n",
    "\n",
    "Так как мы сейчас рассматриваем **архитектуру CNN**, то, помимо этих компонент, в свёрточной нейросети можно настроить следующие вещи:  \n",
    "\n",
    "- (в каждом ConvLayer) **размер фильтров (окна свёртки)** (`kernel_size`)\n",
    "- (в каждом ConvLayer) **количество фильтров** (`out_channels`)  \n",
    "- (в каждом ConvLayer) размер **шага окна свёртки (stride)** (`stride`)  \n",
    "- (в каждом ConvLayer) **тип padding'а** (`padding`)  \n",
    "\n",
    "\n",
    "- (в каждом PoolLayer) **размер окна pooling'a** (`kernel_size`)  \n",
    "- (в каждом PoolLayer) **шаг окна pooling'а** (`stride`)  \n",
    "- (в каждом PoolLayer) **тип pooling'а** (`pool_type`)  \n",
    "- (в каждом PoolLayer) **тип padding'а** (`padding`)"
   ]
  },
  {
   "cell_type": "markdown",
   "metadata": {
    "id": "wbB5RjlYVS40"
   },
   "source": [
    "<h3 style=\"text-align: center;\"><b>CIFAR10</b></h3>"
   ]
  },
  {
   "cell_type": "markdown",
   "metadata": {
    "id": "6q-XNxf6VS41"
   },
   "source": [
    "<img src=\"https://raw.githubusercontent.com/soumith/ex/gh-pages/assets/cifar10.png\" width=500, height=400>"
   ]
  },
  {
   "cell_type": "markdown",
   "metadata": {
    "id": "wqx-IrGdVS42"
   },
   "source": [
    "**CIFAR10:** это набор из 60k картинок 32х32х3, 50k которых составляют обучающую выборку, и оставшиеся 10k - тестовую. Классов в этом датасете 10: `'plane', 'car', 'bird', 'cat', 'deer', 'dog', 'frog', 'horse', 'ship', 'truck'`."
   ]
  },
  {
   "cell_type": "code",
   "execution_count": 1,
   "metadata": {
    "id": "iXgtzjz5VS43"
   },
   "outputs": [],
   "source": [
    "# !pip install torch torchvision"
   ]
  },
  {
   "cell_type": "code",
   "execution_count": 2,
   "metadata": {
    "id": "9AQXJkzxVS47"
   },
   "outputs": [],
   "source": [
    "import torch\n",
    "import torchvision\n",
    "from torchvision import transforms\n",
    "\n",
    "import numpy as np\n",
    "import matplotlib.pyplot as plt\n",
    "%matplotlib inline"
   ]
  },
  {
   "cell_type": "code",
   "execution_count": 3,
   "metadata": {
    "id": "fc7hC-idVS4_"
   },
   "outputs": [],
   "source": [
    "from tqdm import tqdm_notebook"
   ]
  },
  {
   "cell_type": "code",
   "execution_count": 4,
   "metadata": {
    "colab": {
     "base_uri": "https://localhost:8080/",
     "height": 100,
     "referenced_widgets": [
      "dac3e7dd776648559f1a3e616cdf545c",
      "f005d1c46b5b4ace9f4da52463e7679d",
      "629af9939b7c4e749927580f896cb424",
      "96933dfcff7940308f74b599b4a01cd4",
      "3df288c725524d6fa0cf76bc127ca9b9",
      "286798529a354ef6ae13364385597e62",
      "c7af1c9e8f9f4135a881cd547ef74c27",
      "6fae0cd41d9d409c84182f8a98ba2ab5",
      "efd82ee5d93543de85650c63d7339730",
      "7d88d6d4230c4e538a7f62e545ea26e9",
      "d4bb7d4621bc450ab5eba9d2dd9f2ba6"
     ]
    },
    "id": "GtnvcfS0VS5C",
    "outputId": "24c6b0ee-c1f0-4c6d-e56c-6406600e8dc3"
   },
   "outputs": [
    {
     "name": "stdout",
     "output_type": "stream",
     "text": [
      "Downloading https://www.cs.toronto.edu/~kriz/cifar-10-python.tar.gz to ../pytorch_data\\cifar-10-python.tar.gz\n"
     ]
    },
    {
     "data": {
      "application/vnd.jupyter.widget-view+json": {
       "model_id": "34cb9a83043d4d9badc1e73a9f642725",
       "version_major": 2,
       "version_minor": 0
      },
      "text/plain": [
       "  0%|          | 0/170498071 [00:00<?, ?it/s]"
      ]
     },
     "metadata": {},
     "output_type": "display_data"
    },
    {
     "name": "stdout",
     "output_type": "stream",
     "text": [
      "Extracting ../pytorch_data\\cifar-10-python.tar.gz to ../pytorch_data\n",
      "Files already downloaded and verified\n"
     ]
    }
   ],
   "source": [
    "transform = transforms.Compose(\n",
    "    [transforms.ToTensor(),\n",
    "     transforms.Normalize((0.5, 0.5, 0.5), (0.5, 0.5, 0.5))])\n",
    "\n",
    "trainset = torchvision.datasets.CIFAR10(root='../pytorch_data', train=True,\n",
    "                                        download=True, transform=transform)\n",
    "trainloader = torch.utils.data.DataLoader(trainset, batch_size=4,\n",
    "                                          shuffle=True, num_workers=2)\n",
    "\n",
    "testset = torchvision.datasets.CIFAR10(root='../pytorch_data', train=False,\n",
    "                                       download=True, transform=transform)\n",
    "testloader = torch.utils.data.DataLoader(testset, batch_size=4,\n",
    "                                         shuffle=False, num_workers=2)\n",
    "\n",
    "classes = ('plane', 'car', 'bird', 'cat',\n",
    "           'deer', 'dog', 'frog', 'horse', 'ship', 'truck')"
   ]
  },
  {
   "cell_type": "code",
   "execution_count": 5,
   "metadata": {
    "colab": {
     "base_uri": "https://localhost:8080/"
    },
    "id": "WGLJPzK5DjiU",
    "outputId": "9f0f0569-8f1e-4f48-9dd1-d28f58b9827f"
   },
   "outputs": [
    {
     "data": {
      "text/plain": [
       "array([[[[ 59,  62,  63],\n",
       "         [ 43,  46,  45],\n",
       "         [ 50,  48,  43],\n",
       "         ...,\n",
       "         [158, 132, 108],\n",
       "         [152, 125, 102],\n",
       "         [148, 124, 103]],\n",
       "\n",
       "        [[ 16,  20,  20],\n",
       "         [  0,   0,   0],\n",
       "         [ 18,   8,   0],\n",
       "         ...,\n",
       "         [123,  88,  55],\n",
       "         [119,  83,  50],\n",
       "         [122,  87,  57]],\n",
       "\n",
       "        [[ 25,  24,  21],\n",
       "         [ 16,   7,   0],\n",
       "         [ 49,  27,   8],\n",
       "         ...,\n",
       "         [118,  84,  50],\n",
       "         [120,  84,  50],\n",
       "         [109,  73,  42]],\n",
       "\n",
       "        ...,\n",
       "\n",
       "        [[208, 170,  96],\n",
       "         [201, 153,  34],\n",
       "         [198, 161,  26],\n",
       "         ...,\n",
       "         [160, 133,  70],\n",
       "         [ 56,  31,   7],\n",
       "         [ 53,  34,  20]],\n",
       "\n",
       "        [[180, 139,  96],\n",
       "         [173, 123,  42],\n",
       "         [186, 144,  30],\n",
       "         ...,\n",
       "         [184, 148,  94],\n",
       "         [ 97,  62,  34],\n",
       "         [ 83,  53,  34]],\n",
       "\n",
       "        [[177, 144, 116],\n",
       "         [168, 129,  94],\n",
       "         [179, 142,  87],\n",
       "         ...,\n",
       "         [216, 184, 140],\n",
       "         [151, 118,  84],\n",
       "         [123,  92,  72]]],\n",
       "\n",
       "\n",
       "       [[[154, 177, 187],\n",
       "         [126, 137, 136],\n",
       "         [105, 104,  95],\n",
       "         ...,\n",
       "         [ 91,  95,  71],\n",
       "         [ 87,  90,  71],\n",
       "         [ 79,  81,  70]],\n",
       "\n",
       "        [[140, 160, 169],\n",
       "         [145, 153, 154],\n",
       "         [125, 125, 118],\n",
       "         ...,\n",
       "         [ 96,  99,  78],\n",
       "         [ 77,  80,  62],\n",
       "         [ 71,  73,  61]],\n",
       "\n",
       "        [[140, 155, 164],\n",
       "         [139, 146, 149],\n",
       "         [115, 115, 112],\n",
       "         ...,\n",
       "         [ 79,  82,  64],\n",
       "         [ 68,  70,  55],\n",
       "         [ 67,  69,  55]],\n",
       "\n",
       "        ...,\n",
       "\n",
       "        [[175, 167, 166],\n",
       "         [156, 154, 160],\n",
       "         [154, 160, 170],\n",
       "         ...,\n",
       "         [ 42,  34,  36],\n",
       "         [ 61,  53,  57],\n",
       "         [ 93,  83,  91]],\n",
       "\n",
       "        [[165, 154, 128],\n",
       "         [156, 152, 130],\n",
       "         [159, 161, 142],\n",
       "         ...,\n",
       "         [103,  93,  96],\n",
       "         [123, 114, 120],\n",
       "         [131, 121, 131]],\n",
       "\n",
       "        [[163, 148, 120],\n",
       "         [158, 148, 122],\n",
       "         [163, 156, 133],\n",
       "         ...,\n",
       "         [143, 133, 139],\n",
       "         [143, 134, 142],\n",
       "         [143, 133, 144]]],\n",
       "\n",
       "\n",
       "       [[[255, 255, 255],\n",
       "         [253, 253, 253],\n",
       "         [253, 253, 253],\n",
       "         ...,\n",
       "         [253, 253, 253],\n",
       "         [253, 253, 253],\n",
       "         [253, 253, 253]],\n",
       "\n",
       "        [[255, 255, 255],\n",
       "         [255, 255, 255],\n",
       "         [255, 255, 255],\n",
       "         ...,\n",
       "         [255, 255, 255],\n",
       "         [255, 255, 255],\n",
       "         [255, 255, 255]],\n",
       "\n",
       "        [[255, 255, 255],\n",
       "         [254, 254, 254],\n",
       "         [254, 254, 254],\n",
       "         ...,\n",
       "         [254, 254, 254],\n",
       "         [254, 254, 254],\n",
       "         [254, 254, 254]],\n",
       "\n",
       "        ...,\n",
       "\n",
       "        [[113, 120, 112],\n",
       "         [111, 118, 111],\n",
       "         [105, 112, 106],\n",
       "         ...,\n",
       "         [ 72,  81,  80],\n",
       "         [ 72,  80,  79],\n",
       "         [ 72,  80,  79]],\n",
       "\n",
       "        [[111, 118, 110],\n",
       "         [104, 111, 104],\n",
       "         [ 99, 106,  98],\n",
       "         ...,\n",
       "         [ 68,  75,  73],\n",
       "         [ 70,  76,  75],\n",
       "         [ 78,  84,  82]],\n",
       "\n",
       "        [[106, 113, 105],\n",
       "         [ 99, 106,  98],\n",
       "         [ 95, 102,  94],\n",
       "         ...,\n",
       "         [ 78,  85,  83],\n",
       "         [ 79,  85,  83],\n",
       "         [ 80,  86,  84]]],\n",
       "\n",
       "\n",
       "       ...,\n",
       "\n",
       "\n",
       "       [[[ 35, 178, 235],\n",
       "         [ 40, 176, 239],\n",
       "         [ 42, 176, 241],\n",
       "         ...,\n",
       "         [ 99, 177, 219],\n",
       "         [ 79, 147, 197],\n",
       "         [ 89, 148, 189]],\n",
       "\n",
       "        [[ 57, 182, 234],\n",
       "         [ 44, 184, 250],\n",
       "         [ 50, 183, 240],\n",
       "         ...,\n",
       "         [156, 182, 200],\n",
       "         [141, 177, 206],\n",
       "         [116, 149, 175]],\n",
       "\n",
       "        [[ 98, 197, 237],\n",
       "         [ 64, 189, 252],\n",
       "         [ 69, 192, 245],\n",
       "         ...,\n",
       "         [188, 195, 206],\n",
       "         [119, 135, 147],\n",
       "         [ 61,  79,  90]],\n",
       "\n",
       "        ...,\n",
       "\n",
       "        [[ 73,  79,  77],\n",
       "         [ 53,  63,  68],\n",
       "         [ 54,  68,  80],\n",
       "         ...,\n",
       "         [ 17,  40,  64],\n",
       "         [ 21,  36,  51],\n",
       "         [ 33,  48,  49]],\n",
       "\n",
       "        [[ 61,  68,  75],\n",
       "         [ 55,  70,  86],\n",
       "         [ 57,  79, 103],\n",
       "         ...,\n",
       "         [ 24,  48,  72],\n",
       "         [ 17,  35,  53],\n",
       "         [  7,  23,  32]],\n",
       "\n",
       "        [[ 44,  56,  73],\n",
       "         [ 46,  66,  88],\n",
       "         [ 49,  77, 105],\n",
       "         ...,\n",
       "         [ 27,  52,  77],\n",
       "         [ 21,  43,  66],\n",
       "         [ 12,  31,  50]]],\n",
       "\n",
       "\n",
       "       [[[189, 211, 240],\n",
       "         [186, 208, 236],\n",
       "         [185, 207, 235],\n",
       "         ...,\n",
       "         [175, 195, 224],\n",
       "         [172, 194, 222],\n",
       "         [169, 194, 220]],\n",
       "\n",
       "        [[194, 210, 239],\n",
       "         [191, 207, 236],\n",
       "         [190, 206, 235],\n",
       "         ...,\n",
       "         [173, 192, 220],\n",
       "         [171, 191, 218],\n",
       "         [167, 190, 216]],\n",
       "\n",
       "        [[208, 219, 244],\n",
       "         [205, 216, 240],\n",
       "         [204, 215, 239],\n",
       "         ...,\n",
       "         [175, 191, 217],\n",
       "         [172, 190, 216],\n",
       "         [169, 191, 215]],\n",
       "\n",
       "        ...,\n",
       "\n",
       "        [[207, 199, 181],\n",
       "         [203, 195, 175],\n",
       "         [203, 196, 173],\n",
       "         ...,\n",
       "         [135, 132, 127],\n",
       "         [162, 158, 150],\n",
       "         [168, 163, 151]],\n",
       "\n",
       "        [[198, 190, 170],\n",
       "         [189, 181, 159],\n",
       "         [180, 172, 147],\n",
       "         ...,\n",
       "         [178, 171, 160],\n",
       "         [175, 169, 156],\n",
       "         [175, 169, 154]],\n",
       "\n",
       "        [[198, 189, 173],\n",
       "         [189, 181, 162],\n",
       "         [178, 170, 149],\n",
       "         ...,\n",
       "         [195, 184, 169],\n",
       "         [196, 189, 171],\n",
       "         [195, 190, 171]]],\n",
       "\n",
       "\n",
       "       [[[229, 229, 239],\n",
       "         [236, 237, 247],\n",
       "         [234, 236, 247],\n",
       "         ...,\n",
       "         [217, 219, 233],\n",
       "         [221, 223, 234],\n",
       "         [222, 223, 233]],\n",
       "\n",
       "        [[222, 221, 229],\n",
       "         [239, 239, 249],\n",
       "         [233, 234, 246],\n",
       "         ...,\n",
       "         [223, 223, 236],\n",
       "         [227, 228, 238],\n",
       "         [210, 211, 220]],\n",
       "\n",
       "        [[213, 206, 211],\n",
       "         [234, 232, 239],\n",
       "         [231, 233, 244],\n",
       "         ...,\n",
       "         [220, 220, 232],\n",
       "         [220, 219, 232],\n",
       "         [202, 203, 215]],\n",
       "\n",
       "        ...,\n",
       "\n",
       "        [[150, 143, 135],\n",
       "         [140, 135, 127],\n",
       "         [132, 127, 120],\n",
       "         ...,\n",
       "         [224, 222, 218],\n",
       "         [230, 228, 225],\n",
       "         [241, 241, 238]],\n",
       "\n",
       "        [[137, 132, 126],\n",
       "         [130, 127, 120],\n",
       "         [125, 121, 115],\n",
       "         ...,\n",
       "         [181, 180, 178],\n",
       "         [202, 201, 198],\n",
       "         [212, 211, 207]],\n",
       "\n",
       "        [[122, 119, 114],\n",
       "         [118, 116, 110],\n",
       "         [120, 116, 111],\n",
       "         ...,\n",
       "         [179, 177, 173],\n",
       "         [164, 164, 162],\n",
       "         [163, 163, 161]]]], dtype=uint8)"
      ]
     },
     "execution_count": 5,
     "metadata": {},
     "output_type": "execute_result"
    }
   ],
   "source": [
    "# trainset.data"
   ]
  },
  {
   "cell_type": "code",
   "execution_count": 6,
   "metadata": {
    "colab": {
     "base_uri": "https://localhost:8080/"
    },
    "id": "TSbQ80MZCW84",
    "outputId": "73dc7a3c-ac9c-4f99-8bfc-1d9557a4dbad"
   },
   "outputs": [
    {
     "data": {
      "text/plain": [
       "['data_batch_1', 'c99cafc152244af753f735de768cd75f']"
      ]
     },
     "execution_count": 6,
     "metadata": {},
     "output_type": "execute_result"
    }
   ],
   "source": [
    "trainloader.dataset.train_list[0]"
   ]
  },
  {
   "cell_type": "code",
   "execution_count": 7,
   "metadata": {
    "colab": {
     "base_uri": "https://localhost:8080/",
     "height": 266
    },
    "id": "tRmesD01VS5H",
    "outputId": "c5441694-0f5c-47a3-e5dc-c267bac95a92"
   },
   "outputs": [
    {
     "data": {
      "image/png": "[encoded data removed]",
      "text/plain": [
       "<Figure size 432x288 with 1 Axes>"
      ]
     },
     "metadata": {
      "needs_background": "light"
     },
     "output_type": "display_data"
    }
   ],
   "source": [
    "# случайный индекс от 0 до размера тренировочной выборки\n",
    "i = np.random.randint(low=0, high=50000)\n",
    "\n",
    "plt.imshow(trainloader.dataset.data[i]);"
   ]
  },
  {
   "cell_type": "markdown",
   "metadata": {
    "id": "3I-smSRhVS5M"
   },
   "source": [
    "Напишем свёрточную нейросеть для предсказания на CIFAR10."
   ]
  },
  {
   "cell_type": "code",
   "execution_count": 8,
   "metadata": {
    "id": "Na7SmsRpVS5O"
   },
   "outputs": [],
   "source": [
    "import torch.nn as nn\n",
    "import torch.nn.functional as F"
   ]
  },
  {
   "cell_type": "code",
   "execution_count": 9,
   "metadata": {
    "id": "SStmnkaDVS5R"
   },
   "outputs": [],
   "source": [
    "class SimpleConvNet(torch.nn.Module):\n",
    "    def __init__(self):\n",
    "        # вызов конструктора класса nn.Module()\n",
    "        super(SimpleConvNet, self).__init__()\n",
    "        # feature extractor\n",
    "        self.conv1 = nn.Conv2d(in_channels=3, out_channels=6, kernel_size=5)\n",
    "        self.pool = nn.MaxPool2d(kernel_size=2, stride=2)\n",
    "        self.conv2 = nn.Conv2d(in_channels=6, out_channels=16, kernel_size=5)\n",
    "        # classificator\n",
    "        self.fc1 = nn.Linear(5 * 5 * 16, 120)\n",
    "        self.fc2 = nn.Linear(120, 84)\n",
    "        self.fc3 = nn.Linear(84, 10)\n",
    "\n",
    "    def forward(self, x):\n",
    "        x = self.pool(F.relu(self.conv1(x)))\n",
    "        x = self.pool(F.relu(self.conv2(x)))\n",
    "        # print(x.shape)\n",
    "        x = x.view(-1, 5 * 5 * 16)\n",
    "        x = F.relu(self.fc1(x))\n",
    "        x = F.relu(self.fc2(x))\n",
    "        x = self.fc3(x)\n",
    "        return x"
   ]
  },
  {
   "cell_type": "markdown",
   "metadata": {
    "id": "W6sP6_LQVS5U"
   },
   "source": [
    "Обучим:"
   ]
  },
  {
   "cell_type": "code",
   "execution_count": 10,
   "metadata": {
    "id": "k2m9rgUqVS5V"
   },
   "outputs": [],
   "source": [
    "from tqdm import tqdm_notebook"
   ]
  },
  {
   "cell_type": "code",
   "execution_count": 11,
   "metadata": {
    "colab": {
     "base_uri": "https://localhost:8080/",
     "height": 570,
     "referenced_widgets": [
      "5f6be80920eb490789231004c325619e",
      "d4deb41daf87466eacde4c9b35f41992",
      "5420e825762b4d838e51902ca5d19c14",
      "a34db5150de14b4f9632cfa25d4f6741",
      "3f8bf3f4c5b44c1a9bf258c234f8e5b5",
      "19d86be5a8e04aed98d2bd770bd4761f",
      "05958e854b9c4bf6bdc18304637b9c71",
      "f3a30a1be89b49419110d979d167cb9f",
      "63418c5bf9384640b0c383a0c9a034b1",
      "75c4e9c15c7d425fb5dcef5b24fe53a8",
      "457e78f2d5da40cbbdce12c1dc7e2673",
      "199f68f933254afcbc7b5aad2a014c4b",
      "5bfe615456c94300a72504380c2b430b",
      "d0aae2e86e3846349c8bcecbaa28cd54",
      "ca726151aafc438eaba754030cbb43d7",
      "35d2dc476108485697a441159c0da6f4",
      "4657557f1673496fbf74b4ae40bf13d0",
      "616492e0e87b47e687a5deff6870d1d4",
      "f75ac41a6d774c1698525a7dd7885965",
      "f227e39ca70949b096a10fce9c98b1c1",
      "bd63d6d1bf024fb1949e2f21b520641a",
      "fee9731136b24738b79ad062e311716c",
      "82f37751159d43ea97c8ac3a07d9e5cc",
      "f39786c981944c4185c66195059d1e3d",
      "b9c05d2674964a419ed20e8a5897905b",
      "e6a44b6b0f6543c19a0f959d9a08646a",
      "40408182b01c4c17b17074345acd1623",
      "ce5aabcd008548efa0d25c67c4495b4e",
      "7d0bf9f3996940198335ad1b9dae6ac2",
      "fd34c04193444828b24019799d6b71a2",
      "1593f7fca88a4a45b3536274fe792aeb",
      "850cf7807811481cbc11015aaedb3127",
      "b8d8499dcb27469496d5877f3152acb8",
      "44aafb8feece4cd693e78af7ba936338",
      "31d7f847652a489abe47d69e9f84ef92",
      "c7c9e19b00cd4a07817e1c3e66090096",
      "c565472f16804fb2b1a51ba8addd1deb",
      "f2c3d549b04e441a856c2ae03bf9b7df",
      "89a28d3ea7354ccd9185f2126fcbbc3f",
      "c96f561425274f0a8e035c230dda2ca3",
      "b61c571fab404823a0d853dce6678603",
      "dfcf7caa2c8943f0aa191e76deb6b87f",
      "458de056866442d0b317e16fded2d0a5",
      "1c558ae71770441a807355de7ebf3070"
     ]
    },
    "id": "jd9Bqjr_VS5Y",
    "outputId": "75641d24-67d4-483b-f135-37e6302f7d58"
   },
   "outputs": [
    {
     "name": "stderr",
     "output_type": "stream",
     "text": [
      "C:\\Users\\KOSHI8~1\\AppData\\Local\\Temp/ipykernel_4672/3477602096.py:9: TqdmDeprecationWarning: This function will be removed in tqdm==5.0.0\n",
      "Please use `tqdm.notebook.tqdm` instead of `tqdm.tqdm_notebook`\n",
      "  for epoch in tqdm_notebook(range(3)):\n"
     ]
    },
    {
     "data": {
      "application/vnd.jupyter.widget-view+json": {
       "model_id": "0724c29b6ed4405d8fb29723202ddebb",
       "version_major": 2,
       "version_minor": 0
      },
      "text/plain": [
       "  0%|          | 0/3 [00:00<?, ?it/s]"
      ]
     },
     "metadata": {},
     "output_type": "display_data"
    },
    {
     "name": "stderr",
     "output_type": "stream",
     "text": [
      "C:\\Users\\KOSHI8~1\\AppData\\Local\\Temp/ipykernel_4672/3477602096.py:12: TqdmDeprecationWarning: This function will be removed in tqdm==5.0.0\n",
      "Please use `tqdm.notebook.tqdm` instead of `tqdm.tqdm_notebook`\n",
      "  for i, batch in enumerate(tqdm_notebook(trainloader)):\n"
     ]
    },
    {
     "data": {
      "application/vnd.jupyter.widget-view+json": {
       "model_id": "782bada29a754945a744d03d5d1d1a8b",
       "version_major": 2,
       "version_minor": 0
      },
      "text/plain": [
       "  0%|          | 0/12500 [00:00<?, ?it/s]"
      ]
     },
     "metadata": {},
     "output_type": "display_data"
    },
    {
     "name": "stdout",
     "output_type": "stream",
     "text": [
      "[1,  2000] loss: 2.028\n",
      "[1,  4000] loss: 1.774\n",
      "[1,  6000] loss: 1.697\n",
      "[1,  8000] loss: 1.639\n",
      "[1, 10000] loss: 1.599\n",
      "[1, 12000] loss: 1.588\n"
     ]
    },
    {
     "data": {
      "application/vnd.jupyter.widget-view+json": {
       "model_id": "0e27412b628d4f30b33c8664290e2a35",
       "version_major": 2,
       "version_minor": 0
      },
      "text/plain": [
       "  0%|          | 0/12500 [00:00<?, ?it/s]"
      ]
     },
     "metadata": {},
     "output_type": "display_data"
    },
    {
     "name": "stdout",
     "output_type": "stream",
     "text": [
      "[2,  2000] loss: 1.535\n",
      "[2,  4000] loss: 1.515\n",
      "[2,  6000] loss: 1.501\n",
      "[2,  8000] loss: 1.478\n",
      "[2, 10000] loss: 1.470\n",
      "[2, 12000] loss: 1.433\n"
     ]
    },
    {
     "data": {
      "application/vnd.jupyter.widget-view+json": {
       "model_id": "4b6c6d83d3744583baefe6aeba6c31c7",
       "version_major": 2,
       "version_minor": 0
      },
      "text/plain": [
       "  0%|          | 0/12500 [00:00<?, ?it/s]"
      ]
     },
     "metadata": {},
     "output_type": "display_data"
    },
    {
     "name": "stdout",
     "output_type": "stream",
     "text": [
      "[3,  2000] loss: 1.423\n",
      "[3,  4000] loss: 1.416\n",
      "[3,  6000] loss: 1.389\n",
      "[3,  8000] loss: 1.373\n",
      "[3, 10000] loss: 1.356\n",
      "[3, 12000] loss: 1.373\n",
      "Обучение закончено\n"
     ]
    }
   ],
   "source": [
    "net = SimpleConvNet()\n",
    "\n",
    "loss_fn = torch.nn.CrossEntropyLoss()\n",
    "\n",
    "learning_rate = 1e-4\n",
    "optimizer = torch.optim.Adam(net.parameters(), lr=learning_rate)\n",
    "\n",
    "# итерируемся\n",
    "for epoch in tqdm_notebook(range(3)):\n",
    "\n",
    "    running_loss = 0.0\n",
    "    for i, batch in enumerate(tqdm_notebook(trainloader)):\n",
    "        # так получаем текущий батч\n",
    "        X_batch, y_batch = batch\n",
    "\n",
    "        # обнуляем веса\n",
    "        optimizer.zero_grad()\n",
    "\n",
    "        # forward + backward + optimize\n",
    "        y_pred = net(X_batch)\n",
    "        loss = loss_fn(y_pred, y_batch)\n",
    "        loss.backward()\n",
    "        optimizer.step()\n",
    "\n",
    "        running_loss += loss.item()\n",
    "        # выводим качество каждые 2000 батчей\n",
    "        if i % 2000 == 1999:\n",
    "            print('[%d, %5d] loss: %.3f' %\n",
    "                  (epoch + 1, i + 1, running_loss / 2000))\n",
    "            running_loss = 0.0\n",
    "\n",
    "print('Обучение закончено')"
   ]
  },
  {
   "cell_type": "markdown",
   "metadata": {
    "id": "q4_QAnQqVS5d"
   },
   "source": [
    "Посмотрим на accuracy на тестовом датасете:"
   ]
  },
  {
   "cell_type": "code",
   "execution_count": 12,
   "metadata": {
    "colab": {
     "base_uri": "https://localhost:8080/"
    },
    "id": "LJYGIIK4VS5e",
    "outputId": "72d3c7a9-f910-4544-f07e-8d34a56326af"
   },
   "outputs": [
    {
     "name": "stdout",
     "output_type": "stream",
     "text": [
      "Accuracy of plane : 34 %\n",
      "Accuracy of   car : 63 %\n",
      "Accuracy of  bird : 24 %\n",
      "Accuracy of   cat : 32 %\n",
      "Accuracy of  deer : 35 %\n",
      "Accuracy of   dog : 47 %\n",
      "Accuracy of  frog : 74 %\n",
      "Accuracy of horse : 53 %\n",
      "Accuracy of  ship : 79 %\n",
      "Accuracy of truck : 54 %\n"
     ]
    }
   ],
   "source": [
    "class_correct = list(0. for i in range(10))\n",
    "class_total = list(0. for i in range(10))\n",
    "\n",
    "with torch.no_grad():\n",
    "    for data in testloader:\n",
    "        images, labels = data\n",
    "        y_pred = net(images)\n",
    "        _, predicted = torch.max(y_pred, 1)\n",
    "        c = (predicted == labels).squeeze()\n",
    "        for i in range(4):\n",
    "            label = labels[i]\n",
    "            class_correct[label] += c[i].item()\n",
    "            class_total[label] += 1\n",
    "\n",
    "for i in range(10):\n",
    "    print('Accuracy of %5s : %2d %%' % (\n",
    "        classes[i], 100 * class_correct[i] / class_total[i]))"
   ]
  },
  {
   "cell_type": "markdown",
   "metadata": {
    "id": "akn5NOqBVS5l"
   },
   "source": [
    "Проверим работу нейросети визуально (позапускайте ячейку несколько раз):"
   ]
  },
  {
   "cell_type": "code",
   "execution_count": 13,
   "metadata": {
    "colab": {
     "base_uri": "https://localhost:8080/",
     "height": 281
    },
    "id": "1COUZ6-JVS5m",
    "outputId": "2d4009d9-637e-4d1c-9686-77d0978aac2a"
   },
   "outputs": [
    {
     "data": {
      "image/png": "[encoded data removed]",
      "text/plain": [
       "<Figure size 432x288 with 1 Axes>"
      ]
     },
     "metadata": {
      "needs_background": "light"
     },
     "output_type": "display_data"
    }
   ],
   "source": [
    "i = np.random.randint(low=0, high=10000)\n",
    "\n",
    "def visualize_result(index):\n",
    "    image = testloader.dataset.data[index]\n",
    "    plt.imshow(image)\n",
    "    \n",
    "    image = transform(image)  # не забудем отмасштабировать!\n",
    "    \n",
    "    y_pred = net(image.view(1, 3, 32, 32))\n",
    "    _, predicted = torch.max(y_pred, 1)\n",
    "    \n",
    "    plt.title(f'Predicted: {classes[predicted.numpy()[0]]}')\n",
    "\n",
    "visualize_result(i)"
   ]
  },
  {
   "cell_type": "markdown",
   "metadata": {
    "id": "W0OjBCVzVS5q"
   },
   "source": [
    "Улучшим свёрточную нейросеть: поэкспериментируем с архитектурой (количество слоёв, порядок слоёв), с гиперпараметрами слоёв (размеры kernel_size, размеры pooling'а, количество kernel'ов в свёрточном слое) и с гиперпараметрами, указанными в \"Компоненты нейросети\" (см. памятку выше)."
   ]
  },
  {
   "cell_type": "code",
   "execution_count": 14,
   "metadata": {
    "id": "T3CbIaXMVS5r"
   },
   "outputs": [],
   "source": [
    "class BetterConvNet(nn.Module):\n",
    "    def __init__(self):\n",
    "        # вызов конструктора класса nn.Module()\n",
    "        super(BetterConvNet, self).__init__()\n",
    "        \n",
    "        self.pool = nn.MaxPool2d(kernel_size=2, stride=2)\n",
    "        \n",
    "        self.conv1 = nn.Conv2d(in_channels=3, out_channels=6, kernel_size=5)\n",
    "        self.conv2 = nn.Conv2d(in_channels=6, out_channels=16, kernel_size=5)\n",
    "        self.conv3 = nn.Conv2d(in_channels=16, out_channels=32, kernel_size=5)\n",
    "        \n",
    "        self.fc1 = nn.Linear(3 * 3 * 32, 120)\n",
    "        self.fc2 = nn.Linear(120, 84)\n",
    "        self.fc3 = nn.Linear(84, 10)\n",
    "\n",
    "    def forward(self, x):\n",
    "        x = self.pool(F.relu(self.conv1(x)))\n",
    "        x = self.pool(self.conv3(F.relu(self.conv2(x))))\n",
    "#         print(x.shape)\n",
    "        x = x.view(-1, 3 * 3 * 32)\n",
    "        x = F.relu(self.fc1(x))\n",
    "        x = F.relu(self.fc2(x))\n",
    "        x = self.fc3(x)\n",
    "        return x"
   ]
  },
  {
   "cell_type": "markdown",
   "metadata": {
    "id": "9lYy033EVS5u"
   },
   "source": [
    "Обучим:"
   ]
  },
  {
   "cell_type": "code",
   "execution_count": 15,
   "metadata": {
    "id": "neY20gjLVS5u"
   },
   "outputs": [],
   "source": [
    "from tqdm import tqdm_notebook"
   ]
  },
  {
   "cell_type": "code",
   "execution_count": 16,
   "metadata": {
    "colab": {
     "base_uri": "https://localhost:8080/",
     "height": 838,
     "referenced_widgets": [
      "580103155c744510ac5c0ebebdc4b7dc",
      "a68ea54866a446e4b85860277d185f24",
      "9c8e64a6c5994d7e81050c2400293941",
      "6c035db48dc24c48bd214460f1c4bc71",
      "2a49ef5941e046f4850f5e70c7f39793",
      "a4c83a41d2054f60a71fd655f9806639",
      "ab17862b0a6745478b03f45a8acfcbd6",
      "27945a37406249c691d26eb9013fb03c",
      "d0b86848e7c643a7bd79af270cfe9115",
      "78fa6a098d8949f9b426c2ddb2a70b58",
      "931b4b2773734909b018f8c1115f9bb4",
      "24527bc9ae574734963a277dd9aca6f2",
      "1521a31effec414a8cd9fdf05010cc3b",
      "956518d991fb496e950eafe27a4d15ea",
      "f8fefe0543064e86882eb590442737b5",
      "84dc1aef8a3a4d8181fc4b627c00d437",
      "2a2b2006260647b4bf32e5ad29baf638",
      "c131b9418f3e4500a0c6c1dfae4134e2",
      "a78fc26db7564507bb2cdb292d4370cd",
      "214f9437b325413d81e6aafbdbea8913",
      "fb801f8fb8b94eb99f300e3d35e8c460",
      "2c69961983d4475cbf708e682f2064ec",
      "6b7f147dc6844dba885bcc4787a9ea14",
      "a3823d82b77a442ab95e85d39776fd02",
      "3d156a5450a04b498272270cb0bf603c",
      "f30b159d72344428bfe96a1ae9c033e8",
      "e0e726cb39ff4115b22d926a9971ae5d",
      "933062f7866149ebab0c39eed7677c2e",
      "4c2a7e1c6c5441ce8374f4482a0f099e",
      "736ac85434954b54b25113726d6a9920",
      "93a6b6979b854f7c9b7cc01824939649",
      "2b84899d574b4c909471581a60a7fcd2",
      "23f9c5f0e0894f64986c80de42a2f63c",
      "059e52086b7a4fd689c84f76dae547ae",
      "e407fa4d17ab4621a2cc26e7b88bdd0a",
      "961787e0c1d349b4ad51325503015bee",
      "8bc34c4c94564df89ef8becf75bc922f",
      "aadf2337d6b341fcae61a950c41cc240",
      "af21f10956f244e791e6cfa52a836ebc",
      "2f113382ee3647848987ece9f60a1375",
      "e5e8f6c7d08448a7a470815b61e750d1",
      "cf9b583d63b242faa8958a8e08923202",
      "3915a0c9beb141819d44430f3e388030",
      "b2895f8c344d451eb41f7c918bf41824",
      "500d13d8c7ba4edea400e0b74c9ec3d3",
      "01b546fa31454be8ae78d6e129eb9faf",
      "7d396dfc18ee4fb49ee9c5dea3b089c7",
      "8409cccbafc746d28c6b64fc4bcc38cf",
      "7b7c81fc04a44f4794fae10f2fe54adf",
      "ad70586bb0e0473a9f8a2dbece66ac67",
      "6a79016714e44c0fb1651d6e792998eb",
      "edf93b0f1a2b4f0698ff492c802d8516",
      "b641fccad2f9420999d6b04839ca1f8b",
      "82e758d01d2f46b09d1446833e398c1d",
      "a048154666104a8ab7c8a66285762fd4",
      "edd9202311194b8582fdf0b24e4d00d0",
      "4bf1a8f34e3b4dbdac59255d4ce5a2d2",
      "25244a8a0e2046dc9ca308a09fc4e376",
      "9fec9a878a434bcfabd2d44bb75fd23e",
      "acbaf78a222642e6a251ce6aff11e98a",
      "a2553020d69242a8946c285dddf9fffc",
      "957e79b742854e8f94fac73fd6b1decf",
      "68e5c539fb1544a78f9860fa2575fcc8",
      "4059df2231a64fa69124730f27dce6df",
      "cecb4ed6df184a78b9804ef9c086ed14",
      "1f73c894110c4f21abef8e0a67a980e7"
     ]
    },
    "id": "RUd5NtraVS5y",
    "outputId": "374f1fe9-f699-445a-baa7-325b40755ccd"
   },
   "outputs": [
    {
     "name": "stderr",
     "output_type": "stream",
     "text": [
      "C:\\Users\\KOSHI8~1\\AppData\\Local\\Temp/ipykernel_4672/4107937569.py:9: TqdmDeprecationWarning: This function will be removed in tqdm==5.0.0\n",
      "Please use `tqdm.notebook.tqdm` instead of `tqdm.tqdm_notebook`\n",
      "  for epoch in tqdm_notebook(range(5)):\n"
     ]
    },
    {
     "data": {
      "application/vnd.jupyter.widget-view+json": {
       "model_id": "2416f514d6be4ea8a6977bc364ecca4d",
       "version_major": 2,
       "version_minor": 0
      },
      "text/plain": [
       "  0%|          | 0/5 [00:00<?, ?it/s]"
      ]
     },
     "metadata": {},
     "output_type": "display_data"
    },
    {
     "name": "stderr",
     "output_type": "stream",
     "text": [
      "C:\\Users\\KOSHI8~1\\AppData\\Local\\Temp/ipykernel_4672/4107937569.py:12: TqdmDeprecationWarning: This function will be removed in tqdm==5.0.0\n",
      "Please use `tqdm.notebook.tqdm` instead of `tqdm.tqdm_notebook`\n",
      "  for i, batch in enumerate(tqdm_notebook(trainloader)):\n"
     ]
    },
    {
     "data": {
      "application/vnd.jupyter.widget-view+json": {
       "model_id": "6204e4be40f842859c43fccbcd688523",
       "version_major": 2,
       "version_minor": 0
      },
      "text/plain": [
       "  0%|          | 0/12500 [00:00<?, ?it/s]"
      ]
     },
     "metadata": {},
     "output_type": "display_data"
    },
    {
     "name": "stdout",
     "output_type": "stream",
     "text": [
      "[1,  2000] loss: 1.905\n",
      "[1,  4000] loss: 1.639\n",
      "[1,  6000] loss: 1.569\n",
      "[1,  8000] loss: 1.526\n",
      "[1, 10000] loss: 1.514\n",
      "[1, 12000] loss: 1.489\n"
     ]
    },
    {
     "data": {
      "application/vnd.jupyter.widget-view+json": {
       "model_id": "4c422f926a914f5fa390a9b270e1c692",
       "version_major": 2,
       "version_minor": 0
      },
      "text/plain": [
       "  0%|          | 0/12500 [00:00<?, ?it/s]"
      ]
     },
     "metadata": {},
     "output_type": "display_data"
    },
    {
     "name": "stdout",
     "output_type": "stream",
     "text": [
      "[2,  2000] loss: 1.408\n",
      "[2,  4000] loss: 1.425\n",
      "[2,  6000] loss: 1.393\n",
      "[2,  8000] loss: 1.387\n",
      "[2, 10000] loss: 1.375\n",
      "[2, 12000] loss: 1.346\n"
     ]
    },
    {
     "data": {
      "application/vnd.jupyter.widget-view+json": {
       "model_id": "5ccbfe2e280f42ae8a90e685384a2982",
       "version_major": 2,
       "version_minor": 0
      },
      "text/plain": [
       "  0%|          | 0/12500 [00:00<?, ?it/s]"
      ]
     },
     "metadata": {},
     "output_type": "display_data"
    },
    {
     "name": "stdout",
     "output_type": "stream",
     "text": [
      "[3,  2000] loss: 1.294\n",
      "[3,  4000] loss: 1.308\n",
      "[3,  6000] loss: 1.322\n",
      "[3,  8000] loss: 1.280\n",
      "[3, 10000] loss: 1.270\n",
      "[3, 12000] loss: 1.284\n"
     ]
    },
    {
     "data": {
      "application/vnd.jupyter.widget-view+json": {
       "model_id": "021e8e47c6b94a36be93c780cf616f6d",
       "version_major": 2,
       "version_minor": 0
      },
      "text/plain": [
       "  0%|          | 0/12500 [00:00<?, ?it/s]"
      ]
     },
     "metadata": {},
     "output_type": "display_data"
    },
    {
     "name": "stdout",
     "output_type": "stream",
     "text": [
      "[4,  2000] loss: 1.226\n",
      "[4,  4000] loss: 1.242\n",
      "[4,  6000] loss: 1.233\n",
      "[4,  8000] loss: 1.210\n",
      "[4, 10000] loss: 1.234\n",
      "[4, 12000] loss: 1.225\n"
     ]
    },
    {
     "data": {
      "application/vnd.jupyter.widget-view+json": {
       "model_id": "2c07e69ac87f4e03a578a903baf32fca",
       "version_major": 2,
       "version_minor": 0
      },
      "text/plain": [
       "  0%|          | 0/12500 [00:00<?, ?it/s]"
      ]
     },
     "metadata": {},
     "output_type": "display_data"
    },
    {
     "name": "stdout",
     "output_type": "stream",
     "text": [
      "[5,  2000] loss: 1.174\n",
      "[5,  4000] loss: 1.160\n",
      "[5,  6000] loss: 1.204\n",
      "[5,  8000] loss: 1.175\n",
      "[5, 10000] loss: 1.192\n",
      "[5, 12000] loss: 1.220\n",
      "Обучение закончено\n"
     ]
    }
   ],
   "source": [
    "net = BetterConvNet()\n",
    "\n",
    "loss_fn = torch.nn.CrossEntropyLoss()\n",
    "\n",
    "learning_rate = 1e-3\n",
    "optimizer = torch.optim.Adam(net.parameters(), lr=learning_rate)\n",
    "\n",
    "# итерируемся\n",
    "for epoch in tqdm_notebook(range(5)):\n",
    "\n",
    "    running_loss = 0.0\n",
    "    for i, batch in enumerate(tqdm_notebook(trainloader)):\n",
    "        # так получаем текущий батч\n",
    "        X_batch, y_batch = batch\n",
    "\n",
    "        # обнуляем веса\n",
    "        optimizer.zero_grad()\n",
    "\n",
    "        # forward + backward + optimize\n",
    "        y_pred = net(X_batch)\n",
    "        loss = loss_fn(y_pred, y_batch)\n",
    "        loss.backward()\n",
    "        optimizer.step()\n",
    "\n",
    "        # выведем текущий loss\n",
    "        running_loss += loss.item()\n",
    "        # выведем качество каждые 2000 батчей\n",
    "        if i % 2000 == 1999:\n",
    "            print('[%d, %5d] loss: %.3f' %\n",
    "                  (epoch + 1, i + 1, running_loss / 2000))\n",
    "            running_loss = 0.0\n",
    "\n",
    "print('Обучение закончено')"
   ]
  },
  {
   "cell_type": "code",
   "execution_count": 17,
   "metadata": {
    "colab": {
     "base_uri": "https://localhost:8080/"
    },
    "id": "FMoLalcpVS53",
    "outputId": "1749233d-04ed-4294-d848-7b9378a075bf"
   },
   "outputs": [
    {
     "name": "stdout",
     "output_type": "stream",
     "text": [
      "Accuracy of plane : 69 %\n",
      "Accuracy of   car : 80 %\n",
      "Accuracy of  bird : 29 %\n",
      "Accuracy of   cat : 52 %\n",
      "Accuracy of  deer : 37 %\n",
      "Accuracy of   dog : 22 %\n",
      "Accuracy of  frog : 72 %\n",
      "Accuracy of horse : 76 %\n",
      "Accuracy of  ship : 58 %\n",
      "Accuracy of truck : 55 %\n"
     ]
    }
   ],
   "source": [
    "class_correct = list(0. for i in range(10))\n",
    "class_total = list(0. for i in range(10))\n",
    "\n",
    "with torch.no_grad():\n",
    "    for data in testloader:\n",
    "        images, labels = data\n",
    "        y_pred = net(images)\n",
    "        _, predicted = torch.max(y_pred, 1)\n",
    "        c = (predicted == labels).squeeze()\n",
    "        for i in range(4):\n",
    "            label = labels[i]\n",
    "            class_correct[label] += c[i].item()\n",
    "            class_total[label] += 1\n",
    "\n",
    "for i in range(10):\n",
    "    print('Accuracy of %5s : %2d %%' % (\n",
    "        classes[i], 100 * class_correct[i] / class_total[i]))"
   ]
  },
  {
   "cell_type": "markdown",
   "metadata": {
    "id": "fUpLQxn0VS59"
   },
   "source": [
    "Если качество ~70% в среднем, то текущая нейросеть вполне неплоха (однако на этом датасете известны архитектуры, дающие 95+% качества)."
   ]
  },
  {
   "cell_type": "markdown",
   "metadata": {
    "id": "4HIYgOvBVS59"
   },
   "source": [
    "Посмотрим визуально на работу нейросети:"
   ]
  },
  {
   "cell_type": "code",
   "execution_count": 18,
   "metadata": {
    "colab": {
     "base_uri": "https://localhost:8080/",
     "height": 281
    },
    "id": "ngmmxIcnVS5-",
    "outputId": "6c24d4ad-e0bf-4a0b-cf07-422e2f613fba",
    "scrolled": true
   },
   "outputs": [
    {
     "data": {
      "image/png": "[encoded data removed]",
      "text/plain": [
       "<Figure size 432x288 with 1 Axes>"
      ]
     },
     "metadata": {
      "needs_background": "light"
     },
     "output_type": "display_data"
    }
   ],
   "source": [
    "i = np.random.randint(low=0, high=10000)\n",
    "\n",
    "def visualize_result(index):\n",
    "    image = testloader.dataset.data[index]\n",
    "    plt.imshow(image)\n",
    "    \n",
    "    image = transform(image)  # не забудем отмасштабировать!\n",
    "    \n",
    "    y_pred = net(image.view(1, 3, 32, 32))\n",
    "    _, predicted = torch.max(y_pred, 1)\n",
    "    \n",
    "    plt.title(f'Predicted: {classes[predicted.numpy()[0]]}')\n",
    "\n",
    "visualize_result(i)"
   ]
  },
  {
   "cell_type": "markdown",
   "metadata": {
    "id": "ujm2iRccVS6B"
   },
   "source": [
    "Попробуем обучить ещё более сильную нейросеть:"
   ]
  },
  {
   "cell_type": "code",
   "execution_count": 19,
   "metadata": {
    "id": "cuGcK9uwVS6C"
   },
   "outputs": [],
   "source": [
    "class StrongConvNet(nn.Module):\n",
    "    def __init__(self):\n",
    "        # вызов конструктора класса nn.Module()\n",
    "        super(StrongConvNet, self).__init__()\n",
    "        \n",
    "        self.pool = nn.MaxPool2d(kernel_size=2, stride=2)\n",
    "        \n",
    "        self.dropout = nn.Dropout(p=0.2)\n",
    "        \n",
    "        self.conv1 = nn.Conv2d(in_channels=3, out_channels=8, kernel_size=5)\n",
    "        self.bn1 = nn.BatchNorm2d(8)\n",
    "        self.conv2 = nn.Conv2d(in_channels=8, out_channels=16, kernel_size=1)\n",
    "        self.bn2 = nn.BatchNorm2d(16)\n",
    "        self.conv3 = nn.Conv2d(in_channels=16, out_channels=16, kernel_size=3)\n",
    "        self.bn3 = nn.BatchNorm2d(16)\n",
    "        self.conv4 = nn.Conv2d(in_channels=16, out_channels=32, kernel_size=1)\n",
    "        self.bn4 = nn.BatchNorm2d(32)\n",
    "        self.conv5 = nn.Conv2d(in_channels=32, out_channels=32, kernel_size=3)\n",
    "        self.bn5 = nn.BatchNorm2d(32)\n",
    "        \n",
    "        self.fc1 = nn.Linear(4 * 4 * 32, 128)\n",
    "        self.fc2 = nn.Linear(128, 10)\n",
    "\n",
    "    def forward(self, x):\n",
    "        x = self.bn1(F.relu(self.conv1(x)))\n",
    "        x = self.pool(x)\n",
    "        x = self.bn2(F.relu(self.conv2(x)))\n",
    "        x = self.bn3(F.relu(self.conv3(x)))\n",
    "        x = self.pool(x)\n",
    "        x = self.bn4(F.relu(self.conv4(x)))\n",
    "        x = self.bn5(F.relu(self.conv5(x)))\n",
    "#         print(x.shape)\n",
    "        x = x.view(-1, 4 * 4 * 32)\n",
    "        x = F.relu(self.fc1(x))\n",
    "        x = self.dropout(x)\n",
    "        x = self.fc2(x)\n",
    "        return x"
   ]
  },
  {
   "cell_type": "markdown",
   "metadata": {
    "id": "JBpSPH3RVS6I"
   },
   "source": [
    "Обучим:"
   ]
  },
  {
   "cell_type": "code",
   "execution_count": 20,
   "metadata": {
    "id": "CeXawofzVS6J"
   },
   "outputs": [],
   "source": [
    "from tqdm import tqdm_notebook"
   ]
  },
  {
   "cell_type": "code",
   "execution_count": 21,
   "metadata": {
    "id": "sERs9TlFVS6M"
   },
   "outputs": [],
   "source": [
    "from torch.optim import lr_scheduler"
   ]
  },
  {
   "cell_type": "code",
   "execution_count": 22,
   "metadata": {
    "colab": {
     "base_uri": "https://localhost:8080/",
     "height": 875,
     "referenced_widgets": [
      "cb50fcbf0855430bbae928e6c1396181",
      "a6be9c2bc4344fdf84eb291ffbacea17",
      "30c0c05f5e3e4004a59dbc6fc8a92945",
      "1b4aed5470844b7580c4f127cd71a160",
      "2b73c9def1c8454fb34e0dde3fbf4315",
      "d4025dbf67474119aaf2ecb6e41873cd",
      "2b05611caf4643e8998cb90479fe4c8d",
      "f88a1f3dff5a4aefacc8b8582969332f",
      "c61bf41567644239b08c50896921dcbc",
      "2efd4b6ff40d4b1bba90b6cb42150e47",
      "340b42b2c2364e58ad3b342e052df879",
      "e693d94c062646308d28a603b2e30674",
      "0ba17b34b05f400a96f70483870b5ab4",
      "ff381af5901445b3b7a92cb6d81f14d3",
      "07a567b436f5439486b2dd14301d80ab",
      "9c917d934f444301ac8d0ceacd67245b",
      "0efb635fa7b141619e796b20a32f3b65",
      "408e35129aa8453f8683a740f4b75f64",
      "37e0401258cf4558a8e2025414b776e6",
      "4abb7072d39a40ebaef0e6b1093d37e3",
      "230078b9c5c747f68dcc907a60da6656",
      "cfaa29caa0154381bd11a9bfd4eadcd1",
      "5a164faf74a043979013779ea5c4ef72",
      "c01a5c9fa122446698ffa957f63a1437",
      "8e154dd0b8884141a486f8760b0ed96b",
      "0f09242d95bf450c996cdbb071265669",
      "6386f1cf32e1451db50a4f2277e8f649",
      "b2d6dddcc9644090a3fdf82211cb8e91",
      "d30b292744d242fbb49a681336ffea56",
      "5040f7bbf1a6448e9a2f05fad303d811",
      "4887edc0c67447c7a62af4a953e5fc60",
      "60835ad8c22b4570ace3d0223f25b825",
      "fe3498adf4fb4f199d60fb282b85e27c",
      "e1ae81d820094ddeb7dde2b9d562e521",
      "9866bce8afa446afb647f26bdda51eb2",
      "f4789374b8234951ae986d4085c9403a",
      "21c0af3176464dd7a58747d0b139e6c1",
      "e4bb97c8166141e59236add3b708df90",
      "5d648b8512b047eaadfffab686adf469",
      "eb421fa9be0e4072aac3e96e5c848d69",
      "815d787c8f774c5d9a9f923a39b623e6",
      "692394be391c42c4bdd24dd0bb8652a8",
      "55c2580636874bbe8e21bbc4dd247d1c",
      "ed4432b4d6944dfc899943f1cd5b7734",
      "eae1f1a4fddb4ed486f752e6f31d7b71",
      "cb4df5b43318418a9c4a16d7822ecbb7",
      "96097134231848ac813bb5e976c458af",
      "c586fdbe57204e4593665e9b90d7b606",
      "cfb6bb4dc4d24e27a4924394fd5a0f55",
      "7808240d7a1d44f2b07427c857ffb78b",
      "1529f05e332e48bb973206d9bd5c3f4a",
      "00d1eb98ed1b4c14b1e9ccbee080eeda",
      "6be008a5f3fc456f88253db4e977a94e",
      "4836a75333fe4a579c9c01fcea728304",
      "64c6d964401d41379a368a9e7603d812",
      "fbcfd0b0cc5640dd80d26fcc3e5493e8",
      "bdb2dde6f6464758a3352756d402e64d",
      "094631dc299c4639896e8fe7293cf007",
      "cbbc0b323c5d494586ba413127d0ed77",
      "2a64343bd19d47dba720ea02d9ab0f1f",
      "dbf5a911c9b848b880a95cd56bd7dc9c",
      "109552f86d5f42b286b48034dff0c4e5",
      "8ef89c9d3ad747a1954d4893ccb2c1e2",
      "f5f5bc26270445729d59e0c859942628",
      "f0d78dfde64b496e80b024d2dea43f8d",
      "0ec4d263169f4ec2afac7dbb944dbcd7"
     ]
    },
    "id": "dGiAuDBMVS6P",
    "outputId": "8898b134-7a07-47d7-8538-cff574b91e4a",
    "scrolled": true
   },
   "outputs": [
    {
     "name": "stderr",
     "output_type": "stream",
     "text": [
      "C:\\Users\\KOSHI8~1\\AppData\\Local\\Temp/ipykernel_4672/3687784610.py:12: TqdmDeprecationWarning: This function will be removed in tqdm==5.0.0\n",
      "Please use `tqdm.notebook.tqdm` instead of `tqdm.tqdm_notebook`\n",
      "  for epoch in tqdm_notebook(range(num_epochs)):\n"
     ]
    },
    {
     "data": {
      "application/vnd.jupyter.widget-view+json": {
       "model_id": "67de5131f63e4409ae1bbdbf64adbd73",
       "version_major": 2,
       "version_minor": 0
      },
      "text/plain": [
       "  0%|          | 0/5 [00:00<?, ?it/s]"
      ]
     },
     "metadata": {},
     "output_type": "display_data"
    },
    {
     "name": "stderr",
     "output_type": "stream",
     "text": [
      "C:\\Users\\koshi8bit\\anaconda3\\lib\\site-packages\\torch\\optim\\lr_scheduler.py:129: UserWarning: Detected call of `lr_scheduler.step()` before `optimizer.step()`. In PyTorch 1.1.0 and later, you should call them in the opposite order: `optimizer.step()` before `lr_scheduler.step()`.  Failure to do this will result in PyTorch skipping the first value of the learning rate schedule. See more details at https://pytorch.org/docs/stable/optim.html#how-to-adjust-learning-rate\n",
      "  warnings.warn(\"Detected call of `lr_scheduler.step()` before `optimizer.step()`. \"\n",
      "C:\\Users\\KOSHI8~1\\AppData\\Local\\Temp/ipykernel_4672/3687784610.py:17: TqdmDeprecationWarning: This function will be removed in tqdm==5.0.0\n",
      "Please use `tqdm.notebook.tqdm` instead of `tqdm.tqdm_notebook`\n",
      "  for i, batch in enumerate(tqdm_notebook(trainloader)):\n"
     ]
    },
    {
     "data": {
      "application/vnd.jupyter.widget-view+json": {
       "model_id": "4f91486d16c5481d8564c7c55de14e4a",
       "version_major": 2,
       "version_minor": 0
      },
      "text/plain": [
       "  0%|          | 0/12500 [00:00<?, ?it/s]"
      ]
     },
     "metadata": {},
     "output_type": "display_data"
    },
    {
     "name": "stdout",
     "output_type": "stream",
     "text": [
      "[1,  2000] loss: 1.849\n",
      "[1,  4000] loss: 1.651\n",
      "[1,  6000] loss: 1.576\n",
      "[1,  8000] loss: 1.513\n",
      "[1, 10000] loss: 1.438\n",
      "[1, 12000] loss: 1.439\n"
     ]
    },
    {
     "data": {
      "application/vnd.jupyter.widget-view+json": {
       "model_id": "d95559f6301a470d87ee7caabe12490e",
       "version_major": 2,
       "version_minor": 0
      },
      "text/plain": [
       "  0%|          | 0/12500 [00:00<?, ?it/s]"
      ]
     },
     "metadata": {},
     "output_type": "display_data"
    },
    {
     "name": "stdout",
     "output_type": "stream",
     "text": [
      "[2,  2000] loss: 1.310\n",
      "[2,  4000] loss: 1.280\n",
      "[2,  6000] loss: 1.282\n",
      "[2,  8000] loss: 1.257\n",
      "[2, 10000] loss: 1.216\n",
      "[2, 12000] loss: 1.229\n"
     ]
    },
    {
     "data": {
      "application/vnd.jupyter.widget-view+json": {
       "model_id": "1deb4902e8b0417395847a95b814c97f",
       "version_major": 2,
       "version_minor": 0
      },
      "text/plain": [
       "  0%|          | 0/12500 [00:00<?, ?it/s]"
      ]
     },
     "metadata": {},
     "output_type": "display_data"
    },
    {
     "name": "stdout",
     "output_type": "stream",
     "text": [
      "[3,  2000] loss: 1.118\n",
      "[3,  4000] loss: 1.100\n",
      "[3,  6000] loss: 1.099\n",
      "[3,  8000] loss: 1.104\n",
      "[3, 10000] loss: 1.076\n",
      "[3, 12000] loss: 1.069\n"
     ]
    },
    {
     "data": {
      "application/vnd.jupyter.widget-view+json": {
       "model_id": "248df8be2cd34afca895abad87d0b5bb",
       "version_major": 2,
       "version_minor": 0
      },
      "text/plain": [
       "  0%|          | 0/12500 [00:00<?, ?it/s]"
      ]
     },
     "metadata": {},
     "output_type": "display_data"
    },
    {
     "name": "stdout",
     "output_type": "stream",
     "text": [
      "[4,  2000] loss: 1.027\n",
      "[4,  4000] loss: 0.987\n",
      "[4,  6000] loss: 0.961\n",
      "[4,  8000] loss: 0.968\n",
      "[4, 10000] loss: 0.974\n",
      "[4, 12000] loss: 0.977\n"
     ]
    },
    {
     "data": {
      "application/vnd.jupyter.widget-view+json": {
       "model_id": "bcdf7e6492af49ec81f112bef450f35f",
       "version_major": 2,
       "version_minor": 0
      },
      "text/plain": [
       "  0%|          | 0/12500 [00:00<?, ?it/s]"
      ]
     },
     "metadata": {},
     "output_type": "display_data"
    },
    {
     "name": "stdout",
     "output_type": "stream",
     "text": [
      "[5,  2000] loss: 0.958\n",
      "[5,  4000] loss: 0.950\n",
      "[5,  6000] loss: 0.961\n",
      "[5,  8000] loss: 0.944\n",
      "[5, 10000] loss: 0.944\n",
      "[5, 12000] loss: 0.953\n",
      "Обучение закончено\n"
     ]
    }
   ],
   "source": [
    "net = StrongConvNet()\n",
    "\n",
    "loss_fn = torch.nn.CrossEntropyLoss()\n",
    "\n",
    "num_epochs = 5\n",
    "\n",
    "optimizer = torch.optim.Adam(net.parameters(), lr=learning_rate)\n",
    "learning_rate = 1e-3\n",
    "# новая фишка -- динамически изменяем LR\n",
    "scheduler = lr_scheduler.CosineAnnealingLR(optimizer, T_max=num_epochs)\n",
    "\n",
    "for epoch in tqdm_notebook(range(num_epochs)):\n",
    "    \n",
    "    scheduler.step()\n",
    "    \n",
    "    running_loss = 0.0\n",
    "    for i, batch in enumerate(tqdm_notebook(trainloader)):\n",
    "        X_batch, y_batch = batch\n",
    "        \n",
    "        optimizer.zero_grad()\n",
    "\n",
    "        y_pred = net(X_batch)\n",
    "        loss = loss_fn(y_pred, y_batch)\n",
    "        loss.backward()\n",
    "        optimizer.step()\n",
    "\n",
    "        running_loss += loss.item()\n",
    "        if i % 2000 == 1999:\n",
    "            print('[%d, %5d] loss: %.3f' %\n",
    "                  (epoch + 1, i + 1, running_loss / 2000))\n",
    "            running_loss = 0.0\n",
    "\n",
    "print('Обучение закончено')"
   ]
  },
  {
   "cell_type": "code",
   "execution_count": 23,
   "metadata": {
    "colab": {
     "base_uri": "https://localhost:8080/"
    },
    "id": "V2lPUzf1VS6S",
    "outputId": "cf21b810-47b5-4a66-b76f-4c94f08be321"
   },
   "outputs": [
    {
     "name": "stdout",
     "output_type": "stream",
     "text": [
      "Accuracy of plane : 67 %\n",
      "Accuracy of   car : 72 %\n",
      "Accuracy of  bird : 52 %\n",
      "Accuracy of   cat : 37 %\n",
      "Accuracy of  deer : 55 %\n",
      "Accuracy of   dog : 51 %\n",
      "Accuracy of  frog : 69 %\n",
      "Accuracy of horse : 65 %\n",
      "Accuracy of  ship : 73 %\n",
      "Accuracy of truck : 72 %\n"
     ]
    }
   ],
   "source": [
    "class_correct = list(0. for i in range(10))\n",
    "class_total = list(0. for i in range(10))\n",
    "\n",
    "with torch.no_grad():\n",
    "    for data in testloader:\n",
    "        images, labels = data\n",
    "        y_pred = net(images)\n",
    "        _, predicted = torch.max(y_pred, 1)\n",
    "        c = (predicted == labels).squeeze()\n",
    "        for i in range(4):\n",
    "            label = labels[i]\n",
    "            class_correct[label] += c[i].item()\n",
    "            class_total[label] += 1\n",
    "\n",
    "for i in range(10):\n",
    "    print('Accuracy of %5s : %2d %%' % (\n",
    "        classes[i], 100 * class_correct[i] / class_total[i]))"
   ]
  },
  {
   "cell_type": "markdown",
   "metadata": {
    "id": "ziioVipBVS6Z"
   },
   "source": [
    "Посмотрим визуально на работу нейросети:"
   ]
  },
  {
   "cell_type": "code",
   "execution_count": 24,
   "metadata": {
    "colab": {
     "base_uri": "https://localhost:8080/",
     "height": 281
    },
    "id": "KXagscMmVS6a",
    "outputId": "ead2e4bc-50dd-412e-f86c-24bf34b60364",
    "scrolled": true
   },
   "outputs": [
    {
     "data": {
      "image/png": "[encoded data removed]",
      "text/plain": [
       "<Figure size 432x288 with 1 Axes>"
      ]
     },
     "metadata": {
      "needs_background": "light"
     },
     "output_type": "display_data"
    }
   ],
   "source": [
    "i = np.random.randint(low=0, high=10000)\n",
    "\n",
    "def visualize_result(index):\n",
    "    image = testloader.dataset.data[index]\n",
    "    plt.imshow(image)\n",
    "    \n",
    "    image = transform(image)  # не забудем отмасштабировать!\n",
    "    \n",
    "    y_pred = net(image.view(1, 3, 32, 32))\n",
    "    _, predicted = torch.max(y_pred, 1)\n",
    "    \n",
    "    plt.title(f'Predicted: {classes[predicted.numpy()[0]]}')\n",
    "\n",
    "visualize_result(i)"
   ]
  },
  {
   "cell_type": "markdown",
   "metadata": {
    "id": "Nl46YOn9VS6c"
   },
   "source": [
    "Даже обучив более глубокую и прокаченную (BatchNorm, Dropout) нейросеть на этих данных мы видим, что качество нас всё ещё не устраивает, в реальной жизни необходимо ошибаться не больше, чем на 5%, а часто и это уже много. Как же быть, ведь свёрточные нейросети должны хорошо классифицировать изображения?  \n",
    "\n",
    "К сожалению, обучение нейросети с нуля на не очень большой выборке (а здесь она именно такая) часто приводит к переобучению, что плохо сказывается на тестовом качестве.  \n",
    "\n",
    "Для того, чтобы получить более качественную модель, часто **до**обучают сильную нейросеть, обученную на ImageNet, то есть используют технику Transfer Learning. О ней речь пойдёт далее в нашем курсе."
   ]
  },
  {
   "cell_type": "markdown",
   "metadata": {
    "id": "jKpCkwdoVS6d"
   },
   "source": [
    "<h3 style=\"text-align: center;\"><b>Полезные ссылки</b></h3>"
   ]
  },
  {
   "cell_type": "markdown",
   "metadata": {
    "id": "xIvuXTqGVS6e"
   },
   "source": [
    "1). *Примеры написания нейросетей на PyTorch (официальные туториалы) (на английском): https://pytorch.org/tutorials/beginner/pytorch_with_examples.html#examples  \n",
    "https://pytorch.org/tutorials/beginner/blitz/cifar10_tutorial.html*"
   ]
  },
  {
   "cell_type": "markdown",
   "metadata": {
    "id": "Ek6M_VSsVS6e"
   },
   "source": [
    "2). Курс Стэнфорда:  http://cs231n.github.io/"
   ]
  },
  {
   "cell_type": "markdown",
   "metadata": {
    "id": "OnIpwKGXVS6f"
   },
   "source": [
    "3). Практически исчерпывающая информация по основам свёрточных нейросетей (из cs231n) (на английском):  \n",
    "\n",
    "http://cs231n.github.io/convolutional-networks/  \n",
    "http://cs231n.github.io/understanding-cnn/  \n",
    "http://cs231n.github.io/transfer-learning/"
   ]
  },
  {
   "cell_type": "markdown",
   "metadata": {
    "id": "yFuto766VS6g"
   },
   "source": [
    "4). Видео о Computer Vision от Andrej Karpathy: https://www.youtube.com/watch?v=u6aEYuemt0M"
   ]
  },
  {
   "cell_type": "markdown",
   "metadata": {},
   "source": [
    "---"
   ]
  },
  {
   "cell_type": "code",
   "execution_count": 27,
   "metadata": {},
   "outputs": [],
   "source": [
    "def print_res(df):\n",
    "    return df.sort_values(by=['avg'], ascending=False)"
   ]
  },
  {
   "cell_type": "code",
   "execution_count": 28,
   "metadata": {},
   "outputs": [],
   "source": [
    "def get_f_name(f):\n",
    "  arr = str(f).split(' ')\n",
    "  name = arr[1]\n",
    "  if name == 'method':\n",
    "    name = arr[2]\n",
    "  return name #  + f'<{str(f)}>'"
   ]
  },
  {
   "cell_type": "code",
   "execution_count": 82,
   "metadata": {},
   "outputs": [],
   "source": [
    "import pandas as pd\n",
    "global_res = pd.DataFrame(columns=['channels1', 'channels2', 'channels3', 'kernel_size1', 'kernel_size2', 'kernel_size3', 'fc1', 'fc2', 'fc3', 'is_max_pool', 'activation', 'avg', 'max', 'min', 'ch_c', 'conv_c', 'fc_c', 'num_epochs', 'lr'])"
   ]
  },
  {
   "cell_type": "code",
   "execution_count": 34,
   "metadata": {},
   "outputs": [
    {
     "name": "stdout",
     "output_type": "stream",
     "text": [
      "cpu\n"
     ]
    }
   ],
   "source": [
    "# device = torch.device(\"cuda:0\" if torch.cuda.is_available() else \"cpu\")\n",
    "device = torch.device(\"cpu\")\n",
    "print(str(device))"
   ]
  },
  {
   "cell_type": "code",
   "execution_count": 74,
   "metadata": {},
   "outputs": [],
   "source": [
    "class SimpleConvNet_my(nn.Module):\n",
    "    def __init__(self, channels1, channels2, kernel_size1, kernel_size2, fc1, fc2, is_max_pool = True, activation=F.relu):\n",
    "        # вызов конструктора предка\n",
    "        super(SimpleConvNet_my, self).__init__()\n",
    "        # необходмо заранее знать, сколько каналов у картинки (сейчас = 1),\n",
    "        # которую будем подавать в сеть, больше ничего\n",
    "        # про входящие картинки знать не нужно\n",
    "        self.channels1 = channels1\n",
    "        self.channels2 = channels2\n",
    "        self.kernel_size1 = kernel_size1\n",
    "        self.kernel_size2 = kernel_size2\n",
    "        self.fc1_c = fc1\n",
    "        self.fc2_c = fc2\n",
    "        self.is_max_pool = is_max_pool\n",
    "        self.activation = activation\n",
    "        self.num_epochs = 0\n",
    "\n",
    "        self.conv1 = nn.Conv2d(in_channels=3, out_channels=channels1, kernel_size=kernel_size1)\n",
    "        new_size = 32 - kernel_size1 + 1\n",
    "        if is_max_pool:\n",
    "          self.pool = nn.MaxPool2d(kernel_size=2, stride=2)\n",
    "        else:\n",
    "          self.pool = nn.AvgPool2d(kernel_size=2, stride=2)\n",
    "        new_size = new_size // 2\n",
    "        self.conv2 = nn.Conv2d(in_channels=channels1, out_channels=channels2, kernel_size=kernel_size2)\n",
    "        new_size = new_size - kernel_size2 + 1\n",
    "        new_size = new_size // 2\n",
    "\n",
    "        self.fc1_size = new_size * new_size * channels2\n",
    "\n",
    "        self.fc1 = nn.Linear(new_size * new_size * channels2, fc1)  # !!!\n",
    "        self.fc2 = nn.Linear(fc1, fc2)\n",
    "        self.fc3 = nn.Linear(fc2, 10)\n",
    "\n",
    "    def forward(self, x):\n",
    "        x = self.pool(self.activation(self.conv1(x)))\n",
    "        #print(x.shape)\n",
    "        x = self.pool(self.activation(self.conv2(x)))\n",
    "        #print(x.shape)\n",
    "        x = x.view(-1, self.fc1_size)  # !!!\n",
    "        x = self.activation(self.fc1(x))\n",
    "        x = self.activation(self.fc2(x))\n",
    "        x = self.fc3(x)\n",
    "        return x\n",
    "\n",
    "    def train(self, learning_rate = 1e-4, num_epochs = 3):\n",
    "        self.num_epochs = num_epochs\n",
    "        self.learning_rate = learning_rate\n",
    "        loss_fn = torch.nn.CrossEntropyLoss()\n",
    "        optimizer = torch.optim.Adam(self.parameters(), lr=learning_rate)\n",
    "        # итерируемся\n",
    "        for epoch in tqdm_notebook(range(num_epochs)):\n",
    "            running_loss = 0.0\n",
    "            for i, batch in enumerate(tqdm_notebook(trainloader)):\n",
    "                # так получаем текущий батч\n",
    "                X_batch, y_batch = batch\n",
    "                global device\n",
    "                X_batch, y_batch = X_batch.to(device), y_batch.to(device)\n",
    "                \n",
    "                # обнуляем веса\n",
    "                optimizer.zero_grad()\n",
    "\n",
    "                # forward + backward + optimize\n",
    "                y_pred = self(X_batch)\n",
    "                loss = loss_fn(y_pred, y_batch)\n",
    "                loss.backward()\n",
    "                optimizer.step()\n",
    "\n",
    "                # выведем текущий loss\n",
    "                running_loss += loss.item()\n",
    "                # выведем качество каждые 2000 батчей\n",
    "                if i % 2000 == 1999:\n",
    "                    print('[%d, %5d] loss: %.3f' %\n",
    "                          (epoch + 1, i + 1, running_loss / 2000))\n",
    "                    running_loss = 0.0\n",
    "          \n",
    "        print('fin')\n",
    "\n",
    "    def validatee(self):\n",
    "        class_correct = list(0. for i in range(10))\n",
    "        class_total = list(0. for i in range(10))\n",
    "\n",
    "        with torch.no_grad():\n",
    "            for data in testloader:\n",
    "                images, labels = data\n",
    "                y_pred = self(images)\n",
    "                _, predicted = torch.max(y_pred, 1)\n",
    "                c = (predicted == labels).squeeze()\n",
    "                for i in range(4):\n",
    "                    label = labels[i]\n",
    "                    class_correct[label] += c[i].item()\n",
    "                    class_total[label] += 1\n",
    "        res = []\n",
    "        for i in range(10):\n",
    "            tmp = 100 * class_correct[i] / class_total[i]\n",
    "            res.append(tmp)\n",
    "            print('Accuracy of %2s : %2d %%' % (\n",
    "                classes[i], tmp))\n",
    "          \n",
    "        class_correct_t = sum(class_correct)\n",
    "        class_total_t = sum(class_total)\n",
    "\n",
    "        rrr = (100. * class_correct_t / class_total_t)\n",
    "        print('\\nTotal accuracy AVG:', rrr)\n",
    "        print(f'max={max(res)}; min={min(res)}')  \n",
    "        rezzz = [\n",
    "              self.channels1,\n",
    "              self.channels2,\n",
    "              0, \n",
    "              self.kernel_size1,\n",
    "              self.kernel_size2,\n",
    "              0,\n",
    "              self.fc1_c,\n",
    "              self.fc2_c,\n",
    "              0, \n",
    "              self.is_max_pool,\n",
    "              get_f_name(self.activation),\n",
    "              rrr,\n",
    "              round(max(res), 2),\n",
    "              round(min(res), 2),\n",
    "              2,\n",
    "              2,\n",
    "              2,\n",
    "              self.num_epochs,\n",
    "              self.learning_rate\n",
    "        ]    \n",
    "        print(len(rezzz), rezzz)\n",
    "        global_res.loc[len(global_res)] = rezzz"
   ]
  },
  {
   "cell_type": "code",
   "execution_count": 31,
   "metadata": {},
   "outputs": [],
   "source": [
    "functions = [F.elu, F.softsign, torch.tanh] \n",
    "kernels = [[5, 5], [7, 3]]\n",
    "fcs = [[120, 84], [200, 100]]\n",
    "is_max_pools = [True]"
   ]
  },
  {
   "cell_type": "code",
   "execution_count": 39,
   "metadata": {},
   "outputs": [
    {
     "name": "stderr",
     "output_type": "stream",
     "text": [
      "C:\\Users\\KOSHI8~1\\AppData\\Local\\Temp/ipykernel_4672/2248802741.py:1: TqdmDeprecationWarning: This function will be removed in tqdm==5.0.0\n",
      "Please use `tqdm.notebook.tqdm` instead of `tqdm.tqdm_notebook`\n",
      "  for function in tqdm_notebook(functions):\n"
     ]
    },
    {
     "data": {
      "application/vnd.jupyter.widget-view+json": {
       "model_id": "b3bb6c10a63f49fabc401aee2ded1b7d",
       "version_major": 2,
       "version_minor": 0
      },
      "text/plain": [
       "  0%|          | 0/3 [00:00<?, ?it/s]"
      ]
     },
     "metadata": {},
     "output_type": "display_data"
    },
    {
     "name": "stderr",
     "output_type": "stream",
     "text": [
      "C:\\Users\\KOSHI8~1\\AppData\\Local\\Temp/ipykernel_4672/2248802741.py:2: TqdmDeprecationWarning: This function will be removed in tqdm==5.0.0\n",
      "Please use `tqdm.notebook.tqdm` instead of `tqdm.tqdm_notebook`\n",
      "  for kernel in tqdm_notebook(kernels):\n"
     ]
    },
    {
     "data": {
      "application/vnd.jupyter.widget-view+json": {
       "model_id": "7dead68b3eb44e9f9be1ee0a343b24ff",
       "version_major": 2,
       "version_minor": 0
      },
      "text/plain": [
       "  0%|          | 0/2 [00:00<?, ?it/s]"
      ]
     },
     "metadata": {},
     "output_type": "display_data"
    },
    {
     "name": "stderr",
     "output_type": "stream",
     "text": [
      "C:\\Users\\KOSHI8~1\\AppData\\Local\\Temp/ipykernel_4672/2248802741.py:3: TqdmDeprecationWarning: This function will be removed in tqdm==5.0.0\n",
      "Please use `tqdm.notebook.tqdm` instead of `tqdm.tqdm_notebook`\n",
      "  for fc in tqdm_notebook(fcs):\n"
     ]
    },
    {
     "data": {
      "application/vnd.jupyter.widget-view+json": {
       "model_id": "4de7ff795fca4687b1b6e13962af9523",
       "version_major": 2,
       "version_minor": 0
      },
      "text/plain": [
       "  0%|          | 0/2 [00:00<?, ?it/s]"
      ]
     },
     "metadata": {},
     "output_type": "display_data"
    },
    {
     "name": "stderr",
     "output_type": "stream",
     "text": [
      "C:\\Users\\KOSHI8~1\\AppData\\Local\\Temp/ipykernel_4672/2248802741.py:4: TqdmDeprecationWarning: This function will be removed in tqdm==5.0.0\n",
      "Please use `tqdm.notebook.tqdm` instead of `tqdm.tqdm_notebook`\n",
      "  for is_max_pool in tqdm_notebook(is_max_pools):\n"
     ]
    },
    {
     "data": {
      "application/vnd.jupyter.widget-view+json": {
       "model_id": "23e252b88e134abc98ad523d60e291e7",
       "version_major": 2,
       "version_minor": 0
      },
      "text/plain": [
       "  0%|          | 0/1 [00:00<?, ?it/s]"
      ]
     },
     "metadata": {},
     "output_type": "display_data"
    },
    {
     "name": "stderr",
     "output_type": "stream",
     "text": [
      "C:\\Users\\KOSHI8~1\\AppData\\Local\\Temp/ipykernel_4672/332785600.py:49: TqdmDeprecationWarning: This function will be removed in tqdm==5.0.0\n",
      "Please use `tqdm.notebook.tqdm` instead of `tqdm.tqdm_notebook`\n",
      "  for epoch in tqdm_notebook(range(num_epochs)):\n"
     ]
    },
    {
     "data": {
      "application/vnd.jupyter.widget-view+json": {
       "model_id": "b61bd87736ad4fd189b463cf9f72690b",
       "version_major": 2,
       "version_minor": 0
      },
      "text/plain": [
       "  0%|          | 0/3 [00:00<?, ?it/s]"
      ]
     },
     "metadata": {},
     "output_type": "display_data"
    },
    {
     "name": "stderr",
     "output_type": "stream",
     "text": [
      "C:\\Users\\KOSHI8~1\\AppData\\Local\\Temp/ipykernel_4672/332785600.py:51: TqdmDeprecationWarning: This function will be removed in tqdm==5.0.0\n",
      "Please use `tqdm.notebook.tqdm` instead of `tqdm.tqdm_notebook`\n",
      "  for i, batch in enumerate(tqdm_notebook(trainloader)):\n"
     ]
    },
    {
     "data": {
      "application/vnd.jupyter.widget-view+json": {
       "model_id": "e77510c4d1f94a818b2730bb6b9b9c3a",
       "version_major": 2,
       "version_minor": 0
      },
      "text/plain": [
       "  0%|          | 0/12500 [00:00<?, ?it/s]"
      ]
     },
     "metadata": {},
     "output_type": "display_data"
    },
    {
     "name": "stdout",
     "output_type": "stream",
     "text": [
      "[1,  2000] loss: 1.976\n",
      "[1,  4000] loss: 1.733\n",
      "[1,  6000] loss: 1.621\n",
      "[1,  8000] loss: 1.553\n",
      "[1, 10000] loss: 1.517\n",
      "[1, 12000] loss: 1.490\n"
     ]
    },
    {
     "data": {
      "application/vnd.jupyter.widget-view+json": {
       "model_id": "8e5c5f39ecb240ec8232d8eec942ee78",
       "version_major": 2,
       "version_minor": 0
      },
      "text/plain": [
       "  0%|          | 0/12500 [00:00<?, ?it/s]"
      ]
     },
     "metadata": {},
     "output_type": "display_data"
    },
    {
     "name": "stdout",
     "output_type": "stream",
     "text": [
      "[2,  2000] loss: 1.456\n",
      "[2,  4000] loss: 1.452\n",
      "[2,  6000] loss: 1.409\n",
      "[2,  8000] loss: 1.395\n",
      "[2, 10000] loss: 1.394\n",
      "[2, 12000] loss: 1.371\n"
     ]
    },
    {
     "data": {
      "application/vnd.jupyter.widget-view+json": {
       "model_id": "ae062beb3b9c4d7b83c93051ab71bfba",
       "version_major": 2,
       "version_minor": 0
      },
      "text/plain": [
       "  0%|          | 0/12500 [00:00<?, ?it/s]"
      ]
     },
     "metadata": {},
     "output_type": "display_data"
    },
    {
     "name": "stdout",
     "output_type": "stream",
     "text": [
      "[3,  2000] loss: 1.322\n",
      "[3,  4000] loss: 1.349\n",
      "[3,  6000] loss: 1.325\n",
      "[3,  8000] loss: 1.325\n",
      "[3, 10000] loss: 1.294\n",
      "[3, 12000] loss: 1.303\n",
      "fin\n",
      "Accuracy of plane : 59 %\n",
      "Accuracy of car : 70 %\n",
      "Accuracy of bird : 34 %\n",
      "Accuracy of cat : 31 %\n",
      "Accuracy of deer : 39 %\n",
      "Accuracy of dog : 51 %\n",
      "Accuracy of frog : 64 %\n",
      "Accuracy of horse : 63 %\n",
      "Accuracy of ship : 65 %\n",
      "Accuracy of truck : 54 %\n",
      "\n",
      "Total accuracy AVG: 53.58\n",
      "max=70.7; min=31.8\n"
     ]
    },
    {
     "data": {
      "application/vnd.jupyter.widget-view+json": {
       "model_id": "988791d0ea73458cb4eec9853b7eb3f8",
       "version_major": 2,
       "version_minor": 0
      },
      "text/plain": [
       "  0%|          | 0/1 [00:00<?, ?it/s]"
      ]
     },
     "metadata": {},
     "output_type": "display_data"
    },
    {
     "data": {
      "application/vnd.jupyter.widget-view+json": {
       "model_id": "ff36e9bb004147d0bd0e00b81b372755",
       "version_major": 2,
       "version_minor": 0
      },
      "text/plain": [
       "  0%|          | 0/3 [00:00<?, ?it/s]"
      ]
     },
     "metadata": {},
     "output_type": "display_data"
    },
    {
     "data": {
      "application/vnd.jupyter.widget-view+json": {
       "model_id": "6e79c12116cb469faa7b10f649445bed",
       "version_major": 2,
       "version_minor": 0
      },
      "text/plain": [
       "  0%|          | 0/12500 [00:00<?, ?it/s]"
      ]
     },
     "metadata": {},
     "output_type": "display_data"
    },
    {
     "name": "stdout",
     "output_type": "stream",
     "text": [
      "[1,  2000] loss: 1.964\n",
      "[1,  4000] loss: 1.723\n",
      "[1,  6000] loss: 1.615\n",
      "[1,  8000] loss: 1.540\n",
      "[1, 10000] loss: 1.512\n",
      "[1, 12000] loss: 1.473\n"
     ]
    },
    {
     "data": {
      "application/vnd.jupyter.widget-view+json": {
       "model_id": "2a627a99ae88422ea4c1cb85de514d3b",
       "version_major": 2,
       "version_minor": 0
      },
      "text/plain": [
       "  0%|          | 0/12500 [00:00<?, ?it/s]"
      ]
     },
     "metadata": {},
     "output_type": "display_data"
    },
    {
     "name": "stdout",
     "output_type": "stream",
     "text": [
      "[2,  2000] loss: 1.422\n",
      "[2,  4000] loss: 1.425\n",
      "[2,  6000] loss: 1.388\n",
      "[2,  8000] loss: 1.372\n",
      "[2, 10000] loss: 1.350\n",
      "[2, 12000] loss: 1.330\n"
     ]
    },
    {
     "data": {
      "application/vnd.jupyter.widget-view+json": {
       "model_id": "cc9e7c4a0ea04a3c9d219d4dd6fcf8d1",
       "version_major": 2,
       "version_minor": 0
      },
      "text/plain": [
       "  0%|          | 0/12500 [00:00<?, ?it/s]"
      ]
     },
     "metadata": {},
     "output_type": "display_data"
    },
    {
     "name": "stdout",
     "output_type": "stream",
     "text": [
      "[3,  2000] loss: 1.305\n",
      "[3,  4000] loss: 1.289\n",
      "[3,  6000] loss: 1.282\n",
      "[3,  8000] loss: 1.263\n",
      "[3, 10000] loss: 1.241\n",
      "[3, 12000] loss: 1.242\n",
      "fin\n",
      "Accuracy of plane : 57 %\n",
      "Accuracy of car : 77 %\n",
      "Accuracy of bird : 28 %\n",
      "Accuracy of cat : 39 %\n",
      "Accuracy of deer : 63 %\n",
      "Accuracy of dog : 43 %\n",
      "Accuracy of frog : 66 %\n",
      "Accuracy of horse : 54 %\n",
      "Accuracy of ship : 67 %\n",
      "Accuracy of truck : 55 %\n",
      "\n",
      "Total accuracy AVG: 55.33\n",
      "max=77.1; min=28.9\n"
     ]
    },
    {
     "data": {
      "application/vnd.jupyter.widget-view+json": {
       "model_id": "b03e4655268d4953b9cfeced96d6f7fb",
       "version_major": 2,
       "version_minor": 0
      },
      "text/plain": [
       "  0%|          | 0/2 [00:00<?, ?it/s]"
      ]
     },
     "metadata": {},
     "output_type": "display_data"
    },
    {
     "data": {
      "application/vnd.jupyter.widget-view+json": {
       "model_id": "e075591461734d81823f4b5077d188cc",
       "version_major": 2,
       "version_minor": 0
      },
      "text/plain": [
       "  0%|          | 0/1 [00:00<?, ?it/s]"
      ]
     },
     "metadata": {},
     "output_type": "display_data"
    },
    {
     "data": {
      "application/vnd.jupyter.widget-view+json": {
       "model_id": "65619b7b212c47ffafb9d7cb45bd67ac",
       "version_major": 2,
       "version_minor": 0
      },
      "text/plain": [
       "  0%|          | 0/3 [00:00<?, ?it/s]"
      ]
     },
     "metadata": {},
     "output_type": "display_data"
    },
    {
     "data": {
      "application/vnd.jupyter.widget-view+json": {
       "model_id": "eb5d39932b064544bc95515eba24448d",
       "version_major": 2,
       "version_minor": 0
      },
      "text/plain": [
       "  0%|          | 0/12500 [00:00<?, ?it/s]"
      ]
     },
     "metadata": {},
     "output_type": "display_data"
    },
    {
     "name": "stdout",
     "output_type": "stream",
     "text": [
      "[1,  2000] loss: 1.985\n",
      "[1,  4000] loss: 1.797\n",
      "[1,  6000] loss: 1.676\n",
      "[1,  8000] loss: 1.622\n",
      "[1, 10000] loss: 1.576\n",
      "[1, 12000] loss: 1.550\n"
     ]
    },
    {
     "data": {
      "application/vnd.jupyter.widget-view+json": {
       "model_id": "48920b2dae5b45b6a2b2462e2625ba13",
       "version_major": 2,
       "version_minor": 0
      },
      "text/plain": [
       "  0%|          | 0/12500 [00:00<?, ?it/s]"
      ]
     },
     "metadata": {},
     "output_type": "display_data"
    },
    {
     "name": "stdout",
     "output_type": "stream",
     "text": [
      "[2,  2000] loss: 1.500\n",
      "[2,  4000] loss: 1.487\n",
      "[2,  6000] loss: 1.483\n",
      "[2,  8000] loss: 1.454\n",
      "[2, 10000] loss: 1.443\n",
      "[2, 12000] loss: 1.409\n"
     ]
    },
    {
     "data": {
      "application/vnd.jupyter.widget-view+json": {
       "model_id": "784291a7360548fdbc1fac62c2b20fd9",
       "version_major": 2,
       "version_minor": 0
      },
      "text/plain": [
       "  0%|          | 0/12500 [00:00<?, ?it/s]"
      ]
     },
     "metadata": {},
     "output_type": "display_data"
    },
    {
     "name": "stdout",
     "output_type": "stream",
     "text": [
      "[3,  2000] loss: 1.398\n",
      "[3,  4000] loss: 1.391\n",
      "[3,  6000] loss: 1.370\n",
      "[3,  8000] loss: 1.355\n",
      "[3, 10000] loss: 1.323\n",
      "[3, 12000] loss: 1.318\n",
      "fin\n",
      "Accuracy of plane : 49 %\n",
      "Accuracy of car : 67 %\n",
      "Accuracy of bird : 31 %\n",
      "Accuracy of cat : 40 %\n",
      "Accuracy of deer : 39 %\n",
      "Accuracy of dog : 41 %\n",
      "Accuracy of frog : 61 %\n",
      "Accuracy of horse : 62 %\n",
      "Accuracy of ship : 67 %\n",
      "Accuracy of truck : 60 %\n",
      "\n",
      "Total accuracy AVG: 52.2\n",
      "max=67.8; min=31.5\n"
     ]
    },
    {
     "data": {
      "application/vnd.jupyter.widget-view+json": {
       "model_id": "520417b569094f7a9bd9591fc92ef6f8",
       "version_major": 2,
       "version_minor": 0
      },
      "text/plain": [
       "  0%|          | 0/1 [00:00<?, ?it/s]"
      ]
     },
     "metadata": {},
     "output_type": "display_data"
    },
    {
     "data": {
      "application/vnd.jupyter.widget-view+json": {
       "model_id": "91194226696a4179884fd5ff171f4862",
       "version_major": 2,
       "version_minor": 0
      },
      "text/plain": [
       "  0%|          | 0/3 [00:00<?, ?it/s]"
      ]
     },
     "metadata": {},
     "output_type": "display_data"
    },
    {
     "data": {
      "application/vnd.jupyter.widget-view+json": {
       "model_id": "a827b0efd6884d6cad86f8b71592b76c",
       "version_major": 2,
       "version_minor": 0
      },
      "text/plain": [
       "  0%|          | 0/12500 [00:00<?, ?it/s]"
      ]
     },
     "metadata": {},
     "output_type": "display_data"
    },
    {
     "name": "stdout",
     "output_type": "stream",
     "text": [
      "[1,  2000] loss: 1.933\n",
      "[1,  4000] loss: 1.681\n",
      "[1,  6000] loss: 1.595\n",
      "[1,  8000] loss: 1.540\n",
      "[1, 10000] loss: 1.517\n",
      "[1, 12000] loss: 1.497\n"
     ]
    },
    {
     "data": {
      "application/vnd.jupyter.widget-view+json": {
       "model_id": "77c3e3d3ebbc4064baac60681fa8a3b5",
       "version_major": 2,
       "version_minor": 0
      },
      "text/plain": [
       "  0%|          | 0/12500 [00:00<?, ?it/s]"
      ]
     },
     "metadata": {},
     "output_type": "display_data"
    },
    {
     "name": "stdout",
     "output_type": "stream",
     "text": [
      "[2,  2000] loss: 1.456\n",
      "[2,  4000] loss: 1.439\n",
      "[2,  6000] loss: 1.399\n",
      "[2,  8000] loss: 1.374\n",
      "[2, 10000] loss: 1.385\n",
      "[2, 12000] loss: 1.359\n"
     ]
    },
    {
     "data": {
      "application/vnd.jupyter.widget-view+json": {
       "model_id": "49031bcd1d1f4871bb5846d484c023b5",
       "version_major": 2,
       "version_minor": 0
      },
      "text/plain": [
       "  0%|          | 0/12500 [00:00<?, ?it/s]"
      ]
     },
     "metadata": {},
     "output_type": "display_data"
    },
    {
     "name": "stdout",
     "output_type": "stream",
     "text": [
      "[3,  2000] loss: 1.321\n",
      "[3,  4000] loss: 1.333\n",
      "[3,  6000] loss: 1.313\n",
      "[3,  8000] loss: 1.325\n",
      "[3, 10000] loss: 1.308\n",
      "[3, 12000] loss: 1.291\n",
      "fin\n",
      "Accuracy of plane : 55 %\n",
      "Accuracy of car : 63 %\n",
      "Accuracy of bird : 37 %\n",
      "Accuracy of cat : 43 %\n",
      "Accuracy of deer : 32 %\n",
      "Accuracy of dog : 42 %\n",
      "Accuracy of frog : 67 %\n",
      "Accuracy of horse : 64 %\n",
      "Accuracy of ship : 69 %\n",
      "Accuracy of truck : 57 %\n",
      "\n",
      "Total accuracy AVG: 53.24\n",
      "max=69.2; min=32.4\n"
     ]
    },
    {
     "data": {
      "application/vnd.jupyter.widget-view+json": {
       "model_id": "71580756fa5a4dd3b3cc188a44eb99b1",
       "version_major": 2,
       "version_minor": 0
      },
      "text/plain": [
       "  0%|          | 0/2 [00:00<?, ?it/s]"
      ]
     },
     "metadata": {},
     "output_type": "display_data"
    },
    {
     "data": {
      "application/vnd.jupyter.widget-view+json": {
       "model_id": "990a3fbbcc374ea68f10656c8c7d0292",
       "version_major": 2,
       "version_minor": 0
      },
      "text/plain": [
       "  0%|          | 0/2 [00:00<?, ?it/s]"
      ]
     },
     "metadata": {},
     "output_type": "display_data"
    },
    {
     "data": {
      "application/vnd.jupyter.widget-view+json": {
       "model_id": "3cf80125482c43e78a888f84a4045024",
       "version_major": 2,
       "version_minor": 0
      },
      "text/plain": [
       "  0%|          | 0/1 [00:00<?, ?it/s]"
      ]
     },
     "metadata": {},
     "output_type": "display_data"
    },
    {
     "data": {
      "application/vnd.jupyter.widget-view+json": {
       "model_id": "84a0008a40f5430fab7af9d5c23c35c4",
       "version_major": 2,
       "version_minor": 0
      },
      "text/plain": [
       "  0%|          | 0/3 [00:00<?, ?it/s]"
      ]
     },
     "metadata": {},
     "output_type": "display_data"
    },
    {
     "data": {
      "application/vnd.jupyter.widget-view+json": {
       "model_id": "26ab08d400784422986b35be483cbbae",
       "version_major": 2,
       "version_minor": 0
      },
      "text/plain": [
       "  0%|          | 0/12500 [00:00<?, ?it/s]"
      ]
     },
     "metadata": {},
     "output_type": "display_data"
    },
    {
     "name": "stdout",
     "output_type": "stream",
     "text": [
      "[1,  2000] loss: 2.020\n",
      "[1,  4000] loss: 1.856\n",
      "[1,  6000] loss: 1.754\n",
      "[1,  8000] loss: 1.677\n",
      "[1, 10000] loss: 1.617\n",
      "[1, 12000] loss: 1.569\n"
     ]
    },
    {
     "data": {
      "application/vnd.jupyter.widget-view+json": {
       "model_id": "6653c50264594964afa15e9f51b0eb83",
       "version_major": 2,
       "version_minor": 0
      },
      "text/plain": [
       "  0%|          | 0/12500 [00:00<?, ?it/s]"
      ]
     },
     "metadata": {},
     "output_type": "display_data"
    },
    {
     "name": "stdout",
     "output_type": "stream",
     "text": [
      "[2,  2000] loss: 1.515\n",
      "[2,  4000] loss: 1.489\n",
      "[2,  6000] loss: 1.451\n",
      "[2,  8000] loss: 1.459\n",
      "[2, 10000] loss: 1.445\n",
      "[2, 12000] loss: 1.407\n"
     ]
    },
    {
     "data": {
      "application/vnd.jupyter.widget-view+json": {
       "model_id": "0d9e9f1ca3544ef780b9a1fdaabbd317",
       "version_major": 2,
       "version_minor": 0
      },
      "text/plain": [
       "  0%|          | 0/12500 [00:00<?, ?it/s]"
      ]
     },
     "metadata": {},
     "output_type": "display_data"
    },
    {
     "name": "stdout",
     "output_type": "stream",
     "text": [
      "[3,  2000] loss: 1.375\n",
      "[3,  4000] loss: 1.380\n",
      "[3,  6000] loss: 1.373\n",
      "[3,  8000] loss: 1.353\n",
      "[3, 10000] loss: 1.318\n",
      "[3, 12000] loss: 1.333\n",
      "fin\n",
      "Accuracy of plane : 53 %\n",
      "Accuracy of car : 67 %\n",
      "Accuracy of bird : 39 %\n",
      "Accuracy of cat : 34 %\n",
      "Accuracy of deer : 31 %\n",
      "Accuracy of dog : 49 %\n",
      "Accuracy of frog : 63 %\n",
      "Accuracy of horse : 61 %\n",
      "Accuracy of ship : 62 %\n",
      "Accuracy of truck : 55 %\n",
      "\n",
      "Total accuracy AVG: 51.88\n",
      "max=67.0; min=31.1\n"
     ]
    },
    {
     "data": {
      "application/vnd.jupyter.widget-view+json": {
       "model_id": "de5b8726de6641ce880655f06a809155",
       "version_major": 2,
       "version_minor": 0
      },
      "text/plain": [
       "  0%|          | 0/1 [00:00<?, ?it/s]"
      ]
     },
     "metadata": {},
     "output_type": "display_data"
    },
    {
     "data": {
      "application/vnd.jupyter.widget-view+json": {
       "model_id": "bc88550d5a59495391854680b062bd32",
       "version_major": 2,
       "version_minor": 0
      },
      "text/plain": [
       "  0%|          | 0/3 [00:00<?, ?it/s]"
      ]
     },
     "metadata": {},
     "output_type": "display_data"
    },
    {
     "data": {
      "application/vnd.jupyter.widget-view+json": {
       "model_id": "de6119a7fbfb4f07b2f63c2145754a55",
       "version_major": 2,
       "version_minor": 0
      },
      "text/plain": [
       "  0%|          | 0/12500 [00:00<?, ?it/s]"
      ]
     },
     "metadata": {},
     "output_type": "display_data"
    },
    {
     "name": "stdout",
     "output_type": "stream",
     "text": [
      "[1,  2000] loss: 2.041\n",
      "[1,  4000] loss: 1.858\n",
      "[1,  6000] loss: 1.742\n",
      "[1,  8000] loss: 1.653\n",
      "[1, 10000] loss: 1.606\n",
      "[1, 12000] loss: 1.569\n"
     ]
    },
    {
     "data": {
      "application/vnd.jupyter.widget-view+json": {
       "model_id": "aeae14cc8ec64f1599ace2c770bf8fb6",
       "version_major": 2,
       "version_minor": 0
      },
      "text/plain": [
       "  0%|          | 0/12500 [00:00<?, ?it/s]"
      ]
     },
     "metadata": {},
     "output_type": "display_data"
    },
    {
     "name": "stdout",
     "output_type": "stream",
     "text": [
      "[2,  2000] loss: 1.513\n",
      "[2,  4000] loss: 1.507\n",
      "[2,  6000] loss: 1.454\n",
      "[2,  8000] loss: 1.447\n",
      "[2, 10000] loss: 1.428\n",
      "[2, 12000] loss: 1.416\n"
     ]
    },
    {
     "data": {
      "application/vnd.jupyter.widget-view+json": {
       "model_id": "2d51f10648ea49e290eda001b543c9d5",
       "version_major": 2,
       "version_minor": 0
      },
      "text/plain": [
       "  0%|          | 0/12500 [00:00<?, ?it/s]"
      ]
     },
     "metadata": {},
     "output_type": "display_data"
    },
    {
     "name": "stdout",
     "output_type": "stream",
     "text": [
      "[3,  2000] loss: 1.364\n",
      "[3,  4000] loss: 1.367\n",
      "[3,  6000] loss: 1.347\n",
      "[3,  8000] loss: 1.353\n",
      "[3, 10000] loss: 1.331\n",
      "[3, 12000] loss: 1.324\n",
      "fin\n",
      "Accuracy of plane : 54 %\n",
      "Accuracy of car : 55 %\n",
      "Accuracy of bird : 41 %\n",
      "Accuracy of cat : 30 %\n",
      "Accuracy of deer : 38 %\n",
      "Accuracy of dog : 51 %\n",
      "Accuracy of frog : 64 %\n",
      "Accuracy of horse : 65 %\n",
      "Accuracy of ship : 68 %\n",
      "Accuracy of truck : 61 %\n",
      "\n",
      "Total accuracy AVG: 53.17\n",
      "max=68.6; min=30.7\n"
     ]
    },
    {
     "data": {
      "application/vnd.jupyter.widget-view+json": {
       "model_id": "545fd6bef61e49ffb023be4c3aeb50b0",
       "version_major": 2,
       "version_minor": 0
      },
      "text/plain": [
       "  0%|          | 0/2 [00:00<?, ?it/s]"
      ]
     },
     "metadata": {},
     "output_type": "display_data"
    },
    {
     "data": {
      "application/vnd.jupyter.widget-view+json": {
       "model_id": "a1d4c55a6dd049c98d8dd2f96b75854e",
       "version_major": 2,
       "version_minor": 0
      },
      "text/plain": [
       "  0%|          | 0/1 [00:00<?, ?it/s]"
      ]
     },
     "metadata": {},
     "output_type": "display_data"
    },
    {
     "data": {
      "application/vnd.jupyter.widget-view+json": {
       "model_id": "b22c2c8bf4584296a7a4f2f3dbb66307",
       "version_major": 2,
       "version_minor": 0
      },
      "text/plain": [
       "  0%|          | 0/3 [00:00<?, ?it/s]"
      ]
     },
     "metadata": {},
     "output_type": "display_data"
    },
    {
     "data": {
      "application/vnd.jupyter.widget-view+json": {
       "model_id": "034a7bed065d475d9717915ccf52b9f2",
       "version_major": 2,
       "version_minor": 0
      },
      "text/plain": [
       "  0%|          | 0/12500 [00:00<?, ?it/s]"
      ]
     },
     "metadata": {},
     "output_type": "display_data"
    },
    {
     "name": "stdout",
     "output_type": "stream",
     "text": [
      "[1,  2000] loss: 2.051\n",
      "[1,  4000] loss: 1.891\n",
      "[1,  6000] loss: 1.756\n",
      "[1,  8000] loss: 1.680\n",
      "[1, 10000] loss: 1.640\n",
      "[1, 12000] loss: 1.600\n"
     ]
    },
    {
     "data": {
      "application/vnd.jupyter.widget-view+json": {
       "model_id": "d0fae0e4b37f4b729ec8e18b0689e670",
       "version_major": 2,
       "version_minor": 0
      },
      "text/plain": [
       "  0%|          | 0/12500 [00:00<?, ?it/s]"
      ]
     },
     "metadata": {},
     "output_type": "display_data"
    },
    {
     "name": "stdout",
     "output_type": "stream",
     "text": [
      "[2,  2000] loss: 1.570\n",
      "[2,  4000] loss: 1.558\n",
      "[2,  6000] loss: 1.509\n",
      "[2,  8000] loss: 1.501\n",
      "[2, 10000] loss: 1.489\n",
      "[2, 12000] loss: 1.488\n"
     ]
    },
    {
     "data": {
      "application/vnd.jupyter.widget-view+json": {
       "model_id": "d0430f299898453495b1a34bb34d0e86",
       "version_major": 2,
       "version_minor": 0
      },
      "text/plain": [
       "  0%|          | 0/12500 [00:00<?, ?it/s]"
      ]
     },
     "metadata": {},
     "output_type": "display_data"
    },
    {
     "name": "stdout",
     "output_type": "stream",
     "text": [
      "[3,  2000] loss: 1.448\n",
      "[3,  4000] loss: 1.440\n",
      "[3,  6000] loss: 1.438\n",
      "[3,  8000] loss: 1.413\n",
      "[3, 10000] loss: 1.408\n",
      "[3, 12000] loss: 1.402\n",
      "fin\n",
      "Accuracy of plane : 53 %\n",
      "Accuracy of car : 57 %\n",
      "Accuracy of bird : 41 %\n",
      "Accuracy of cat : 26 %\n",
      "Accuracy of deer : 32 %\n",
      "Accuracy of dog : 49 %\n",
      "Accuracy of frog : 56 %\n",
      "Accuracy of horse : 59 %\n",
      "Accuracy of ship : 68 %\n",
      "Accuracy of truck : 51 %\n",
      "\n",
      "Total accuracy AVG: 49.7\n",
      "max=68.1; min=26.9\n"
     ]
    },
    {
     "data": {
      "application/vnd.jupyter.widget-view+json": {
       "model_id": "29a51c5afefd469e96834c18f287f1f9",
       "version_major": 2,
       "version_minor": 0
      },
      "text/plain": [
       "  0%|          | 0/1 [00:00<?, ?it/s]"
      ]
     },
     "metadata": {},
     "output_type": "display_data"
    },
    {
     "data": {
      "application/vnd.jupyter.widget-view+json": {
       "model_id": "5aa02588d0004b1fa1190cf0f2c1e43d",
       "version_major": 2,
       "version_minor": 0
      },
      "text/plain": [
       "  0%|          | 0/3 [00:00<?, ?it/s]"
      ]
     },
     "metadata": {},
     "output_type": "display_data"
    },
    {
     "data": {
      "application/vnd.jupyter.widget-view+json": {
       "model_id": "5dc9d52dd24b4577b199764072c128a8",
       "version_major": 2,
       "version_minor": 0
      },
      "text/plain": [
       "  0%|          | 0/12500 [00:00<?, ?it/s]"
      ]
     },
     "metadata": {},
     "output_type": "display_data"
    },
    {
     "name": "stdout",
     "output_type": "stream",
     "text": [
      "[1,  2000] loss: 2.028\n",
      "[1,  4000] loss: 1.840\n",
      "[1,  6000] loss: 1.722\n",
      "[1,  8000] loss: 1.654\n",
      "[1, 10000] loss: 1.603\n",
      "[1, 12000] loss: 1.598\n"
     ]
    },
    {
     "data": {
      "application/vnd.jupyter.widget-view+json": {
       "model_id": "f6a5eea8d13440aaa77d20122c8a5472",
       "version_major": 2,
       "version_minor": 0
      },
      "text/plain": [
       "  0%|          | 0/12500 [00:00<?, ?it/s]"
      ]
     },
     "metadata": {},
     "output_type": "display_data"
    },
    {
     "name": "stdout",
     "output_type": "stream",
     "text": [
      "[2,  2000] loss: 1.566\n",
      "[2,  4000] loss: 1.535\n",
      "[2,  6000] loss: 1.506\n",
      "[2,  8000] loss: 1.469\n",
      "[2, 10000] loss: 1.465\n",
      "[2, 12000] loss: 1.457\n"
     ]
    },
    {
     "data": {
      "application/vnd.jupyter.widget-view+json": {
       "model_id": "0fa7c24edbd447999553216017c5a9b5",
       "version_major": 2,
       "version_minor": 0
      },
      "text/plain": [
       "  0%|          | 0/12500 [00:00<?, ?it/s]"
      ]
     },
     "metadata": {},
     "output_type": "display_data"
    },
    {
     "name": "stdout",
     "output_type": "stream",
     "text": [
      "[3,  2000] loss: 1.432\n",
      "[3,  4000] loss: 1.397\n",
      "[3,  6000] loss: 1.395\n",
      "[3,  8000] loss: 1.398\n",
      "[3, 10000] loss: 1.409\n",
      "[3, 12000] loss: 1.368\n",
      "fin\n",
      "Accuracy of plane : 48 %\n",
      "Accuracy of car : 60 %\n",
      "Accuracy of bird : 29 %\n",
      "Accuracy of cat : 32 %\n",
      "Accuracy of deer : 41 %\n",
      "Accuracy of dog : 49 %\n",
      "Accuracy of frog : 66 %\n",
      "Accuracy of horse : 59 %\n",
      "Accuracy of ship : 63 %\n",
      "Accuracy of truck : 52 %\n",
      "\n",
      "Total accuracy AVG: 50.12\n",
      "max=66.1; min=29.3\n"
     ]
    },
    {
     "data": {
      "application/vnd.jupyter.widget-view+json": {
       "model_id": "9f47eed7442b454184fbafb9322b0f2c",
       "version_major": 2,
       "version_minor": 0
      },
      "text/plain": [
       "  0%|          | 0/2 [00:00<?, ?it/s]"
      ]
     },
     "metadata": {},
     "output_type": "display_data"
    },
    {
     "data": {
      "application/vnd.jupyter.widget-view+json": {
       "model_id": "f6230aec42014731a51f7fe478c3bad4",
       "version_major": 2,
       "version_minor": 0
      },
      "text/plain": [
       "  0%|          | 0/2 [00:00<?, ?it/s]"
      ]
     },
     "metadata": {},
     "output_type": "display_data"
    },
    {
     "data": {
      "application/vnd.jupyter.widget-view+json": {
       "model_id": "1b89ee1baedd491cbbfef61bc777a766",
       "version_major": 2,
       "version_minor": 0
      },
      "text/plain": [
       "  0%|          | 0/1 [00:00<?, ?it/s]"
      ]
     },
     "metadata": {},
     "output_type": "display_data"
    },
    {
     "data": {
      "application/vnd.jupyter.widget-view+json": {
       "model_id": "d4055a4f12034d688ec09243f98e981a",
       "version_major": 2,
       "version_minor": 0
      },
      "text/plain": [
       "  0%|          | 0/3 [00:00<?, ?it/s]"
      ]
     },
     "metadata": {},
     "output_type": "display_data"
    },
    {
     "data": {
      "application/vnd.jupyter.widget-view+json": {
       "model_id": "cd94c0adf102442599fc7c38b81b1068",
       "version_major": 2,
       "version_minor": 0
      },
      "text/plain": [
       "  0%|          | 0/12500 [00:00<?, ?it/s]"
      ]
     },
     "metadata": {},
     "output_type": "display_data"
    },
    {
     "name": "stdout",
     "output_type": "stream",
     "text": [
      "[1,  2000] loss: 2.007\n",
      "[1,  4000] loss: 1.830\n",
      "[1,  6000] loss: 1.668\n",
      "[1,  8000] loss: 1.590\n",
      "[1, 10000] loss: 1.579\n",
      "[1, 12000] loss: 1.529\n"
     ]
    },
    {
     "data": {
      "application/vnd.jupyter.widget-view+json": {
       "model_id": "2bd34541fcaa4d1888402c7355c87f51",
       "version_major": 2,
       "version_minor": 0
      },
      "text/plain": [
       "  0%|          | 0/12500 [00:00<?, ?it/s]"
      ]
     },
     "metadata": {},
     "output_type": "display_data"
    },
    {
     "name": "stdout",
     "output_type": "stream",
     "text": [
      "[2,  2000] loss: 1.490\n",
      "[2,  4000] loss: 1.450\n",
      "[2,  6000] loss: 1.447\n",
      "[2,  8000] loss: 1.429\n",
      "[2, 10000] loss: 1.418\n",
      "[2, 12000] loss: 1.381\n"
     ]
    },
    {
     "data": {
      "application/vnd.jupyter.widget-view+json": {
       "model_id": "8c3e5fc8500742e19244d0f519159524",
       "version_major": 2,
       "version_minor": 0
      },
      "text/plain": [
       "  0%|          | 0/12500 [00:00<?, ?it/s]"
      ]
     },
     "metadata": {},
     "output_type": "display_data"
    },
    {
     "name": "stdout",
     "output_type": "stream",
     "text": [
      "[3,  2000] loss: 1.371\n",
      "[3,  4000] loss: 1.357\n",
      "[3,  6000] loss: 1.336\n",
      "[3,  8000] loss: 1.347\n",
      "[3, 10000] loss: 1.321\n",
      "[3, 12000] loss: 1.315\n",
      "fin\n",
      "Accuracy of plane : 52 %\n",
      "Accuracy of car : 65 %\n",
      "Accuracy of bird : 30 %\n",
      "Accuracy of cat : 30 %\n",
      "Accuracy of deer : 48 %\n",
      "Accuracy of dog : 50 %\n",
      "Accuracy of frog : 60 %\n",
      "Accuracy of horse : 64 %\n",
      "Accuracy of ship : 65 %\n",
      "Accuracy of truck : 61 %\n",
      "\n",
      "Total accuracy AVG: 52.98\n",
      "max=65.3; min=30.8\n"
     ]
    },
    {
     "data": {
      "application/vnd.jupyter.widget-view+json": {
       "model_id": "d79779e4f819422badbb6b739dbce1a6",
       "version_major": 2,
       "version_minor": 0
      },
      "text/plain": [
       "  0%|          | 0/1 [00:00<?, ?it/s]"
      ]
     },
     "metadata": {},
     "output_type": "display_data"
    },
    {
     "data": {
      "application/vnd.jupyter.widget-view+json": {
       "model_id": "541a32817ef34b11b152138898e23c84",
       "version_major": 2,
       "version_minor": 0
      },
      "text/plain": [
       "  0%|          | 0/3 [00:00<?, ?it/s]"
      ]
     },
     "metadata": {},
     "output_type": "display_data"
    },
    {
     "data": {
      "application/vnd.jupyter.widget-view+json": {
       "model_id": "9e2c8f35f44f4724a7c8b99edf3bfc84",
       "version_major": 2,
       "version_minor": 0
      },
      "text/plain": [
       "  0%|          | 0/12500 [00:00<?, ?it/s]"
      ]
     },
     "metadata": {},
     "output_type": "display_data"
    },
    {
     "name": "stdout",
     "output_type": "stream",
     "text": [
      "[1,  2000] loss: 1.973\n",
      "[1,  4000] loss: 1.761\n",
      "[1,  6000] loss: 1.642\n",
      "[1,  8000] loss: 1.565\n",
      "[1, 10000] loss: 1.515\n",
      "[1, 12000] loss: 1.492\n"
     ]
    },
    {
     "data": {
      "application/vnd.jupyter.widget-view+json": {
       "model_id": "a4d077280356424ead204e819baae06c",
       "version_major": 2,
       "version_minor": 0
      },
      "text/plain": [
       "  0%|          | 0/12500 [00:00<?, ?it/s]"
      ]
     },
     "metadata": {},
     "output_type": "display_data"
    },
    {
     "name": "stdout",
     "output_type": "stream",
     "text": [
      "[2,  2000] loss: 1.459\n",
      "[2,  4000] loss: 1.416\n",
      "[2,  6000] loss: 1.415\n",
      "[2,  8000] loss: 1.391\n",
      "[2, 10000] loss: 1.390\n",
      "[2, 12000] loss: 1.369\n"
     ]
    },
    {
     "data": {
      "application/vnd.jupyter.widget-view+json": {
       "model_id": "95b8bfc9ee804bf29681bb09e67c8176",
       "version_major": 2,
       "version_minor": 0
      },
      "text/plain": [
       "  0%|          | 0/12500 [00:00<?, ?it/s]"
      ]
     },
     "metadata": {},
     "output_type": "display_data"
    },
    {
     "name": "stdout",
     "output_type": "stream",
     "text": [
      "[3,  2000] loss: 1.345\n",
      "[3,  4000] loss: 1.338\n",
      "[3,  6000] loss: 1.307\n",
      "[3,  8000] loss: 1.310\n",
      "[3, 10000] loss: 1.288\n",
      "[3, 12000] loss: 1.302\n",
      "fin\n",
      "Accuracy of plane : 62 %\n",
      "Accuracy of car : 69 %\n",
      "Accuracy of bird : 42 %\n",
      "Accuracy of cat : 39 %\n",
      "Accuracy of deer : 28 %\n",
      "Accuracy of dog : 43 %\n",
      "Accuracy of frog : 75 %\n",
      "Accuracy of horse : 62 %\n",
      "Accuracy of ship : 62 %\n",
      "Accuracy of truck : 53 %\n",
      "\n",
      "Total accuracy AVG: 54.04\n",
      "max=75.9; min=28.4\n"
     ]
    },
    {
     "data": {
      "application/vnd.jupyter.widget-view+json": {
       "model_id": "59daf5b38e8b408fb115dbf5657d3263",
       "version_major": 2,
       "version_minor": 0
      },
      "text/plain": [
       "  0%|          | 0/2 [00:00<?, ?it/s]"
      ]
     },
     "metadata": {},
     "output_type": "display_data"
    },
    {
     "data": {
      "application/vnd.jupyter.widget-view+json": {
       "model_id": "651e42ac0ec5455cabab493ddd99a9cc",
       "version_major": 2,
       "version_minor": 0
      },
      "text/plain": [
       "  0%|          | 0/1 [00:00<?, ?it/s]"
      ]
     },
     "metadata": {},
     "output_type": "display_data"
    },
    {
     "data": {
      "application/vnd.jupyter.widget-view+json": {
       "model_id": "a494320148e74e3985673adcf09629a5",
       "version_major": 2,
       "version_minor": 0
      },
      "text/plain": [
       "  0%|          | 0/3 [00:00<?, ?it/s]"
      ]
     },
     "metadata": {},
     "output_type": "display_data"
    },
    {
     "data": {
      "application/vnd.jupyter.widget-view+json": {
       "model_id": "b05547555f054d1dbd79497a0925cbbb",
       "version_major": 2,
       "version_minor": 0
      },
      "text/plain": [
       "  0%|          | 0/12500 [00:00<?, ?it/s]"
      ]
     },
     "metadata": {},
     "output_type": "display_data"
    },
    {
     "name": "stdout",
     "output_type": "stream",
     "text": [
      "[1,  2000] loss: 2.006\n",
      "[1,  4000] loss: 1.840\n",
      "[1,  6000] loss: 1.752\n",
      "[1,  8000] loss: 1.654\n",
      "[1, 10000] loss: 1.579\n",
      "[1, 12000] loss: 1.545\n"
     ]
    },
    {
     "data": {
      "application/vnd.jupyter.widget-view+json": {
       "model_id": "cee2d22bf2484c149c7c1cdc17b5c529",
       "version_major": 2,
       "version_minor": 0
      },
      "text/plain": [
       "  0%|          | 0/12500 [00:00<?, ?it/s]"
      ]
     },
     "metadata": {},
     "output_type": "display_data"
    },
    {
     "name": "stdout",
     "output_type": "stream",
     "text": [
      "[2,  2000] loss: 1.504\n",
      "[2,  4000] loss: 1.478\n",
      "[2,  6000] loss: 1.437\n",
      "[2,  8000] loss: 1.453\n",
      "[2, 10000] loss: 1.427\n",
      "[2, 12000] loss: 1.397\n"
     ]
    },
    {
     "data": {
      "application/vnd.jupyter.widget-view+json": {
       "model_id": "9f55338ff2d04ed0811404e631a0ca67",
       "version_major": 2,
       "version_minor": 0
      },
      "text/plain": [
       "  0%|          | 0/12500 [00:00<?, ?it/s]"
      ]
     },
     "metadata": {},
     "output_type": "display_data"
    },
    {
     "name": "stdout",
     "output_type": "stream",
     "text": [
      "[3,  2000] loss: 1.366\n",
      "[3,  4000] loss: 1.374\n",
      "[3,  6000] loss: 1.375\n",
      "[3,  8000] loss: 1.352\n",
      "[3, 10000] loss: 1.345\n",
      "[3, 12000] loss: 1.351\n",
      "fin\n",
      "Accuracy of plane : 51 %\n",
      "Accuracy of car : 70 %\n",
      "Accuracy of bird : 33 %\n",
      "Accuracy of cat : 29 %\n",
      "Accuracy of deer : 40 %\n",
      "Accuracy of dog : 45 %\n",
      "Accuracy of frog : 65 %\n",
      "Accuracy of horse : 62 %\n",
      "Accuracy of ship : 67 %\n",
      "Accuracy of truck : 50 %\n",
      "\n",
      "Total accuracy AVG: 51.67\n",
      "max=70.8; min=29.0\n"
     ]
    },
    {
     "data": {
      "application/vnd.jupyter.widget-view+json": {
       "model_id": "a82419c691234adfa077fe0e12f51155",
       "version_major": 2,
       "version_minor": 0
      },
      "text/plain": [
       "  0%|          | 0/1 [00:00<?, ?it/s]"
      ]
     },
     "metadata": {},
     "output_type": "display_data"
    },
    {
     "data": {
      "application/vnd.jupyter.widget-view+json": {
       "model_id": "72f2c16c93e840b0bc898d71b011f5c1",
       "version_major": 2,
       "version_minor": 0
      },
      "text/plain": [
       "  0%|          | 0/3 [00:00<?, ?it/s]"
      ]
     },
     "metadata": {},
     "output_type": "display_data"
    },
    {
     "data": {
      "application/vnd.jupyter.widget-view+json": {
       "model_id": "4c217728be414349b6d12beb66f6d6c1",
       "version_major": 2,
       "version_minor": 0
      },
      "text/plain": [
       "  0%|          | 0/12500 [00:00<?, ?it/s]"
      ]
     },
     "metadata": {},
     "output_type": "display_data"
    },
    {
     "name": "stdout",
     "output_type": "stream",
     "text": [
      "[1,  2000] loss: 1.944\n",
      "[1,  4000] loss: 1.727\n",
      "[1,  6000] loss: 1.685\n",
      "[1,  8000] loss: 1.609\n",
      "[1, 10000] loss: 1.573\n",
      "[1, 12000] loss: 1.558\n"
     ]
    },
    {
     "data": {
      "application/vnd.jupyter.widget-view+json": {
       "model_id": "25d68c43e1d54eb0b3c44eb94bfbbfbe",
       "version_major": 2,
       "version_minor": 0
      },
      "text/plain": [
       "  0%|          | 0/12500 [00:00<?, ?it/s]"
      ]
     },
     "metadata": {},
     "output_type": "display_data"
    },
    {
     "name": "stdout",
     "output_type": "stream",
     "text": [
      "[2,  2000] loss: 1.526\n",
      "[2,  4000] loss: 1.484\n",
      "[2,  6000] loss: 1.467\n",
      "[2,  8000] loss: 1.462\n",
      "[2, 10000] loss: 1.460\n",
      "[2, 12000] loss: 1.432\n"
     ]
    },
    {
     "data": {
      "application/vnd.jupyter.widget-view+json": {
       "model_id": "1b491ed5bb9b47d9a0488930c3795e6a",
       "version_major": 2,
       "version_minor": 0
      },
      "text/plain": [
       "  0%|          | 0/12500 [00:00<?, ?it/s]"
      ]
     },
     "metadata": {},
     "output_type": "display_data"
    },
    {
     "name": "stdout",
     "output_type": "stream",
     "text": [
      "[3,  2000] loss: 1.397\n",
      "[3,  4000] loss: 1.392\n",
      "[3,  6000] loss: 1.389\n",
      "[3,  8000] loss: 1.356\n",
      "[3, 10000] loss: 1.370\n",
      "[3, 12000] loss: 1.368\n",
      "fin\n",
      "Accuracy of plane : 55 %\n",
      "Accuracy of car : 59 %\n",
      "Accuracy of bird : 28 %\n",
      "Accuracy of cat : 29 %\n",
      "Accuracy of deer : 42 %\n",
      "Accuracy of dog : 44 %\n",
      "Accuracy of frog : 65 %\n",
      "Accuracy of horse : 66 %\n",
      "Accuracy of ship : 66 %\n",
      "Accuracy of truck : 63 %\n",
      "\n",
      "Total accuracy AVG: 52.05\n",
      "max=66.9; min=28.2\n"
     ]
    }
   ],
   "source": [
    "for function in tqdm_notebook(functions):\n",
    "    for kernel in tqdm_notebook(kernels):\n",
    "        for fc in tqdm_notebook(fcs):\n",
    "            for is_max_pool in tqdm_notebook(is_max_pools): \n",
    "                net = SimpleConvNet_my(6, 16, kernel[0], kernel[1], fc[0], fc[1], is_max_pool, function)\n",
    "                net.to(device)\n",
    "                net.train()\n",
    "                net.validatee()\n",
    "                print_res(global_res)"
   ]
  },
  {
   "cell_type": "code",
   "execution_count": 68,
   "metadata": {},
   "outputs": [
    {
     "data": {
      "text/html": [
       "<div>\n",
       "<style scoped>\n",
       "    .dataframe tbody tr th:only-of-type {\n",
       "        vertical-align: middle;\n",
       "    }\n",
       "\n",
       "    .dataframe tbody tr th {\n",
       "        vertical-align: top;\n",
       "    }\n",
       "\n",
       "    .dataframe thead th {\n",
       "        text-align: right;\n",
       "    }\n",
       "</style>\n",
       "<table border=\"1\" class=\"dataframe\">\n",
       "  <thead>\n",
       "    <tr style=\"text-align: right;\">\n",
       "      <th></th>\n",
       "      <th>channels1</th>\n",
       "      <th>channels2</th>\n",
       "      <th>channels3</th>\n",
       "      <th>kernel_size1</th>\n",
       "      <th>kernel_size2</th>\n",
       "      <th>kernel_size3</th>\n",
       "      <th>fc1</th>\n",
       "      <th>fc2</th>\n",
       "      <th>fc3</th>\n",
       "      <th>is_max_pool</th>\n",
       "      <th>activation</th>\n",
       "      <th>avg</th>\n",
       "      <th>max</th>\n",
       "      <th>min</th>\n",
       "      <th>ch_c</th>\n",
       "      <th>conv_c</th>\n",
       "      <th>fc_c</th>\n",
       "      <th>num_epochs</th>\n",
       "      <th>lr</th>\n",
       "    </tr>\n",
       "  </thead>\n",
       "  <tbody>\n",
       "    <tr>\n",
       "      <th>14</th>\n",
       "      <td>6</td>\n",
       "      <td>16</td>\n",
       "      <td>0</td>\n",
       "      <td>5</td>\n",
       "      <td>5</td>\n",
       "      <td>0</td>\n",
       "      <td>200</td>\n",
       "      <td>100</td>\n",
       "      <td>0</td>\n",
       "      <td>True</td>\n",
       "      <td>elu</td>\n",
       "      <td>64.77</td>\n",
       "      <td>77.9</td>\n",
       "      <td>43.8</td>\n",
       "      <td>2</td>\n",
       "      <td>2</td>\n",
       "      <td>2</td>\n",
       "      <td>13</td>\n",
       "      <td>0.0001</td>\n",
       "    </tr>\n",
       "    <tr>\n",
       "      <th>13</th>\n",
       "      <td>6</td>\n",
       "      <td>16</td>\n",
       "      <td>0</td>\n",
       "      <td>5</td>\n",
       "      <td>5</td>\n",
       "      <td>0</td>\n",
       "      <td>200</td>\n",
       "      <td>100</td>\n",
       "      <td>0</td>\n",
       "      <td>True</td>\n",
       "      <td>elu</td>\n",
       "      <td>61.26</td>\n",
       "      <td>78.5</td>\n",
       "      <td>37.7</td>\n",
       "      <td>2</td>\n",
       "      <td>2</td>\n",
       "      <td>2</td>\n",
       "      <td>7</td>\n",
       "      <td>0.0001</td>\n",
       "    </tr>\n",
       "    <tr>\n",
       "      <th>1</th>\n",
       "      <td>6</td>\n",
       "      <td>16</td>\n",
       "      <td>0</td>\n",
       "      <td>5</td>\n",
       "      <td>5</td>\n",
       "      <td>0</td>\n",
       "      <td>200</td>\n",
       "      <td>100</td>\n",
       "      <td>0</td>\n",
       "      <td>True</td>\n",
       "      <td>elu</td>\n",
       "      <td>55.33</td>\n",
       "      <td>77.1</td>\n",
       "      <td>28.9</td>\n",
       "      <td>2</td>\n",
       "      <td>2</td>\n",
       "      <td>2</td>\n",
       "      <td>3</td>\n",
       "      <td>0.0001</td>\n",
       "    </tr>\n",
       "    <tr>\n",
       "      <th>12</th>\n",
       "      <td>6</td>\n",
       "      <td>16</td>\n",
       "      <td>0</td>\n",
       "      <td>5</td>\n",
       "      <td>5</td>\n",
       "      <td>0</td>\n",
       "      <td>200</td>\n",
       "      <td>100</td>\n",
       "      <td>0</td>\n",
       "      <td>True</td>\n",
       "      <td>elu</td>\n",
       "      <td>54.68</td>\n",
       "      <td>70.1</td>\n",
       "      <td>32.2</td>\n",
       "      <td>2</td>\n",
       "      <td>2</td>\n",
       "      <td>2</td>\n",
       "      <td>3</td>\n",
       "      <td>0.0001</td>\n",
       "    </tr>\n",
       "    <tr>\n",
       "      <th>9</th>\n",
       "      <td>6</td>\n",
       "      <td>16</td>\n",
       "      <td>0</td>\n",
       "      <td>5</td>\n",
       "      <td>5</td>\n",
       "      <td>0</td>\n",
       "      <td>200</td>\n",
       "      <td>100</td>\n",
       "      <td>0</td>\n",
       "      <td>True</td>\n",
       "      <td>tanh</td>\n",
       "      <td>54.04</td>\n",
       "      <td>75.9</td>\n",
       "      <td>28.4</td>\n",
       "      <td>2</td>\n",
       "      <td>2</td>\n",
       "      <td>2</td>\n",
       "      <td>3</td>\n",
       "      <td>0.0001</td>\n",
       "    </tr>\n",
       "    <tr>\n",
       "      <th>0</th>\n",
       "      <td>6</td>\n",
       "      <td>16</td>\n",
       "      <td>0</td>\n",
       "      <td>5</td>\n",
       "      <td>5</td>\n",
       "      <td>0</td>\n",
       "      <td>120</td>\n",
       "      <td>84</td>\n",
       "      <td>0</td>\n",
       "      <td>True</td>\n",
       "      <td>elu</td>\n",
       "      <td>53.58</td>\n",
       "      <td>70.7</td>\n",
       "      <td>31.8</td>\n",
       "      <td>2</td>\n",
       "      <td>2</td>\n",
       "      <td>2</td>\n",
       "      <td>3</td>\n",
       "      <td>0.0001</td>\n",
       "    </tr>\n",
       "    <tr>\n",
       "      <th>3</th>\n",
       "      <td>6</td>\n",
       "      <td>16</td>\n",
       "      <td>0</td>\n",
       "      <td>7</td>\n",
       "      <td>3</td>\n",
       "      <td>0</td>\n",
       "      <td>200</td>\n",
       "      <td>100</td>\n",
       "      <td>0</td>\n",
       "      <td>True</td>\n",
       "      <td>elu</td>\n",
       "      <td>53.24</td>\n",
       "      <td>69.2</td>\n",
       "      <td>32.4</td>\n",
       "      <td>2</td>\n",
       "      <td>2</td>\n",
       "      <td>2</td>\n",
       "      <td>3</td>\n",
       "      <td>0.0001</td>\n",
       "    </tr>\n",
       "    <tr>\n",
       "      <th>5</th>\n",
       "      <td>6</td>\n",
       "      <td>16</td>\n",
       "      <td>0</td>\n",
       "      <td>5</td>\n",
       "      <td>5</td>\n",
       "      <td>0</td>\n",
       "      <td>200</td>\n",
       "      <td>100</td>\n",
       "      <td>0</td>\n",
       "      <td>True</td>\n",
       "      <td>softsign</td>\n",
       "      <td>53.17</td>\n",
       "      <td>68.6</td>\n",
       "      <td>30.7</td>\n",
       "      <td>2</td>\n",
       "      <td>2</td>\n",
       "      <td>2</td>\n",
       "      <td>3</td>\n",
       "      <td>0.0001</td>\n",
       "    </tr>\n",
       "    <tr>\n",
       "      <th>8</th>\n",
       "      <td>6</td>\n",
       "      <td>16</td>\n",
       "      <td>0</td>\n",
       "      <td>5</td>\n",
       "      <td>5</td>\n",
       "      <td>0</td>\n",
       "      <td>120</td>\n",
       "      <td>84</td>\n",
       "      <td>0</td>\n",
       "      <td>True</td>\n",
       "      <td>tanh</td>\n",
       "      <td>52.98</td>\n",
       "      <td>65.3</td>\n",
       "      <td>30.8</td>\n",
       "      <td>2</td>\n",
       "      <td>2</td>\n",
       "      <td>2</td>\n",
       "      <td>3</td>\n",
       "      <td>0.0001</td>\n",
       "    </tr>\n",
       "    <tr>\n",
       "      <th>2</th>\n",
       "      <td>6</td>\n",
       "      <td>16</td>\n",
       "      <td>0</td>\n",
       "      <td>7</td>\n",
       "      <td>3</td>\n",
       "      <td>0</td>\n",
       "      <td>120</td>\n",
       "      <td>84</td>\n",
       "      <td>0</td>\n",
       "      <td>True</td>\n",
       "      <td>elu</td>\n",
       "      <td>52.20</td>\n",
       "      <td>67.8</td>\n",
       "      <td>31.5</td>\n",
       "      <td>2</td>\n",
       "      <td>2</td>\n",
       "      <td>2</td>\n",
       "      <td>3</td>\n",
       "      <td>0.0001</td>\n",
       "    </tr>\n",
       "    <tr>\n",
       "      <th>11</th>\n",
       "      <td>6</td>\n",
       "      <td>16</td>\n",
       "      <td>0</td>\n",
       "      <td>7</td>\n",
       "      <td>3</td>\n",
       "      <td>0</td>\n",
       "      <td>200</td>\n",
       "      <td>100</td>\n",
       "      <td>0</td>\n",
       "      <td>True</td>\n",
       "      <td>tanh</td>\n",
       "      <td>52.05</td>\n",
       "      <td>66.9</td>\n",
       "      <td>28.2</td>\n",
       "      <td>2</td>\n",
       "      <td>2</td>\n",
       "      <td>2</td>\n",
       "      <td>3</td>\n",
       "      <td>0.0001</td>\n",
       "    </tr>\n",
       "    <tr>\n",
       "      <th>4</th>\n",
       "      <td>6</td>\n",
       "      <td>16</td>\n",
       "      <td>0</td>\n",
       "      <td>5</td>\n",
       "      <td>5</td>\n",
       "      <td>0</td>\n",
       "      <td>120</td>\n",
       "      <td>84</td>\n",
       "      <td>0</td>\n",
       "      <td>True</td>\n",
       "      <td>softsign</td>\n",
       "      <td>51.88</td>\n",
       "      <td>67.0</td>\n",
       "      <td>31.1</td>\n",
       "      <td>2</td>\n",
       "      <td>2</td>\n",
       "      <td>2</td>\n",
       "      <td>3</td>\n",
       "      <td>0.0001</td>\n",
       "    </tr>\n",
       "    <tr>\n",
       "      <th>10</th>\n",
       "      <td>6</td>\n",
       "      <td>16</td>\n",
       "      <td>0</td>\n",
       "      <td>7</td>\n",
       "      <td>3</td>\n",
       "      <td>0</td>\n",
       "      <td>120</td>\n",
       "      <td>84</td>\n",
       "      <td>0</td>\n",
       "      <td>True</td>\n",
       "      <td>tanh</td>\n",
       "      <td>51.67</td>\n",
       "      <td>70.8</td>\n",
       "      <td>29.0</td>\n",
       "      <td>2</td>\n",
       "      <td>2</td>\n",
       "      <td>2</td>\n",
       "      <td>3</td>\n",
       "      <td>0.0001</td>\n",
       "    </tr>\n",
       "    <tr>\n",
       "      <th>7</th>\n",
       "      <td>6</td>\n",
       "      <td>16</td>\n",
       "      <td>0</td>\n",
       "      <td>7</td>\n",
       "      <td>3</td>\n",
       "      <td>0</td>\n",
       "      <td>200</td>\n",
       "      <td>100</td>\n",
       "      <td>0</td>\n",
       "      <td>True</td>\n",
       "      <td>softsign</td>\n",
       "      <td>50.12</td>\n",
       "      <td>66.1</td>\n",
       "      <td>29.3</td>\n",
       "      <td>2</td>\n",
       "      <td>2</td>\n",
       "      <td>2</td>\n",
       "      <td>3</td>\n",
       "      <td>0.0001</td>\n",
       "    </tr>\n",
       "    <tr>\n",
       "      <th>6</th>\n",
       "      <td>6</td>\n",
       "      <td>16</td>\n",
       "      <td>0</td>\n",
       "      <td>7</td>\n",
       "      <td>3</td>\n",
       "      <td>0</td>\n",
       "      <td>120</td>\n",
       "      <td>84</td>\n",
       "      <td>0</td>\n",
       "      <td>True</td>\n",
       "      <td>softsign</td>\n",
       "      <td>49.70</td>\n",
       "      <td>68.1</td>\n",
       "      <td>26.9</td>\n",
       "      <td>2</td>\n",
       "      <td>2</td>\n",
       "      <td>2</td>\n",
       "      <td>3</td>\n",
       "      <td>0.0001</td>\n",
       "    </tr>\n",
       "  </tbody>\n",
       "</table>\n",
       "</div>"
      ],
      "text/plain": [
       "   channels1 channels2 channels3 kernel_size1 kernel_size2 kernel_size3  fc1  \\\n",
       "14         6        16         0            5            5            0  200   \n",
       "13         6        16         0            5            5            0  200   \n",
       "1          6        16         0            5            5            0  200   \n",
       "12         6        16         0            5            5            0  200   \n",
       "9          6        16         0            5            5            0  200   \n",
       "0          6        16         0            5            5            0  120   \n",
       "3          6        16         0            7            3            0  200   \n",
       "5          6        16         0            5            5            0  200   \n",
       "8          6        16         0            5            5            0  120   \n",
       "2          6        16         0            7            3            0  120   \n",
       "11         6        16         0            7            3            0  200   \n",
       "4          6        16         0            5            5            0  120   \n",
       "10         6        16         0            7            3            0  120   \n",
       "7          6        16         0            7            3            0  200   \n",
       "6          6        16         0            7            3            0  120   \n",
       "\n",
       "    fc2 fc3 is_max_pool activation    avg   max   min ch_c conv_c fc_c  \\\n",
       "14  100   0        True        elu  64.77  77.9  43.8    2      2    2   \n",
       "13  100   0        True        elu  61.26  78.5  37.7    2      2    2   \n",
       "1   100   0        True        elu  55.33  77.1  28.9    2      2    2   \n",
       "12  100   0        True        elu  54.68  70.1  32.2    2      2    2   \n",
       "9   100   0        True       tanh  54.04  75.9  28.4    2      2    2   \n",
       "0    84   0        True        elu  53.58  70.7  31.8    2      2    2   \n",
       "3   100   0        True        elu  53.24  69.2  32.4    2      2    2   \n",
       "5   100   0        True   softsign  53.17  68.6  30.7    2      2    2   \n",
       "8    84   0        True       tanh  52.98  65.3  30.8    2      2    2   \n",
       "2    84   0        True        elu  52.20  67.8  31.5    2      2    2   \n",
       "11  100   0        True       tanh  52.05  66.9  28.2    2      2    2   \n",
       "4    84   0        True   softsign  51.88  67.0  31.1    2      2    2   \n",
       "10   84   0        True       tanh  51.67  70.8  29.0    2      2    2   \n",
       "7   100   0        True   softsign  50.12  66.1  29.3    2      2    2   \n",
       "6    84   0        True   softsign  49.70  68.1  26.9    2      2    2   \n",
       "\n",
       "    num_epochs      lr  \n",
       "14          13  0.0001  \n",
       "13           7  0.0001  \n",
       "1            3  0.0001  \n",
       "12           3  0.0001  \n",
       "9            3  0.0001  \n",
       "0            3  0.0001  \n",
       "3            3  0.0001  \n",
       "5            3  0.0001  \n",
       "8            3  0.0001  \n",
       "2            3  0.0001  \n",
       "11           3  0.0001  \n",
       "4            3  0.0001  \n",
       "10           3  0.0001  \n",
       "7            3  0.0001  \n",
       "6            3  0.0001  "
      ]
     },
     "execution_count": 68,
     "metadata": {},
     "output_type": "execute_result"
    }
   ],
   "source": [
    "print_res(global_res)"
   ]
  },
  {
   "cell_type": "code",
   "execution_count": 62,
   "metadata": {},
   "outputs": [],
   "source": [
    "# global_res.to_csv('2-2-2--13-epoch--cifar10.csv', sep='\\t', encoding='utf-8')"
   ]
  },
  {
   "cell_type": "code",
   "execution_count": 67,
   "metadata": {},
   "outputs": [],
   "source": [
    "# global_res['num_epochs'] = 3\n",
    "# global_res['lr'] = 1e-4\n"
   ]
  },
  {
   "cell_type": "code",
   "execution_count": 59,
   "metadata": {},
   "outputs": [],
   "source": [
    "# global_res.loc[13,'num_epochs'] = 7"
   ]
  },
  {
   "cell_type": "markdown",
   "metadata": {},
   "source": [
    "Лучашя сеть из прошлой лабы показала удручающий результат 55%. Пробую увеличить кол-во эпох и изменить learning_rates"
   ]
  },
  {
   "cell_type": "code",
   "execution_count": 83,
   "metadata": {},
   "outputs": [],
   "source": [
    "# functions = [F.elu, F.leaky_relu] \n",
    "functions = [F.elu] \n",
    "num_epochssss = [3, 7, 13]\n",
    "learning_rates = [5e-3, 5e-4, 5e-5]"
   ]
  },
  {
   "cell_type": "code",
   "execution_count": 84,
   "metadata": {},
   "outputs": [
    {
     "name": "stderr",
     "output_type": "stream",
     "text": [
      "C:\\Users\\KOSHI8~1\\AppData\\Local\\Temp/ipykernel_4672/2095501102.py:1: TqdmDeprecationWarning: This function will be removed in tqdm==5.0.0\n",
      "Please use `tqdm.notebook.tqdm` instead of `tqdm.tqdm_notebook`\n",
      "  for function in tqdm_notebook(functions):\n"
     ]
    },
    {
     "data": {
      "application/vnd.jupyter.widget-view+json": {
       "model_id": "4171de5b7aab47cdbb7c45e96eb153c2",
       "version_major": 2,
       "version_minor": 0
      },
      "text/plain": [
       "  0%|          | 0/1 [00:00<?, ?it/s]"
      ]
     },
     "metadata": {},
     "output_type": "display_data"
    },
    {
     "name": "stderr",
     "output_type": "stream",
     "text": [
      "C:\\Users\\KOSHI8~1\\AppData\\Local\\Temp/ipykernel_4672/2095501102.py:2: TqdmDeprecationWarning: This function will be removed in tqdm==5.0.0\n",
      "Please use `tqdm.notebook.tqdm` instead of `tqdm.tqdm_notebook`\n",
      "  for num_epochs in tqdm_notebook(num_epochssss):\n"
     ]
    },
    {
     "data": {
      "application/vnd.jupyter.widget-view+json": {
       "model_id": "2e89a11c16614838a742029a08a828ae",
       "version_major": 2,
       "version_minor": 0
      },
      "text/plain": [
       "  0%|          | 0/3 [00:00<?, ?it/s]"
      ]
     },
     "metadata": {},
     "output_type": "display_data"
    },
    {
     "name": "stderr",
     "output_type": "stream",
     "text": [
      "C:\\Users\\KOSHI8~1\\AppData\\Local\\Temp/ipykernel_4672/2095501102.py:3: TqdmDeprecationWarning: This function will be removed in tqdm==5.0.0\n",
      "Please use `tqdm.notebook.tqdm` instead of `tqdm.tqdm_notebook`\n",
      "  for learning_rate in tqdm_notebook(learning_rates):\n"
     ]
    },
    {
     "data": {
      "application/vnd.jupyter.widget-view+json": {
       "model_id": "ecce00d2cc344f33a5f1f6bb206bf2a2",
       "version_major": 2,
       "version_minor": 0
      },
      "text/plain": [
       "  0%|          | 0/3 [00:00<?, ?it/s]"
      ]
     },
     "metadata": {},
     "output_type": "display_data"
    },
    {
     "name": "stderr",
     "output_type": "stream",
     "text": [
      "C:\\Users\\KOSHI8~1\\AppData\\Local\\Temp/ipykernel_4672/2477625818.py:52: TqdmDeprecationWarning: This function will be removed in tqdm==5.0.0\n",
      "Please use `tqdm.notebook.tqdm` instead of `tqdm.tqdm_notebook`\n",
      "  for epoch in tqdm_notebook(range(num_epochs)):\n"
     ]
    },
    {
     "data": {
      "application/vnd.jupyter.widget-view+json": {
       "model_id": "f1e903e1ad314904907b02ddaa85383f",
       "version_major": 2,
       "version_minor": 0
      },
      "text/plain": [
       "  0%|          | 0/3 [00:00<?, ?it/s]"
      ]
     },
     "metadata": {},
     "output_type": "display_data"
    },
    {
     "name": "stderr",
     "output_type": "stream",
     "text": [
      "C:\\Users\\KOSHI8~1\\AppData\\Local\\Temp/ipykernel_4672/2477625818.py:54: TqdmDeprecationWarning: This function will be removed in tqdm==5.0.0\n",
      "Please use `tqdm.notebook.tqdm` instead of `tqdm.tqdm_notebook`\n",
      "  for i, batch in enumerate(tqdm_notebook(trainloader)):\n"
     ]
    },
    {
     "data": {
      "application/vnd.jupyter.widget-view+json": {
       "model_id": "632bf3aa17f84b32b8c6782621eaa0e6",
       "version_major": 2,
       "version_minor": 0
      },
      "text/plain": [
       "  0%|          | 0/12500 [00:00<?, ?it/s]"
      ]
     },
     "metadata": {},
     "output_type": "display_data"
    },
    {
     "name": "stdout",
     "output_type": "stream",
     "text": [
      "[1,  2000] loss: 2.432\n",
      "[1,  4000] loss: 2.486\n",
      "[1,  6000] loss: 2.487\n",
      "[1,  8000] loss: 2.483\n",
      "[1, 10000] loss: 2.486\n",
      "[1, 12000] loss: 2.493\n"
     ]
    },
    {
     "data": {
      "application/vnd.jupyter.widget-view+json": {
       "model_id": "405bc19a5f6e44f98a103ec2aa636a39",
       "version_major": 2,
       "version_minor": 0
      },
      "text/plain": [
       "  0%|          | 0/12500 [00:00<?, ?it/s]"
      ]
     },
     "metadata": {},
     "output_type": "display_data"
    },
    {
     "name": "stdout",
     "output_type": "stream",
     "text": [
      "[2,  2000] loss: 2.491\n",
      "[2,  4000] loss: 2.479\n",
      "[2,  6000] loss: 2.485\n",
      "[2,  8000] loss: 2.483\n",
      "[2, 10000] loss: 2.487\n",
      "[2, 12000] loss: 2.487\n"
     ]
    },
    {
     "data": {
      "application/vnd.jupyter.widget-view+json": {
       "model_id": "67b972351bc24f7b842a079ae41c7fb8",
       "version_major": 2,
       "version_minor": 0
      },
      "text/plain": [
       "  0%|          | 0/12500 [00:00<?, ?it/s]"
      ]
     },
     "metadata": {},
     "output_type": "display_data"
    },
    {
     "name": "stdout",
     "output_type": "stream",
     "text": [
      "[3,  2000] loss: 2.485\n",
      "[3,  4000] loss: 2.481\n",
      "[3,  6000] loss: 2.480\n",
      "[3,  8000] loss: 2.498\n",
      "[3, 10000] loss: 2.489\n",
      "[3, 12000] loss: 2.477\n",
      "fin\n",
      "Accuracy of plane :  0 %\n",
      "Accuracy of car :  0 %\n",
      "Accuracy of bird :  0 %\n",
      "Accuracy of cat :  0 %\n",
      "Accuracy of deer : 100 %\n",
      "Accuracy of dog :  0 %\n",
      "Accuracy of frog :  0 %\n",
      "Accuracy of horse :  0 %\n",
      "Accuracy of ship :  0 %\n",
      "Accuracy of truck :  0 %\n",
      "\n",
      "Total accuracy AVG: 10.0\n",
      "max=100.0; min=0.0\n",
      "19 [6, 16, 0, 5, 5, 0, 200, 100, 0, True, 'elu', 10.0, 100.0, 0.0, 2, 2, 2, 3, 0.005]\n"
     ]
    },
    {
     "data": {
      "application/vnd.jupyter.widget-view+json": {
       "model_id": "f738af116d41440eb7fa670f96b53d09",
       "version_major": 2,
       "version_minor": 0
      },
      "text/plain": [
       "  0%|          | 0/3 [00:00<?, ?it/s]"
      ]
     },
     "metadata": {},
     "output_type": "display_data"
    },
    {
     "data": {
      "application/vnd.jupyter.widget-view+json": {
       "model_id": "715ae0e669724f0490dc871f149719fb",
       "version_major": 2,
       "version_minor": 0
      },
      "text/plain": [
       "  0%|          | 0/12500 [00:00<?, ?it/s]"
      ]
     },
     "metadata": {},
     "output_type": "display_data"
    },
    {
     "name": "stdout",
     "output_type": "stream",
     "text": [
      "[1,  2000] loss: 1.784\n",
      "[1,  4000] loss: 1.575\n",
      "[1,  6000] loss: 1.473\n",
      "[1,  8000] loss: 1.413\n",
      "[1, 10000] loss: 1.368\n",
      "[1, 12000] loss: 1.311\n"
     ]
    },
    {
     "data": {
      "application/vnd.jupyter.widget-view+json": {
       "model_id": "212ebed790d1424b8d2d6b36fd231dd3",
       "version_major": 2,
       "version_minor": 0
      },
      "text/plain": [
       "  0%|          | 0/12500 [00:00<?, ?it/s]"
      ]
     },
     "metadata": {},
     "output_type": "display_data"
    },
    {
     "name": "stdout",
     "output_type": "stream",
     "text": [
      "[2,  2000] loss: 1.226\n",
      "[2,  4000] loss: 1.218\n",
      "[2,  6000] loss: 1.208\n",
      "[2,  8000] loss: 1.202\n",
      "[2, 10000] loss: 1.159\n",
      "[2, 12000] loss: 1.148\n"
     ]
    },
    {
     "data": {
      "application/vnd.jupyter.widget-view+json": {
       "model_id": "9266dc57e2254d5fb5dd3600e174d553",
       "version_major": 2,
       "version_minor": 0
      },
      "text/plain": [
       "  0%|          | 0/12500 [00:00<?, ?it/s]"
      ]
     },
     "metadata": {},
     "output_type": "display_data"
    },
    {
     "name": "stdout",
     "output_type": "stream",
     "text": [
      "[3,  2000] loss: 1.058\n",
      "[3,  4000] loss: 1.052\n",
      "[3,  6000] loss: 1.033\n",
      "[3,  8000] loss: 1.044\n",
      "[3, 10000] loss: 1.045\n",
      "[3, 12000] loss: 1.011\n",
      "fin\n",
      "Accuracy of plane : 54 %\n",
      "Accuracy of car : 69 %\n",
      "Accuracy of bird : 48 %\n",
      "Accuracy of cat : 53 %\n",
      "Accuracy of deer : 55 %\n",
      "Accuracy of dog : 46 %\n",
      "Accuracy of frog : 65 %\n",
      "Accuracy of horse : 68 %\n",
      "Accuracy of ship : 83 %\n",
      "Accuracy of truck : 69 %\n",
      "\n",
      "Total accuracy AVG: 61.42\n",
      "max=83.0; min=46.9\n",
      "19 [6, 16, 0, 5, 5, 0, 200, 100, 0, True, 'elu', 61.42, 83.0, 46.9, 2, 2, 2, 3, 0.0005]\n"
     ]
    },
    {
     "data": {
      "application/vnd.jupyter.widget-view+json": {
       "model_id": "2a03ed97a27545a9bfb8e2f481e13aa9",
       "version_major": 2,
       "version_minor": 0
      },
      "text/plain": [
       "  0%|          | 0/3 [00:00<?, ?it/s]"
      ]
     },
     "metadata": {},
     "output_type": "display_data"
    },
    {
     "data": {
      "application/vnd.jupyter.widget-view+json": {
       "model_id": "a28e0cde128e459b9792988b152a051e",
       "version_major": 2,
       "version_minor": 0
      },
      "text/plain": [
       "  0%|          | 0/12500 [00:00<?, ?it/s]"
      ]
     },
     "metadata": {},
     "output_type": "display_data"
    },
    {
     "name": "stdout",
     "output_type": "stream",
     "text": [
      "[1,  2000] loss: 2.049\n",
      "[1,  4000] loss: 1.880\n",
      "[1,  6000] loss: 1.777\n",
      "[1,  8000] loss: 1.695\n",
      "[1, 10000] loss: 1.647\n",
      "[1, 12000] loss: 1.609\n"
     ]
    },
    {
     "data": {
      "application/vnd.jupyter.widget-view+json": {
       "model_id": "002c2fa05bc14341922f6c0ef5bcaa19",
       "version_major": 2,
       "version_minor": 0
      },
      "text/plain": [
       "  0%|          | 0/12500 [00:00<?, ?it/s]"
      ]
     },
     "metadata": {},
     "output_type": "display_data"
    },
    {
     "name": "stdout",
     "output_type": "stream",
     "text": [
      "[2,  2000] loss: 1.559\n",
      "[2,  4000] loss: 1.547\n",
      "[2,  6000] loss: 1.494\n",
      "[2,  8000] loss: 1.489\n",
      "[2, 10000] loss: 1.475\n",
      "[2, 12000] loss: 1.455\n"
     ]
    },
    {
     "data": {
      "application/vnd.jupyter.widget-view+json": {
       "model_id": "28ee01bd876a464ba8dd2548742efcb9",
       "version_major": 2,
       "version_minor": 0
      },
      "text/plain": [
       "  0%|          | 0/12500 [00:00<?, ?it/s]"
      ]
     },
     "metadata": {},
     "output_type": "display_data"
    },
    {
     "name": "stdout",
     "output_type": "stream",
     "text": [
      "[3,  2000] loss: 1.435\n",
      "[3,  4000] loss: 1.421\n",
      "[3,  6000] loss: 1.399\n",
      "[3,  8000] loss: 1.387\n",
      "[3, 10000] loss: 1.381\n",
      "[3, 12000] loss: 1.378\n",
      "fin\n",
      "Accuracy of plane : 55 %\n",
      "Accuracy of car : 62 %\n",
      "Accuracy of bird : 37 %\n",
      "Accuracy of cat : 30 %\n",
      "Accuracy of deer : 36 %\n",
      "Accuracy of dog : 36 %\n",
      "Accuracy of frog : 71 %\n",
      "Accuracy of horse : 60 %\n",
      "Accuracy of ship : 59 %\n",
      "Accuracy of truck : 57 %\n",
      "\n",
      "Total accuracy AVG: 50.85\n",
      "max=71.6; min=30.3\n",
      "19 [6, 16, 0, 5, 5, 0, 200, 100, 0, True, 'elu', 50.85, 71.6, 30.3, 2, 2, 2, 3, 5e-05]\n"
     ]
    },
    {
     "data": {
      "application/vnd.jupyter.widget-view+json": {
       "model_id": "bb39a89849bb4dde8d2c43a86d16dc67",
       "version_major": 2,
       "version_minor": 0
      },
      "text/plain": [
       "  0%|          | 0/3 [00:00<?, ?it/s]"
      ]
     },
     "metadata": {},
     "output_type": "display_data"
    },
    {
     "data": {
      "application/vnd.jupyter.widget-view+json": {
       "model_id": "e0bc5172cc5c40dca96f2088ec1536f8",
       "version_major": 2,
       "version_minor": 0
      },
      "text/plain": [
       "  0%|          | 0/7 [00:00<?, ?it/s]"
      ]
     },
     "metadata": {},
     "output_type": "display_data"
    },
    {
     "data": {
      "application/vnd.jupyter.widget-view+json": {
       "model_id": "2578df50b40c4e209a0bdd2c047fd234",
       "version_major": 2,
       "version_minor": 0
      },
      "text/plain": [
       "  0%|          | 0/12500 [00:00<?, ?it/s]"
      ]
     },
     "metadata": {},
     "output_type": "display_data"
    },
    {
     "name": "stdout",
     "output_type": "stream",
     "text": [
      "[1,  2000] loss: 2.303\n",
      "[1,  4000] loss: 2.461\n",
      "[1,  6000] loss: 2.488\n",
      "[1,  8000] loss: 2.485\n",
      "[1, 10000] loss: 2.486\n",
      "[1, 12000] loss: 2.486\n"
     ]
    },
    {
     "data": {
      "application/vnd.jupyter.widget-view+json": {
       "model_id": "4eed0dfd1d984245b1476f972837a4ee",
       "version_major": 2,
       "version_minor": 0
      },
      "text/plain": [
       "  0%|          | 0/12500 [00:00<?, ?it/s]"
      ]
     },
     "metadata": {},
     "output_type": "display_data"
    },
    {
     "name": "stdout",
     "output_type": "stream",
     "text": [
      "[2,  2000] loss: 2.483\n",
      "[2,  4000] loss: 2.481\n",
      "[2,  6000] loss: 2.475\n",
      "[2,  8000] loss: 2.494\n",
      "[2, 10000] loss: 2.493\n",
      "[2, 12000] loss: 2.489\n"
     ]
    },
    {
     "data": {
      "application/vnd.jupyter.widget-view+json": {
       "model_id": "f468fbf2b3c84cada41b521fac358aab",
       "version_major": 2,
       "version_minor": 0
      },
      "text/plain": [
       "  0%|          | 0/12500 [00:00<?, ?it/s]"
      ]
     },
     "metadata": {},
     "output_type": "display_data"
    },
    {
     "name": "stdout",
     "output_type": "stream",
     "text": [
      "[3,  2000] loss: 2.488\n",
      "[3,  4000] loss: 2.478\n",
      "[3,  6000] loss: 2.487\n",
      "[3,  8000] loss: 2.480\n",
      "[3, 10000] loss: 2.480\n",
      "[3, 12000] loss: 2.504\n"
     ]
    },
    {
     "data": {
      "application/vnd.jupyter.widget-view+json": {
       "model_id": "c858c5b0f2d444a89257019d4f3f9647",
       "version_major": 2,
       "version_minor": 0
      },
      "text/plain": [
       "  0%|          | 0/12500 [00:00<?, ?it/s]"
      ]
     },
     "metadata": {},
     "output_type": "display_data"
    },
    {
     "name": "stdout",
     "output_type": "stream",
     "text": [
      "[4,  2000] loss: 2.488\n",
      "[4,  4000] loss: 2.494\n",
      "[4,  6000] loss: 2.495\n",
      "[4,  8000] loss: 2.486\n",
      "[4, 10000] loss: 2.493\n",
      "[4, 12000] loss: 2.480\n"
     ]
    },
    {
     "data": {
      "application/vnd.jupyter.widget-view+json": {
       "model_id": "36bda611f11e41b0a16be6e3844afa27",
       "version_major": 2,
       "version_minor": 0
      },
      "text/plain": [
       "  0%|          | 0/12500 [00:00<?, ?it/s]"
      ]
     },
     "metadata": {},
     "output_type": "display_data"
    },
    {
     "name": "stdout",
     "output_type": "stream",
     "text": [
      "[5,  2000] loss: 2.488\n",
      "[5,  4000] loss: 2.474\n",
      "[5,  6000] loss: 2.498\n",
      "[5,  8000] loss: 2.484\n",
      "[5, 10000] loss: 2.485\n",
      "[5, 12000] loss: 2.484\n"
     ]
    },
    {
     "data": {
      "application/vnd.jupyter.widget-view+json": {
       "model_id": "0ce46a99ec1c44f2a240d4de80c1c097",
       "version_major": 2,
       "version_minor": 0
      },
      "text/plain": [
       "  0%|          | 0/12500 [00:00<?, ?it/s]"
      ]
     },
     "metadata": {},
     "output_type": "display_data"
    },
    {
     "name": "stdout",
     "output_type": "stream",
     "text": [
      "[6,  2000] loss: 2.496\n",
      "[6,  4000] loss: 2.478\n",
      "[6,  6000] loss: 2.496\n",
      "[6,  8000] loss: 2.476\n",
      "[6, 10000] loss: 2.484\n",
      "[6, 12000] loss: 2.482\n"
     ]
    },
    {
     "data": {
      "application/vnd.jupyter.widget-view+json": {
       "model_id": "1c3cbe0827a24f8a8e489ec23cb38425",
       "version_major": 2,
       "version_minor": 0
      },
      "text/plain": [
       "  0%|          | 0/12500 [00:00<?, ?it/s]"
      ]
     },
     "metadata": {},
     "output_type": "display_data"
    },
    {
     "name": "stdout",
     "output_type": "stream",
     "text": [
      "[7,  2000] loss: 2.478\n",
      "[7,  4000] loss: 2.484\n",
      "[7,  6000] loss: 2.496\n",
      "[7,  8000] loss: 2.490\n",
      "[7, 10000] loss: 2.482\n",
      "[7, 12000] loss: 2.486\n",
      "fin\n",
      "Accuracy of plane :  0 %\n",
      "Accuracy of car : 100 %\n",
      "Accuracy of bird :  0 %\n",
      "Accuracy of cat :  0 %\n",
      "Accuracy of deer :  0 %\n",
      "Accuracy of dog :  0 %\n",
      "Accuracy of frog :  0 %\n",
      "Accuracy of horse :  0 %\n",
      "Accuracy of ship :  0 %\n",
      "Accuracy of truck :  0 %\n",
      "\n",
      "Total accuracy AVG: 10.0\n",
      "max=100.0; min=0.0\n",
      "19 [6, 16, 0, 5, 5, 0, 200, 100, 0, True, 'elu', 10.0, 100.0, 0.0, 2, 2, 2, 7, 0.005]\n"
     ]
    },
    {
     "data": {
      "application/vnd.jupyter.widget-view+json": {
       "model_id": "05a24c1a518b426dbf4dde5d79af0c62",
       "version_major": 2,
       "version_minor": 0
      },
      "text/plain": [
       "  0%|          | 0/7 [00:00<?, ?it/s]"
      ]
     },
     "metadata": {},
     "output_type": "display_data"
    },
    {
     "data": {
      "application/vnd.jupyter.widget-view+json": {
       "model_id": "491f2896dece49d594c20b7579fca19e",
       "version_major": 2,
       "version_minor": 0
      },
      "text/plain": [
       "  0%|          | 0/12500 [00:00<?, ?it/s]"
      ]
     },
     "metadata": {},
     "output_type": "display_data"
    },
    {
     "name": "stdout",
     "output_type": "stream",
     "text": [
      "[1,  2000] loss: 1.779\n",
      "[1,  4000] loss: 1.556\n",
      "[1,  6000] loss: 1.455\n",
      "[1,  8000] loss: 1.390\n",
      "[1, 10000] loss: 1.310\n",
      "[1, 12000] loss: 1.279\n"
     ]
    },
    {
     "data": {
      "application/vnd.jupyter.widget-view+json": {
       "model_id": "2a57d2bcd3b54765be07fe775933587b",
       "version_major": 2,
       "version_minor": 0
      },
      "text/plain": [
       "  0%|          | 0/12500 [00:00<?, ?it/s]"
      ]
     },
     "metadata": {},
     "output_type": "display_data"
    },
    {
     "name": "stdout",
     "output_type": "stream",
     "text": [
      "[2,  2000] loss: 1.212\n",
      "[2,  4000] loss: 1.175\n",
      "[2,  6000] loss: 1.159\n",
      "[2,  8000] loss: 1.142\n",
      "[2, 10000] loss: 1.130\n",
      "[2, 12000] loss: 1.086\n"
     ]
    },
    {
     "data": {
      "application/vnd.jupyter.widget-view+json": {
       "model_id": "b7a5f7e84aa14141922a06432d7f08f7",
       "version_major": 2,
       "version_minor": 0
      },
      "text/plain": [
       "  0%|          | 0/12500 [00:00<?, ?it/s]"
      ]
     },
     "metadata": {},
     "output_type": "display_data"
    },
    {
     "name": "stdout",
     "output_type": "stream",
     "text": [
      "[3,  2000] loss: 1.027\n",
      "[3,  4000] loss: 1.011\n",
      "[3,  6000] loss: 1.001\n",
      "[3,  8000] loss: 0.994\n",
      "[3, 10000] loss: 0.996\n",
      "[3, 12000] loss: 0.982\n"
     ]
    },
    {
     "data": {
      "application/vnd.jupyter.widget-view+json": {
       "model_id": "046bb68c16354b9b9ef11407c71d31d3",
       "version_major": 2,
       "version_minor": 0
      },
      "text/plain": [
       "  0%|          | 0/12500 [00:00<?, ?it/s]"
      ]
     },
     "metadata": {},
     "output_type": "display_data"
    },
    {
     "name": "stdout",
     "output_type": "stream",
     "text": [
      "[4,  2000] loss: 0.872\n",
      "[4,  4000] loss: 0.887\n",
      "[4,  6000] loss: 0.896\n",
      "[4,  8000] loss: 0.892\n",
      "[4, 10000] loss: 0.899\n",
      "[4, 12000] loss: 0.898\n"
     ]
    },
    {
     "data": {
      "application/vnd.jupyter.widget-view+json": {
       "model_id": "21dc97075f9f46e4904e0b66c38f0e64",
       "version_major": 2,
       "version_minor": 0
      },
      "text/plain": [
       "  0%|          | 0/12500 [00:00<?, ?it/s]"
      ]
     },
     "metadata": {},
     "output_type": "display_data"
    },
    {
     "name": "stdout",
     "output_type": "stream",
     "text": [
      "[5,  2000] loss: 0.772\n",
      "[5,  4000] loss: 0.800\n",
      "[5,  6000] loss: 0.808\n",
      "[5,  8000] loss: 0.814\n",
      "[5, 10000] loss: 0.813\n",
      "[5, 12000] loss: 0.821\n"
     ]
    },
    {
     "data": {
      "application/vnd.jupyter.widget-view+json": {
       "model_id": "d0488f269a3048b98f89b75c60746215",
       "version_major": 2,
       "version_minor": 0
      },
      "text/plain": [
       "  0%|          | 0/12500 [00:00<?, ?it/s]"
      ]
     },
     "metadata": {},
     "output_type": "display_data"
    },
    {
     "name": "stdout",
     "output_type": "stream",
     "text": [
      "[6,  2000] loss: 0.692\n",
      "[6,  4000] loss: 0.695\n",
      "[6,  6000] loss: 0.740\n",
      "[6,  8000] loss: 0.744\n",
      "[6, 10000] loss: 0.747\n",
      "[6, 12000] loss: 0.738\n"
     ]
    },
    {
     "data": {
      "application/vnd.jupyter.widget-view+json": {
       "model_id": "43dc11fb58894c1c982c7e70ed45a293",
       "version_major": 2,
       "version_minor": 0
      },
      "text/plain": [
       "  0%|          | 0/12500 [00:00<?, ?it/s]"
      ]
     },
     "metadata": {},
     "output_type": "display_data"
    },
    {
     "name": "stdout",
     "output_type": "stream",
     "text": [
      "[7,  2000] loss: 0.609\n",
      "[7,  4000] loss: 0.642\n",
      "[7,  6000] loss: 0.644\n",
      "[7,  8000] loss: 0.686\n",
      "[7, 10000] loss: 0.687\n",
      "[7, 12000] loss: 0.673\n",
      "fin\n",
      "Accuracy of plane : 73 %\n",
      "Accuracy of car : 78 %\n",
      "Accuracy of bird : 58 %\n",
      "Accuracy of cat : 46 %\n",
      "Accuracy of deer : 65 %\n",
      "Accuracy of dog : 59 %\n",
      "Accuracy of frog : 66 %\n",
      "Accuracy of horse : 65 %\n",
      "Accuracy of ship : 77 %\n",
      "Accuracy of truck : 73 %\n",
      "\n",
      "Total accuracy AVG: 66.46\n",
      "max=78.1; min=46.7\n",
      "19 [6, 16, 0, 5, 5, 0, 200, 100, 0, True, 'elu', 66.46, 78.1, 46.7, 2, 2, 2, 7, 0.0005]\n"
     ]
    },
    {
     "data": {
      "application/vnd.jupyter.widget-view+json": {
       "model_id": "587f84723a8b4048a08c5266aa0fdcb4",
       "version_major": 2,
       "version_minor": 0
      },
      "text/plain": [
       "  0%|          | 0/7 [00:00<?, ?it/s]"
      ]
     },
     "metadata": {},
     "output_type": "display_data"
    },
    {
     "data": {
      "application/vnd.jupyter.widget-view+json": {
       "model_id": "863854aa02544d7f9809bd9e52a3b8cb",
       "version_major": 2,
       "version_minor": 0
      },
      "text/plain": [
       "  0%|          | 0/12500 [00:00<?, ?it/s]"
      ]
     },
     "metadata": {},
     "output_type": "display_data"
    },
    {
     "name": "stdout",
     "output_type": "stream",
     "text": [
      "[1,  2000] loss: 2.018\n",
      "[1,  4000] loss: 1.791\n",
      "[1,  6000] loss: 1.678\n",
      "[1,  8000] loss: 1.660\n",
      "[1, 10000] loss: 1.591\n",
      "[1, 12000] loss: 1.581\n"
     ]
    },
    {
     "data": {
      "application/vnd.jupyter.widget-view+json": {
       "model_id": "0496ca4bd7b548af8fa2242d281551f4",
       "version_major": 2,
       "version_minor": 0
      },
      "text/plain": [
       "  0%|          | 0/12500 [00:00<?, ?it/s]"
      ]
     },
     "metadata": {},
     "output_type": "display_data"
    },
    {
     "name": "stdout",
     "output_type": "stream",
     "text": [
      "[2,  2000] loss: 1.528\n",
      "[2,  4000] loss: 1.514\n",
      "[2,  6000] loss: 1.454\n",
      "[2,  8000] loss: 1.481\n",
      "[2, 10000] loss: 1.469\n",
      "[2, 12000] loss: 1.443\n"
     ]
    },
    {
     "data": {
      "application/vnd.jupyter.widget-view+json": {
       "model_id": "78f12bc19b6a4fec9483d3b16cb55d30",
       "version_major": 2,
       "version_minor": 0
      },
      "text/plain": [
       "  0%|          | 0/12500 [00:00<?, ?it/s]"
      ]
     },
     "metadata": {},
     "output_type": "display_data"
    },
    {
     "name": "stdout",
     "output_type": "stream",
     "text": [
      "[3,  2000] loss: 1.409\n",
      "[3,  4000] loss: 1.409\n",
      "[3,  6000] loss: 1.401\n",
      "[3,  8000] loss: 1.376\n",
      "[3, 10000] loss: 1.363\n",
      "[3, 12000] loss: 1.386\n"
     ]
    },
    {
     "data": {
      "application/vnd.jupyter.widget-view+json": {
       "model_id": "805e5b49c5344416a2ceb3bc653a0dfe",
       "version_major": 2,
       "version_minor": 0
      },
      "text/plain": [
       "  0%|          | 0/12500 [00:00<?, ?it/s]"
      ]
     },
     "metadata": {},
     "output_type": "display_data"
    },
    {
     "name": "stdout",
     "output_type": "stream",
     "text": [
      "[4,  2000] loss: 1.330\n",
      "[4,  4000] loss: 1.334\n",
      "[4,  6000] loss: 1.325\n",
      "[4,  8000] loss: 1.333\n",
      "[4, 10000] loss: 1.314\n",
      "[4, 12000] loss: 1.309\n"
     ]
    },
    {
     "data": {
      "application/vnd.jupyter.widget-view+json": {
       "model_id": "7702fef92df0463e8f1a622b113b869d",
       "version_major": 2,
       "version_minor": 0
      },
      "text/plain": [
       "  0%|          | 0/12500 [00:00<?, ?it/s]"
      ]
     },
     "metadata": {},
     "output_type": "display_data"
    },
    {
     "name": "stdout",
     "output_type": "stream",
     "text": [
      "[5,  2000] loss: 1.264\n",
      "[5,  4000] loss: 1.282\n",
      "[5,  6000] loss: 1.279\n",
      "[5,  8000] loss: 1.279\n",
      "[5, 10000] loss: 1.257\n",
      "[5, 12000] loss: 1.264\n"
     ]
    },
    {
     "data": {
      "application/vnd.jupyter.widget-view+json": {
       "model_id": "5f64d1e5d57a41a8ba4b9d66172ce68d",
       "version_major": 2,
       "version_minor": 0
      },
      "text/plain": [
       "  0%|          | 0/12500 [00:00<?, ?it/s]"
      ]
     },
     "metadata": {},
     "output_type": "display_data"
    },
    {
     "name": "stdout",
     "output_type": "stream",
     "text": [
      "[6,  2000] loss: 1.216\n",
      "[6,  4000] loss: 1.235\n",
      "[6,  6000] loss: 1.239\n",
      "[6,  8000] loss: 1.229\n",
      "[6, 10000] loss: 1.233\n",
      "[6, 12000] loss: 1.209\n"
     ]
    },
    {
     "data": {
      "application/vnd.jupyter.widget-view+json": {
       "model_id": "0bf14d6037424d9ca9603225eb05caf4",
       "version_major": 2,
       "version_minor": 0
      },
      "text/plain": [
       "  0%|          | 0/12500 [00:00<?, ?it/s]"
      ]
     },
     "metadata": {},
     "output_type": "display_data"
    },
    {
     "name": "stdout",
     "output_type": "stream",
     "text": [
      "[7,  2000] loss: 1.210\n",
      "[7,  4000] loss: 1.199\n",
      "[7,  6000] loss: 1.182\n",
      "[7,  8000] loss: 1.175\n",
      "[7, 10000] loss: 1.182\n",
      "[7, 12000] loss: 1.178\n",
      "fin\n",
      "Accuracy of plane : 61 %\n",
      "Accuracy of car : 73 %\n",
      "Accuracy of bird : 32 %\n",
      "Accuracy of cat : 36 %\n",
      "Accuracy of deer : 33 %\n",
      "Accuracy of dog : 50 %\n",
      "Accuracy of frog : 80 %\n",
      "Accuracy of horse : 66 %\n",
      "Accuracy of ship : 69 %\n",
      "Accuracy of truck : 60 %\n",
      "\n",
      "Total accuracy AVG: 56.36\n",
      "max=80.4; min=32.2\n",
      "19 [6, 16, 0, 5, 5, 0, 200, 100, 0, True, 'elu', 56.36, 80.4, 32.2, 2, 2, 2, 7, 5e-05]\n"
     ]
    },
    {
     "data": {
      "application/vnd.jupyter.widget-view+json": {
       "model_id": "06dedcc15e7a476782d4f4a12d99d636",
       "version_major": 2,
       "version_minor": 0
      },
      "text/plain": [
       "  0%|          | 0/3 [00:00<?, ?it/s]"
      ]
     },
     "metadata": {},
     "output_type": "display_data"
    },
    {
     "data": {
      "application/vnd.jupyter.widget-view+json": {
       "model_id": "264d6a26e110467ca4f96ec63e871e45",
       "version_major": 2,
       "version_minor": 0
      },
      "text/plain": [
       "  0%|          | 0/13 [00:00<?, ?it/s]"
      ]
     },
     "metadata": {},
     "output_type": "display_data"
    },
    {
     "data": {
      "application/vnd.jupyter.widget-view+json": {
       "model_id": "4084d19f98b84f2998cf2f404f338a9b",
       "version_major": 2,
       "version_minor": 0
      },
      "text/plain": [
       "  0%|          | 0/12500 [00:00<?, ?it/s]"
      ]
     },
     "metadata": {},
     "output_type": "display_data"
    },
    {
     "name": "stdout",
     "output_type": "stream",
     "text": [
      "[1,  2000] loss: 2.439\n",
      "[1,  4000] loss: 2.479\n",
      "[1,  6000] loss: 2.493\n",
      "[1,  8000] loss: 2.485\n",
      "[1, 10000] loss: 2.488\n",
      "[1, 12000] loss: 2.490\n"
     ]
    },
    {
     "data": {
      "application/vnd.jupyter.widget-view+json": {
       "model_id": "ec9330295aa44d05acc87256ffda7600",
       "version_major": 2,
       "version_minor": 0
      },
      "text/plain": [
       "  0%|          | 0/12500 [00:00<?, ?it/s]"
      ]
     },
     "metadata": {},
     "output_type": "display_data"
    },
    {
     "name": "stdout",
     "output_type": "stream",
     "text": [
      "[2,  2000] loss: 2.497\n",
      "[2,  4000] loss: 2.483\n",
      "[2,  6000] loss: 2.485\n",
      "[2,  8000] loss: 2.499\n",
      "[2, 10000] loss: 2.480\n",
      "[2, 12000] loss: 2.527\n"
     ]
    },
    {
     "data": {
      "application/vnd.jupyter.widget-view+json": {
       "model_id": "14a0a56ae54044b880513364d27b3b23",
       "version_major": 2,
       "version_minor": 0
      },
      "text/plain": [
       "  0%|          | 0/12500 [00:00<?, ?it/s]"
      ]
     },
     "metadata": {},
     "output_type": "display_data"
    },
    {
     "name": "stdout",
     "output_type": "stream",
     "text": [
      "[3,  2000] loss: 2.487\n",
      "[3,  4000] loss: 2.488\n",
      "[3,  6000] loss: 2.479\n",
      "[3,  8000] loss: 2.473\n",
      "[3, 10000] loss: 2.486\n",
      "[3, 12000] loss: 2.490\n"
     ]
    },
    {
     "data": {
      "application/vnd.jupyter.widget-view+json": {
       "model_id": "0ad8cbee09514dfb9d9b6d989a4d94c2",
       "version_major": 2,
       "version_minor": 0
      },
      "text/plain": [
       "  0%|          | 0/12500 [00:00<?, ?it/s]"
      ]
     },
     "metadata": {},
     "output_type": "display_data"
    },
    {
     "name": "stdout",
     "output_type": "stream",
     "text": [
      "[4,  2000] loss: 2.489\n",
      "[4,  4000] loss: 2.480\n",
      "[4,  6000] loss: 2.498\n",
      "[4,  8000] loss: 2.481\n",
      "[4, 10000] loss: 2.491\n",
      "[4, 12000] loss: 2.489\n"
     ]
    },
    {
     "data": {
      "application/vnd.jupyter.widget-view+json": {
       "model_id": "20d7b7f494e448608dde16603fc7cc0e",
       "version_major": 2,
       "version_minor": 0
      },
      "text/plain": [
       "  0%|          | 0/12500 [00:00<?, ?it/s]"
      ]
     },
     "metadata": {},
     "output_type": "display_data"
    },
    {
     "name": "stdout",
     "output_type": "stream",
     "text": [
      "[5,  2000] loss: 2.487\n",
      "[5,  4000] loss: 2.490\n",
      "[5,  6000] loss: 2.492\n",
      "[5,  8000] loss: 2.490\n",
      "[5, 10000] loss: 2.487\n",
      "[5, 12000] loss: 2.495\n"
     ]
    },
    {
     "data": {
      "application/vnd.jupyter.widget-view+json": {
       "model_id": "6424185eb31f4ed0b612dc98078a8cb3",
       "version_major": 2,
       "version_minor": 0
      },
      "text/plain": [
       "  0%|          | 0/12500 [00:00<?, ?it/s]"
      ]
     },
     "metadata": {},
     "output_type": "display_data"
    },
    {
     "name": "stdout",
     "output_type": "stream",
     "text": [
      "[6,  2000] loss: 2.483\n",
      "[6,  4000] loss: 2.483\n",
      "[6,  6000] loss: 2.494\n",
      "[6,  8000] loss: 2.491\n",
      "[6, 10000] loss: 2.487\n",
      "[6, 12000] loss: 2.496\n"
     ]
    },
    {
     "data": {
      "application/vnd.jupyter.widget-view+json": {
       "model_id": "e22219dd1d1d4c3a88d23c4dada51ce2",
       "version_major": 2,
       "version_minor": 0
      },
      "text/plain": [
       "  0%|          | 0/12500 [00:00<?, ?it/s]"
      ]
     },
     "metadata": {},
     "output_type": "display_data"
    },
    {
     "name": "stdout",
     "output_type": "stream",
     "text": [
      "[7,  2000] loss: 2.492\n",
      "[7,  4000] loss: 2.503\n",
      "[7,  6000] loss: 2.481\n",
      "[7,  8000] loss: 2.483\n",
      "[7, 10000] loss: 2.495\n",
      "[7, 12000] loss: 2.487\n"
     ]
    },
    {
     "data": {
      "application/vnd.jupyter.widget-view+json": {
       "model_id": "e82e4cea746141b699826819b934edbf",
       "version_major": 2,
       "version_minor": 0
      },
      "text/plain": [
       "  0%|          | 0/12500 [00:00<?, ?it/s]"
      ]
     },
     "metadata": {},
     "output_type": "display_data"
    },
    {
     "name": "stdout",
     "output_type": "stream",
     "text": [
      "[8,  2000] loss: 2.487\n",
      "[8,  4000] loss: 2.490\n",
      "[8,  6000] loss: 2.491\n",
      "[8,  8000] loss: 2.484\n",
      "[8, 10000] loss: 2.485\n",
      "[8, 12000] loss: 2.478\n"
     ]
    },
    {
     "data": {
      "application/vnd.jupyter.widget-view+json": {
       "model_id": "3fc02fba04c748368799533b0b71edae",
       "version_major": 2,
       "version_minor": 0
      },
      "text/plain": [
       "  0%|          | 0/12500 [00:00<?, ?it/s]"
      ]
     },
     "metadata": {},
     "output_type": "display_data"
    },
    {
     "name": "stdout",
     "output_type": "stream",
     "text": [
      "[9,  2000] loss: 2.482\n",
      "[9,  4000] loss: 2.477\n",
      "[9,  6000] loss: 2.480\n",
      "[9,  8000] loss: 2.499\n",
      "[9, 10000] loss: 2.485\n",
      "[9, 12000] loss: 2.484\n"
     ]
    },
    {
     "data": {
      "application/vnd.jupyter.widget-view+json": {
       "model_id": "ca3bc07c499a476b8a63802b7c121c11",
       "version_major": 2,
       "version_minor": 0
      },
      "text/plain": [
       "  0%|          | 0/12500 [00:00<?, ?it/s]"
      ]
     },
     "metadata": {},
     "output_type": "display_data"
    },
    {
     "name": "stdout",
     "output_type": "stream",
     "text": [
      "[10,  2000] loss: 2.492\n",
      "[10,  4000] loss: 2.493\n",
      "[10,  6000] loss: 2.492\n",
      "[10,  8000] loss: 2.490\n",
      "[10, 10000] loss: 2.481\n",
      "[10, 12000] loss: 2.494\n"
     ]
    },
    {
     "data": {
      "application/vnd.jupyter.widget-view+json": {
       "model_id": "85980639025242afbe0d4e08afeb3cf1",
       "version_major": 2,
       "version_minor": 0
      },
      "text/plain": [
       "  0%|          | 0/12500 [00:00<?, ?it/s]"
      ]
     },
     "metadata": {},
     "output_type": "display_data"
    },
    {
     "name": "stdout",
     "output_type": "stream",
     "text": [
      "[11,  2000] loss: 2.493\n",
      "[11,  4000] loss: 2.484\n",
      "[11,  6000] loss: 2.488\n",
      "[11,  8000] loss: 2.482\n",
      "[11, 10000] loss: 2.487\n",
      "[11, 12000] loss: 2.478\n"
     ]
    },
    {
     "data": {
      "application/vnd.jupyter.widget-view+json": {
       "model_id": "f2ae28dc3d594f5b807b93a1205b5c3c",
       "version_major": 2,
       "version_minor": 0
      },
      "text/plain": [
       "  0%|          | 0/12500 [00:00<?, ?it/s]"
      ]
     },
     "metadata": {},
     "output_type": "display_data"
    },
    {
     "name": "stdout",
     "output_type": "stream",
     "text": [
      "[12,  2000] loss: 2.492\n",
      "[12,  4000] loss: 2.498\n",
      "[12,  6000] loss: 2.500\n",
      "[12,  8000] loss: 2.487\n",
      "[12, 10000] loss: 2.486\n",
      "[12, 12000] loss: 2.490\n"
     ]
    },
    {
     "data": {
      "application/vnd.jupyter.widget-view+json": {
       "model_id": "c3d44581d12e4a41ba661b12d8c48731",
       "version_major": 2,
       "version_minor": 0
      },
      "text/plain": [
       "  0%|          | 0/12500 [00:00<?, ?it/s]"
      ]
     },
     "metadata": {},
     "output_type": "display_data"
    },
    {
     "name": "stdout",
     "output_type": "stream",
     "text": [
      "[13,  2000] loss: 2.489\n",
      "[13,  4000] loss: 2.480\n",
      "[13,  6000] loss: 2.477\n",
      "[13,  8000] loss: 2.491\n",
      "[13, 10000] loss: 2.484\n",
      "[13, 12000] loss: 2.497\n",
      "fin\n",
      "Accuracy of plane :  0 %\n",
      "Accuracy of car :  0 %\n",
      "Accuracy of bird : 100 %\n",
      "Accuracy of cat :  0 %\n",
      "Accuracy of deer :  0 %\n",
      "Accuracy of dog :  0 %\n",
      "Accuracy of frog :  0 %\n",
      "Accuracy of horse :  0 %\n",
      "Accuracy of ship :  0 %\n",
      "Accuracy of truck :  0 %\n",
      "\n",
      "Total accuracy AVG: 10.0\n",
      "max=100.0; min=0.0\n",
      "19 [6, 16, 0, 5, 5, 0, 200, 100, 0, True, 'elu', 10.0, 100.0, 0.0, 2, 2, 2, 13, 0.005]\n"
     ]
    },
    {
     "data": {
      "application/vnd.jupyter.widget-view+json": {
       "model_id": "5c1403548ad242adbd118f22b5197d8d",
       "version_major": 2,
       "version_minor": 0
      },
      "text/plain": [
       "  0%|          | 0/13 [00:00<?, ?it/s]"
      ]
     },
     "metadata": {},
     "output_type": "display_data"
    },
    {
     "data": {
      "application/vnd.jupyter.widget-view+json": {
       "model_id": "b098837db19f4b6ab686f307de26b546",
       "version_major": 2,
       "version_minor": 0
      },
      "text/plain": [
       "  0%|          | 0/12500 [00:00<?, ?it/s]"
      ]
     },
     "metadata": {},
     "output_type": "display_data"
    },
    {
     "name": "stdout",
     "output_type": "stream",
     "text": [
      "[1,  2000] loss: 1.765\n",
      "[1,  4000] loss: 1.516\n",
      "[1,  6000] loss: 1.425\n",
      "[1,  8000] loss: 1.346\n",
      "[1, 10000] loss: 1.325\n",
      "[1, 12000] loss: 1.269\n"
     ]
    },
    {
     "data": {
      "application/vnd.jupyter.widget-view+json": {
       "model_id": "c9979283795e474dba46b873771c7395",
       "version_major": 2,
       "version_minor": 0
      },
      "text/plain": [
       "  0%|          | 0/12500 [00:00<?, ?it/s]"
      ]
     },
     "metadata": {},
     "output_type": "display_data"
    },
    {
     "name": "stdout",
     "output_type": "stream",
     "text": [
      "[2,  2000] loss: 1.195\n",
      "[2,  4000] loss: 1.165\n",
      "[2,  6000] loss: 1.176\n",
      "[2,  8000] loss: 1.133\n",
      "[2, 10000] loss: 1.131\n",
      "[2, 12000] loss: 1.130\n"
     ]
    },
    {
     "data": {
      "application/vnd.jupyter.widget-view+json": {
       "model_id": "26514697562c4ea38e9104fbe308f168",
       "version_major": 2,
       "version_minor": 0
      },
      "text/plain": [
       "  0%|          | 0/12500 [00:00<?, ?it/s]"
      ]
     },
     "metadata": {},
     "output_type": "display_data"
    },
    {
     "name": "stdout",
     "output_type": "stream",
     "text": [
      "[3,  2000] loss: 1.026\n",
      "[3,  4000] loss: 1.020\n",
      "[3,  6000] loss: 1.015\n",
      "[3,  8000] loss: 1.029\n",
      "[3, 10000] loss: 1.025\n",
      "[3, 12000] loss: 1.014\n"
     ]
    },
    {
     "data": {
      "application/vnd.jupyter.widget-view+json": {
       "model_id": "ed75475eb96c40a285daca4152ddda21",
       "version_major": 2,
       "version_minor": 0
      },
      "text/plain": [
       "  0%|          | 0/12500 [00:00<?, ?it/s]"
      ]
     },
     "metadata": {},
     "output_type": "display_data"
    },
    {
     "name": "stdout",
     "output_type": "stream",
     "text": [
      "[4,  2000] loss: 0.911\n",
      "[4,  4000] loss: 0.909\n",
      "[4,  6000] loss: 0.906\n",
      "[4,  8000] loss: 0.924\n",
      "[4, 10000] loss: 0.924\n",
      "[4, 12000] loss: 0.923\n"
     ]
    },
    {
     "data": {
      "application/vnd.jupyter.widget-view+json": {
       "model_id": "ba6f300ae4a74680b2647b00a3ac32f0",
       "version_major": 2,
       "version_minor": 0
      },
      "text/plain": [
       "  0%|          | 0/12500 [00:00<?, ?it/s]"
      ]
     },
     "metadata": {},
     "output_type": "display_data"
    },
    {
     "name": "stdout",
     "output_type": "stream",
     "text": [
      "[5,  2000] loss: 0.799\n",
      "[5,  4000] loss: 0.812\n",
      "[5,  6000] loss: 0.832\n",
      "[5,  8000] loss: 0.852\n",
      "[5, 10000] loss: 0.823\n",
      "[5, 12000] loss: 0.836\n"
     ]
    },
    {
     "data": {
      "application/vnd.jupyter.widget-view+json": {
       "model_id": "424cf296b62a4db69e0827118cde9f95",
       "version_major": 2,
       "version_minor": 0
      },
      "text/plain": [
       "  0%|          | 0/12500 [00:00<?, ?it/s]"
      ]
     },
     "metadata": {},
     "output_type": "display_data"
    },
    {
     "name": "stdout",
     "output_type": "stream",
     "text": [
      "[6,  2000] loss: 0.726\n",
      "[6,  4000] loss: 0.720\n",
      "[6,  6000] loss: 0.752\n",
      "[6,  8000] loss: 0.752\n",
      "[6, 10000] loss: 0.761\n",
      "[6, 12000] loss: 0.767\n"
     ]
    },
    {
     "data": {
      "application/vnd.jupyter.widget-view+json": {
       "model_id": "c3a224a22d0544408692865328ae25fb",
       "version_major": 2,
       "version_minor": 0
      },
      "text/plain": [
       "  0%|          | 0/12500 [00:00<?, ?it/s]"
      ]
     },
     "metadata": {},
     "output_type": "display_data"
    },
    {
     "name": "stdout",
     "output_type": "stream",
     "text": [
      "[7,  2000] loss: 0.622\n",
      "[7,  4000] loss: 0.647\n",
      "[7,  6000] loss: 0.668\n",
      "[7,  8000] loss: 0.692\n",
      "[7, 10000] loss: 0.721\n",
      "[7, 12000] loss: 0.695\n"
     ]
    },
    {
     "data": {
      "application/vnd.jupyter.widget-view+json": {
       "model_id": "72dcbb29cb1f4169a5e1763ea53d6d93",
       "version_major": 2,
       "version_minor": 0
      },
      "text/plain": [
       "  0%|          | 0/12500 [00:00<?, ?it/s]"
      ]
     },
     "metadata": {},
     "output_type": "display_data"
    },
    {
     "name": "stdout",
     "output_type": "stream",
     "text": [
      "[8,  2000] loss: 0.553\n",
      "[8,  4000] loss: 0.591\n",
      "[8,  6000] loss: 0.599\n",
      "[8,  8000] loss: 0.619\n",
      "[8, 10000] loss: 0.637\n",
      "[8, 12000] loss: 0.643\n"
     ]
    },
    {
     "data": {
      "application/vnd.jupyter.widget-view+json": {
       "model_id": "b6429d29e28548e8ae4632e8e1d7f3ab",
       "version_major": 2,
       "version_minor": 0
      },
      "text/plain": [
       "  0%|          | 0/12500 [00:00<?, ?it/s]"
      ]
     },
     "metadata": {},
     "output_type": "display_data"
    },
    {
     "name": "stdout",
     "output_type": "stream",
     "text": [
      "[9,  2000] loss: 0.479\n",
      "[9,  4000] loss: 0.539\n",
      "[9,  6000] loss: 0.551\n",
      "[9,  8000] loss: 0.588\n",
      "[9, 10000] loss: 0.572\n",
      "[9, 12000] loss: 0.587\n"
     ]
    },
    {
     "data": {
      "application/vnd.jupyter.widget-view+json": {
       "model_id": "460a17848e04490bbd950a06f93915c0",
       "version_major": 2,
       "version_minor": 0
      },
      "text/plain": [
       "  0%|          | 0/12500 [00:00<?, ?it/s]"
      ]
     },
     "metadata": {},
     "output_type": "display_data"
    },
    {
     "name": "stdout",
     "output_type": "stream",
     "text": [
      "[10,  2000] loss: 0.444\n",
      "[10,  4000] loss: 0.464\n",
      "[10,  6000] loss: 0.500\n",
      "[10,  8000] loss: 0.524\n",
      "[10, 10000] loss: 0.541\n",
      "[10, 12000] loss: 0.535\n"
     ]
    },
    {
     "data": {
      "application/vnd.jupyter.widget-view+json": {
       "model_id": "59173d5d3bfa42569e955311c7c50bfd",
       "version_major": 2,
       "version_minor": 0
      },
      "text/plain": [
       "  0%|          | 0/12500 [00:00<?, ?it/s]"
      ]
     },
     "metadata": {},
     "output_type": "display_data"
    },
    {
     "name": "stdout",
     "output_type": "stream",
     "text": [
      "[11,  2000] loss: 0.397\n",
      "[11,  4000] loss: 0.440\n",
      "[11,  6000] loss: 0.459\n",
      "[11,  8000] loss: 0.483\n",
      "[11, 10000] loss: 0.479\n",
      "[11, 12000] loss: 0.482\n"
     ]
    },
    {
     "data": {
      "application/vnd.jupyter.widget-view+json": {
       "model_id": "cf4eb1d838fc4982a9a8dee0fb0b080f",
       "version_major": 2,
       "version_minor": 0
      },
      "text/plain": [
       "  0%|          | 0/12500 [00:00<?, ?it/s]"
      ]
     },
     "metadata": {},
     "output_type": "display_data"
    },
    {
     "name": "stdout",
     "output_type": "stream",
     "text": [
      "[12,  2000] loss: 0.364\n",
      "[12,  4000] loss: 0.389\n",
      "[12,  6000] loss: 0.416\n",
      "[12,  8000] loss: 0.435\n",
      "[12, 10000] loss: 0.433\n",
      "[12, 12000] loss: 0.455\n"
     ]
    },
    {
     "data": {
      "application/vnd.jupyter.widget-view+json": {
       "model_id": "14e6c187c344437ead875fab32c33608",
       "version_major": 2,
       "version_minor": 0
      },
      "text/plain": [
       "  0%|          | 0/12500 [00:00<?, ?it/s]"
      ]
     },
     "metadata": {},
     "output_type": "display_data"
    },
    {
     "name": "stdout",
     "output_type": "stream",
     "text": [
      "[13,  2000] loss: 0.306\n",
      "[13,  4000] loss: 0.355\n",
      "[13,  6000] loss: 0.380\n",
      "[13,  8000] loss: 0.396\n",
      "[13, 10000] loss: 0.417\n",
      "[13, 12000] loss: 0.449\n",
      "fin\n",
      "Accuracy of plane : 71 %\n",
      "Accuracy of car : 76 %\n",
      "Accuracy of bird : 53 %\n",
      "Accuracy of cat : 43 %\n",
      "Accuracy of deer : 54 %\n",
      "Accuracy of dog : 54 %\n",
      "Accuracy of frog : 78 %\n",
      "Accuracy of horse : 74 %\n",
      "Accuracy of ship : 77 %\n",
      "Accuracy of truck : 71 %\n",
      "\n",
      "Total accuracy AVG: 65.48\n",
      "max=78.9; min=43.2\n",
      "19 [6, 16, 0, 5, 5, 0, 200, 100, 0, True, 'elu', 65.48, 78.9, 43.2, 2, 2, 2, 13, 0.0005]\n"
     ]
    },
    {
     "data": {
      "application/vnd.jupyter.widget-view+json": {
       "model_id": "4a9af7bb4e7a4b2a8c4888fd3d520186",
       "version_major": 2,
       "version_minor": 0
      },
      "text/plain": [
       "  0%|          | 0/13 [00:00<?, ?it/s]"
      ]
     },
     "metadata": {},
     "output_type": "display_data"
    },
    {
     "data": {
      "application/vnd.jupyter.widget-view+json": {
       "model_id": "0e48f24933ef488c93d306a686443a7d",
       "version_major": 2,
       "version_minor": 0
      },
      "text/plain": [
       "  0%|          | 0/12500 [00:00<?, ?it/s]"
      ]
     },
     "metadata": {},
     "output_type": "display_data"
    },
    {
     "name": "stdout",
     "output_type": "stream",
     "text": [
      "[1,  2000] loss: 2.026\n",
      "[1,  4000] loss: 1.857\n",
      "[1,  6000] loss: 1.735\n",
      "[1,  8000] loss: 1.655\n",
      "[1, 10000] loss: 1.626\n",
      "[1, 12000] loss: 1.536\n"
     ]
    },
    {
     "data": {
      "application/vnd.jupyter.widget-view+json": {
       "model_id": "069dbd7089fc4d3486a59eaded55cace",
       "version_major": 2,
       "version_minor": 0
      },
      "text/plain": [
       "  0%|          | 0/12500 [00:00<?, ?it/s]"
      ]
     },
     "metadata": {},
     "output_type": "display_data"
    },
    {
     "name": "stdout",
     "output_type": "stream",
     "text": [
      "[2,  2000] loss: 1.505\n",
      "[2,  4000] loss: 1.514\n",
      "[2,  6000] loss: 1.494\n",
      "[2,  8000] loss: 1.455\n",
      "[2, 10000] loss: 1.446\n",
      "[2, 12000] loss: 1.452\n"
     ]
    },
    {
     "data": {
      "application/vnd.jupyter.widget-view+json": {
       "model_id": "3229d589fea140d4aa8012a1b219df78",
       "version_major": 2,
       "version_minor": 0
      },
      "text/plain": [
       "  0%|          | 0/12500 [00:00<?, ?it/s]"
      ]
     },
     "metadata": {},
     "output_type": "display_data"
    },
    {
     "name": "stdout",
     "output_type": "stream",
     "text": [
      "[3,  2000] loss: 1.426\n",
      "[3,  4000] loss: 1.410\n",
      "[3,  6000] loss: 1.404\n",
      "[3,  8000] loss: 1.397\n",
      "[3, 10000] loss: 1.388\n",
      "[3, 12000] loss: 1.363\n"
     ]
    },
    {
     "data": {
      "application/vnd.jupyter.widget-view+json": {
       "model_id": "0f123a3bdc5e4345950d10e50add3b65",
       "version_major": 2,
       "version_minor": 0
      },
      "text/plain": [
       "  0%|          | 0/12500 [00:00<?, ?it/s]"
      ]
     },
     "metadata": {},
     "output_type": "display_data"
    },
    {
     "name": "stdout",
     "output_type": "stream",
     "text": [
      "[4,  2000] loss: 1.356\n",
      "[4,  4000] loss: 1.354\n",
      "[4,  6000] loss: 1.328\n",
      "[4,  8000] loss: 1.331\n",
      "[4, 10000] loss: 1.332\n",
      "[4, 12000] loss: 1.301\n"
     ]
    },
    {
     "data": {
      "application/vnd.jupyter.widget-view+json": {
       "model_id": "1af05af149ac43c18274ff79f4212dda",
       "version_major": 2,
       "version_minor": 0
      },
      "text/plain": [
       "  0%|          | 0/12500 [00:00<?, ?it/s]"
      ]
     },
     "metadata": {},
     "output_type": "display_data"
    },
    {
     "name": "stdout",
     "output_type": "stream",
     "text": [
      "[5,  2000] loss: 1.299\n",
      "[5,  4000] loss: 1.289\n",
      "[5,  6000] loss: 1.283\n",
      "[5,  8000] loss: 1.289\n",
      "[5, 10000] loss: 1.260\n",
      "[5, 12000] loss: 1.260\n"
     ]
    },
    {
     "data": {
      "application/vnd.jupyter.widget-view+json": {
       "model_id": "3c9d577a1856403daf6320c3b67e928e",
       "version_major": 2,
       "version_minor": 0
      },
      "text/plain": [
       "  0%|          | 0/12500 [00:00<?, ?it/s]"
      ]
     },
     "metadata": {},
     "output_type": "display_data"
    },
    {
     "name": "stdout",
     "output_type": "stream",
     "text": [
      "[6,  2000] loss: 1.253\n",
      "[6,  4000] loss: 1.245\n",
      "[6,  6000] loss: 1.235\n",
      "[6,  8000] loss: 1.242\n",
      "[6, 10000] loss: 1.212\n",
      "[6, 12000] loss: 1.226\n"
     ]
    },
    {
     "data": {
      "application/vnd.jupyter.widget-view+json": {
       "model_id": "b8e4d3c3f0c74bb993db8c3255958b43",
       "version_major": 2,
       "version_minor": 0
      },
      "text/plain": [
       "  0%|          | 0/12500 [00:00<?, ?it/s]"
      ]
     },
     "metadata": {},
     "output_type": "display_data"
    },
    {
     "name": "stdout",
     "output_type": "stream",
     "text": [
      "[7,  2000] loss: 1.200\n",
      "[7,  4000] loss: 1.192\n",
      "[7,  6000] loss: 1.194\n",
      "[7,  8000] loss: 1.196\n",
      "[7, 10000] loss: 1.177\n",
      "[7, 12000] loss: 1.224\n"
     ]
    },
    {
     "data": {
      "application/vnd.jupyter.widget-view+json": {
       "model_id": "166d99a1e9eb4f0b9baacebfbef4164f",
       "version_major": 2,
       "version_minor": 0
      },
      "text/plain": [
       "  0%|          | 0/12500 [00:00<?, ?it/s]"
      ]
     },
     "metadata": {},
     "output_type": "display_data"
    },
    {
     "name": "stdout",
     "output_type": "stream",
     "text": [
      "[8,  2000] loss: 1.171\n",
      "[8,  4000] loss: 1.171\n",
      "[8,  6000] loss: 1.161\n",
      "[8,  8000] loss: 1.169\n",
      "[8, 10000] loss: 1.150\n",
      "[8, 12000] loss: 1.155\n"
     ]
    },
    {
     "data": {
      "application/vnd.jupyter.widget-view+json": {
       "model_id": "43902adb853e46ce938abde159544c68",
       "version_major": 2,
       "version_minor": 0
      },
      "text/plain": [
       "  0%|          | 0/12500 [00:00<?, ?it/s]"
      ]
     },
     "metadata": {},
     "output_type": "display_data"
    },
    {
     "name": "stdout",
     "output_type": "stream",
     "text": [
      "[9,  2000] loss: 1.151\n",
      "[9,  4000] loss: 1.132\n",
      "[9,  6000] loss: 1.124\n",
      "[9,  8000] loss: 1.139\n",
      "[9, 10000] loss: 1.118\n",
      "[9, 12000] loss: 1.126\n"
     ]
    },
    {
     "data": {
      "application/vnd.jupyter.widget-view+json": {
       "model_id": "491cf1659a744cc983a1ddaa0403606b",
       "version_major": 2,
       "version_minor": 0
      },
      "text/plain": [
       "  0%|          | 0/12500 [00:00<?, ?it/s]"
      ]
     },
     "metadata": {},
     "output_type": "display_data"
    },
    {
     "name": "stdout",
     "output_type": "stream",
     "text": [
      "[10,  2000] loss: 1.114\n",
      "[10,  4000] loss: 1.083\n",
      "[10,  6000] loss: 1.107\n",
      "[10,  8000] loss: 1.121\n",
      "[10, 10000] loss: 1.089\n",
      "[10, 12000] loss: 1.102\n"
     ]
    },
    {
     "data": {
      "application/vnd.jupyter.widget-view+json": {
       "model_id": "33c1dd6aec3441a1963f5d4b7a71a92a",
       "version_major": 2,
       "version_minor": 0
      },
      "text/plain": [
       "  0%|          | 0/12500 [00:00<?, ?it/s]"
      ]
     },
     "metadata": {},
     "output_type": "display_data"
    },
    {
     "name": "stdout",
     "output_type": "stream",
     "text": [
      "[11,  2000] loss: 1.063\n",
      "[11,  4000] loss: 1.072\n",
      "[11,  6000] loss: 1.070\n",
      "[11,  8000] loss: 1.078\n",
      "[11, 10000] loss: 1.086\n",
      "[11, 12000] loss: 1.081\n"
     ]
    },
    {
     "data": {
      "application/vnd.jupyter.widget-view+json": {
       "model_id": "ba2239ea97784f4d9e23cefb7e09c600",
       "version_major": 2,
       "version_minor": 0
      },
      "text/plain": [
       "  0%|          | 0/12500 [00:00<?, ?it/s]"
      ]
     },
     "metadata": {},
     "output_type": "display_data"
    },
    {
     "name": "stdout",
     "output_type": "stream",
     "text": [
      "[12,  2000] loss: 1.062\n",
      "[12,  4000] loss: 1.060\n",
      "[12,  6000] loss: 1.051\n",
      "[12,  8000] loss: 1.056\n",
      "[12, 10000] loss: 1.038\n",
      "[12, 12000] loss: 1.054\n"
     ]
    },
    {
     "data": {
      "application/vnd.jupyter.widget-view+json": {
       "model_id": "98d28f9b444e4640a9a760364c3c747d",
       "version_major": 2,
       "version_minor": 0
      },
      "text/plain": [
       "  0%|          | 0/12500 [00:00<?, ?it/s]"
      ]
     },
     "metadata": {},
     "output_type": "display_data"
    },
    {
     "name": "stdout",
     "output_type": "stream",
     "text": [
      "[13,  2000] loss: 1.001\n",
      "[13,  4000] loss: 1.025\n",
      "[13,  6000] loss: 1.050\n",
      "[13,  8000] loss: 1.016\n",
      "[13, 10000] loss: 1.041\n",
      "[13, 12000] loss: 1.034\n",
      "fin\n",
      "Accuracy of plane : 63 %\n",
      "Accuracy of car : 75 %\n",
      "Accuracy of bird : 42 %\n",
      "Accuracy of cat : 30 %\n",
      "Accuracy of deer : 55 %\n",
      "Accuracy of dog : 48 %\n",
      "Accuracy of frog : 73 %\n",
      "Accuracy of horse : 70 %\n",
      "Accuracy of ship : 77 %\n",
      "Accuracy of truck : 64 %\n",
      "\n",
      "Total accuracy AVG: 60.17\n",
      "max=77.4; min=30.7\n",
      "19 [6, 16, 0, 5, 5, 0, 200, 100, 0, True, 'elu', 60.17, 77.4, 30.7, 2, 2, 2, 13, 5e-05]\n"
     ]
    }
   ],
   "source": [
    "for function in tqdm_notebook(functions):\n",
    "    for num_epochs in tqdm_notebook(num_epochssss):\n",
    "        for learning_rate in tqdm_notebook(learning_rates):\n",
    "            net = SimpleConvNet_my(6, 16, 5, 5, 200, 100, True, function)\n",
    "            net.to(device)\n",
    "            net.train(num_epochs=num_epochs, learning_rate=learning_rate)\n",
    "            net.validatee()\n",
    "            # print_res(global_res)"
   ]
  },
  {
   "cell_type": "code",
   "execution_count": 79,
   "metadata": {},
   "outputs": [],
   "source": [
    "# net = SimpleConvNet_my(6, 16, 5, 5, 200, 100, True, F.elu)\n",
    "# net.to(device)\n",
    "# net.train(num_epochs=13)\n",
    "# net.validatee()\n",
    "# print_res(global_res)"
   ]
  },
  {
   "cell_type": "code",
   "execution_count": 89,
   "metadata": {},
   "outputs": [],
   "source": [
    "# global_res.to_csv('elu-ne-3-7-13--lr-3-4-5.csv', sep='\\t', encoding='utf-8')"
   ]
  },
  {
   "cell_type": "markdown",
   "metadata": {},
   "source": [
    "Увеличение кол-ва эпох с 3 до 13 увеличело предсказание на 10% (Лучшее 64%)\n",
    "Пробую уменьшить learning_rate"
   ]
  },
  {
   "cell_type": "code",
   "execution_count": 80,
   "metadata": {},
   "outputs": [],
   "source": [
    "# net = SimpleConvNet_my(6, 16, 5, 5, 200, 100, True, F.leaky_relu)\n",
    "# net.to(device)\n",
    "# net.train(num_epochs=2) #, learning_rate=5e-5)\n",
    "# net.validatee()\n",
    "# print_res(global_res)"
   ]
  },
  {
   "cell_type": "code",
   "execution_count": 85,
   "metadata": {},
   "outputs": [
    {
     "data": {
      "text/html": [
       "<div>\n",
       "<style scoped>\n",
       "    .dataframe tbody tr th:only-of-type {\n",
       "        vertical-align: middle;\n",
       "    }\n",
       "\n",
       "    .dataframe tbody tr th {\n",
       "        vertical-align: top;\n",
       "    }\n",
       "\n",
       "    .dataframe thead th {\n",
       "        text-align: right;\n",
       "    }\n",
       "</style>\n",
       "<table border=\"1\" class=\"dataframe\">\n",
       "  <thead>\n",
       "    <tr style=\"text-align: right;\">\n",
       "      <th></th>\n",
       "      <th>channels1</th>\n",
       "      <th>channels2</th>\n",
       "      <th>channels3</th>\n",
       "      <th>kernel_size1</th>\n",
       "      <th>kernel_size2</th>\n",
       "      <th>kernel_size3</th>\n",
       "      <th>fc1</th>\n",
       "      <th>fc2</th>\n",
       "      <th>fc3</th>\n",
       "      <th>is_max_pool</th>\n",
       "      <th>activation</th>\n",
       "      <th>avg</th>\n",
       "      <th>max</th>\n",
       "      <th>min</th>\n",
       "      <th>ch_c</th>\n",
       "      <th>conv_c</th>\n",
       "      <th>fc_c</th>\n",
       "      <th>num_epochs</th>\n",
       "      <th>lr</th>\n",
       "    </tr>\n",
       "  </thead>\n",
       "  <tbody>\n",
       "    <tr>\n",
       "      <th>4</th>\n",
       "      <td>6</td>\n",
       "      <td>16</td>\n",
       "      <td>0</td>\n",
       "      <td>5</td>\n",
       "      <td>5</td>\n",
       "      <td>0</td>\n",
       "      <td>200</td>\n",
       "      <td>100</td>\n",
       "      <td>0</td>\n",
       "      <td>True</td>\n",
       "      <td>elu</td>\n",
       "      <td>66.46</td>\n",
       "      <td>78.1</td>\n",
       "      <td>46.7</td>\n",
       "      <td>2</td>\n",
       "      <td>2</td>\n",
       "      <td>2</td>\n",
       "      <td>7</td>\n",
       "      <td>0.00050</td>\n",
       "    </tr>\n",
       "    <tr>\n",
       "      <th>7</th>\n",
       "      <td>6</td>\n",
       "      <td>16</td>\n",
       "      <td>0</td>\n",
       "      <td>5</td>\n",
       "      <td>5</td>\n",
       "      <td>0</td>\n",
       "      <td>200</td>\n",
       "      <td>100</td>\n",
       "      <td>0</td>\n",
       "      <td>True</td>\n",
       "      <td>elu</td>\n",
       "      <td>65.48</td>\n",
       "      <td>78.9</td>\n",
       "      <td>43.2</td>\n",
       "      <td>2</td>\n",
       "      <td>2</td>\n",
       "      <td>2</td>\n",
       "      <td>13</td>\n",
       "      <td>0.00050</td>\n",
       "    </tr>\n",
       "    <tr>\n",
       "      <th>1</th>\n",
       "      <td>6</td>\n",
       "      <td>16</td>\n",
       "      <td>0</td>\n",
       "      <td>5</td>\n",
       "      <td>5</td>\n",
       "      <td>0</td>\n",
       "      <td>200</td>\n",
       "      <td>100</td>\n",
       "      <td>0</td>\n",
       "      <td>True</td>\n",
       "      <td>elu</td>\n",
       "      <td>61.42</td>\n",
       "      <td>83.0</td>\n",
       "      <td>46.9</td>\n",
       "      <td>2</td>\n",
       "      <td>2</td>\n",
       "      <td>2</td>\n",
       "      <td>3</td>\n",
       "      <td>0.00050</td>\n",
       "    </tr>\n",
       "    <tr>\n",
       "      <th>8</th>\n",
       "      <td>6</td>\n",
       "      <td>16</td>\n",
       "      <td>0</td>\n",
       "      <td>5</td>\n",
       "      <td>5</td>\n",
       "      <td>0</td>\n",
       "      <td>200</td>\n",
       "      <td>100</td>\n",
       "      <td>0</td>\n",
       "      <td>True</td>\n",
       "      <td>elu</td>\n",
       "      <td>60.17</td>\n",
       "      <td>77.4</td>\n",
       "      <td>30.7</td>\n",
       "      <td>2</td>\n",
       "      <td>2</td>\n",
       "      <td>2</td>\n",
       "      <td>13</td>\n",
       "      <td>0.00005</td>\n",
       "    </tr>\n",
       "    <tr>\n",
       "      <th>5</th>\n",
       "      <td>6</td>\n",
       "      <td>16</td>\n",
       "      <td>0</td>\n",
       "      <td>5</td>\n",
       "      <td>5</td>\n",
       "      <td>0</td>\n",
       "      <td>200</td>\n",
       "      <td>100</td>\n",
       "      <td>0</td>\n",
       "      <td>True</td>\n",
       "      <td>elu</td>\n",
       "      <td>56.36</td>\n",
       "      <td>80.4</td>\n",
       "      <td>32.2</td>\n",
       "      <td>2</td>\n",
       "      <td>2</td>\n",
       "      <td>2</td>\n",
       "      <td>7</td>\n",
       "      <td>0.00005</td>\n",
       "    </tr>\n",
       "    <tr>\n",
       "      <th>2</th>\n",
       "      <td>6</td>\n",
       "      <td>16</td>\n",
       "      <td>0</td>\n",
       "      <td>5</td>\n",
       "      <td>5</td>\n",
       "      <td>0</td>\n",
       "      <td>200</td>\n",
       "      <td>100</td>\n",
       "      <td>0</td>\n",
       "      <td>True</td>\n",
       "      <td>elu</td>\n",
       "      <td>50.85</td>\n",
       "      <td>71.6</td>\n",
       "      <td>30.3</td>\n",
       "      <td>2</td>\n",
       "      <td>2</td>\n",
       "      <td>2</td>\n",
       "      <td>3</td>\n",
       "      <td>0.00005</td>\n",
       "    </tr>\n",
       "    <tr>\n",
       "      <th>0</th>\n",
       "      <td>6</td>\n",
       "      <td>16</td>\n",
       "      <td>0</td>\n",
       "      <td>5</td>\n",
       "      <td>5</td>\n",
       "      <td>0</td>\n",
       "      <td>200</td>\n",
       "      <td>100</td>\n",
       "      <td>0</td>\n",
       "      <td>True</td>\n",
       "      <td>elu</td>\n",
       "      <td>10.00</td>\n",
       "      <td>100.0</td>\n",
       "      <td>0.0</td>\n",
       "      <td>2</td>\n",
       "      <td>2</td>\n",
       "      <td>2</td>\n",
       "      <td>3</td>\n",
       "      <td>0.00500</td>\n",
       "    </tr>\n",
       "    <tr>\n",
       "      <th>3</th>\n",
       "      <td>6</td>\n",
       "      <td>16</td>\n",
       "      <td>0</td>\n",
       "      <td>5</td>\n",
       "      <td>5</td>\n",
       "      <td>0</td>\n",
       "      <td>200</td>\n",
       "      <td>100</td>\n",
       "      <td>0</td>\n",
       "      <td>True</td>\n",
       "      <td>elu</td>\n",
       "      <td>10.00</td>\n",
       "      <td>100.0</td>\n",
       "      <td>0.0</td>\n",
       "      <td>2</td>\n",
       "      <td>2</td>\n",
       "      <td>2</td>\n",
       "      <td>7</td>\n",
       "      <td>0.00500</td>\n",
       "    </tr>\n",
       "    <tr>\n",
       "      <th>6</th>\n",
       "      <td>6</td>\n",
       "      <td>16</td>\n",
       "      <td>0</td>\n",
       "      <td>5</td>\n",
       "      <td>5</td>\n",
       "      <td>0</td>\n",
       "      <td>200</td>\n",
       "      <td>100</td>\n",
       "      <td>0</td>\n",
       "      <td>True</td>\n",
       "      <td>elu</td>\n",
       "      <td>10.00</td>\n",
       "      <td>100.0</td>\n",
       "      <td>0.0</td>\n",
       "      <td>2</td>\n",
       "      <td>2</td>\n",
       "      <td>2</td>\n",
       "      <td>13</td>\n",
       "      <td>0.00500</td>\n",
       "    </tr>\n",
       "  </tbody>\n",
       "</table>\n",
       "</div>"
      ],
      "text/plain": [
       "  channels1 channels2 channels3 kernel_size1 kernel_size2 kernel_size3  fc1  \\\n",
       "4         6        16         0            5            5            0  200   \n",
       "7         6        16         0            5            5            0  200   \n",
       "1         6        16         0            5            5            0  200   \n",
       "8         6        16         0            5            5            0  200   \n",
       "5         6        16         0            5            5            0  200   \n",
       "2         6        16         0            5            5            0  200   \n",
       "0         6        16         0            5            5            0  200   \n",
       "3         6        16         0            5            5            0  200   \n",
       "6         6        16         0            5            5            0  200   \n",
       "\n",
       "   fc2 fc3 is_max_pool activation    avg    max   min ch_c conv_c fc_c  \\\n",
       "4  100   0        True        elu  66.46   78.1  46.7    2      2    2   \n",
       "7  100   0        True        elu  65.48   78.9  43.2    2      2    2   \n",
       "1  100   0        True        elu  61.42   83.0  46.9    2      2    2   \n",
       "8  100   0        True        elu  60.17   77.4  30.7    2      2    2   \n",
       "5  100   0        True        elu  56.36   80.4  32.2    2      2    2   \n",
       "2  100   0        True        elu  50.85   71.6  30.3    2      2    2   \n",
       "0  100   0        True        elu  10.00  100.0   0.0    2      2    2   \n",
       "3  100   0        True        elu  10.00  100.0   0.0    2      2    2   \n",
       "6  100   0        True        elu  10.00  100.0   0.0    2      2    2   \n",
       "\n",
       "  num_epochs       lr  \n",
       "4          7  0.00050  \n",
       "7         13  0.00050  \n",
       "1          3  0.00050  \n",
       "8         13  0.00005  \n",
       "5          7  0.00005  \n",
       "2          3  0.00005  \n",
       "0          3  0.00500  \n",
       "3          7  0.00500  \n",
       "6         13  0.00500  "
      ]
     },
     "execution_count": 85,
     "metadata": {},
     "output_type": "execute_result"
    }
   ],
   "source": [
    "print_res(global_res)"
   ]
  },
  {
   "cell_type": "code",
   "execution_count": null,
   "metadata": {},
   "outputs": [],
   "source": [
    "лучший результат с 2 conv и 2 fc получился 66.46%"
   ]
  },
  {
   "cell_type": "markdown",
   "metadata": {},
   "source": [
    "Пробую другую архитектуру с дропаутом, 3 FC и 4 conv"
   ]
  },
  {
   "cell_type": "code",
   "execution_count": 129,
   "metadata": {},
   "outputs": [],
   "source": [
    "from torch.nn import Dropout\n",
    "class SimpleConvNet_my2(nn.Module):\n",
    "    def __init__(self, channels1, channels2, channels3, channels4, kernel_size1, kernel_size2, kernel_size3, kernel_size4, fc1, fc2, dropout, is_max_pool = True, activation=F.relu):\n",
    "        # вызов конструктора предка\n",
    "        super(SimpleConvNet_my2, self).__init__()\n",
    "        # необходмо заранее знать, сколько каналов у картинки (сейчас = 1),\n",
    "        # которую будем подавать в сеть, больше ничего\n",
    "        # про входящие картинки знать не нужно\n",
    "        self.channels1 = channels1\n",
    "        self.channels2 = channels2\n",
    "        self.kernel_size1 = kernel_size1\n",
    "        self.kernel_size2 = kernel_size2\n",
    "        self.fc1_c = fc1\n",
    "        self.fc2_c = fc2\n",
    "        self.is_max_pool = is_max_pool\n",
    "        self.activation = activation\n",
    "        self.num_epochs = 0\n",
    "\n",
    "        if is_max_pool:\n",
    "          self.pool = nn.MaxPool2d(kernel_size=2, stride=2)\n",
    "        else:\n",
    "          self.pool = nn.AvgPool2d(kernel_size=2, stride=2)\n",
    "        \n",
    "        self.conv1 = nn.Conv2d(in_channels=3, out_channels=channels1, kernel_size=kernel_size1)\n",
    "        new_size = 32 - kernel_size1 + 1\n",
    "        #new_size = new_size // 2\n",
    "\n",
    "        self.conv2 = nn.Conv2d(in_channels=channels1, out_channels=channels2, kernel_size=kernel_size2)\n",
    "        new_size = new_size - kernel_size2 + 1\n",
    "        new_size = new_size // 2 #тут нет пулинга\n",
    "\n",
    "        self.conv3 = nn.Conv2d(in_channels=channels2, out_channels=channels3, kernel_size=kernel_size3)\n",
    "        new_size = new_size - kernel_size3 + 1\n",
    "        #new_size = new_size // 2\n",
    "\n",
    "        self.conv4 = nn.Conv2d(in_channels=channels3, out_channels=channels4, kernel_size=kernel_size4)\n",
    "        new_size = new_size - kernel_size4 + 1\n",
    "        new_size = new_size // 2\n",
    "\n",
    "        #print(new_size)\n",
    "\n",
    "        self.fc1_size = new_size * new_size * channels4\n",
    "        \n",
    "        self.fc1 = nn.Linear(self.fc1_size, fc1)  # !!!\n",
    "        self.fc2 = nn.Linear(fc1, fc2)\n",
    "        self.fc3 = nn.Linear(fc2, 10)\n",
    "        \n",
    "        # self.fc1 = nn.Linear(self.fc1_size, fc1)\n",
    "        # self.fc3 = nn.Linear(fc1, 10)\n",
    "\n",
    "        self.dropout1 = Dropout(dropout)\n",
    "        self.dropout2 = Dropout(dropout)\n",
    "\n",
    "\n",
    "    def forward(self, x):\n",
    "        x = self.pool(self.activation(self.conv2(self.activation(self.conv1(x)))))\n",
    "        x = self.pool(self.conv4(self.activation(self.conv3(x))))\n",
    "        x = x.view(-1, self.fc1_size)\n",
    "        x = self.dropout1(self.activation(self.fc1(x)))\n",
    "        x = self.dropout2(self.activation(self.fc2(x)))\n",
    "        x = self.fc3(x)\n",
    "\n",
    "        return x\n",
    "\n",
    "    def train(self, learning_rate = 1e-4, num_epochs = 3):\n",
    "        self.num_epochs = num_epochs\n",
    "        self.learning_rate = learning_rate\n",
    "        loss_fn = torch.nn.CrossEntropyLoss()\n",
    "        optimizer = torch.optim.Adam(self.parameters(), lr=learning_rate)\n",
    "        # итерируемся\n",
    "        for epoch in tqdm_notebook(range(num_epochs)):\n",
    "            running_loss = 0.0\n",
    "            for i, batch in enumerate(tqdm_notebook(trainloader)):\n",
    "                # так получаем текущий батч\n",
    "                X_batch, y_batch = batch\n",
    "                global device\n",
    "                X_batch, y_batch = X_batch.to(device), y_batch.to(device)\n",
    "                \n",
    "                # обнуляем веса\n",
    "                optimizer.zero_grad()\n",
    "\n",
    "                # forward + backward + optimize\n",
    "                y_pred = self(X_batch)\n",
    "                loss = loss_fn(y_pred, y_batch)\n",
    "                loss.backward()\n",
    "                optimizer.step()\n",
    "\n",
    "                # выведем текущий loss\n",
    "                running_loss += loss.item()\n",
    "                # выведем качество каждые 2000 батчей\n",
    "                if i % 2000 == 1999:\n",
    "                    print('[%d, %5d] loss: %.3f' %\n",
    "                          (epoch + 1, i + 1, running_loss / 2000))\n",
    "                    running_loss = 0.0\n",
    "          \n",
    "        print('fin')\n",
    "\n",
    "    def validatee(self):\n",
    "        class_correct = list(0. for i in range(10))\n",
    "        class_total = list(0. for i in range(10))\n",
    "\n",
    "        with torch.no_grad():\n",
    "            for data in testloader:\n",
    "                images, labels = data\n",
    "                global device\n",
    "                images, labels = images.to(device), labels.to(device)\n",
    "                y_pred = self(images)\n",
    "                _, predicted = torch.max(y_pred, 1)\n",
    "                c = (predicted == labels).squeeze()\n",
    "                for i in range(4):\n",
    "                    label = labels[i]\n",
    "                    class_correct[label] += c[i].item()\n",
    "                    class_total[label] += 1\n",
    "        res = []\n",
    "        for i in range(10):\n",
    "            tmp = 100 * class_correct[i] / class_total[i]\n",
    "            res.append(tmp)\n",
    "            print('Accuracy of %2s : %2d %%' % (\n",
    "                classes[i], tmp))\n",
    "          \n",
    "        class_correct_t = sum(class_correct)\n",
    "        class_total_t = sum(class_total)\n",
    "\n",
    "        rrr = (100. * class_correct_t / class_total_t)\n",
    "        print('\\nTotal accuracy AVG:', rrr)\n",
    "        print(f'max={max(res)}; min={min(res)}')  \n",
    "        rezzz = [\n",
    "              self.channels1,\n",
    "              self.channels2,\n",
    "              0, \n",
    "              self.kernel_size1,\n",
    "              self.kernel_size2,\n",
    "              0,\n",
    "              self.fc1_c,\n",
    "              self.fc2_c,\n",
    "              0, \n",
    "              self.is_max_pool,\n",
    "              get_f_name(self.activation),\n",
    "              rrr,\n",
    "              round(max(res), 2),\n",
    "              round(min(res), 2),\n",
    "              4,\n",
    "              4,\n",
    "              2,\n",
    "              self.num_epochs,\n",
    "              self.learning_rate\n",
    "        ]    \n",
    "        print(len(rezzz), rezzz)\n",
    "        global_res.loc[len(global_res)] = rezzz"
   ]
  },
  {
   "cell_type": "code",
   "execution_count": 113,
   "metadata": {},
   "outputs": [
    {
     "name": "stdout",
     "output_type": "stream",
     "text": [
      "cpu\n"
     ]
    }
   ],
   "source": [
    "# device = torch.device(\"cuda:0\" if torch.cuda.is_available() else \"cpu\")\n",
    "device = torch.device(\"cpu\")\n",
    "print(str(device))"
   ]
  },
  {
   "cell_type": "code",
   "execution_count": 131,
   "metadata": {},
   "outputs": [
    {
     "name": "stderr",
     "output_type": "stream",
     "text": [
      "C:\\Users\\KOSHI8~1\\AppData\\Local\\Temp/ipykernel_4672/4023883281.py:71: TqdmDeprecationWarning: This function will be removed in tqdm==5.0.0\n",
      "Please use `tqdm.notebook.tqdm` instead of `tqdm.tqdm_notebook`\n",
      "  for epoch in tqdm_notebook(range(num_epochs)):\n"
     ]
    },
    {
     "data": {
      "application/vnd.jupyter.widget-view+json": {
       "model_id": "a403c44ef63449e1983b4f7fd4b03ce5",
       "version_major": 2,
       "version_minor": 0
      },
      "text/plain": [
       "  0%|          | 0/10 [00:00<?, ?it/s]"
      ]
     },
     "metadata": {},
     "output_type": "display_data"
    },
    {
     "name": "stderr",
     "output_type": "stream",
     "text": [
      "C:\\Users\\KOSHI8~1\\AppData\\Local\\Temp/ipykernel_4672/4023883281.py:73: TqdmDeprecationWarning: This function will be removed in tqdm==5.0.0\n",
      "Please use `tqdm.notebook.tqdm` instead of `tqdm.tqdm_notebook`\n",
      "  for i, batch in enumerate(tqdm_notebook(trainloader)):\n"
     ]
    },
    {
     "data": {
      "application/vnd.jupyter.widget-view+json": {
       "model_id": "8efa25098c8d428babae1363bb09df45",
       "version_major": 2,
       "version_minor": 0
      },
      "text/plain": [
       "  0%|          | 0/12500 [00:00<?, ?it/s]"
      ]
     },
     "metadata": {},
     "output_type": "display_data"
    },
    {
     "name": "stdout",
     "output_type": "stream",
     "text": [
      "[1,  2000] loss: 2.306\n",
      "[1,  4000] loss: 2.307\n",
      "[1,  6000] loss: 2.305\n",
      "[1,  8000] loss: 2.304\n",
      "[1, 10000] loss: 2.305\n",
      "[1, 12000] loss: 2.305\n"
     ]
    },
    {
     "data": {
      "application/vnd.jupyter.widget-view+json": {
       "model_id": "5eeaa7e6f9db4099b724b1d4ff0dd546",
       "version_major": 2,
       "version_minor": 0
      },
      "text/plain": [
       "  0%|          | 0/12500 [00:00<?, ?it/s]"
      ]
     },
     "metadata": {},
     "output_type": "display_data"
    },
    {
     "name": "stdout",
     "output_type": "stream",
     "text": [
      "[2,  2000] loss: 2.305\n",
      "[2,  4000] loss: 2.304\n",
      "[2,  6000] loss: 2.305\n",
      "[2,  8000] loss: 2.304\n",
      "[2, 10000] loss: 2.304\n",
      "[2, 12000] loss: 2.304\n"
     ]
    },
    {
     "data": {
      "application/vnd.jupyter.widget-view+json": {
       "model_id": "d598b243fb004dee8e25f80726881510",
       "version_major": 2,
       "version_minor": 0
      },
      "text/plain": [
       "  0%|          | 0/12500 [00:00<?, ?it/s]"
      ]
     },
     "metadata": {},
     "output_type": "display_data"
    },
    {
     "name": "stdout",
     "output_type": "stream",
     "text": [
      "[3,  2000] loss: 2.305\n",
      "[3,  4000] loss: 2.305\n",
      "[3,  6000] loss: 2.304\n",
      "[3,  8000] loss: 2.305\n",
      "[3, 10000] loss: 2.305\n",
      "[3, 12000] loss: 2.304\n"
     ]
    },
    {
     "data": {
      "application/vnd.jupyter.widget-view+json": {
       "model_id": "44a72a487d0945e1ba957717dbbd7a3a",
       "version_major": 2,
       "version_minor": 0
      },
      "text/plain": [
       "  0%|          | 0/12500 [00:00<?, ?it/s]"
      ]
     },
     "metadata": {},
     "output_type": "display_data"
    },
    {
     "name": "stdout",
     "output_type": "stream",
     "text": [
      "[4,  2000] loss: 2.305\n",
      "[4,  4000] loss: 2.304\n",
      "[4,  6000] loss: 2.305\n",
      "[4,  8000] loss: 2.305\n",
      "[4, 10000] loss: 2.305\n",
      "[4, 12000] loss: 2.305\n"
     ]
    },
    {
     "data": {
      "application/vnd.jupyter.widget-view+json": {
       "model_id": "b57cda38e26f452187f6c40a284503d0",
       "version_major": 2,
       "version_minor": 0
      },
      "text/plain": [
       "  0%|          | 0/12500 [00:00<?, ?it/s]"
      ]
     },
     "metadata": {},
     "output_type": "display_data"
    },
    {
     "name": "stdout",
     "output_type": "stream",
     "text": [
      "[5,  2000] loss: 2.309\n",
      "[5,  4000] loss: 2.305\n",
      "[5,  6000] loss: 2.305\n",
      "[5,  8000] loss: 2.306\n",
      "[5, 10000] loss: 2.305\n",
      "[5, 12000] loss: 2.304\n"
     ]
    },
    {
     "data": {
      "application/vnd.jupyter.widget-view+json": {
       "model_id": "f87163e34ee549a4ac4c6bce2359e7e2",
       "version_major": 2,
       "version_minor": 0
      },
      "text/plain": [
       "  0%|          | 0/12500 [00:00<?, ?it/s]"
      ]
     },
     "metadata": {},
     "output_type": "display_data"
    },
    {
     "name": "stdout",
     "output_type": "stream",
     "text": [
      "[6,  2000] loss: 2.304\n",
      "[6,  4000] loss: 2.309\n",
      "[6,  6000] loss: 2.306\n",
      "[6,  8000] loss: 2.305\n",
      "[6, 10000] loss: 2.304\n",
      "[6, 12000] loss: 2.308\n"
     ]
    },
    {
     "data": {
      "application/vnd.jupyter.widget-view+json": {
       "model_id": "2fdf94772786425e96d66e8f0d526112",
       "version_major": 2,
       "version_minor": 0
      },
      "text/plain": [
       "  0%|          | 0/12500 [00:00<?, ?it/s]"
      ]
     },
     "metadata": {},
     "output_type": "display_data"
    },
    {
     "name": "stdout",
     "output_type": "stream",
     "text": [
      "[7,  2000] loss: 2.305\n",
      "[7,  4000] loss: 2.304\n",
      "[7,  6000] loss: 2.304\n",
      "[7,  8000] loss: 2.305\n",
      "[7, 10000] loss: 2.304\n",
      "[7, 12000] loss: 2.305\n"
     ]
    },
    {
     "data": {
      "application/vnd.jupyter.widget-view+json": {
       "model_id": "1146678cacbc49378c162ad3e4a025fd",
       "version_major": 2,
       "version_minor": 0
      },
      "text/plain": [
       "  0%|          | 0/12500 [00:00<?, ?it/s]"
      ]
     },
     "metadata": {},
     "output_type": "display_data"
    },
    {
     "name": "stdout",
     "output_type": "stream",
     "text": [
      "[8,  2000] loss: 2.305\n",
      "[8,  4000] loss: 2.304\n",
      "[8,  6000] loss: 2.305\n",
      "[8,  8000] loss: 2.305\n",
      "[8, 10000] loss: 2.305\n",
      "[8, 12000] loss: 2.305\n"
     ]
    },
    {
     "data": {
      "application/vnd.jupyter.widget-view+json": {
       "model_id": "caac63f7aec245a094ff7d2fa76a2e03",
       "version_major": 2,
       "version_minor": 0
      },
      "text/plain": [
       "  0%|          | 0/12500 [00:00<?, ?it/s]"
      ]
     },
     "metadata": {},
     "output_type": "display_data"
    },
    {
     "name": "stdout",
     "output_type": "stream",
     "text": [
      "[9,  2000] loss: 2.305\n",
      "[9,  4000] loss: 2.304\n",
      "[9,  6000] loss: 2.304\n",
      "[9,  8000] loss: 2.304\n",
      "[9, 10000] loss: 2.304\n",
      "[9, 12000] loss: 2.304\n"
     ]
    },
    {
     "data": {
      "application/vnd.jupyter.widget-view+json": {
       "model_id": "3fa7fa9caf4140ba8a0db13c766119f7",
       "version_major": 2,
       "version_minor": 0
      },
      "text/plain": [
       "  0%|          | 0/12500 [00:00<?, ?it/s]"
      ]
     },
     "metadata": {},
     "output_type": "display_data"
    },
    {
     "name": "stdout",
     "output_type": "stream",
     "text": [
      "[10,  2000] loss: 2.305\n",
      "[10,  4000] loss: 2.305\n",
      "[10,  6000] loss: 2.304\n",
      "[10,  8000] loss: 2.305\n",
      "[10, 10000] loss: 2.304\n",
      "[10, 12000] loss: 2.305\n",
      "fin\n",
      "Accuracy of plane :  0 %\n",
      "Accuracy of car :  0 %\n",
      "Accuracy of bird :  0 %\n",
      "Accuracy of cat :  0 %\n",
      "Accuracy of deer :  0 %\n",
      "Accuracy of dog :  0 %\n",
      "Accuracy of frog :  0 %\n",
      "Accuracy of horse :  0 %\n",
      "Accuracy of ship : 100 %\n",
      "Accuracy of truck :  0 %\n",
      "\n",
      "Total accuracy AVG: 10.0\n",
      "max=100.0; min=0.0\n",
      "19 [20, 30, 0, 3, 3, 0, 120, 84, 0, True, 'relu', 10.0, 100.0, 0.0, 4, 4, 2, 10, 0.005]\n"
     ]
    }
   ],
   "source": [
    "net = SimpleConvNet_my2(20, 30, 40, 50, 3, 3, 3, 3, 120, 84, 0.1, True)\n",
    "net.to(device)\n",
    "net.train(num_epochs=10, learning_rate=5e-3)\n",
    "net.validatee()"
   ]
  },
  {
   "cell_type": "markdown",
   "metadata": {},
   "source": [
    "ООЧень забавный результат.\n",
    "\n",
    "Сеть обучилась только на рыбках\n",
    "\n",
    "Убираю один fc слой"
   ]
  },
  {
   "cell_type": "code",
   "execution_count": 134,
   "metadata": {},
   "outputs": [],
   "source": [
    "from torch.nn import Dropout\n",
    "class SimpleConvNet_my3(nn.Module):\n",
    "    def __init__(self, channels1, channels2, channels3, channels4, kernel_size1, kernel_size2, kernel_size3, kernel_size4, fc1, dropout, is_max_pool = True, activation=F.relu):\n",
    "        # вызов конструктора предка\n",
    "        super(SimpleConvNet_my3, self).__init__()\n",
    "        # необходмо заранее знать, сколько каналов у картинки (сейчас = 1),\n",
    "        # которую будем подавать в сеть, больше ничего\n",
    "        # про входящие картинки знать не нужно\n",
    "        self.channels1 = channels1\n",
    "        self.channels2 = channels2\n",
    "        self.kernel_size1 = kernel_size1\n",
    "        self.kernel_size2 = kernel_size2\n",
    "        self.fc1_c = fc1\n",
    "        self.fc2_c = 0\n",
    "        self.is_max_pool = is_max_pool\n",
    "        self.activation = activation\n",
    "        self.num_epochs = 0\n",
    "\n",
    "        if is_max_pool:\n",
    "          self.pool = nn.MaxPool2d(kernel_size=2, stride=2)\n",
    "        else:\n",
    "          self.pool = nn.AvgPool2d(kernel_size=2, stride=2)\n",
    "        \n",
    "        self.conv1 = nn.Conv2d(in_channels=3, out_channels=channels1, kernel_size=kernel_size1)\n",
    "        new_size = 32 - kernel_size1 + 1\n",
    "        #new_size = new_size // 2\n",
    "\n",
    "        self.conv2 = nn.Conv2d(in_channels=channels1, out_channels=channels2, kernel_size=kernel_size2)\n",
    "        new_size = new_size - kernel_size2 + 1\n",
    "        new_size = new_size // 2 #тут нет пулинга\n",
    "\n",
    "        self.conv3 = nn.Conv2d(in_channels=channels2, out_channels=channels3, kernel_size=kernel_size3)\n",
    "        new_size = new_size - kernel_size3 + 1\n",
    "        #new_size = new_size // 2\n",
    "\n",
    "        self.conv4 = nn.Conv2d(in_channels=channels3, out_channels=channels4, kernel_size=kernel_size4)\n",
    "        new_size = new_size - kernel_size4 + 1\n",
    "        new_size = new_size // 2\n",
    "\n",
    "        #print(new_size)\n",
    "\n",
    "        self.fc1_size = new_size * new_size * channels4\n",
    "        \n",
    "        self.fc1 = nn.Linear(self.fc1_size, fc1)  # !!!\n",
    "        # self.fc2 = nn.Linear(fc1, fc2)\n",
    "        self.fc3 = nn.Linear(fc1, 10)\n",
    "        \n",
    "        # self.fc1 = nn.Linear(self.fc1_size, fc1)\n",
    "        # self.fc3 = nn.Linear(fc1, 10)\n",
    "\n",
    "        self.dropout1 = Dropout(dropout)\n",
    "        # self.dropout2 = Dropout(dropout)\n",
    "\n",
    "\n",
    "    def forward(self, x):\n",
    "        x = self.pool(self.activation(self.conv2(self.activation(self.conv1(x)))))\n",
    "        x = self.pool(self.conv4(self.activation(self.conv3(x))))\n",
    "        x = x.view(-1, self.fc1_size)\n",
    "        x = self.dropout1(self.activation(self.fc1(x)))\n",
    "        # x = self.dropout2(self.activation(self.fc2(x)))\n",
    "        x = self.fc3(x)\n",
    "\n",
    "        return x\n",
    "\n",
    "    def train(self, learning_rate = 1e-4, num_epochs = 3):\n",
    "        self.num_epochs = num_epochs\n",
    "        self.learning_rate = learning_rate\n",
    "        loss_fn = torch.nn.CrossEntropyLoss()\n",
    "        tmp = []\n",
    "        optimizer = torch.optim.Adam(self.parameters(), lr=learning_rate)\n",
    "        # итерируемся\n",
    "        for epoch in tqdm_notebook(range(num_epochs)):\n",
    "            running_loss = 0.0\n",
    "            for i, batch in enumerate(tqdm_notebook(trainloader)):\n",
    "                # так получаем текущий батч\n",
    "                X_batch, y_batch = batch\n",
    "                global device\n",
    "                X_batch, y_batch = X_batch.to(device), y_batch.to(device)\n",
    "                \n",
    "                # обнуляем веса\n",
    "                optimizer.zero_grad()\n",
    "\n",
    "                # forward + backward + optimize\n",
    "                y_pred = self(X_batch)\n",
    "                loss = loss_fn(y_pred, y_batch)\n",
    "                loss.backward()\n",
    "                optimizer.step()\n",
    "\n",
    "                # выведем текущий loss\n",
    "                running_loss += loss.item()\n",
    "                # выведем качество каждые 2000 батчей\n",
    "                if i % 2000 == 1999:\n",
    "                    tmp.append(running_loss / 2000)\n",
    "                    print('[%d, %5d] loss: %.3f' %\n",
    "                          (epoch + 1, i + 1, running_loss / 2000))\n",
    "                    running_loss = 0.0\n",
    "                    \n",
    "        x = np.array(range(len(tmp)))\n",
    "        y = np.array(tmp)\n",
    "        print(x, y)\n",
    "        plt.plot(x, y)\n",
    "        plt.show()            \n",
    "        print('fin')\n",
    "\n",
    "    def validatee(self):\n",
    "        class_correct = list(0. for i in range(10))\n",
    "        class_total = list(0. for i in range(10))\n",
    "\n",
    "        with torch.no_grad():\n",
    "            for data in testloader:\n",
    "                images, labels = data\n",
    "                global device\n",
    "                images, labels = images.to(device), labels.to(device)\n",
    "                y_pred = self(images)\n",
    "                _, predicted = torch.max(y_pred, 1)\n",
    "                c = (predicted == labels).squeeze()\n",
    "                for i in range(4):\n",
    "                    label = labels[i]\n",
    "                    class_correct[label] += c[i].item()\n",
    "                    class_total[label] += 1\n",
    "        res = []\n",
    "        for i in range(10):\n",
    "            tmp = 100 * class_correct[i] / class_total[i]\n",
    "            res.append(tmp)\n",
    "            print('Accuracy of %2s : %2d %%' % (\n",
    "                classes[i], tmp))\n",
    "          \n",
    "        class_correct_t = sum(class_correct)\n",
    "        class_total_t = sum(class_total)\n",
    "\n",
    "        rrr = (100. * class_correct_t / class_total_t)\n",
    "        print('\\nTotal accuracy AVG:', rrr)\n",
    "        print(f'max={max(res)}; min={min(res)}')  \n",
    "        rezzz = [\n",
    "              self.channels1,\n",
    "              self.channels2,\n",
    "              0, \n",
    "              self.kernel_size1,\n",
    "              self.kernel_size2,\n",
    "              0,\n",
    "              self.fc1_c,\n",
    "              self.fc2_c,\n",
    "              0, \n",
    "              self.is_max_pool,\n",
    "              get_f_name(self.activation),\n",
    "              rrr,\n",
    "              round(max(res), 2),\n",
    "              round(min(res), 2),\n",
    "              4,\n",
    "              4,\n",
    "              2,\n",
    "              self.num_epochs,\n",
    "              self.learning_rate\n",
    "        ]    \n",
    "        print(len(rezzz), rezzz)\n",
    "        global_res.loc[len(global_res)] = rezzz"
   ]
  },
  {
   "cell_type": "code",
   "execution_count": 137,
   "metadata": {},
   "outputs": [
    {
     "name": "stderr",
     "output_type": "stream",
     "text": [
      "C:\\Users\\KOSHI8~1\\AppData\\Local\\Temp/ipykernel_4672/3672105891.py:72: TqdmDeprecationWarning: This function will be removed in tqdm==5.0.0\n",
      "Please use `tqdm.notebook.tqdm` instead of `tqdm.tqdm_notebook`\n",
      "  for epoch in tqdm_notebook(range(num_epochs)):\n"
     ]
    },
    {
     "data": {
      "application/vnd.jupyter.widget-view+json": {
       "model_id": "a5dfce649a8a41a3837cc9fc6a52fcf0",
       "version_major": 2,
       "version_minor": 0
      },
      "text/plain": [
       "  0%|          | 0/10 [00:00<?, ?it/s]"
      ]
     },
     "metadata": {},
     "output_type": "display_data"
    },
    {
     "name": "stderr",
     "output_type": "stream",
     "text": [
      "C:\\Users\\KOSHI8~1\\AppData\\Local\\Temp/ipykernel_4672/3672105891.py:74: TqdmDeprecationWarning: This function will be removed in tqdm==5.0.0\n",
      "Please use `tqdm.notebook.tqdm` instead of `tqdm.tqdm_notebook`\n",
      "  for i, batch in enumerate(tqdm_notebook(trainloader)):\n"
     ]
    },
    {
     "data": {
      "application/vnd.jupyter.widget-view+json": {
       "model_id": "22df4e3e52594d25ae0228ba350a60f1",
       "version_major": 2,
       "version_minor": 0
      },
      "text/plain": [
       "  0%|          | 0/12500 [00:00<?, ?it/s]"
      ]
     },
     "metadata": {},
     "output_type": "display_data"
    },
    {
     "name": "stdout",
     "output_type": "stream",
     "text": [
      "[1,  2000] loss: 2.135\n",
      "[1,  4000] loss: 2.046\n",
      "[1,  6000] loss: 1.981\n",
      "[1,  8000] loss: 1.995\n",
      "[1, 10000] loss: 1.987\n",
      "[1, 12000] loss: 1.978\n"
     ]
    },
    {
     "data": {
      "application/vnd.jupyter.widget-view+json": {
       "model_id": "a76ca4186d494dd5b693917da4a9fded",
       "version_major": 2,
       "version_minor": 0
      },
      "text/plain": [
       "  0%|          | 0/12500 [00:00<?, ?it/s]"
      ]
     },
     "metadata": {},
     "output_type": "display_data"
    },
    {
     "name": "stdout",
     "output_type": "stream",
     "text": [
      "[2,  2000] loss: 1.965\n",
      "[2,  4000] loss: 2.018\n",
      "[2,  6000] loss: 1.958\n",
      "[2,  8000] loss: 1.972\n",
      "[2, 10000] loss: 1.969\n",
      "[2, 12000] loss: 1.978\n"
     ]
    },
    {
     "data": {
      "application/vnd.jupyter.widget-view+json": {
       "model_id": "a420ae42cef541ceb0105b17877b1d1e",
       "version_major": 2,
       "version_minor": 0
      },
      "text/plain": [
       "  0%|          | 0/12500 [00:00<?, ?it/s]"
      ]
     },
     "metadata": {},
     "output_type": "display_data"
    },
    {
     "name": "stdout",
     "output_type": "stream",
     "text": [
      "[3,  2000] loss: 1.973\n",
      "[3,  4000] loss: 1.983\n",
      "[3,  6000] loss: 2.012\n",
      "[3,  8000] loss: 1.946\n",
      "[3, 10000] loss: 1.982\n",
      "[3, 12000] loss: 1.963\n"
     ]
    },
    {
     "data": {
      "application/vnd.jupyter.widget-view+json": {
       "model_id": "c8210a5270ac483bb0f9a3ce277e65cd",
       "version_major": 2,
       "version_minor": 0
      },
      "text/plain": [
       "  0%|          | 0/12500 [00:00<?, ?it/s]"
      ]
     },
     "metadata": {},
     "output_type": "display_data"
    },
    {
     "name": "stdout",
     "output_type": "stream",
     "text": [
      "[4,  2000] loss: 1.959\n",
      "[4,  4000] loss: 1.955\n",
      "[4,  6000] loss: 1.938\n",
      "[4,  8000] loss: 1.968\n",
      "[4, 10000] loss: 1.956\n",
      "[4, 12000] loss: 1.940\n"
     ]
    },
    {
     "data": {
      "application/vnd.jupyter.widget-view+json": {
       "model_id": "04404661aa8049dc8d5decd7a5874445",
       "version_major": 2,
       "version_minor": 0
      },
      "text/plain": [
       "  0%|          | 0/12500 [00:00<?, ?it/s]"
      ]
     },
     "metadata": {},
     "output_type": "display_data"
    },
    {
     "name": "stdout",
     "output_type": "stream",
     "text": [
      "[5,  2000] loss: 1.933\n",
      "[5,  4000] loss: 1.970\n",
      "[5,  6000] loss: 2.014\n",
      "[5,  8000] loss: 2.012\n",
      "[5, 10000] loss: 2.014\n",
      "[5, 12000] loss: 2.001\n"
     ]
    },
    {
     "data": {
      "application/vnd.jupyter.widget-view+json": {
       "model_id": "b1a30f8611e44d2299436befaab101e6",
       "version_major": 2,
       "version_minor": 0
      },
      "text/plain": [
       "  0%|          | 0/12500 [00:00<?, ?it/s]"
      ]
     },
     "metadata": {},
     "output_type": "display_data"
    },
    {
     "name": "stdout",
     "output_type": "stream",
     "text": [
      "[6,  2000] loss: 1.988\n",
      "[6,  4000] loss: 1.954\n",
      "[6,  6000] loss: 2.026\n",
      "[6,  8000] loss: 2.023\n",
      "[6, 10000] loss: 2.019\n",
      "[6, 12000] loss: 1.982\n"
     ]
    },
    {
     "data": {
      "application/vnd.jupyter.widget-view+json": {
       "model_id": "6220d30b18d9446e8aefb9fab8ef7c66",
       "version_major": 2,
       "version_minor": 0
      },
      "text/plain": [
       "  0%|          | 0/12500 [00:00<?, ?it/s]"
      ]
     },
     "metadata": {},
     "output_type": "display_data"
    },
    {
     "name": "stdout",
     "output_type": "stream",
     "text": [
      "[7,  2000] loss: 2.021\n",
      "[7,  4000] loss: 2.057\n",
      "[7,  6000] loss: 2.070\n",
      "[7,  8000] loss: 2.021\n",
      "[7, 10000] loss: 2.058\n",
      "[7, 12000] loss: 2.102\n"
     ]
    },
    {
     "data": {
      "application/vnd.jupyter.widget-view+json": {
       "model_id": "9d48735bb9444cf089d25ce4e24ecb53",
       "version_major": 2,
       "version_minor": 0
      },
      "text/plain": [
       "  0%|          | 0/12500 [00:00<?, ?it/s]"
      ]
     },
     "metadata": {},
     "output_type": "display_data"
    },
    {
     "name": "stdout",
     "output_type": "stream",
     "text": [
      "[8,  2000] loss: 2.059\n",
      "[8,  4000] loss: 2.059\n",
      "[8,  6000] loss: 2.083\n",
      "[8,  8000] loss: 2.088\n",
      "[8, 10000] loss: 2.045\n",
      "[8, 12000] loss: 2.006\n"
     ]
    },
    {
     "data": {
      "application/vnd.jupyter.widget-view+json": {
       "model_id": "47d5cfe8786e42e18be83b02a6473080",
       "version_major": 2,
       "version_minor": 0
      },
      "text/plain": [
       "  0%|          | 0/12500 [00:00<?, ?it/s]"
      ]
     },
     "metadata": {},
     "output_type": "display_data"
    },
    {
     "name": "stdout",
     "output_type": "stream",
     "text": [
      "[9,  2000] loss: 2.074\n",
      "[9,  4000] loss: 2.050\n",
      "[9,  6000] loss: 2.080\n",
      "[9,  8000] loss: 2.141\n",
      "[9, 10000] loss: 2.147\n",
      "[9, 12000] loss: 2.087\n"
     ]
    },
    {
     "data": {
      "application/vnd.jupyter.widget-view+json": {
       "model_id": "93dad04d2595405293995589c8f029f1",
       "version_major": 2,
       "version_minor": 0
      },
      "text/plain": [
       "  0%|          | 0/12500 [00:00<?, ?it/s]"
      ]
     },
     "metadata": {},
     "output_type": "display_data"
    },
    {
     "name": "stdout",
     "output_type": "stream",
     "text": [
      "[10,  2000] loss: 2.039\n",
      "[10,  4000] loss: 2.073\n",
      "[10,  6000] loss: 2.071\n",
      "[10,  8000] loss: 2.025\n",
      "[10, 10000] loss: 2.067\n",
      "[10, 12000] loss: 2.068\n",
      "[ 0  1  2  3  4  5  6  7  8  9 10 11 12 13 14 15 16 17 18 19 20 21 22 23\n",
      " 24 25 26 27 28 29 30 31 32 33 34 35 36 37 38 39 40 41 42 43 44 45 46 47\n",
      " 48 49 50 51 52 53 54 55 56 57 58 59] [2.13514998 2.04574197 1.9809188  1.99529557 1.98682109 1.97799782\n",
      " 1.96484239 2.01811536 1.95756038 1.97153948 1.96934628 1.9782726\n",
      " 1.97318945 1.98323268 2.01170094 1.94576627 1.98237189 1.96312171\n",
      " 1.95946613 1.95491291 1.93823862 1.96839351 1.95647468 1.93969793\n",
      " 1.93319169 1.96996955 2.01443357 2.0117075  2.01359882 2.00075571\n",
      " 1.98803886 1.95411265 2.02623538 2.02339386 2.01894139 1.98214024\n",
      " 2.02114983 2.0566935  2.06998685 2.02083734 2.0582777  2.10181632\n",
      " 2.0588866  2.05920969 2.08318604 2.08788365 2.04475806 2.00611244\n",
      " 2.07418831 2.05022188 2.0799023  2.14068795 2.14666703 2.08694326\n",
      " 2.03912281 2.07277313 2.0706108  2.02495611 2.06704723 2.06752907]\n"
     ]
    },
    {
     "data": {
      "image/png": "[encoded data removed]",
      "text/plain": [
       "<Figure size 432x288 with 1 Axes>"
      ]
     },
     "metadata": {
      "needs_background": "light"
     },
     "output_type": "display_data"
    },
    {
     "name": "stdout",
     "output_type": "stream",
     "text": [
      "fin\n",
      "Accuracy of plane : 35 %\n",
      "Accuracy of car : 36 %\n",
      "Accuracy of bird :  0 %\n",
      "Accuracy of cat :  0 %\n",
      "Accuracy of deer :  0 %\n",
      "Accuracy of dog : 45 %\n",
      "Accuracy of frog : 58 %\n",
      "Accuracy of horse : 22 %\n",
      "Accuracy of ship : 37 %\n",
      "Accuracy of truck :  8 %\n",
      "\n",
      "Total accuracy AVG: 24.54\n",
      "max=58.7; min=0.1\n",
      "19 [20, 30, 0, 3, 3, 0, 120, 0, 0, True, 'relu', 24.54, 58.7, 0.1, 4, 4, 2, 10, 0.005]\n"
     ]
    }
   ],
   "source": [
    "net = SimpleConvNet_my3(20, 30, 40, 50, 3, 3, 3, 3, 120, 0.1, True, F.relu)\n",
    "net.to(device)\n",
    "net.train(num_epochs=10, learning_rate=5e-3)\n",
    "net.validatee()"
   ]
  },
  {
   "cell_type": "code",
   "execution_count": 138,
   "metadata": {},
   "outputs": [
    {
     "data": {
      "text/html": [
       "\n",
       "                <audio  controls=\"controls\" autoplay=\"autoplay\">\n",
       "                    <source src=\"data:audio/ogg;base64,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\" type=\"audio/ogg\" />\n",
       "                    Your browser does not support the audio element.\n",
       "                </audio>\n",
       "              "
      ],
      "text/plain": [
       "<IPython.lib.display.Audio object>"
      ]
     },
     "execution_count": 138,
     "metadata": {},
     "output_type": "execute_result"
    }
   ],
   "source": [
    "import IPython\n",
    "IPython.display.Audio(\"https://freesound.org/data/previews/80/80921_1022651-lq.ogg\", autoplay=True)\n",
    "# from js2py import eval_js\n",
    "# eval_js('new Audio(\"https://freesound.org/data/previews/80/80921_1022651-lq.ogg\").play()')\n"
   ]
  },
  {
   "cell_type": "code",
   "execution_count": null,
   "metadata": {},
   "outputs": [],
   "source": [
    "ОГО! Отличный результат в 72%, думаю на нем стоит остановиться.\n",
    "\n",
    "Итог увеличение конволюшен слоев дало хороший результат. В связке с дропаутом и 2 слоями fc получилось за 3 дня работы получить 72 %!\n",
    "\n",
    "Кошкарев Алексей 20223"
   ]
  }
 ],
 "metadata": {
  "colab": {
   "collapsed_sections": [],
   "name": "practice convnet cifar10.ipynb",
   "provenance": []
  },
  "kernelspec": {
   "display_name": "Python 3 (ipykernel)",
   "language": "python",
   "name": "python3"
  },
  "language_info": {
   "codemirror_mode": {
    "name": "ipython",
    "version": 3
   },
   "file_extension": ".py",
   "mimetype": "text/x-python",
   "name": "python",
   "nbconvert_exporter": "python",
   "pygments_lexer": "ipython3",
   "version": "3.9.7"
  },
  "widgets": {
   "application/vnd.jupyter.widget-state+json": {
    "00d1eb98ed1b4c14b1e9ccbee080eeda": {
     "model_module": "@jupyter-widgets/controls",
     "model_module_version": "1.5.0",
     "model_name": "ProgressStyleModel",
     "state": {
      "_model_module": "@jupyter-widgets/controls",
      "_model_module_version": "1.5.0",
      "_model_name": "ProgressStyleModel",
      "_view_count": null,
      "_view_module": "@jupyter-widgets/base",
      "_view_module_version": "1.2.0",
      "_view_name": "StyleView",
      "bar_color": null,
      "description_width": ""
     }
    },
    "01b546fa31454be8ae78d6e129eb9faf": {
     "model_module": "@jupyter-widgets/base",
     "model_module_version": "1.2.0",
     "model_name": "LayoutModel",
     "state": {
      "_model_module": "@jupyter-widgets/base",
      "_model_module_version": "1.2.0",
      "_model_name": "LayoutModel",
      "_view_count": null,
      "_view_module": "@jupyter-widgets/base",
      "_view_module_version": "1.2.0",
      "_view_name": "LayoutView",
      "align_content": null,
      "align_items": null,
      "align_self": null,
      "border": null,
      "bottom": null,
      "display": null,
      "flex": null,
      "flex_flow": null,
      "grid_area": null,
      "grid_auto_columns": null,
      "grid_auto_flow": null,
      "grid_auto_rows": null,
      "grid_column": null,
      "grid_gap": null,
      "grid_row": null,
      "grid_template_areas": null,
      "grid_template_columns": null,
      "grid_template_rows": null,
      "height": null,
      "justify_content": null,
      "justify_items": null,
      "left": null,
      "margin": null,
      "max_height": null,
      "max_width": null,
      "min_height": null,
      "min_width": null,
      "object_fit": null,
      "object_position": null,
      "order": null,
      "overflow": null,
      "overflow_x": null,
      "overflow_y": null,
      "padding": null,
      "right": null,
      "top": null,
      "visibility": null,
      "width": null
     }
    },
    "05958e854b9c4bf6bdc18304637b9c71": {
     "model_module": "@jupyter-widgets/base",
     "model_module_version": "1.2.0",
     "model_name": "LayoutModel",
     "state": {
      "_model_module": "@jupyter-widgets/base",
      "_model_module_version": "1.2.0",
      "_model_name": "LayoutModel",
      "_view_count": null,
      "_view_module": "@jupyter-widgets/base",
      "_view_module_version": "1.2.0",
      "_view_name": "LayoutView",
      "align_content": null,
      "align_items": null,
      "align_self": null,
      "border": null,
      "bottom": null,
      "display": null,
      "flex": null,
      "flex_flow": null,
      "grid_area": null,
      "grid_auto_columns": null,
      "grid_auto_flow": null,
      "grid_auto_rows": null,
      "grid_column": null,
      "grid_gap": null,
      "grid_row": null,
      "grid_template_areas": null,
      "grid_template_columns": null,
      "grid_template_rows": null,
      "height": null,
      "justify_content": null,
      "justify_items": null,
      "left": null,
      "margin": null,
      "max_height": null,
      "max_width": null,
      "min_height": null,
      "min_width": null,
      "object_fit": null,
      "object_position": null,
      "order": null,
      "overflow": null,
      "overflow_x": null,
      "overflow_y": null,
      "padding": null,
      "right": null,
      "top": null,
      "visibility": null,
      "width": null
     }
    },
    "059e52086b7a4fd689c84f76dae547ae": {
     "model_module": "@jupyter-widgets/controls",
     "model_module_version": "1.5.0",
     "model_name": "HBoxModel",
     "state": {
      "_dom_classes": [],
      "_model_module": "@jupyter-widgets/controls",
      "_model_module_version": "1.5.0",
      "_model_name": "HBoxModel",
      "_view_count": null,
      "_view_module": "@jupyter-widgets/controls",
      "_view_module_version": "1.5.0",
      "_view_name": "HBoxView",
      "box_style": "",
      "children": [
       "IPY_MODEL_961787e0c1d349b4ad51325503015bee",
       "IPY_MODEL_8bc34c4c94564df89ef8becf75bc922f",
       "IPY_MODEL_aadf2337d6b341fcae61a950c41cc240"
      ],
      "layout": "IPY_MODEL_e407fa4d17ab4621a2cc26e7b88bdd0a"
     }
    },
    "07a567b436f5439486b2dd14301d80ab": {
     "model_module": "@jupyter-widgets/controls",
     "model_module_version": "1.5.0",
     "model_name": "FloatProgressModel",
     "state": {
      "_dom_classes": [],
      "_model_module": "@jupyter-widgets/controls",
      "_model_module_version": "1.5.0",
      "_model_name": "FloatProgressModel",
      "_view_count": null,
      "_view_module": "@jupyter-widgets/controls",
      "_view_module_version": "1.5.0",
      "_view_name": "ProgressView",
      "bar_style": "success",
      "description": "",
      "description_tooltip": null,
      "layout": "IPY_MODEL_4abb7072d39a40ebaef0e6b1093d37e3",
      "max": 12500,
      "min": 0,
      "orientation": "horizontal",
      "style": "IPY_MODEL_37e0401258cf4558a8e2025414b776e6",
      "value": 12500
     }
    },
    "094631dc299c4639896e8fe7293cf007": {
     "model_module": "@jupyter-widgets/controls",
     "model_module_version": "1.5.0",
     "model_name": "HTMLModel",
     "state": {
      "_dom_classes": [],
      "_model_module": "@jupyter-widgets/controls",
      "_model_module_version": "1.5.0",
      "_model_name": "HTMLModel",
      "_view_count": null,
      "_view_module": "@jupyter-widgets/controls",
      "_view_module_version": "1.5.0",
      "_view_name": "HTMLView",
      "description": "",
      "description_tooltip": null,
      "layout": "IPY_MODEL_109552f86d5f42b286b48034dff0c4e5",
      "placeholder": "​",
      "style": "IPY_MODEL_dbf5a911c9b848b880a95cd56bd7dc9c",
      "value": "100%"
     }
    },
    "0ba17b34b05f400a96f70483870b5ab4": {
     "model_module": "@jupyter-widgets/base",
     "model_module_version": "1.2.0",
     "model_name": "LayoutModel",
     "state": {
      "_model_module": "@jupyter-widgets/base",
      "_model_module_version": "1.2.0",
      "_model_name": "LayoutModel",
      "_view_count": null,
      "_view_module": "@jupyter-widgets/base",
      "_view_module_version": "1.2.0",
      "_view_name": "LayoutView",
      "align_content": null,
      "align_items": null,
      "align_self": null,
      "border": null,
      "bottom": null,
      "display": null,
      "flex": null,
      "flex_flow": null,
      "grid_area": null,
      "grid_auto_columns": null,
      "grid_auto_flow": null,
      "grid_auto_rows": null,
      "grid_column": null,
      "grid_gap": null,
      "grid_row": null,
      "grid_template_areas": null,
      "grid_template_columns": null,
      "grid_template_rows": null,
      "height": null,
      "justify_content": null,
      "justify_items": null,
      "left": null,
      "margin": null,
      "max_height": null,
      "max_width": null,
      "min_height": null,
      "min_width": null,
      "object_fit": null,
      "object_position": null,
      "order": null,
      "overflow": null,
      "overflow_x": null,
      "overflow_y": null,
      "padding": null,
      "right": null,
      "top": null,
      "visibility": null,
      "width": null
     }
    },
    "0ec4d263169f4ec2afac7dbb944dbcd7": {
     "model_module": "@jupyter-widgets/base",
     "model_module_version": "1.2.0",
     "model_name": "LayoutModel",
     "state": {
      "_model_module": "@jupyter-widgets/base",
      "_model_module_version": "1.2.0",
      "_model_name": "LayoutModel",
      "_view_count": null,
      "_view_module": "@jupyter-widgets/base",
      "_view_module_version": "1.2.0",
      "_view_name": "LayoutView",
      "align_content": null,
      "align_items": null,
      "align_self": null,
      "border": null,
      "bottom": null,
      "display": null,
      "flex": null,
      "flex_flow": null,
      "grid_area": null,
      "grid_auto_columns": null,
      "grid_auto_flow": null,
      "grid_auto_rows": null,
      "grid_column": null,
      "grid_gap": null,
      "grid_row": null,
      "grid_template_areas": null,
      "grid_template_columns": null,
      "grid_template_rows": null,
      "height": null,
      "justify_content": null,
      "justify_items": null,
      "left": null,
      "margin": null,
      "max_height": null,
      "max_width": null,
      "min_height": null,
      "min_width": null,
      "object_fit": null,
      "object_position": null,
      "order": null,
      "overflow": null,
      "overflow_x": null,
      "overflow_y": null,
      "padding": null,
      "right": null,
      "top": null,
      "visibility": null,
      "width": null
     }
    },
    "0efb635fa7b141619e796b20a32f3b65": {
     "model_module": "@jupyter-widgets/controls",
     "model_module_version": "1.5.0",
     "model_name": "DescriptionStyleModel",
     "state": {
      "_model_module": "@jupyter-widgets/controls",
      "_model_module_version": "1.5.0",
      "_model_name": "DescriptionStyleModel",
      "_view_count": null,
      "_view_module": "@jupyter-widgets/base",
      "_view_module_version": "1.2.0",
      "_view_name": "StyleView",
      "description_width": ""
     }
    },
    "0f09242d95bf450c996cdbb071265669": {
     "model_module": "@jupyter-widgets/controls",
     "model_module_version": "1.5.0",
     "model_name": "FloatProgressModel",
     "state": {
      "_dom_classes": [],
      "_model_module": "@jupyter-widgets/controls",
      "_model_module_version": "1.5.0",
      "_model_name": "FloatProgressModel",
      "_view_count": null,
      "_view_module": "@jupyter-widgets/controls",
      "_view_module_version": "1.5.0",
      "_view_name": "ProgressView",
      "bar_style": "success",
      "description": "",
      "description_tooltip": null,
      "layout": "IPY_MODEL_4887edc0c67447c7a62af4a953e5fc60",
      "max": 12500,
      "min": 0,
      "orientation": "horizontal",
      "style": "IPY_MODEL_5040f7bbf1a6448e9a2f05fad303d811",
      "value": 12500
     }
    },
    "109552f86d5f42b286b48034dff0c4e5": {
     "model_module": "@jupyter-widgets/base",
     "model_module_version": "1.2.0",
     "model_name": "LayoutModel",
     "state": {
      "_model_module": "@jupyter-widgets/base",
      "_model_module_version": "1.2.0",
      "_model_name": "LayoutModel",
      "_view_count": null,
      "_view_module": "@jupyter-widgets/base",
      "_view_module_version": "1.2.0",
      "_view_name": "LayoutView",
      "align_content": null,
      "align_items": null,
      "align_self": null,
      "border": null,
      "bottom": null,
      "display": null,
      "flex": null,
      "flex_flow": null,
      "grid_area": null,
      "grid_auto_columns": null,
      "grid_auto_flow": null,
      "grid_auto_rows": null,
      "grid_column": null,
      "grid_gap": null,
      "grid_row": null,
      "grid_template_areas": null,
      "grid_template_columns": null,
      "grid_template_rows": null,
      "height": null,
      "justify_content": null,
      "justify_items": null,
      "left": null,
      "margin": null,
      "max_height": null,
      "max_width": null,
      "min_height": null,
      "min_width": null,
      "object_fit": null,
      "object_position": null,
      "order": null,
      "overflow": null,
      "overflow_x": null,
      "overflow_y": null,
      "padding": null,
      "right": null,
      "top": null,
      "visibility": null,
      "width": null
     }
    },
    "1521a31effec414a8cd9fdf05010cc3b": {
     "model_module": "@jupyter-widgets/base",
     "model_module_version": "1.2.0",
     "model_name": "LayoutModel",
     "state": {
      "_model_module": "@jupyter-widgets/base",
      "_model_module_version": "1.2.0",
      "_model_name": "LayoutModel",
      "_view_count": null,
      "_view_module": "@jupyter-widgets/base",
      "_view_module_version": "1.2.0",
      "_view_name": "LayoutView",
      "align_content": null,
      "align_items": null,
      "align_self": null,
      "border": null,
      "bottom": null,
      "display": null,
      "flex": null,
      "flex_flow": null,
      "grid_area": null,
      "grid_auto_columns": null,
      "grid_auto_flow": null,
      "grid_auto_rows": null,
      "grid_column": null,
      "grid_gap": null,
      "grid_row": null,
      "grid_template_areas": null,
      "grid_template_columns": null,
      "grid_template_rows": null,
      "height": null,
      "justify_content": null,
      "justify_items": null,
      "left": null,
      "margin": null,
      "max_height": null,
      "max_width": null,
      "min_height": null,
      "min_width": null,
      "object_fit": null,
      "object_position": null,
      "order": null,
      "overflow": null,
      "overflow_x": null,
      "overflow_y": null,
      "padding": null,
      "right": null,
      "top": null,
      "visibility": null,
      "width": null
     }
    },
    "1529f05e332e48bb973206d9bd5c3f4a": {
     "model_module": "@jupyter-widgets/base",
     "model_module_version": "1.2.0",
     "model_name": "LayoutModel",
     "state": {
      "_model_module": "@jupyter-widgets/base",
      "_model_module_version": "1.2.0",
      "_model_name": "LayoutModel",
      "_view_count": null,
      "_view_module": "@jupyter-widgets/base",
      "_view_module_version": "1.2.0",
      "_view_name": "LayoutView",
      "align_content": null,
      "align_items": null,
      "align_self": null,
      "border": null,
      "bottom": null,
      "display": null,
      "flex": null,
      "flex_flow": null,
      "grid_area": null,
      "grid_auto_columns": null,
      "grid_auto_flow": null,
      "grid_auto_rows": null,
      "grid_column": null,
      "grid_gap": null,
      "grid_row": null,
      "grid_template_areas": null,
      "grid_template_columns": null,
      "grid_template_rows": null,
      "height": null,
      "justify_content": null,
      "justify_items": null,
      "left": null,
      "margin": null,
      "max_height": null,
      "max_width": null,
      "min_height": null,
      "min_width": null,
      "object_fit": null,
      "object_position": null,
      "order": null,
      "overflow": null,
      "overflow_x": null,
      "overflow_y": null,
      "padding": null,
      "right": null,
      "top": null,
      "visibility": null,
      "width": null
     }
    },
    "1593f7fca88a4a45b3536274fe792aeb": {
     "model_module": "@jupyter-widgets/base",
     "model_module_version": "1.2.0",
     "model_name": "LayoutModel",
     "state": {
      "_model_module": "@jupyter-widgets/base",
      "_model_module_version": "1.2.0",
      "_model_name": "LayoutModel",
      "_view_count": null,
      "_view_module": "@jupyter-widgets/base",
      "_view_module_version": "1.2.0",
      "_view_name": "LayoutView",
      "align_content": null,
      "align_items": null,
      "align_self": null,
      "border": null,
      "bottom": null,
      "display": null,
      "flex": null,
      "flex_flow": null,
      "grid_area": null,
      "grid_auto_columns": null,
      "grid_auto_flow": null,
      "grid_auto_rows": null,
      "grid_column": null,
      "grid_gap": null,
      "grid_row": null,
      "grid_template_areas": null,
      "grid_template_columns": null,
      "grid_template_rows": null,
      "height": null,
      "justify_content": null,
      "justify_items": null,
      "left": null,
      "margin": null,
      "max_height": null,
      "max_width": null,
      "min_height": null,
      "min_width": null,
      "object_fit": null,
      "object_position": null,
      "order": null,
      "overflow": null,
      "overflow_x": null,
      "overflow_y": null,
      "padding": null,
      "right": null,
      "top": null,
      "visibility": null,
      "width": null
     }
    },
    "199f68f933254afcbc7b5aad2a014c4b": {
     "model_module": "@jupyter-widgets/controls",
     "model_module_version": "1.5.0",
     "model_name": "HBoxModel",
     "state": {
      "_dom_classes": [],
      "_model_module": "@jupyter-widgets/controls",
      "_model_module_version": "1.5.0",
      "_model_name": "HBoxModel",
      "_view_count": null,
      "_view_module": "@jupyter-widgets/controls",
      "_view_module_version": "1.5.0",
      "_view_name": "HBoxView",
      "box_style": "",
      "children": [
       "IPY_MODEL_d0aae2e86e3846349c8bcecbaa28cd54",
       "IPY_MODEL_ca726151aafc438eaba754030cbb43d7",
       "IPY_MODEL_35d2dc476108485697a441159c0da6f4"
      ],
      "layout": "IPY_MODEL_5bfe615456c94300a72504380c2b430b"
     }
    },
    "19d86be5a8e04aed98d2bd770bd4761f": {
     "model_module": "@jupyter-widgets/controls",
     "model_module_version": "1.5.0",
     "model_name": "DescriptionStyleModel",
     "state": {
      "_model_module": "@jupyter-widgets/controls",
      "_model_module_version": "1.5.0",
      "_model_name": "DescriptionStyleModel",
      "_view_count": null,
      "_view_module": "@jupyter-widgets/base",
      "_view_module_version": "1.2.0",
      "_view_name": "StyleView",
      "description_width": ""
     }
    },
    "1b4aed5470844b7580c4f127cd71a160": {
     "model_module": "@jupyter-widgets/controls",
     "model_module_version": "1.5.0",
     "model_name": "FloatProgressModel",
     "state": {
      "_dom_classes": [],
      "_model_module": "@jupyter-widgets/controls",
      "_model_module_version": "1.5.0",
      "_model_name": "FloatProgressModel",
      "_view_count": null,
      "_view_module": "@jupyter-widgets/controls",
      "_view_module_version": "1.5.0",
      "_view_name": "ProgressView",
      "bar_style": "success",
      "description": "",
      "description_tooltip": null,
      "layout": "IPY_MODEL_c61bf41567644239b08c50896921dcbc",
      "max": 5,
      "min": 0,
      "orientation": "horizontal",
      "style": "IPY_MODEL_f88a1f3dff5a4aefacc8b8582969332f",
      "value": 5
     }
    },
    "1c558ae71770441a807355de7ebf3070": {
     "model_module": "@jupyter-widgets/base",
     "model_module_version": "1.2.0",
     "model_name": "LayoutModel",
     "state": {
      "_model_module": "@jupyter-widgets/base",
      "_model_module_version": "1.2.0",
      "_model_name": "LayoutModel",
      "_view_count": null,
      "_view_module": "@jupyter-widgets/base",
      "_view_module_version": "1.2.0",
      "_view_name": "LayoutView",
      "align_content": null,
      "align_items": null,
      "align_self": null,
      "border": null,
      "bottom": null,
      "display": null,
      "flex": null,
      "flex_flow": null,
      "grid_area": null,
      "grid_auto_columns": null,
      "grid_auto_flow": null,
      "grid_auto_rows": null,
      "grid_column": null,
      "grid_gap": null,
      "grid_row": null,
      "grid_template_areas": null,
      "grid_template_columns": null,
      "grid_template_rows": null,
      "height": null,
      "justify_content": null,
      "justify_items": null,
      "left": null,
      "margin": null,
      "max_height": null,
      "max_width": null,
      "min_height": null,
      "min_width": null,
      "object_fit": null,
      "object_position": null,
      "order": null,
      "overflow": null,
      "overflow_x": null,
      "overflow_y": null,
      "padding": null,
      "right": null,
      "top": null,
      "visibility": null,
      "width": null
     }
    },
    "1f73c894110c4f21abef8e0a67a980e7": {
     "model_module": "@jupyter-widgets/base",
     "model_module_version": "1.2.0",
     "model_name": "LayoutModel",
     "state": {
      "_model_module": "@jupyter-widgets/base",
      "_model_module_version": "1.2.0",
      "_model_name": "LayoutModel",
      "_view_count": null,
      "_view_module": "@jupyter-widgets/base",
      "_view_module_version": "1.2.0",
      "_view_name": "LayoutView",
      "align_content": null,
      "align_items": null,
      "align_self": null,
      "border": null,
      "bottom": null,
      "display": null,
      "flex": null,
      "flex_flow": null,
      "grid_area": null,
      "grid_auto_columns": null,
      "grid_auto_flow": null,
      "grid_auto_rows": null,
      "grid_column": null,
      "grid_gap": null,
      "grid_row": null,
      "grid_template_areas": null,
      "grid_template_columns": null,
      "grid_template_rows": null,
      "height": null,
      "justify_content": null,
      "justify_items": null,
      "left": null,
      "margin": null,
      "max_height": null,
      "max_width": null,
      "min_height": null,
      "min_width": null,
      "object_fit": null,
      "object_position": null,
      "order": null,
      "overflow": null,
      "overflow_x": null,
      "overflow_y": null,
      "padding": null,
      "right": null,
      "top": null,
      "visibility": null,
      "width": null
     }
    },
    "214f9437b325413d81e6aafbdbea8913": {
     "model_module": "@jupyter-widgets/base",
     "model_module_version": "1.2.0",
     "model_name": "LayoutModel",
     "state": {
      "_model_module": "@jupyter-widgets/base",
      "_model_module_version": "1.2.0",
      "_model_name": "LayoutModel",
      "_view_count": null,
      "_view_module": "@jupyter-widgets/base",
      "_view_module_version": "1.2.0",
      "_view_name": "LayoutView",
      "align_content": null,
      "align_items": null,
      "align_self": null,
      "border": null,
      "bottom": null,
      "display": null,
      "flex": null,
      "flex_flow": null,
      "grid_area": null,
      "grid_auto_columns": null,
      "grid_auto_flow": null,
      "grid_auto_rows": null,
      "grid_column": null,
      "grid_gap": null,
      "grid_row": null,
      "grid_template_areas": null,
      "grid_template_columns": null,
      "grid_template_rows": null,
      "height": null,
      "justify_content": null,
      "justify_items": null,
      "left": null,
      "margin": null,
      "max_height": null,
      "max_width": null,
      "min_height": null,
      "min_width": null,
      "object_fit": null,
      "object_position": null,
      "order": null,
      "overflow": null,
      "overflow_x": null,
      "overflow_y": null,
      "padding": null,
      "right": null,
      "top": null,
      "visibility": null,
      "width": null
     }
    },
    "21c0af3176464dd7a58747d0b139e6c1": {
     "model_module": "@jupyter-widgets/controls",
     "model_module_version": "1.5.0",
     "model_name": "FloatProgressModel",
     "state": {
      "_dom_classes": [],
      "_model_module": "@jupyter-widgets/controls",
      "_model_module_version": "1.5.0",
      "_model_name": "FloatProgressModel",
      "_view_count": null,
      "_view_module": "@jupyter-widgets/controls",
      "_view_module_version": "1.5.0",
      "_view_name": "ProgressView",
      "bar_style": "success",
      "description": "",
      "description_tooltip": null,
      "layout": "IPY_MODEL_692394be391c42c4bdd24dd0bb8652a8",
      "max": 12500,
      "min": 0,
      "orientation": "horizontal",
      "style": "IPY_MODEL_815d787c8f774c5d9a9f923a39b623e6",
      "value": 12500
     }
    },
    "230078b9c5c747f68dcc907a60da6656": {
     "model_module": "@jupyter-widgets/controls",
     "model_module_version": "1.5.0",
     "model_name": "DescriptionStyleModel",
     "state": {
      "_model_module": "@jupyter-widgets/controls",
      "_model_module_version": "1.5.0",
      "_model_name": "DescriptionStyleModel",
      "_view_count": null,
      "_view_module": "@jupyter-widgets/base",
      "_view_module_version": "1.2.0",
      "_view_name": "StyleView",
      "description_width": ""
     }
    },
    "23f9c5f0e0894f64986c80de42a2f63c": {
     "model_module": "@jupyter-widgets/base",
     "model_module_version": "1.2.0",
     "model_name": "LayoutModel",
     "state": {
      "_model_module": "@jupyter-widgets/base",
      "_model_module_version": "1.2.0",
      "_model_name": "LayoutModel",
      "_view_count": null,
      "_view_module": "@jupyter-widgets/base",
      "_view_module_version": "1.2.0",
      "_view_name": "LayoutView",
      "align_content": null,
      "align_items": null,
      "align_self": null,
      "border": null,
      "bottom": null,
      "display": null,
      "flex": null,
      "flex_flow": null,
      "grid_area": null,
      "grid_auto_columns": null,
      "grid_auto_flow": null,
      "grid_auto_rows": null,
      "grid_column": null,
      "grid_gap": null,
      "grid_row": null,
      "grid_template_areas": null,
      "grid_template_columns": null,
      "grid_template_rows": null,
      "height": null,
      "justify_content": null,
      "justify_items": null,
      "left": null,
      "margin": null,
      "max_height": null,
      "max_width": null,
      "min_height": null,
      "min_width": null,
      "object_fit": null,
      "object_position": null,
      "order": null,
      "overflow": null,
      "overflow_x": null,
      "overflow_y": null,
      "padding": null,
      "right": null,
      "top": null,
      "visibility": null,
      "width": null
     }
    },
    "24527bc9ae574734963a277dd9aca6f2": {
     "model_module": "@jupyter-widgets/controls",
     "model_module_version": "1.5.0",
     "model_name": "HBoxModel",
     "state": {
      "_dom_classes": [],
      "_model_module": "@jupyter-widgets/controls",
      "_model_module_version": "1.5.0",
      "_model_name": "HBoxModel",
      "_view_count": null,
      "_view_module": "@jupyter-widgets/controls",
      "_view_module_version": "1.5.0",
      "_view_name": "HBoxView",
      "box_style": "",
      "children": [
       "IPY_MODEL_956518d991fb496e950eafe27a4d15ea",
       "IPY_MODEL_f8fefe0543064e86882eb590442737b5",
       "IPY_MODEL_84dc1aef8a3a4d8181fc4b627c00d437"
      ],
      "layout": "IPY_MODEL_1521a31effec414a8cd9fdf05010cc3b"
     }
    },
    "25244a8a0e2046dc9ca308a09fc4e376": {
     "model_module": "@jupyter-widgets/controls",
     "model_module_version": "1.5.0",
     "model_name": "HTMLModel",
     "state": {
      "_dom_classes": [],
      "_model_module": "@jupyter-widgets/controls",
      "_model_module_version": "1.5.0",
      "_model_name": "HTMLModel",
      "_view_count": null,
      "_view_module": "@jupyter-widgets/controls",
      "_view_module_version": "1.5.0",
      "_view_name": "HTMLView",
      "description": "",
      "description_tooltip": null,
      "layout": "IPY_MODEL_957e79b742854e8f94fac73fd6b1decf",
      "placeholder": "​",
      "style": "IPY_MODEL_a2553020d69242a8946c285dddf9fffc",
      "value": "100%"
     }
    },
    "27945a37406249c691d26eb9013fb03c": {
     "model_module": "@jupyter-widgets/controls",
     "model_module_version": "1.5.0",
     "model_name": "ProgressStyleModel",
     "state": {
      "_model_module": "@jupyter-widgets/controls",
      "_model_module_version": "1.5.0",
      "_model_name": "ProgressStyleModel",
      "_view_count": null,
      "_view_module": "@jupyter-widgets/base",
      "_view_module_version": "1.2.0",
      "_view_name": "StyleView",
      "bar_color": null,
      "description_width": ""
     }
    },
    "286798529a354ef6ae13364385597e62": {
     "model_module": "@jupyter-widgets/controls",
     "model_module_version": "1.5.0",
     "model_name": "DescriptionStyleModel",
     "state": {
      "_model_module": "@jupyter-widgets/controls",
      "_model_module_version": "1.5.0",
      "_model_name": "DescriptionStyleModel",
      "_view_count": null,
      "_view_module": "@jupyter-widgets/base",
      "_view_module_version": "1.2.0",
      "_view_name": "StyleView",
      "description_width": ""
     }
    },
    "2a2b2006260647b4bf32e5ad29baf638": {
     "model_module": "@jupyter-widgets/controls",
     "model_module_version": "1.5.0",
     "model_name": "DescriptionStyleModel",
     "state": {
      "_model_module": "@jupyter-widgets/controls",
      "_model_module_version": "1.5.0",
      "_model_name": "DescriptionStyleModel",
      "_view_count": null,
      "_view_module": "@jupyter-widgets/base",
      "_view_module_version": "1.2.0",
      "_view_name": "StyleView",
      "description_width": ""
     }
    },
    "2a49ef5941e046f4850f5e70c7f39793": {
     "model_module": "@jupyter-widgets/controls",
     "model_module_version": "1.5.0",
     "model_name": "HTMLModel",
     "state": {
      "_dom_classes": [],
      "_model_module": "@jupyter-widgets/controls",
      "_model_module_version": "1.5.0",
      "_model_name": "HTMLModel",
      "_view_count": null,
      "_view_module": "@jupyter-widgets/controls",
      "_view_module_version": "1.5.0",
      "_view_name": "HTMLView",
      "description": "",
      "description_tooltip": null,
      "layout": "IPY_MODEL_931b4b2773734909b018f8c1115f9bb4",
      "placeholder": "​",
      "style": "IPY_MODEL_78fa6a098d8949f9b426c2ddb2a70b58",
      "value": " 5/5 [08:40&lt;00:00, 104.55s/it]"
     }
    },
    "2a64343bd19d47dba720ea02d9ab0f1f": {
     "model_module": "@jupyter-widgets/controls",
     "model_module_version": "1.5.0",
     "model_name": "HTMLModel",
     "state": {
      "_dom_classes": [],
      "_model_module": "@jupyter-widgets/controls",
      "_model_module_version": "1.5.0",
      "_model_name": "HTMLModel",
      "_view_count": null,
      "_view_module": "@jupyter-widgets/controls",
      "_view_module_version": "1.5.0",
      "_view_name": "HTMLView",
      "description": "",
      "description_tooltip": null,
      "layout": "IPY_MODEL_0ec4d263169f4ec2afac7dbb944dbcd7",
      "placeholder": "​",
      "style": "IPY_MODEL_f0d78dfde64b496e80b024d2dea43f8d",
      "value": " 12500/12500 [02:13&lt;00:00, 92.14it/s]"
     }
    },
    "2b05611caf4643e8998cb90479fe4c8d": {
     "model_module": "@jupyter-widgets/base",
     "model_module_version": "1.2.0",
     "model_name": "LayoutModel",
     "state": {
      "_model_module": "@jupyter-widgets/base",
      "_model_module_version": "1.2.0",
      "_model_name": "LayoutModel",
      "_view_count": null,
      "_view_module": "@jupyter-widgets/base",
      "_view_module_version": "1.2.0",
      "_view_name": "LayoutView",
      "align_content": null,
      "align_items": null,
      "align_self": null,
      "border": null,
      "bottom": null,
      "display": null,
      "flex": null,
      "flex_flow": null,
      "grid_area": null,
      "grid_auto_columns": null,
      "grid_auto_flow": null,
      "grid_auto_rows": null,
      "grid_column": null,
      "grid_gap": null,
      "grid_row": null,
      "grid_template_areas": null,
      "grid_template_columns": null,
      "grid_template_rows": null,
      "height": null,
      "justify_content": null,
      "justify_items": null,
      "left": null,
      "margin": null,
      "max_height": null,
      "max_width": null,
      "min_height": null,
      "min_width": null,
      "object_fit": null,
      "object_position": null,
      "order": null,
      "overflow": null,
      "overflow_x": null,
      "overflow_y": null,
      "padding": null,
      "right": null,
      "top": null,
      "visibility": null,
      "width": null
     }
    },
    "2b73c9def1c8454fb34e0dde3fbf4315": {
     "model_module": "@jupyter-widgets/controls",
     "model_module_version": "1.5.0",
     "model_name": "HTMLModel",
     "state": {
      "_dom_classes": [],
      "_model_module": "@jupyter-widgets/controls",
      "_model_module_version": "1.5.0",
      "_model_name": "HTMLModel",
      "_view_count": null,
      "_view_module": "@jupyter-widgets/controls",
      "_view_module_version": "1.5.0",
      "_view_name": "HTMLView",
      "description": "",
      "description_tooltip": null,
      "layout": "IPY_MODEL_340b42b2c2364e58ad3b342e052df879",
      "placeholder": "​",
      "style": "IPY_MODEL_2efd4b6ff40d4b1bba90b6cb42150e47",
      "value": " 5/5 [11:09&lt;00:00, 133.79s/it]"
     }
    },
    "2b84899d574b4c909471581a60a7fcd2": {
     "model_module": "@jupyter-widgets/controls",
     "model_module_version": "1.5.0",
     "model_name": "DescriptionStyleModel",
     "state": {
      "_model_module": "@jupyter-widgets/controls",
      "_model_module_version": "1.5.0",
      "_model_name": "DescriptionStyleModel",
      "_view_count": null,
      "_view_module": "@jupyter-widgets/base",
      "_view_module_version": "1.2.0",
      "_view_name": "StyleView",
      "description_width": ""
     }
    },
    "2c69961983d4475cbf708e682f2064ec": {
     "model_module": "@jupyter-widgets/base",
     "model_module_version": "1.2.0",
     "model_name": "LayoutModel",
     "state": {
      "_model_module": "@jupyter-widgets/base",
      "_model_module_version": "1.2.0",
      "_model_name": "LayoutModel",
      "_view_count": null,
      "_view_module": "@jupyter-widgets/base",
      "_view_module_version": "1.2.0",
      "_view_name": "LayoutView",
      "align_content": null,
      "align_items": null,
      "align_self": null,
      "border": null,
      "bottom": null,
      "display": null,
      "flex": null,
      "flex_flow": null,
      "grid_area": null,
      "grid_auto_columns": null,
      "grid_auto_flow": null,
      "grid_auto_rows": null,
      "grid_column": null,
      "grid_gap": null,
      "grid_row": null,
      "grid_template_areas": null,
      "grid_template_columns": null,
      "grid_template_rows": null,
      "height": null,
      "justify_content": null,
      "justify_items": null,
      "left": null,
      "margin": null,
      "max_height": null,
      "max_width": null,
      "min_height": null,
      "min_width": null,
      "object_fit": null,
      "object_position": null,
      "order": null,
      "overflow": null,
      "overflow_x": null,
      "overflow_y": null,
      "padding": null,
      "right": null,
      "top": null,
      "visibility": null,
      "width": null
     }
    },
    "2efd4b6ff40d4b1bba90b6cb42150e47": {
     "model_module": "@jupyter-widgets/controls",
     "model_module_version": "1.5.0",
     "model_name": "DescriptionStyleModel",
     "state": {
      "_model_module": "@jupyter-widgets/controls",
      "_model_module_version": "1.5.0",
      "_model_name": "DescriptionStyleModel",
      "_view_count": null,
      "_view_module": "@jupyter-widgets/base",
      "_view_module_version": "1.2.0",
      "_view_name": "StyleView",
      "description_width": ""
     }
    },
    "2f113382ee3647848987ece9f60a1375": {
     "model_module": "@jupyter-widgets/base",
     "model_module_version": "1.2.0",
     "model_name": "LayoutModel",
     "state": {
      "_model_module": "@jupyter-widgets/base",
      "_model_module_version": "1.2.0",
      "_model_name": "LayoutModel",
      "_view_count": null,
      "_view_module": "@jupyter-widgets/base",
      "_view_module_version": "1.2.0",
      "_view_name": "LayoutView",
      "align_content": null,
      "align_items": null,
      "align_self": null,
      "border": null,
      "bottom": null,
      "display": null,
      "flex": null,
      "flex_flow": null,
      "grid_area": null,
      "grid_auto_columns": null,
      "grid_auto_flow": null,
      "grid_auto_rows": null,
      "grid_column": null,
      "grid_gap": null,
      "grid_row": null,
      "grid_template_areas": null,
      "grid_template_columns": null,
      "grid_template_rows": null,
      "height": null,
      "justify_content": null,
      "justify_items": null,
      "left": null,
      "margin": null,
      "max_height": null,
      "max_width": null,
      "min_height": null,
      "min_width": null,
      "object_fit": null,
      "object_position": null,
      "order": null,
      "overflow": null,
      "overflow_x": null,
      "overflow_y": null,
      "padding": null,
      "right": null,
      "top": null,
      "visibility": null,
      "width": null
     }
    },
    "30c0c05f5e3e4004a59dbc6fc8a92945": {
     "model_module": "@jupyter-widgets/controls",
     "model_module_version": "1.5.0",
     "model_name": "HTMLModel",
     "state": {
      "_dom_classes": [],
      "_model_module": "@jupyter-widgets/controls",
      "_model_module_version": "1.5.0",
      "_model_name": "HTMLModel",
      "_view_count": null,
      "_view_module": "@jupyter-widgets/controls",
      "_view_module_version": "1.5.0",
      "_view_name": "HTMLView",
      "description": "",
      "description_tooltip": null,
      "layout": "IPY_MODEL_2b05611caf4643e8998cb90479fe4c8d",
      "placeholder": "​",
      "style": "IPY_MODEL_d4025dbf67474119aaf2ecb6e41873cd",
      "value": "100%"
     }
    },
    "31d7f847652a489abe47d69e9f84ef92": {
     "model_module": "@jupyter-widgets/base",
     "model_module_version": "1.2.0",
     "model_name": "LayoutModel",
     "state": {
      "_model_module": "@jupyter-widgets/base",
      "_model_module_version": "1.2.0",
      "_model_name": "LayoutModel",
      "_view_count": null,
      "_view_module": "@jupyter-widgets/base",
      "_view_module_version": "1.2.0",
      "_view_name": "LayoutView",
      "align_content": null,
      "align_items": null,
      "align_self": null,
      "border": null,
      "bottom": null,
      "display": null,
      "flex": null,
      "flex_flow": null,
      "grid_area": null,
      "grid_auto_columns": null,
      "grid_auto_flow": null,
      "grid_auto_rows": null,
      "grid_column": null,
      "grid_gap": null,
      "grid_row": null,
      "grid_template_areas": null,
      "grid_template_columns": null,
      "grid_template_rows": null,
      "height": null,
      "justify_content": null,
      "justify_items": null,
      "left": null,
      "margin": null,
      "max_height": null,
      "max_width": null,
      "min_height": null,
      "min_width": null,
      "object_fit": null,
      "object_position": null,
      "order": null,
      "overflow": null,
      "overflow_x": null,
      "overflow_y": null,
      "padding": null,
      "right": null,
      "top": null,
      "visibility": null,
      "width": null
     }
    },
    "340b42b2c2364e58ad3b342e052df879": {
     "model_module": "@jupyter-widgets/base",
     "model_module_version": "1.2.0",
     "model_name": "LayoutModel",
     "state": {
      "_model_module": "@jupyter-widgets/base",
      "_model_module_version": "1.2.0",
      "_model_name": "LayoutModel",
      "_view_count": null,
      "_view_module": "@jupyter-widgets/base",
      "_view_module_version": "1.2.0",
      "_view_name": "LayoutView",
      "align_content": null,
      "align_items": null,
      "align_self": null,
      "border": null,
      "bottom": null,
      "display": null,
      "flex": null,
      "flex_flow": null,
      "grid_area": null,
      "grid_auto_columns": null,
      "grid_auto_flow": null,
      "grid_auto_rows": null,
      "grid_column": null,
      "grid_gap": null,
      "grid_row": null,
      "grid_template_areas": null,
      "grid_template_columns": null,
      "grid_template_rows": null,
      "height": null,
      "justify_content": null,
      "justify_items": null,
      "left": null,
      "margin": null,
      "max_height": null,
      "max_width": null,
      "min_height": null,
      "min_width": null,
      "object_fit": null,
      "object_position": null,
      "order": null,
      "overflow": null,
      "overflow_x": null,
      "overflow_y": null,
      "padding": null,
      "right": null,
      "top": null,
      "visibility": null,
      "width": null
     }
    },
    "35d2dc476108485697a441159c0da6f4": {
     "model_module": "@jupyter-widgets/controls",
     "model_module_version": "1.5.0",
     "model_name": "HTMLModel",
     "state": {
      "_dom_classes": [],
      "_model_module": "@jupyter-widgets/controls",
      "_model_module_version": "1.5.0",
      "_model_name": "HTMLModel",
      "_view_count": null,
      "_view_module": "@jupyter-widgets/controls",
      "_view_module_version": "1.5.0",
      "_view_name": "HTMLView",
      "description": "",
      "description_tooltip": null,
      "layout": "IPY_MODEL_fee9731136b24738b79ad062e311716c",
      "placeholder": "​",
      "style": "IPY_MODEL_bd63d6d1bf024fb1949e2f21b520641a",
      "value": " 12500/12500 [01:32&lt;00:00, 138.18it/s]"
     }
    },
    "37e0401258cf4558a8e2025414b776e6": {
     "model_module": "@jupyter-widgets/controls",
     "model_module_version": "1.5.0",
     "model_name": "ProgressStyleModel",
     "state": {
      "_model_module": "@jupyter-widgets/controls",
      "_model_module_version": "1.5.0",
      "_model_name": "ProgressStyleModel",
      "_view_count": null,
      "_view_module": "@jupyter-widgets/base",
      "_view_module_version": "1.2.0",
      "_view_name": "StyleView",
      "bar_color": null,
      "description_width": ""
     }
    },
    "3915a0c9beb141819d44430f3e388030": {
     "model_module": "@jupyter-widgets/controls",
     "model_module_version": "1.5.0",
     "model_name": "DescriptionStyleModel",
     "state": {
      "_model_module": "@jupyter-widgets/controls",
      "_model_module_version": "1.5.0",
      "_model_name": "DescriptionStyleModel",
      "_view_count": null,
      "_view_module": "@jupyter-widgets/base",
      "_view_module_version": "1.2.0",
      "_view_name": "StyleView",
      "description_width": ""
     }
    },
    "3d156a5450a04b498272270cb0bf603c": {
     "model_module": "@jupyter-widgets/controls",
     "model_module_version": "1.5.0",
     "model_name": "HTMLModel",
     "state": {
      "_dom_classes": [],
      "_model_module": "@jupyter-widgets/controls",
      "_model_module_version": "1.5.0",
      "_model_name": "HTMLModel",
      "_view_count": null,
      "_view_module": "@jupyter-widgets/controls",
      "_view_module_version": "1.5.0",
      "_view_name": "HTMLView",
      "description": "",
      "description_tooltip": null,
      "layout": "IPY_MODEL_4c2a7e1c6c5441ce8374f4482a0f099e",
      "placeholder": "​",
      "style": "IPY_MODEL_933062f7866149ebab0c39eed7677c2e",
      "value": "100%"
     }
    },
    "3df288c725524d6fa0cf76bc127ca9b9": {
     "model_module": "@jupyter-widgets/controls",
     "model_module_version": "1.5.0",
     "model_name": "HTMLModel",
     "state": {
      "_dom_classes": [],
      "_model_module": "@jupyter-widgets/controls",
      "_model_module_version": "1.5.0",
      "_model_name": "HTMLModel",
      "_view_count": null,
      "_view_module": "@jupyter-widgets/controls",
      "_view_module_version": "1.5.0",
      "_view_name": "HTMLView",
      "description": "",
      "description_tooltip": null,
      "layout": "IPY_MODEL_d4bb7d4621bc450ab5eba9d2dd9f2ba6",
      "placeholder": "​",
      "style": "IPY_MODEL_7d88d6d4230c4e538a7f62e545ea26e9",
      "value": " 170499072/? [00:04&lt;00:00, 30346353.42it/s]"
     }
    },
    "3f8bf3f4c5b44c1a9bf258c234f8e5b5": {
     "model_module": "@jupyter-widgets/controls",
     "model_module_version": "1.5.0",
     "model_name": "HTMLModel",
     "state": {
      "_dom_classes": [],
      "_model_module": "@jupyter-widgets/controls",
      "_model_module_version": "1.5.0",
      "_model_name": "HTMLModel",
      "_view_count": null,
      "_view_module": "@jupyter-widgets/controls",
      "_view_module_version": "1.5.0",
      "_view_name": "HTMLView",
      "description": "",
      "description_tooltip": null,
      "layout": "IPY_MODEL_457e78f2d5da40cbbdce12c1dc7e2673",
      "placeholder": "​",
      "style": "IPY_MODEL_75c4e9c15c7d425fb5dcef5b24fe53a8",
      "value": " 3/3 [04:38&lt;00:00, 92.62s/it]"
     }
    },
    "40408182b01c4c17b17074345acd1623": {
     "model_module": "@jupyter-widgets/controls",
     "model_module_version": "1.5.0",
     "model_name": "HTMLModel",
     "state": {
      "_dom_classes": [],
      "_model_module": "@jupyter-widgets/controls",
      "_model_module_version": "1.5.0",
      "_model_name": "HTMLModel",
      "_view_count": null,
      "_view_module": "@jupyter-widgets/controls",
      "_view_module_version": "1.5.0",
      "_view_name": "HTMLView",
      "description": "",
      "description_tooltip": null,
      "layout": "IPY_MODEL_b8d8499dcb27469496d5877f3152acb8",
      "placeholder": "​",
      "style": "IPY_MODEL_850cf7807811481cbc11015aaedb3127",
      "value": " 12500/12500 [01:33&lt;00:00, 128.90it/s]"
     }
    },
    "4059df2231a64fa69124730f27dce6df": {
     "model_module": "@jupyter-widgets/base",
     "model_module_version": "1.2.0",
     "model_name": "LayoutModel",
     "state": {
      "_model_module": "@jupyter-widgets/base",
      "_model_module_version": "1.2.0",
      "_model_name": "LayoutModel",
      "_view_count": null,
      "_view_module": "@jupyter-widgets/base",
      "_view_module_version": "1.2.0",
      "_view_name": "LayoutView",
      "align_content": null,
      "align_items": null,
      "align_self": null,
      "border": null,
      "bottom": null,
      "display": null,
      "flex": null,
      "flex_flow": null,
      "grid_area": null,
      "grid_auto_columns": null,
      "grid_auto_flow": null,
      "grid_auto_rows": null,
      "grid_column": null,
      "grid_gap": null,
      "grid_row": null,
      "grid_template_areas": null,
      "grid_template_columns": null,
      "grid_template_rows": null,
      "height": null,
      "justify_content": null,
      "justify_items": null,
      "left": null,
      "margin": null,
      "max_height": null,
      "max_width": null,
      "min_height": null,
      "min_width": null,
      "object_fit": null,
      "object_position": null,
      "order": null,
      "overflow": null,
      "overflow_x": null,
      "overflow_y": null,
      "padding": null,
      "right": null,
      "top": null,
      "visibility": null,
      "width": null
     }
    },
    "408e35129aa8453f8683a740f4b75f64": {
     "model_module": "@jupyter-widgets/base",
     "model_module_version": "1.2.0",
     "model_name": "LayoutModel",
     "state": {
      "_model_module": "@jupyter-widgets/base",
      "_model_module_version": "1.2.0",
      "_model_name": "LayoutModel",
      "_view_count": null,
      "_view_module": "@jupyter-widgets/base",
      "_view_module_version": "1.2.0",
      "_view_name": "LayoutView",
      "align_content": null,
      "align_items": null,
      "align_self": null,
      "border": null,
      "bottom": null,
      "display": null,
      "flex": null,
      "flex_flow": null,
      "grid_area": null,
      "grid_auto_columns": null,
      "grid_auto_flow": null,
      "grid_auto_rows": null,
      "grid_column": null,
      "grid_gap": null,
      "grid_row": null,
      "grid_template_areas": null,
      "grid_template_columns": null,
      "grid_template_rows": null,
      "height": null,
      "justify_content": null,
      "justify_items": null,
      "left": null,
      "margin": null,
      "max_height": null,
      "max_width": null,
      "min_height": null,
      "min_width": null,
      "object_fit": null,
      "object_position": null,
      "order": null,
      "overflow": null,
      "overflow_x": null,
      "overflow_y": null,
      "padding": null,
      "right": null,
      "top": null,
      "visibility": null,
      "width": null
     }
    },
    "44aafb8feece4cd693e78af7ba936338": {
     "model_module": "@jupyter-widgets/controls",
     "model_module_version": "1.5.0",
     "model_name": "HBoxModel",
     "state": {
      "_dom_classes": [],
      "_model_module": "@jupyter-widgets/controls",
      "_model_module_version": "1.5.0",
      "_model_name": "HBoxModel",
      "_view_count": null,
      "_view_module": "@jupyter-widgets/controls",
      "_view_module_version": "1.5.0",
      "_view_name": "HBoxView",
      "box_style": "",
      "children": [
       "IPY_MODEL_c7c9e19b00cd4a07817e1c3e66090096",
       "IPY_MODEL_c565472f16804fb2b1a51ba8addd1deb",
       "IPY_MODEL_f2c3d549b04e441a856c2ae03bf9b7df"
      ],
      "layout": "IPY_MODEL_31d7f847652a489abe47d69e9f84ef92"
     }
    },
    "457e78f2d5da40cbbdce12c1dc7e2673": {
     "model_module": "@jupyter-widgets/base",
     "model_module_version": "1.2.0",
     "model_name": "LayoutModel",
     "state": {
      "_model_module": "@jupyter-widgets/base",
      "_model_module_version": "1.2.0",
      "_model_name": "LayoutModel",
      "_view_count": null,
      "_view_module": "@jupyter-widgets/base",
      "_view_module_version": "1.2.0",
      "_view_name": "LayoutView",
      "align_content": null,
      "align_items": null,
      "align_self": null,
      "border": null,
      "bottom": null,
      "display": null,
      "flex": null,
      "flex_flow": null,
      "grid_area": null,
      "grid_auto_columns": null,
      "grid_auto_flow": null,
      "grid_auto_rows": null,
      "grid_column": null,
      "grid_gap": null,
      "grid_row": null,
      "grid_template_areas": null,
      "grid_template_columns": null,
      "grid_template_rows": null,
      "height": null,
      "justify_content": null,
      "justify_items": null,
      "left": null,
      "margin": null,
      "max_height": null,
      "max_width": null,
      "min_height": null,
      "min_width": null,
      "object_fit": null,
      "object_position": null,
      "order": null,
      "overflow": null,
      "overflow_x": null,
      "overflow_y": null,
      "padding": null,
      "right": null,
      "top": null,
      "visibility": null,
      "width": null
     }
    },
    "458de056866442d0b317e16fded2d0a5": {
     "model_module": "@jupyter-widgets/controls",
     "model_module_version": "1.5.0",
     "model_name": "DescriptionStyleModel",
     "state": {
      "_model_module": "@jupyter-widgets/controls",
      "_model_module_version": "1.5.0",
      "_model_name": "DescriptionStyleModel",
      "_view_count": null,
      "_view_module": "@jupyter-widgets/base",
      "_view_module_version": "1.2.0",
      "_view_name": "StyleView",
      "description_width": ""
     }
    },
    "4657557f1673496fbf74b4ae40bf13d0": {
     "model_module": "@jupyter-widgets/controls",
     "model_module_version": "1.5.0",
     "model_name": "DescriptionStyleModel",
     "state": {
      "_model_module": "@jupyter-widgets/controls",
      "_model_module_version": "1.5.0",
      "_model_name": "DescriptionStyleModel",
      "_view_count": null,
      "_view_module": "@jupyter-widgets/base",
      "_view_module_version": "1.2.0",
      "_view_name": "StyleView",
      "description_width": ""
     }
    },
    "4836a75333fe4a579c9c01fcea728304": {
     "model_module": "@jupyter-widgets/controls",
     "model_module_version": "1.5.0",
     "model_name": "DescriptionStyleModel",
     "state": {
      "_model_module": "@jupyter-widgets/controls",
      "_model_module_version": "1.5.0",
      "_model_name": "DescriptionStyleModel",
      "_view_count": null,
      "_view_module": "@jupyter-widgets/base",
      "_view_module_version": "1.2.0",
      "_view_name": "StyleView",
      "description_width": ""
     }
    },
    "4887edc0c67447c7a62af4a953e5fc60": {
     "model_module": "@jupyter-widgets/base",
     "model_module_version": "1.2.0",
     "model_name": "LayoutModel",
     "state": {
      "_model_module": "@jupyter-widgets/base",
      "_model_module_version": "1.2.0",
      "_model_name": "LayoutModel",
      "_view_count": null,
      "_view_module": "@jupyter-widgets/base",
      "_view_module_version": "1.2.0",
      "_view_name": "LayoutView",
      "align_content": null,
      "align_items": null,
      "align_self": null,
      "border": null,
      "bottom": null,
      "display": null,
      "flex": null,
      "flex_flow": null,
      "grid_area": null,
      "grid_auto_columns": null,
      "grid_auto_flow": null,
      "grid_auto_rows": null,
      "grid_column": null,
      "grid_gap": null,
      "grid_row": null,
      "grid_template_areas": null,
      "grid_template_columns": null,
      "grid_template_rows": null,
      "height": null,
      "justify_content": null,
      "justify_items": null,
      "left": null,
      "margin": null,
      "max_height": null,
      "max_width": null,
      "min_height": null,
      "min_width": null,
      "object_fit": null,
      "object_position": null,
      "order": null,
      "overflow": null,
      "overflow_x": null,
      "overflow_y": null,
      "padding": null,
      "right": null,
      "top": null,
      "visibility": null,
      "width": null
     }
    },
    "4abb7072d39a40ebaef0e6b1093d37e3": {
     "model_module": "@jupyter-widgets/base",
     "model_module_version": "1.2.0",
     "model_name": "LayoutModel",
     "state": {
      "_model_module": "@jupyter-widgets/base",
      "_model_module_version": "1.2.0",
      "_model_name": "LayoutModel",
      "_view_count": null,
      "_view_module": "@jupyter-widgets/base",
      "_view_module_version": "1.2.0",
      "_view_name": "LayoutView",
      "align_content": null,
      "align_items": null,
      "align_self": null,
      "border": null,
      "bottom": null,
      "display": null,
      "flex": null,
      "flex_flow": null,
      "grid_area": null,
      "grid_auto_columns": null,
      "grid_auto_flow": null,
      "grid_auto_rows": null,
      "grid_column": null,
      "grid_gap": null,
      "grid_row": null,
      "grid_template_areas": null,
      "grid_template_columns": null,
      "grid_template_rows": null,
      "height": null,
      "justify_content": null,
      "justify_items": null,
      "left": null,
      "margin": null,
      "max_height": null,
      "max_width": null,
      "min_height": null,
      "min_width": null,
      "object_fit": null,
      "object_position": null,
      "order": null,
      "overflow": null,
      "overflow_x": null,
      "overflow_y": null,
      "padding": null,
      "right": null,
      "top": null,
      "visibility": null,
      "width": null
     }
    },
    "4bf1a8f34e3b4dbdac59255d4ce5a2d2": {
     "model_module": "@jupyter-widgets/base",
     "model_module_version": "1.2.0",
     "model_name": "LayoutModel",
     "state": {
      "_model_module": "@jupyter-widgets/base",
      "_model_module_version": "1.2.0",
      "_model_name": "LayoutModel",
      "_view_count": null,
      "_view_module": "@jupyter-widgets/base",
      "_view_module_version": "1.2.0",
      "_view_name": "LayoutView",
      "align_content": null,
      "align_items": null,
      "align_self": null,
      "border": null,
      "bottom": null,
      "display": null,
      "flex": null,
      "flex_flow": null,
      "grid_area": null,
      "grid_auto_columns": null,
      "grid_auto_flow": null,
      "grid_auto_rows": null,
      "grid_column": null,
      "grid_gap": null,
      "grid_row": null,
      "grid_template_areas": null,
      "grid_template_columns": null,
      "grid_template_rows": null,
      "height": null,
      "justify_content": null,
      "justify_items": null,
      "left": null,
      "margin": null,
      "max_height": null,
      "max_width": null,
      "min_height": null,
      "min_width": null,
      "object_fit": null,
      "object_position": null,
      "order": null,
      "overflow": null,
      "overflow_x": null,
      "overflow_y": null,
      "padding": null,
      "right": null,
      "top": null,
      "visibility": null,
      "width": null
     }
    },
    "4c2a7e1c6c5441ce8374f4482a0f099e": {
     "model_module": "@jupyter-widgets/base",
     "model_module_version": "1.2.0",
     "model_name": "LayoutModel",
     "state": {
      "_model_module": "@jupyter-widgets/base",
      "_model_module_version": "1.2.0",
      "_model_name": "LayoutModel",
      "_view_count": null,
      "_view_module": "@jupyter-widgets/base",
      "_view_module_version": "1.2.0",
      "_view_name": "LayoutView",
      "align_content": null,
      "align_items": null,
      "align_self": null,
      "border": null,
      "bottom": null,
      "display": null,
      "flex": null,
      "flex_flow": null,
      "grid_area": null,
      "grid_auto_columns": null,
      "grid_auto_flow": null,
      "grid_auto_rows": null,
      "grid_column": null,
      "grid_gap": null,
      "grid_row": null,
      "grid_template_areas": null,
      "grid_template_columns": null,
      "grid_template_rows": null,
      "height": null,
      "justify_content": null,
      "justify_items": null,
      "left": null,
      "margin": null,
      "max_height": null,
      "max_width": null,
      "min_height": null,
      "min_width": null,
      "object_fit": null,
      "object_position": null,
      "order": null,
      "overflow": null,
      "overflow_x": null,
      "overflow_y": null,
      "padding": null,
      "right": null,
      "top": null,
      "visibility": null,
      "width": null
     }
    },
    "500d13d8c7ba4edea400e0b74c9ec3d3": {
     "model_module": "@jupyter-widgets/controls",
     "model_module_version": "1.5.0",
     "model_name": "HBoxModel",
     "state": {
      "_dom_classes": [],
      "_model_module": "@jupyter-widgets/controls",
      "_model_module_version": "1.5.0",
      "_model_name": "HBoxModel",
      "_view_count": null,
      "_view_module": "@jupyter-widgets/controls",
      "_view_module_version": "1.5.0",
      "_view_name": "HBoxView",
      "box_style": "",
      "children": [
       "IPY_MODEL_7d396dfc18ee4fb49ee9c5dea3b089c7",
       "IPY_MODEL_8409cccbafc746d28c6b64fc4bcc38cf",
       "IPY_MODEL_7b7c81fc04a44f4794fae10f2fe54adf"
      ],
      "layout": "IPY_MODEL_01b546fa31454be8ae78d6e129eb9faf"
     }
    },
    "5040f7bbf1a6448e9a2f05fad303d811": {
     "model_module": "@jupyter-widgets/controls",
     "model_module_version": "1.5.0",
     "model_name": "ProgressStyleModel",
     "state": {
      "_model_module": "@jupyter-widgets/controls",
      "_model_module_version": "1.5.0",
      "_model_name": "ProgressStyleModel",
      "_view_count": null,
      "_view_module": "@jupyter-widgets/base",
      "_view_module_version": "1.2.0",
      "_view_name": "StyleView",
      "bar_color": null,
      "description_width": ""
     }
    },
    "5420e825762b4d838e51902ca5d19c14": {
     "model_module": "@jupyter-widgets/controls",
     "model_module_version": "1.5.0",
     "model_name": "HTMLModel",
     "state": {
      "_dom_classes": [],
      "_model_module": "@jupyter-widgets/controls",
      "_model_module_version": "1.5.0",
      "_model_name": "HTMLModel",
      "_view_count": null,
      "_view_module": "@jupyter-widgets/controls",
      "_view_module_version": "1.5.0",
      "_view_name": "HTMLView",
      "description": "",
      "description_tooltip": null,
      "layout": "IPY_MODEL_05958e854b9c4bf6bdc18304637b9c71",
      "placeholder": "​",
      "style": "IPY_MODEL_19d86be5a8e04aed98d2bd770bd4761f",
      "value": "100%"
     }
    },
    "55c2580636874bbe8e21bbc4dd247d1c": {
     "model_module": "@jupyter-widgets/controls",
     "model_module_version": "1.5.0",
     "model_name": "DescriptionStyleModel",
     "state": {
      "_model_module": "@jupyter-widgets/controls",
      "_model_module_version": "1.5.0",
      "_model_name": "DescriptionStyleModel",
      "_view_count": null,
      "_view_module": "@jupyter-widgets/base",
      "_view_module_version": "1.2.0",
      "_view_name": "StyleView",
      "description_width": ""
     }
    },
    "580103155c744510ac5c0ebebdc4b7dc": {
     "model_module": "@jupyter-widgets/controls",
     "model_module_version": "1.5.0",
     "model_name": "HBoxModel",
     "state": {
      "_dom_classes": [],
      "_model_module": "@jupyter-widgets/controls",
      "_model_module_version": "1.5.0",
      "_model_name": "HBoxModel",
      "_view_count": null,
      "_view_module": "@jupyter-widgets/controls",
      "_view_module_version": "1.5.0",
      "_view_name": "HBoxView",
      "box_style": "",
      "children": [
       "IPY_MODEL_9c8e64a6c5994d7e81050c2400293941",
       "IPY_MODEL_6c035db48dc24c48bd214460f1c4bc71",
       "IPY_MODEL_2a49ef5941e046f4850f5e70c7f39793"
      ],
      "layout": "IPY_MODEL_a68ea54866a446e4b85860277d185f24"
     }
    },
    "5a164faf74a043979013779ea5c4ef72": {
     "model_module": "@jupyter-widgets/controls",
     "model_module_version": "1.5.0",
     "model_name": "HBoxModel",
     "state": {
      "_dom_classes": [],
      "_model_module": "@jupyter-widgets/controls",
      "_model_module_version": "1.5.0",
      "_model_name": "HBoxModel",
      "_view_count": null,
      "_view_module": "@jupyter-widgets/controls",
      "_view_module_version": "1.5.0",
      "_view_name": "HBoxView",
      "box_style": "",
      "children": [
       "IPY_MODEL_8e154dd0b8884141a486f8760b0ed96b",
       "IPY_MODEL_0f09242d95bf450c996cdbb071265669",
       "IPY_MODEL_6386f1cf32e1451db50a4f2277e8f649"
      ],
      "layout": "IPY_MODEL_c01a5c9fa122446698ffa957f63a1437"
     }
    },
    "5bfe615456c94300a72504380c2b430b": {
     "model_module": "@jupyter-widgets/base",
     "model_module_version": "1.2.0",
     "model_name": "LayoutModel",
     "state": {
      "_model_module": "@jupyter-widgets/base",
      "_model_module_version": "1.2.0",
      "_model_name": "LayoutModel",
      "_view_count": null,
      "_view_module": "@jupyter-widgets/base",
      "_view_module_version": "1.2.0",
      "_view_name": "LayoutView",
      "align_content": null,
      "align_items": null,
      "align_self": null,
      "border": null,
      "bottom": null,
      "display": null,
      "flex": null,
      "flex_flow": null,
      "grid_area": null,
      "grid_auto_columns": null,
      "grid_auto_flow": null,
      "grid_auto_rows": null,
      "grid_column": null,
      "grid_gap": null,
      "grid_row": null,
      "grid_template_areas": null,
      "grid_template_columns": null,
      "grid_template_rows": null,
      "height": null,
      "justify_content": null,
      "justify_items": null,
      "left": null,
      "margin": null,
      "max_height": null,
      "max_width": null,
      "min_height": null,
      "min_width": null,
      "object_fit": null,
      "object_position": null,
      "order": null,
      "overflow": null,
      "overflow_x": null,
      "overflow_y": null,
      "padding": null,
      "right": null,
      "top": null,
      "visibility": null,
      "width": null
     }
    },
    "5d648b8512b047eaadfffab686adf469": {
     "model_module": "@jupyter-widgets/controls",
     "model_module_version": "1.5.0",
     "model_name": "DescriptionStyleModel",
     "state": {
      "_model_module": "@jupyter-widgets/controls",
      "_model_module_version": "1.5.0",
      "_model_name": "DescriptionStyleModel",
      "_view_count": null,
      "_view_module": "@jupyter-widgets/base",
      "_view_module_version": "1.2.0",
      "_view_name": "StyleView",
      "description_width": ""
     }
    },
    "5f6be80920eb490789231004c325619e": {
     "model_module": "@jupyter-widgets/controls",
     "model_module_version": "1.5.0",
     "model_name": "HBoxModel",
     "state": {
      "_dom_classes": [],
      "_model_module": "@jupyter-widgets/controls",
      "_model_module_version": "1.5.0",
      "_model_name": "HBoxModel",
      "_view_count": null,
      "_view_module": "@jupyter-widgets/controls",
      "_view_module_version": "1.5.0",
      "_view_name": "HBoxView",
      "box_style": "",
      "children": [
       "IPY_MODEL_5420e825762b4d838e51902ca5d19c14",
       "IPY_MODEL_a34db5150de14b4f9632cfa25d4f6741",
       "IPY_MODEL_3f8bf3f4c5b44c1a9bf258c234f8e5b5"
      ],
      "layout": "IPY_MODEL_d4deb41daf87466eacde4c9b35f41992"
     }
    },
    "60835ad8c22b4570ace3d0223f25b825": {
     "model_module": "@jupyter-widgets/controls",
     "model_module_version": "1.5.0",
     "model_name": "DescriptionStyleModel",
     "state": {
      "_model_module": "@jupyter-widgets/controls",
      "_model_module_version": "1.5.0",
      "_model_name": "DescriptionStyleModel",
      "_view_count": null,
      "_view_module": "@jupyter-widgets/base",
      "_view_module_version": "1.2.0",
      "_view_name": "StyleView",
      "description_width": ""
     }
    },
    "616492e0e87b47e687a5deff6870d1d4": {
     "model_module": "@jupyter-widgets/base",
     "model_module_version": "1.2.0",
     "model_name": "LayoutModel",
     "state": {
      "_model_module": "@jupyter-widgets/base",
      "_model_module_version": "1.2.0",
      "_model_name": "LayoutModel",
      "_view_count": null,
      "_view_module": "@jupyter-widgets/base",
      "_view_module_version": "1.2.0",
      "_view_name": "LayoutView",
      "align_content": null,
      "align_items": null,
      "align_self": null,
      "border": null,
      "bottom": null,
      "display": null,
      "flex": null,
      "flex_flow": null,
      "grid_area": null,
      "grid_auto_columns": null,
      "grid_auto_flow": null,
      "grid_auto_rows": null,
      "grid_column": null,
      "grid_gap": null,
      "grid_row": null,
      "grid_template_areas": null,
      "grid_template_columns": null,
      "grid_template_rows": null,
      "height": null,
      "justify_content": null,
      "justify_items": null,
      "left": null,
      "margin": null,
      "max_height": null,
      "max_width": null,
      "min_height": null,
      "min_width": null,
      "object_fit": null,
      "object_position": null,
      "order": null,
      "overflow": null,
      "overflow_x": null,
      "overflow_y": null,
      "padding": null,
      "right": null,
      "top": null,
      "visibility": null,
      "width": null
     }
    },
    "629af9939b7c4e749927580f896cb424": {
     "model_module": "@jupyter-widgets/controls",
     "model_module_version": "1.5.0",
     "model_name": "HTMLModel",
     "state": {
      "_dom_classes": [],
      "_model_module": "@jupyter-widgets/controls",
      "_model_module_version": "1.5.0",
      "_model_name": "HTMLModel",
      "_view_count": null,
      "_view_module": "@jupyter-widgets/controls",
      "_view_module_version": "1.5.0",
      "_view_name": "HTMLView",
      "description": "",
      "description_tooltip": null,
      "layout": "IPY_MODEL_c7af1c9e8f9f4135a881cd547ef74c27",
      "placeholder": "​",
      "style": "IPY_MODEL_286798529a354ef6ae13364385597e62",
      "value": ""
     }
    },
    "63418c5bf9384640b0c383a0c9a034b1": {
     "model_module": "@jupyter-widgets/base",
     "model_module_version": "1.2.0",
     "model_name": "LayoutModel",
     "state": {
      "_model_module": "@jupyter-widgets/base",
      "_model_module_version": "1.2.0",
      "_model_name": "LayoutModel",
      "_view_count": null,
      "_view_module": "@jupyter-widgets/base",
      "_view_module_version": "1.2.0",
      "_view_name": "LayoutView",
      "align_content": null,
      "align_items": null,
      "align_self": null,
      "border": null,
      "bottom": null,
      "display": null,
      "flex": null,
      "flex_flow": null,
      "grid_area": null,
      "grid_auto_columns": null,
      "grid_auto_flow": null,
      "grid_auto_rows": null,
      "grid_column": null,
      "grid_gap": null,
      "grid_row": null,
      "grid_template_areas": null,
      "grid_template_columns": null,
      "grid_template_rows": null,
      "height": null,
      "justify_content": null,
      "justify_items": null,
      "left": null,
      "margin": null,
      "max_height": null,
      "max_width": null,
      "min_height": null,
      "min_width": null,
      "object_fit": null,
      "object_position": null,
      "order": null,
      "overflow": null,
      "overflow_x": null,
      "overflow_y": null,
      "padding": null,
      "right": null,
      "top": null,
      "visibility": null,
      "width": null
     }
    },
    "6386f1cf32e1451db50a4f2277e8f649": {
     "model_module": "@jupyter-widgets/controls",
     "model_module_version": "1.5.0",
     "model_name": "HTMLModel",
     "state": {
      "_dom_classes": [],
      "_model_module": "@jupyter-widgets/controls",
      "_model_module_version": "1.5.0",
      "_model_name": "HTMLModel",
      "_view_count": null,
      "_view_module": "@jupyter-widgets/controls",
      "_view_module_version": "1.5.0",
      "_view_name": "HTMLView",
      "description": "",
      "description_tooltip": null,
      "layout": "IPY_MODEL_fe3498adf4fb4f199d60fb282b85e27c",
      "placeholder": "​",
      "style": "IPY_MODEL_60835ad8c22b4570ace3d0223f25b825",
      "value": " 12500/12500 [02:14&lt;00:00, 92.27it/s]"
     }
    },
    "64c6d964401d41379a368a9e7603d812": {
     "model_module": "@jupyter-widgets/base",
     "model_module_version": "1.2.0",
     "model_name": "LayoutModel",
     "state": {
      "_model_module": "@jupyter-widgets/base",
      "_model_module_version": "1.2.0",
      "_model_name": "LayoutModel",
      "_view_count": null,
      "_view_module": "@jupyter-widgets/base",
      "_view_module_version": "1.2.0",
      "_view_name": "LayoutView",
      "align_content": null,
      "align_items": null,
      "align_self": null,
      "border": null,
      "bottom": null,
      "display": null,
      "flex": null,
      "flex_flow": null,
      "grid_area": null,
      "grid_auto_columns": null,
      "grid_auto_flow": null,
      "grid_auto_rows": null,
      "grid_column": null,
      "grid_gap": null,
      "grid_row": null,
      "grid_template_areas": null,
      "grid_template_columns": null,
      "grid_template_rows": null,
      "height": null,
      "justify_content": null,
      "justify_items": null,
      "left": null,
      "margin": null,
      "max_height": null,
      "max_width": null,
      "min_height": null,
      "min_width": null,
      "object_fit": null,
      "object_position": null,
      "order": null,
      "overflow": null,
      "overflow_x": null,
      "overflow_y": null,
      "padding": null,
      "right": null,
      "top": null,
      "visibility": null,
      "width": null
     }
    },
    "68e5c539fb1544a78f9860fa2575fcc8": {
     "model_module": "@jupyter-widgets/controls",
     "model_module_version": "1.5.0",
     "model_name": "ProgressStyleModel",
     "state": {
      "_model_module": "@jupyter-widgets/controls",
      "_model_module_version": "1.5.0",
      "_model_name": "ProgressStyleModel",
      "_view_count": null,
      "_view_module": "@jupyter-widgets/base",
      "_view_module_version": "1.2.0",
      "_view_name": "StyleView",
      "bar_color": null,
      "description_width": ""
     }
    },
    "692394be391c42c4bdd24dd0bb8652a8": {
     "model_module": "@jupyter-widgets/base",
     "model_module_version": "1.2.0",
     "model_name": "LayoutModel",
     "state": {
      "_model_module": "@jupyter-widgets/base",
      "_model_module_version": "1.2.0",
      "_model_name": "LayoutModel",
      "_view_count": null,
      "_view_module": "@jupyter-widgets/base",
      "_view_module_version": "1.2.0",
      "_view_name": "LayoutView",
      "align_content": null,
      "align_items": null,
      "align_self": null,
      "border": null,
      "bottom": null,
      "display": null,
      "flex": null,
      "flex_flow": null,
      "grid_area": null,
      "grid_auto_columns": null,
      "grid_auto_flow": null,
      "grid_auto_rows": null,
      "grid_column": null,
      "grid_gap": null,
      "grid_row": null,
      "grid_template_areas": null,
      "grid_template_columns": null,
      "grid_template_rows": null,
      "height": null,
      "justify_content": null,
      "justify_items": null,
      "left": null,
      "margin": null,
      "max_height": null,
      "max_width": null,
      "min_height": null,
      "min_width": null,
      "object_fit": null,
      "object_position": null,
      "order": null,
      "overflow": null,
      "overflow_x": null,
      "overflow_y": null,
      "padding": null,
      "right": null,
      "top": null,
      "visibility": null,
      "width": null
     }
    },
    "6a79016714e44c0fb1651d6e792998eb": {
     "model_module": "@jupyter-widgets/base",
     "model_module_version": "1.2.0",
     "model_name": "LayoutModel",
     "state": {
      "_model_module": "@jupyter-widgets/base",
      "_model_module_version": "1.2.0",
      "_model_name": "LayoutModel",
      "_view_count": null,
      "_view_module": "@jupyter-widgets/base",
      "_view_module_version": "1.2.0",
      "_view_name": "LayoutView",
      "align_content": null,
      "align_items": null,
      "align_self": null,
      "border": null,
      "bottom": null,
      "display": null,
      "flex": null,
      "flex_flow": null,
      "grid_area": null,
      "grid_auto_columns": null,
      "grid_auto_flow": null,
      "grid_auto_rows": null,
      "grid_column": null,
      "grid_gap": null,
      "grid_row": null,
      "grid_template_areas": null,
      "grid_template_columns": null,
      "grid_template_rows": null,
      "height": null,
      "justify_content": null,
      "justify_items": null,
      "left": null,
      "margin": null,
      "max_height": null,
      "max_width": null,
      "min_height": null,
      "min_width": null,
      "object_fit": null,
      "object_position": null,
      "order": null,
      "overflow": null,
      "overflow_x": null,
      "overflow_y": null,
      "padding": null,
      "right": null,
      "top": null,
      "visibility": null,
      "width": null
     }
    },
    "6b7f147dc6844dba885bcc4787a9ea14": {
     "model_module": "@jupyter-widgets/controls",
     "model_module_version": "1.5.0",
     "model_name": "HBoxModel",
     "state": {
      "_dom_classes": [],
      "_model_module": "@jupyter-widgets/controls",
      "_model_module_version": "1.5.0",
      "_model_name": "HBoxModel",
      "_view_count": null,
      "_view_module": "@jupyter-widgets/controls",
      "_view_module_version": "1.5.0",
      "_view_name": "HBoxView",
      "box_style": "",
      "children": [
       "IPY_MODEL_3d156a5450a04b498272270cb0bf603c",
       "IPY_MODEL_f30b159d72344428bfe96a1ae9c033e8",
       "IPY_MODEL_e0e726cb39ff4115b22d926a9971ae5d"
      ],
      "layout": "IPY_MODEL_a3823d82b77a442ab95e85d39776fd02"
     }
    },
    "6be008a5f3fc456f88253db4e977a94e": {
     "model_module": "@jupyter-widgets/base",
     "model_module_version": "1.2.0",
     "model_name": "LayoutModel",
     "state": {
      "_model_module": "@jupyter-widgets/base",
      "_model_module_version": "1.2.0",
      "_model_name": "LayoutModel",
      "_view_count": null,
      "_view_module": "@jupyter-widgets/base",
      "_view_module_version": "1.2.0",
      "_view_name": "LayoutView",
      "align_content": null,
      "align_items": null,
      "align_self": null,
      "border": null,
      "bottom": null,
      "display": null,
      "flex": null,
      "flex_flow": null,
      "grid_area": null,
      "grid_auto_columns": null,
      "grid_auto_flow": null,
      "grid_auto_rows": null,
      "grid_column": null,
      "grid_gap": null,
      "grid_row": null,
      "grid_template_areas": null,
      "grid_template_columns": null,
      "grid_template_rows": null,
      "height": null,
      "justify_content": null,
      "justify_items": null,
      "left": null,
      "margin": null,
      "max_height": null,
      "max_width": null,
      "min_height": null,
      "min_width": null,
      "object_fit": null,
      "object_position": null,
      "order": null,
      "overflow": null,
      "overflow_x": null,
      "overflow_y": null,
      "padding": null,
      "right": null,
      "top": null,
      "visibility": null,
      "width": null
     }
    },
    "6c035db48dc24c48bd214460f1c4bc71": {
     "model_module": "@jupyter-widgets/controls",
     "model_module_version": "1.5.0",
     "model_name": "FloatProgressModel",
     "state": {
      "_dom_classes": [],
      "_model_module": "@jupyter-widgets/controls",
      "_model_module_version": "1.5.0",
      "_model_name": "FloatProgressModel",
      "_view_count": null,
      "_view_module": "@jupyter-widgets/controls",
      "_view_module_version": "1.5.0",
      "_view_name": "ProgressView",
      "bar_style": "success",
      "description": "",
      "description_tooltip": null,
      "layout": "IPY_MODEL_d0b86848e7c643a7bd79af270cfe9115",
      "max": 5,
      "min": 0,
      "orientation": "horizontal",
      "style": "IPY_MODEL_27945a37406249c691d26eb9013fb03c",
      "value": 5
     }
    },
    "6fae0cd41d9d409c84182f8a98ba2ab5": {
     "model_module": "@jupyter-widgets/controls",
     "model_module_version": "1.5.0",
     "model_name": "ProgressStyleModel",
     "state": {
      "_model_module": "@jupyter-widgets/controls",
      "_model_module_version": "1.5.0",
      "_model_name": "ProgressStyleModel",
      "_view_count": null,
      "_view_module": "@jupyter-widgets/base",
      "_view_module_version": "1.2.0",
      "_view_name": "StyleView",
      "bar_color": null,
      "description_width": ""
     }
    },
    "736ac85434954b54b25113726d6a9920": {
     "model_module": "@jupyter-widgets/controls",
     "model_module_version": "1.5.0",
     "model_name": "ProgressStyleModel",
     "state": {
      "_model_module": "@jupyter-widgets/controls",
      "_model_module_version": "1.5.0",
      "_model_name": "ProgressStyleModel",
      "_view_count": null,
      "_view_module": "@jupyter-widgets/base",
      "_view_module_version": "1.2.0",
      "_view_name": "StyleView",
      "bar_color": null,
      "description_width": ""
     }
    },
    "75c4e9c15c7d425fb5dcef5b24fe53a8": {
     "model_module": "@jupyter-widgets/controls",
     "model_module_version": "1.5.0",
     "model_name": "DescriptionStyleModel",
     "state": {
      "_model_module": "@jupyter-widgets/controls",
      "_model_module_version": "1.5.0",
      "_model_name": "DescriptionStyleModel",
      "_view_count": null,
      "_view_module": "@jupyter-widgets/base",
      "_view_module_version": "1.2.0",
      "_view_name": "StyleView",
      "description_width": ""
     }
    },
    "7808240d7a1d44f2b07427c857ffb78b": {
     "model_module": "@jupyter-widgets/controls",
     "model_module_version": "1.5.0",
     "model_name": "DescriptionStyleModel",
     "state": {
      "_model_module": "@jupyter-widgets/controls",
      "_model_module_version": "1.5.0",
      "_model_name": "DescriptionStyleModel",
      "_view_count": null,
      "_view_module": "@jupyter-widgets/base",
      "_view_module_version": "1.2.0",
      "_view_name": "StyleView",
      "description_width": ""
     }
    },
    "78fa6a098d8949f9b426c2ddb2a70b58": {
     "model_module": "@jupyter-widgets/controls",
     "model_module_version": "1.5.0",
     "model_name": "DescriptionStyleModel",
     "state": {
      "_model_module": "@jupyter-widgets/controls",
      "_model_module_version": "1.5.0",
      "_model_name": "DescriptionStyleModel",
      "_view_count": null,
      "_view_module": "@jupyter-widgets/base",
      "_view_module_version": "1.2.0",
      "_view_name": "StyleView",
      "description_width": ""
     }
    },
    "7b7c81fc04a44f4794fae10f2fe54adf": {
     "model_module": "@jupyter-widgets/controls",
     "model_module_version": "1.5.0",
     "model_name": "HTMLModel",
     "state": {
      "_dom_classes": [],
      "_model_module": "@jupyter-widgets/controls",
      "_model_module_version": "1.5.0",
      "_model_name": "HTMLModel",
      "_view_count": null,
      "_view_module": "@jupyter-widgets/controls",
      "_view_module_version": "1.5.0",
      "_view_name": "HTMLView",
      "description": "",
      "description_tooltip": null,
      "layout": "IPY_MODEL_a048154666104a8ab7c8a66285762fd4",
      "placeholder": "​",
      "style": "IPY_MODEL_82e758d01d2f46b09d1446833e398c1d",
      "value": " 12500/12500 [01:44&lt;00:00, 121.01it/s]"
     }
    },
    "7d0bf9f3996940198335ad1b9dae6ac2": {
     "model_module": "@jupyter-widgets/base",
     "model_module_version": "1.2.0",
     "model_name": "LayoutModel",
     "state": {
      "_model_module": "@jupyter-widgets/base",
      "_model_module_version": "1.2.0",
      "_model_name": "LayoutModel",
      "_view_count": null,
      "_view_module": "@jupyter-widgets/base",
      "_view_module_version": "1.2.0",
      "_view_name": "LayoutView",
      "align_content": null,
      "align_items": null,
      "align_self": null,
      "border": null,
      "bottom": null,
      "display": null,
      "flex": null,
      "flex_flow": null,
      "grid_area": null,
      "grid_auto_columns": null,
      "grid_auto_flow": null,
      "grid_auto_rows": null,
      "grid_column": null,
      "grid_gap": null,
      "grid_row": null,
      "grid_template_areas": null,
      "grid_template_columns": null,
      "grid_template_rows": null,
      "height": null,
      "justify_content": null,
      "justify_items": null,
      "left": null,
      "margin": null,
      "max_height": null,
      "max_width": null,
      "min_height": null,
      "min_width": null,
      "object_fit": null,
      "object_position": null,
      "order": null,
      "overflow": null,
      "overflow_x": null,
      "overflow_y": null,
      "padding": null,
      "right": null,
      "top": null,
      "visibility": null,
      "width": null
     }
    },
    "7d396dfc18ee4fb49ee9c5dea3b089c7": {
     "model_module": "@jupyter-widgets/controls",
     "model_module_version": "1.5.0",
     "model_name": "HTMLModel",
     "state": {
      "_dom_classes": [],
      "_model_module": "@jupyter-widgets/controls",
      "_model_module_version": "1.5.0",
      "_model_name": "HTMLModel",
      "_view_count": null,
      "_view_module": "@jupyter-widgets/controls",
      "_view_module_version": "1.5.0",
      "_view_name": "HTMLView",
      "description": "",
      "description_tooltip": null,
      "layout": "IPY_MODEL_6a79016714e44c0fb1651d6e792998eb",
      "placeholder": "​",
      "style": "IPY_MODEL_ad70586bb0e0473a9f8a2dbece66ac67",
      "value": "100%"
     }
    },
    "7d88d6d4230c4e538a7f62e545ea26e9": {
     "model_module": "@jupyter-widgets/controls",
     "model_module_version": "1.5.0",
     "model_name": "DescriptionStyleModel",
     "state": {
      "_model_module": "@jupyter-widgets/controls",
      "_model_module_version": "1.5.0",
      "_model_name": "DescriptionStyleModel",
      "_view_count": null,
      "_view_module": "@jupyter-widgets/base",
      "_view_module_version": "1.2.0",
      "_view_name": "StyleView",
      "description_width": ""
     }
    },
    "815d787c8f774c5d9a9f923a39b623e6": {
     "model_module": "@jupyter-widgets/controls",
     "model_module_version": "1.5.0",
     "model_name": "ProgressStyleModel",
     "state": {
      "_model_module": "@jupyter-widgets/controls",
      "_model_module_version": "1.5.0",
      "_model_name": "ProgressStyleModel",
      "_view_count": null,
      "_view_module": "@jupyter-widgets/base",
      "_view_module_version": "1.2.0",
      "_view_name": "StyleView",
      "bar_color": null,
      "description_width": ""
     }
    },
    "82e758d01d2f46b09d1446833e398c1d": {
     "model_module": "@jupyter-widgets/controls",
     "model_module_version": "1.5.0",
     "model_name": "DescriptionStyleModel",
     "state": {
      "_model_module": "@jupyter-widgets/controls",
      "_model_module_version": "1.5.0",
      "_model_name": "DescriptionStyleModel",
      "_view_count": null,
      "_view_module": "@jupyter-widgets/base",
      "_view_module_version": "1.2.0",
      "_view_name": "StyleView",
      "description_width": ""
     }
    },
    "82f37751159d43ea97c8ac3a07d9e5cc": {
     "model_module": "@jupyter-widgets/controls",
     "model_module_version": "1.5.0",
     "model_name": "HBoxModel",
     "state": {
      "_dom_classes": [],
      "_model_module": "@jupyter-widgets/controls",
      "_model_module_version": "1.5.0",
      "_model_name": "HBoxModel",
      "_view_count": null,
      "_view_module": "@jupyter-widgets/controls",
      "_view_module_version": "1.5.0",
      "_view_name": "HBoxView",
      "box_style": "",
      "children": [
       "IPY_MODEL_b9c05d2674964a419ed20e8a5897905b",
       "IPY_MODEL_e6a44b6b0f6543c19a0f959d9a08646a",
       "IPY_MODEL_40408182b01c4c17b17074345acd1623"
      ],
      "layout": "IPY_MODEL_f39786c981944c4185c66195059d1e3d"
     }
    },
    "8409cccbafc746d28c6b64fc4bcc38cf": {
     "model_module": "@jupyter-widgets/controls",
     "model_module_version": "1.5.0",
     "model_name": "FloatProgressModel",
     "state": {
      "_dom_classes": [],
      "_model_module": "@jupyter-widgets/controls",
      "_model_module_version": "1.5.0",
      "_model_name": "FloatProgressModel",
      "_view_count": null,
      "_view_module": "@jupyter-widgets/controls",
      "_view_module_version": "1.5.0",
      "_view_name": "ProgressView",
      "bar_style": "success",
      "description": "",
      "description_tooltip": null,
      "layout": "IPY_MODEL_b641fccad2f9420999d6b04839ca1f8b",
      "max": 12500,
      "min": 0,
      "orientation": "horizontal",
      "style": "IPY_MODEL_edf93b0f1a2b4f0698ff492c802d8516",
      "value": 12500
     }
    },
    "84dc1aef8a3a4d8181fc4b627c00d437": {
     "model_module": "@jupyter-widgets/controls",
     "model_module_version": "1.5.0",
     "model_name": "HTMLModel",
     "state": {
      "_dom_classes": [],
      "_model_module": "@jupyter-widgets/controls",
      "_model_module_version": "1.5.0",
      "_model_name": "HTMLModel",
      "_view_count": null,
      "_view_module": "@jupyter-widgets/controls",
      "_view_module_version": "1.5.0",
      "_view_name": "HTMLView",
      "description": "",
      "description_tooltip": null,
      "layout": "IPY_MODEL_2c69961983d4475cbf708e682f2064ec",
      "placeholder": "​",
      "style": "IPY_MODEL_fb801f8fb8b94eb99f300e3d35e8c460",
      "value": " 12500/12500 [01:40&lt;00:00, 129.52it/s]"
     }
    },
    "850cf7807811481cbc11015aaedb3127": {
     "model_module": "@jupyter-widgets/controls",
     "model_module_version": "1.5.0",
     "model_name": "DescriptionStyleModel",
     "state": {
      "_model_module": "@jupyter-widgets/controls",
      "_model_module_version": "1.5.0",
      "_model_name": "DescriptionStyleModel",
      "_view_count": null,
      "_view_module": "@jupyter-widgets/base",
      "_view_module_version": "1.2.0",
      "_view_name": "StyleView",
      "description_width": ""
     }
    },
    "89a28d3ea7354ccd9185f2126fcbbc3f": {
     "model_module": "@jupyter-widgets/controls",
     "model_module_version": "1.5.0",
     "model_name": "DescriptionStyleModel",
     "state": {
      "_model_module": "@jupyter-widgets/controls",
      "_model_module_version": "1.5.0",
      "_model_name": "DescriptionStyleModel",
      "_view_count": null,
      "_view_module": "@jupyter-widgets/base",
      "_view_module_version": "1.2.0",
      "_view_name": "StyleView",
      "description_width": ""
     }
    },
    "8bc34c4c94564df89ef8becf75bc922f": {
     "model_module": "@jupyter-widgets/controls",
     "model_module_version": "1.5.0",
     "model_name": "FloatProgressModel",
     "state": {
      "_dom_classes": [],
      "_model_module": "@jupyter-widgets/controls",
      "_model_module_version": "1.5.0",
      "_model_name": "FloatProgressModel",
      "_view_count": null,
      "_view_module": "@jupyter-widgets/controls",
      "_view_module_version": "1.5.0",
      "_view_name": "ProgressView",
      "bar_style": "success",
      "description": "",
      "description_tooltip": null,
      "layout": "IPY_MODEL_cf9b583d63b242faa8958a8e08923202",
      "max": 12500,
      "min": 0,
      "orientation": "horizontal",
      "style": "IPY_MODEL_e5e8f6c7d08448a7a470815b61e750d1",
      "value": 12500
     }
    },
    "8e154dd0b8884141a486f8760b0ed96b": {
     "model_module": "@jupyter-widgets/controls",
     "model_module_version": "1.5.0",
     "model_name": "HTMLModel",
     "state": {
      "_dom_classes": [],
      "_model_module": "@jupyter-widgets/controls",
      "_model_module_version": "1.5.0",
      "_model_name": "HTMLModel",
      "_view_count": null,
      "_view_module": "@jupyter-widgets/controls",
      "_view_module_version": "1.5.0",
      "_view_name": "HTMLView",
      "description": "",
      "description_tooltip": null,
      "layout": "IPY_MODEL_d30b292744d242fbb49a681336ffea56",
      "placeholder": "​",
      "style": "IPY_MODEL_b2d6dddcc9644090a3fdf82211cb8e91",
      "value": "100%"
     }
    },
    "8ef89c9d3ad747a1954d4893ccb2c1e2": {
     "model_module": "@jupyter-widgets/controls",
     "model_module_version": "1.5.0",
     "model_name": "ProgressStyleModel",
     "state": {
      "_model_module": "@jupyter-widgets/controls",
      "_model_module_version": "1.5.0",
      "_model_name": "ProgressStyleModel",
      "_view_count": null,
      "_view_module": "@jupyter-widgets/base",
      "_view_module_version": "1.2.0",
      "_view_name": "StyleView",
      "bar_color": null,
      "description_width": ""
     }
    },
    "931b4b2773734909b018f8c1115f9bb4": {
     "model_module": "@jupyter-widgets/base",
     "model_module_version": "1.2.0",
     "model_name": "LayoutModel",
     "state": {
      "_model_module": "@jupyter-widgets/base",
      "_model_module_version": "1.2.0",
      "_model_name": "LayoutModel",
      "_view_count": null,
      "_view_module": "@jupyter-widgets/base",
      "_view_module_version": "1.2.0",
      "_view_name": "LayoutView",
      "align_content": null,
      "align_items": null,
      "align_self": null,
      "border": null,
      "bottom": null,
      "display": null,
      "flex": null,
      "flex_flow": null,
      "grid_area": null,
      "grid_auto_columns": null,
      "grid_auto_flow": null,
      "grid_auto_rows": null,
      "grid_column": null,
      "grid_gap": null,
      "grid_row": null,
      "grid_template_areas": null,
      "grid_template_columns": null,
      "grid_template_rows": null,
      "height": null,
      "justify_content": null,
      "justify_items": null,
      "left": null,
      "margin": null,
      "max_height": null,
      "max_width": null,
      "min_height": null,
      "min_width": null,
      "object_fit": null,
      "object_position": null,
      "order": null,
      "overflow": null,
      "overflow_x": null,
      "overflow_y": null,
      "padding": null,
      "right": null,
      "top": null,
      "visibility": null,
      "width": null
     }
    },
    "933062f7866149ebab0c39eed7677c2e": {
     "model_module": "@jupyter-widgets/controls",
     "model_module_version": "1.5.0",
     "model_name": "DescriptionStyleModel",
     "state": {
      "_model_module": "@jupyter-widgets/controls",
      "_model_module_version": "1.5.0",
      "_model_name": "DescriptionStyleModel",
      "_view_count": null,
      "_view_module": "@jupyter-widgets/base",
      "_view_module_version": "1.2.0",
      "_view_name": "StyleView",
      "description_width": ""
     }
    },
    "93a6b6979b854f7c9b7cc01824939649": {
     "model_module": "@jupyter-widgets/base",
     "model_module_version": "1.2.0",
     "model_name": "LayoutModel",
     "state": {
      "_model_module": "@jupyter-widgets/base",
      "_model_module_version": "1.2.0",
      "_model_name": "LayoutModel",
      "_view_count": null,
      "_view_module": "@jupyter-widgets/base",
      "_view_module_version": "1.2.0",
      "_view_name": "LayoutView",
      "align_content": null,
      "align_items": null,
      "align_self": null,
      "border": null,
      "bottom": null,
      "display": null,
      "flex": null,
      "flex_flow": null,
      "grid_area": null,
      "grid_auto_columns": null,
      "grid_auto_flow": null,
      "grid_auto_rows": null,
      "grid_column": null,
      "grid_gap": null,
      "grid_row": null,
      "grid_template_areas": null,
      "grid_template_columns": null,
      "grid_template_rows": null,
      "height": null,
      "justify_content": null,
      "justify_items": null,
      "left": null,
      "margin": null,
      "max_height": null,
      "max_width": null,
      "min_height": null,
      "min_width": null,
      "object_fit": null,
      "object_position": null,
      "order": null,
      "overflow": null,
      "overflow_x": null,
      "overflow_y": null,
      "padding": null,
      "right": null,
      "top": null,
      "visibility": null,
      "width": null
     }
    },
    "956518d991fb496e950eafe27a4d15ea": {
     "model_module": "@jupyter-widgets/controls",
     "model_module_version": "1.5.0",
     "model_name": "HTMLModel",
     "state": {
      "_dom_classes": [],
      "_model_module": "@jupyter-widgets/controls",
      "_model_module_version": "1.5.0",
      "_model_name": "HTMLModel",
      "_view_count": null,
      "_view_module": "@jupyter-widgets/controls",
      "_view_module_version": "1.5.0",
      "_view_name": "HTMLView",
      "description": "",
      "description_tooltip": null,
      "layout": "IPY_MODEL_c131b9418f3e4500a0c6c1dfae4134e2",
      "placeholder": "​",
      "style": "IPY_MODEL_2a2b2006260647b4bf32e5ad29baf638",
      "value": "100%"
     }
    },
    "957e79b742854e8f94fac73fd6b1decf": {
     "model_module": "@jupyter-widgets/base",
     "model_module_version": "1.2.0",
     "model_name": "LayoutModel",
     "state": {
      "_model_module": "@jupyter-widgets/base",
      "_model_module_version": "1.2.0",
      "_model_name": "LayoutModel",
      "_view_count": null,
      "_view_module": "@jupyter-widgets/base",
      "_view_module_version": "1.2.0",
      "_view_name": "LayoutView",
      "align_content": null,
      "align_items": null,
      "align_self": null,
      "border": null,
      "bottom": null,
      "display": null,
      "flex": null,
      "flex_flow": null,
      "grid_area": null,
      "grid_auto_columns": null,
      "grid_auto_flow": null,
      "grid_auto_rows": null,
      "grid_column": null,
      "grid_gap": null,
      "grid_row": null,
      "grid_template_areas": null,
      "grid_template_columns": null,
      "grid_template_rows": null,
      "height": null,
      "justify_content": null,
      "justify_items": null,
      "left": null,
      "margin": null,
      "max_height": null,
      "max_width": null,
      "min_height": null,
      "min_width": null,
      "object_fit": null,
      "object_position": null,
      "order": null,
      "overflow": null,
      "overflow_x": null,
      "overflow_y": null,
      "padding": null,
      "right": null,
      "top": null,
      "visibility": null,
      "width": null
     }
    },
    "96097134231848ac813bb5e976c458af": {
     "model_module": "@jupyter-widgets/controls",
     "model_module_version": "1.5.0",
     "model_name": "HTMLModel",
     "state": {
      "_dom_classes": [],
      "_model_module": "@jupyter-widgets/controls",
      "_model_module_version": "1.5.0",
      "_model_name": "HTMLModel",
      "_view_count": null,
      "_view_module": "@jupyter-widgets/controls",
      "_view_module_version": "1.5.0",
      "_view_name": "HTMLView",
      "description": "",
      "description_tooltip": null,
      "layout": "IPY_MODEL_1529f05e332e48bb973206d9bd5c3f4a",
      "placeholder": "​",
      "style": "IPY_MODEL_7808240d7a1d44f2b07427c857ffb78b",
      "value": "100%"
     }
    },
    "961787e0c1d349b4ad51325503015bee": {
     "model_module": "@jupyter-widgets/controls",
     "model_module_version": "1.5.0",
     "model_name": "HTMLModel",
     "state": {
      "_dom_classes": [],
      "_model_module": "@jupyter-widgets/controls",
      "_model_module_version": "1.5.0",
      "_model_name": "HTMLModel",
      "_view_count": null,
      "_view_module": "@jupyter-widgets/controls",
      "_view_module_version": "1.5.0",
      "_view_name": "HTMLView",
      "description": "",
      "description_tooltip": null,
      "layout": "IPY_MODEL_2f113382ee3647848987ece9f60a1375",
      "placeholder": "​",
      "style": "IPY_MODEL_af21f10956f244e791e6cfa52a836ebc",
      "value": "100%"
     }
    },
    "96933dfcff7940308f74b599b4a01cd4": {
     "model_module": "@jupyter-widgets/controls",
     "model_module_version": "1.5.0",
     "model_name": "FloatProgressModel",
     "state": {
      "_dom_classes": [],
      "_model_module": "@jupyter-widgets/controls",
      "_model_module_version": "1.5.0",
      "_model_name": "FloatProgressModel",
      "_view_count": null,
      "_view_module": "@jupyter-widgets/controls",
      "_view_module_version": "1.5.0",
      "_view_name": "ProgressView",
      "bar_style": "success",
      "description": "",
      "description_tooltip": null,
      "layout": "IPY_MODEL_efd82ee5d93543de85650c63d7339730",
      "max": 170498071,
      "min": 0,
      "orientation": "horizontal",
      "style": "IPY_MODEL_6fae0cd41d9d409c84182f8a98ba2ab5",
      "value": 170498071
     }
    },
    "9866bce8afa446afb647f26bdda51eb2": {
     "model_module": "@jupyter-widgets/base",
     "model_module_version": "1.2.0",
     "model_name": "LayoutModel",
     "state": {
      "_model_module": "@jupyter-widgets/base",
      "_model_module_version": "1.2.0",
      "_model_name": "LayoutModel",
      "_view_count": null,
      "_view_module": "@jupyter-widgets/base",
      "_view_module_version": "1.2.0",
      "_view_name": "LayoutView",
      "align_content": null,
      "align_items": null,
      "align_self": null,
      "border": null,
      "bottom": null,
      "display": null,
      "flex": null,
      "flex_flow": null,
      "grid_area": null,
      "grid_auto_columns": null,
      "grid_auto_flow": null,
      "grid_auto_rows": null,
      "grid_column": null,
      "grid_gap": null,
      "grid_row": null,
      "grid_template_areas": null,
      "grid_template_columns": null,
      "grid_template_rows": null,
      "height": null,
      "justify_content": null,
      "justify_items": null,
      "left": null,
      "margin": null,
      "max_height": null,
      "max_width": null,
      "min_height": null,
      "min_width": null,
      "object_fit": null,
      "object_position": null,
      "order": null,
      "overflow": null,
      "overflow_x": null,
      "overflow_y": null,
      "padding": null,
      "right": null,
      "top": null,
      "visibility": null,
      "width": null
     }
    },
    "9c8e64a6c5994d7e81050c2400293941": {
     "model_module": "@jupyter-widgets/controls",
     "model_module_version": "1.5.0",
     "model_name": "HTMLModel",
     "state": {
      "_dom_classes": [],
      "_model_module": "@jupyter-widgets/controls",
      "_model_module_version": "1.5.0",
      "_model_name": "HTMLModel",
      "_view_count": null,
      "_view_module": "@jupyter-widgets/controls",
      "_view_module_version": "1.5.0",
      "_view_name": "HTMLView",
      "description": "",
      "description_tooltip": null,
      "layout": "IPY_MODEL_ab17862b0a6745478b03f45a8acfcbd6",
      "placeholder": "​",
      "style": "IPY_MODEL_a4c83a41d2054f60a71fd655f9806639",
      "value": "100%"
     }
    },
    "9c917d934f444301ac8d0ceacd67245b": {
     "model_module": "@jupyter-widgets/controls",
     "model_module_version": "1.5.0",
     "model_name": "HTMLModel",
     "state": {
      "_dom_classes": [],
      "_model_module": "@jupyter-widgets/controls",
      "_model_module_version": "1.5.0",
      "_model_name": "HTMLModel",
      "_view_count": null,
      "_view_module": "@jupyter-widgets/controls",
      "_view_module_version": "1.5.0",
      "_view_name": "HTMLView",
      "description": "",
      "description_tooltip": null,
      "layout": "IPY_MODEL_cfaa29caa0154381bd11a9bfd4eadcd1",
      "placeholder": "​",
      "style": "IPY_MODEL_230078b9c5c747f68dcc907a60da6656",
      "value": " 12500/12500 [02:14&lt;00:00, 92.49it/s]"
     }
    },
    "9fec9a878a434bcfabd2d44bb75fd23e": {
     "model_module": "@jupyter-widgets/controls",
     "model_module_version": "1.5.0",
     "model_name": "FloatProgressModel",
     "state": {
      "_dom_classes": [],
      "_model_module": "@jupyter-widgets/controls",
      "_model_module_version": "1.5.0",
      "_model_name": "FloatProgressModel",
      "_view_count": null,
      "_view_module": "@jupyter-widgets/controls",
      "_view_module_version": "1.5.0",
      "_view_name": "ProgressView",
      "bar_style": "success",
      "description": "",
      "description_tooltip": null,
      "layout": "IPY_MODEL_4059df2231a64fa69124730f27dce6df",
      "max": 12500,
      "min": 0,
      "orientation": "horizontal",
      "style": "IPY_MODEL_68e5c539fb1544a78f9860fa2575fcc8",
      "value": 12500
     }
    },
    "a048154666104a8ab7c8a66285762fd4": {
     "model_module": "@jupyter-widgets/base",
     "model_module_version": "1.2.0",
     "model_name": "LayoutModel",
     "state": {
      "_model_module": "@jupyter-widgets/base",
      "_model_module_version": "1.2.0",
      "_model_name": "LayoutModel",
      "_view_count": null,
      "_view_module": "@jupyter-widgets/base",
      "_view_module_version": "1.2.0",
      "_view_name": "LayoutView",
      "align_content": null,
      "align_items": null,
      "align_self": null,
      "border": null,
      "bottom": null,
      "display": null,
      "flex": null,
      "flex_flow": null,
      "grid_area": null,
      "grid_auto_columns": null,
      "grid_auto_flow": null,
      "grid_auto_rows": null,
      "grid_column": null,
      "grid_gap": null,
      "grid_row": null,
      "grid_template_areas": null,
      "grid_template_columns": null,
      "grid_template_rows": null,
      "height": null,
      "justify_content": null,
      "justify_items": null,
      "left": null,
      "margin": null,
      "max_height": null,
      "max_width": null,
      "min_height": null,
      "min_width": null,
      "object_fit": null,
      "object_position": null,
      "order": null,
      "overflow": null,
      "overflow_x": null,
      "overflow_y": null,
      "padding": null,
      "right": null,
      "top": null,
      "visibility": null,
      "width": null
     }
    },
    "a2553020d69242a8946c285dddf9fffc": {
     "model_module": "@jupyter-widgets/controls",
     "model_module_version": "1.5.0",
     "model_name": "DescriptionStyleModel",
     "state": {
      "_model_module": "@jupyter-widgets/controls",
      "_model_module_version": "1.5.0",
      "_model_name": "DescriptionStyleModel",
      "_view_count": null,
      "_view_module": "@jupyter-widgets/base",
      "_view_module_version": "1.2.0",
      "_view_name": "StyleView",
      "description_width": ""
     }
    },
    "a34db5150de14b4f9632cfa25d4f6741": {
     "model_module": "@jupyter-widgets/controls",
     "model_module_version": "1.5.0",
     "model_name": "FloatProgressModel",
     "state": {
      "_dom_classes": [],
      "_model_module": "@jupyter-widgets/controls",
      "_model_module_version": "1.5.0",
      "_model_name": "FloatProgressModel",
      "_view_count": null,
      "_view_module": "@jupyter-widgets/controls",
      "_view_module_version": "1.5.0",
      "_view_name": "ProgressView",
      "bar_style": "success",
      "description": "",
      "description_tooltip": null,
      "layout": "IPY_MODEL_63418c5bf9384640b0c383a0c9a034b1",
      "max": 3,
      "min": 0,
      "orientation": "horizontal",
      "style": "IPY_MODEL_f3a30a1be89b49419110d979d167cb9f",
      "value": 3
     }
    },
    "a3823d82b77a442ab95e85d39776fd02": {
     "model_module": "@jupyter-widgets/base",
     "model_module_version": "1.2.0",
     "model_name": "LayoutModel",
     "state": {
      "_model_module": "@jupyter-widgets/base",
      "_model_module_version": "1.2.0",
      "_model_name": "LayoutModel",
      "_view_count": null,
      "_view_module": "@jupyter-widgets/base",
      "_view_module_version": "1.2.0",
      "_view_name": "LayoutView",
      "align_content": null,
      "align_items": null,
      "align_self": null,
      "border": null,
      "bottom": null,
      "display": null,
      "flex": null,
      "flex_flow": null,
      "grid_area": null,
      "grid_auto_columns": null,
      "grid_auto_flow": null,
      "grid_auto_rows": null,
      "grid_column": null,
      "grid_gap": null,
      "grid_row": null,
      "grid_template_areas": null,
      "grid_template_columns": null,
      "grid_template_rows": null,
      "height": null,
      "justify_content": null,
      "justify_items": null,
      "left": null,
      "margin": null,
      "max_height": null,
      "max_width": null,
      "min_height": null,
      "min_width": null,
      "object_fit": null,
      "object_position": null,
      "order": null,
      "overflow": null,
      "overflow_x": null,
      "overflow_y": null,
      "padding": null,
      "right": null,
      "top": null,
      "visibility": null,
      "width": null
     }
    },
    "a4c83a41d2054f60a71fd655f9806639": {
     "model_module": "@jupyter-widgets/controls",
     "model_module_version": "1.5.0",
     "model_name": "DescriptionStyleModel",
     "state": {
      "_model_module": "@jupyter-widgets/controls",
      "_model_module_version": "1.5.0",
      "_model_name": "DescriptionStyleModel",
      "_view_count": null,
      "_view_module": "@jupyter-widgets/base",
      "_view_module_version": "1.2.0",
      "_view_name": "StyleView",
      "description_width": ""
     }
    },
    "a68ea54866a446e4b85860277d185f24": {
     "model_module": "@jupyter-widgets/base",
     "model_module_version": "1.2.0",
     "model_name": "LayoutModel",
     "state": {
      "_model_module": "@jupyter-widgets/base",
      "_model_module_version": "1.2.0",
      "_model_name": "LayoutModel",
      "_view_count": null,
      "_view_module": "@jupyter-widgets/base",
      "_view_module_version": "1.2.0",
      "_view_name": "LayoutView",
      "align_content": null,
      "align_items": null,
      "align_self": null,
      "border": null,
      "bottom": null,
      "display": null,
      "flex": null,
      "flex_flow": null,
      "grid_area": null,
      "grid_auto_columns": null,
      "grid_auto_flow": null,
      "grid_auto_rows": null,
      "grid_column": null,
      "grid_gap": null,
      "grid_row": null,
      "grid_template_areas": null,
      "grid_template_columns": null,
      "grid_template_rows": null,
      "height": null,
      "justify_content": null,
      "justify_items": null,
      "left": null,
      "margin": null,
      "max_height": null,
      "max_width": null,
      "min_height": null,
      "min_width": null,
      "object_fit": null,
      "object_position": null,
      "order": null,
      "overflow": null,
      "overflow_x": null,
      "overflow_y": null,
      "padding": null,
      "right": null,
      "top": null,
      "visibility": null,
      "width": null
     }
    },
    "a6be9c2bc4344fdf84eb291ffbacea17": {
     "model_module": "@jupyter-widgets/base",
     "model_module_version": "1.2.0",
     "model_name": "LayoutModel",
     "state": {
      "_model_module": "@jupyter-widgets/base",
      "_model_module_version": "1.2.0",
      "_model_name": "LayoutModel",
      "_view_count": null,
      "_view_module": "@jupyter-widgets/base",
      "_view_module_version": "1.2.0",
      "_view_name": "LayoutView",
      "align_content": null,
      "align_items": null,
      "align_self": null,
      "border": null,
      "bottom": null,
      "display": null,
      "flex": null,
      "flex_flow": null,
      "grid_area": null,
      "grid_auto_columns": null,
      "grid_auto_flow": null,
      "grid_auto_rows": null,
      "grid_column": null,
      "grid_gap": null,
      "grid_row": null,
      "grid_template_areas": null,
      "grid_template_columns": null,
      "grid_template_rows": null,
      "height": null,
      "justify_content": null,
      "justify_items": null,
      "left": null,
      "margin": null,
      "max_height": null,
      "max_width": null,
      "min_height": null,
      "min_width": null,
      "object_fit": null,
      "object_position": null,
      "order": null,
      "overflow": null,
      "overflow_x": null,
      "overflow_y": null,
      "padding": null,
      "right": null,
      "top": null,
      "visibility": null,
      "width": null
     }
    },
    "a78fc26db7564507bb2cdb292d4370cd": {
     "model_module": "@jupyter-widgets/controls",
     "model_module_version": "1.5.0",
     "model_name": "ProgressStyleModel",
     "state": {
      "_model_module": "@jupyter-widgets/controls",
      "_model_module_version": "1.5.0",
      "_model_name": "ProgressStyleModel",
      "_view_count": null,
      "_view_module": "@jupyter-widgets/base",
      "_view_module_version": "1.2.0",
      "_view_name": "StyleView",
      "bar_color": null,
      "description_width": ""
     }
    },
    "aadf2337d6b341fcae61a950c41cc240": {
     "model_module": "@jupyter-widgets/controls",
     "model_module_version": "1.5.0",
     "model_name": "HTMLModel",
     "state": {
      "_dom_classes": [],
      "_model_module": "@jupyter-widgets/controls",
      "_model_module_version": "1.5.0",
      "_model_name": "HTMLModel",
      "_view_count": null,
      "_view_module": "@jupyter-widgets/controls",
      "_view_module_version": "1.5.0",
      "_view_name": "HTMLView",
      "description": "",
      "description_tooltip": null,
      "layout": "IPY_MODEL_b2895f8c344d451eb41f7c918bf41824",
      "placeholder": "​",
      "style": "IPY_MODEL_3915a0c9beb141819d44430f3e388030",
      "value": " 12500/12500 [01:44&lt;00:00, 121.28it/s]"
     }
    },
    "ab17862b0a6745478b03f45a8acfcbd6": {
     "model_module": "@jupyter-widgets/base",
     "model_module_version": "1.2.0",
     "model_name": "LayoutModel",
     "state": {
      "_model_module": "@jupyter-widgets/base",
      "_model_module_version": "1.2.0",
      "_model_name": "LayoutModel",
      "_view_count": null,
      "_view_module": "@jupyter-widgets/base",
      "_view_module_version": "1.2.0",
      "_view_name": "LayoutView",
      "align_content": null,
      "align_items": null,
      "align_self": null,
      "border": null,
      "bottom": null,
      "display": null,
      "flex": null,
      "flex_flow": null,
      "grid_area": null,
      "grid_auto_columns": null,
      "grid_auto_flow": null,
      "grid_auto_rows": null,
      "grid_column": null,
      "grid_gap": null,
      "grid_row": null,
      "grid_template_areas": null,
      "grid_template_columns": null,
      "grid_template_rows": null,
      "height": null,
      "justify_content": null,
      "justify_items": null,
      "left": null,
      "margin": null,
      "max_height": null,
      "max_width": null,
      "min_height": null,
      "min_width": null,
      "object_fit": null,
      "object_position": null,
      "order": null,
      "overflow": null,
      "overflow_x": null,
      "overflow_y": null,
      "padding": null,
      "right": null,
      "top": null,
      "visibility": null,
      "width": null
     }
    },
    "acbaf78a222642e6a251ce6aff11e98a": {
     "model_module": "@jupyter-widgets/controls",
     "model_module_version": "1.5.0",
     "model_name": "HTMLModel",
     "state": {
      "_dom_classes": [],
      "_model_module": "@jupyter-widgets/controls",
      "_model_module_version": "1.5.0",
      "_model_name": "HTMLModel",
      "_view_count": null,
      "_view_module": "@jupyter-widgets/controls",
      "_view_module_version": "1.5.0",
      "_view_name": "HTMLView",
      "description": "",
      "description_tooltip": null,
      "layout": "IPY_MODEL_1f73c894110c4f21abef8e0a67a980e7",
      "placeholder": "​",
      "style": "IPY_MODEL_cecb4ed6df184a78b9804ef9c086ed14",
      "value": " 12500/12500 [01:45&lt;00:00, 117.38it/s]"
     }
    },
    "ad70586bb0e0473a9f8a2dbece66ac67": {
     "model_module": "@jupyter-widgets/controls",
     "model_module_version": "1.5.0",
     "model_name": "DescriptionStyleModel",
     "state": {
      "_model_module": "@jupyter-widgets/controls",
      "_model_module_version": "1.5.0",
      "_model_name": "DescriptionStyleModel",
      "_view_count": null,
      "_view_module": "@jupyter-widgets/base",
      "_view_module_version": "1.2.0",
      "_view_name": "StyleView",
      "description_width": ""
     }
    },
    "af21f10956f244e791e6cfa52a836ebc": {
     "model_module": "@jupyter-widgets/controls",
     "model_module_version": "1.5.0",
     "model_name": "DescriptionStyleModel",
     "state": {
      "_model_module": "@jupyter-widgets/controls",
      "_model_module_version": "1.5.0",
      "_model_name": "DescriptionStyleModel",
      "_view_count": null,
      "_view_module": "@jupyter-widgets/base",
      "_view_module_version": "1.2.0",
      "_view_name": "StyleView",
      "description_width": ""
     }
    },
    "b2895f8c344d451eb41f7c918bf41824": {
     "model_module": "@jupyter-widgets/base",
     "model_module_version": "1.2.0",
     "model_name": "LayoutModel",
     "state": {
      "_model_module": "@jupyter-widgets/base",
      "_model_module_version": "1.2.0",
      "_model_name": "LayoutModel",
      "_view_count": null,
      "_view_module": "@jupyter-widgets/base",
      "_view_module_version": "1.2.0",
      "_view_name": "LayoutView",
      "align_content": null,
      "align_items": null,
      "align_self": null,
      "border": null,
      "bottom": null,
      "display": null,
      "flex": null,
      "flex_flow": null,
      "grid_area": null,
      "grid_auto_columns": null,
      "grid_auto_flow": null,
      "grid_auto_rows": null,
      "grid_column": null,
      "grid_gap": null,
      "grid_row": null,
      "grid_template_areas": null,
      "grid_template_columns": null,
      "grid_template_rows": null,
      "height": null,
      "justify_content": null,
      "justify_items": null,
      "left": null,
      "margin": null,
      "max_height": null,
      "max_width": null,
      "min_height": null,
      "min_width": null,
      "object_fit": null,
      "object_position": null,
      "order": null,
      "overflow": null,
      "overflow_x": null,
      "overflow_y": null,
      "padding": null,
      "right": null,
      "top": null,
      "visibility": null,
      "width": null
     }
    },
    "b2d6dddcc9644090a3fdf82211cb8e91": {
     "model_module": "@jupyter-widgets/controls",
     "model_module_version": "1.5.0",
     "model_name": "DescriptionStyleModel",
     "state": {
      "_model_module": "@jupyter-widgets/controls",
      "_model_module_version": "1.5.0",
      "_model_name": "DescriptionStyleModel",
      "_view_count": null,
      "_view_module": "@jupyter-widgets/base",
      "_view_module_version": "1.2.0",
      "_view_name": "StyleView",
      "description_width": ""
     }
    },
    "b61c571fab404823a0d853dce6678603": {
     "model_module": "@jupyter-widgets/controls",
     "model_module_version": "1.5.0",
     "model_name": "ProgressStyleModel",
     "state": {
      "_model_module": "@jupyter-widgets/controls",
      "_model_module_version": "1.5.0",
      "_model_name": "ProgressStyleModel",
      "_view_count": null,
      "_view_module": "@jupyter-widgets/base",
      "_view_module_version": "1.2.0",
      "_view_name": "StyleView",
      "bar_color": null,
      "description_width": ""
     }
    },
    "b641fccad2f9420999d6b04839ca1f8b": {
     "model_module": "@jupyter-widgets/base",
     "model_module_version": "1.2.0",
     "model_name": "LayoutModel",
     "state": {
      "_model_module": "@jupyter-widgets/base",
      "_model_module_version": "1.2.0",
      "_model_name": "LayoutModel",
      "_view_count": null,
      "_view_module": "@jupyter-widgets/base",
      "_view_module_version": "1.2.0",
      "_view_name": "LayoutView",
      "align_content": null,
      "align_items": null,
      "align_self": null,
      "border": null,
      "bottom": null,
      "display": null,
      "flex": null,
      "flex_flow": null,
      "grid_area": null,
      "grid_auto_columns": null,
      "grid_auto_flow": null,
      "grid_auto_rows": null,
      "grid_column": null,
      "grid_gap": null,
      "grid_row": null,
      "grid_template_areas": null,
      "grid_template_columns": null,
      "grid_template_rows": null,
      "height": null,
      "justify_content": null,
      "justify_items": null,
      "left": null,
      "margin": null,
      "max_height": null,
      "max_width": null,
      "min_height": null,
      "min_width": null,
      "object_fit": null,
      "object_position": null,
      "order": null,
      "overflow": null,
      "overflow_x": null,
      "overflow_y": null,
      "padding": null,
      "right": null,
      "top": null,
      "visibility": null,
      "width": null
     }
    },
    "b8d8499dcb27469496d5877f3152acb8": {
     "model_module": "@jupyter-widgets/base",
     "model_module_version": "1.2.0",
     "model_name": "LayoutModel",
     "state": {
      "_model_module": "@jupyter-widgets/base",
      "_model_module_version": "1.2.0",
      "_model_name": "LayoutModel",
      "_view_count": null,
      "_view_module": "@jupyter-widgets/base",
      "_view_module_version": "1.2.0",
      "_view_name": "LayoutView",
      "align_content": null,
      "align_items": null,
      "align_self": null,
      "border": null,
      "bottom": null,
      "display": null,
      "flex": null,
      "flex_flow": null,
      "grid_area": null,
      "grid_auto_columns": null,
      "grid_auto_flow": null,
      "grid_auto_rows": null,
      "grid_column": null,
      "grid_gap": null,
      "grid_row": null,
      "grid_template_areas": null,
      "grid_template_columns": null,
      "grid_template_rows": null,
      "height": null,
      "justify_content": null,
      "justify_items": null,
      "left": null,
      "margin": null,
      "max_height": null,
      "max_width": null,
      "min_height": null,
      "min_width": null,
      "object_fit": null,
      "object_position": null,
      "order": null,
      "overflow": null,
      "overflow_x": null,
      "overflow_y": null,
      "padding": null,
      "right": null,
      "top": null,
      "visibility": null,
      "width": null
     }
    },
    "b9c05d2674964a419ed20e8a5897905b": {
     "model_module": "@jupyter-widgets/controls",
     "model_module_version": "1.5.0",
     "model_name": "HTMLModel",
     "state": {
      "_dom_classes": [],
      "_model_module": "@jupyter-widgets/controls",
      "_model_module_version": "1.5.0",
      "_model_name": "HTMLModel",
      "_view_count": null,
      "_view_module": "@jupyter-widgets/controls",
      "_view_module_version": "1.5.0",
      "_view_name": "HTMLView",
      "description": "",
      "description_tooltip": null,
      "layout": "IPY_MODEL_7d0bf9f3996940198335ad1b9dae6ac2",
      "placeholder": "​",
      "style": "IPY_MODEL_ce5aabcd008548efa0d25c67c4495b4e",
      "value": "100%"
     }
    },
    "bd63d6d1bf024fb1949e2f21b520641a": {
     "model_module": "@jupyter-widgets/controls",
     "model_module_version": "1.5.0",
     "model_name": "DescriptionStyleModel",
     "state": {
      "_model_module": "@jupyter-widgets/controls",
      "_model_module_version": "1.5.0",
      "_model_name": "DescriptionStyleModel",
      "_view_count": null,
      "_view_module": "@jupyter-widgets/base",
      "_view_module_version": "1.2.0",
      "_view_name": "StyleView",
      "description_width": ""
     }
    },
    "bdb2dde6f6464758a3352756d402e64d": {
     "model_module": "@jupyter-widgets/base",
     "model_module_version": "1.2.0",
     "model_name": "LayoutModel",
     "state": {
      "_model_module": "@jupyter-widgets/base",
      "_model_module_version": "1.2.0",
      "_model_name": "LayoutModel",
      "_view_count": null,
      "_view_module": "@jupyter-widgets/base",
      "_view_module_version": "1.2.0",
      "_view_name": "LayoutView",
      "align_content": null,
      "align_items": null,
      "align_self": null,
      "border": null,
      "bottom": null,
      "display": null,
      "flex": null,
      "flex_flow": null,
      "grid_area": null,
      "grid_auto_columns": null,
      "grid_auto_flow": null,
      "grid_auto_rows": null,
      "grid_column": null,
      "grid_gap": null,
      "grid_row": null,
      "grid_template_areas": null,
      "grid_template_columns": null,
      "grid_template_rows": null,
      "height": null,
      "justify_content": null,
      "justify_items": null,
      "left": null,
      "margin": null,
      "max_height": null,
      "max_width": null,
      "min_height": null,
      "min_width": null,
      "object_fit": null,
      "object_position": null,
      "order": null,
      "overflow": null,
      "overflow_x": null,
      "overflow_y": null,
      "padding": null,
      "right": null,
      "top": null,
      "visibility": null,
      "width": null
     }
    },
    "c01a5c9fa122446698ffa957f63a1437": {
     "model_module": "@jupyter-widgets/base",
     "model_module_version": "1.2.0",
     "model_name": "LayoutModel",
     "state": {
      "_model_module": "@jupyter-widgets/base",
      "_model_module_version": "1.2.0",
      "_model_name": "LayoutModel",
      "_view_count": null,
      "_view_module": "@jupyter-widgets/base",
      "_view_module_version": "1.2.0",
      "_view_name": "LayoutView",
      "align_content": null,
      "align_items": null,
      "align_self": null,
      "border": null,
      "bottom": null,
      "display": null,
      "flex": null,
      "flex_flow": null,
      "grid_area": null,
      "grid_auto_columns": null,
      "grid_auto_flow": null,
      "grid_auto_rows": null,
      "grid_column": null,
      "grid_gap": null,
      "grid_row": null,
      "grid_template_areas": null,
      "grid_template_columns": null,
      "grid_template_rows": null,
      "height": null,
      "justify_content": null,
      "justify_items": null,
      "left": null,
      "margin": null,
      "max_height": null,
      "max_width": null,
      "min_height": null,
      "min_width": null,
      "object_fit": null,
      "object_position": null,
      "order": null,
      "overflow": null,
      "overflow_x": null,
      "overflow_y": null,
      "padding": null,
      "right": null,
      "top": null,
      "visibility": null,
      "width": null
     }
    },
    "c131b9418f3e4500a0c6c1dfae4134e2": {
     "model_module": "@jupyter-widgets/base",
     "model_module_version": "1.2.0",
     "model_name": "LayoutModel",
     "state": {
      "_model_module": "@jupyter-widgets/base",
      "_model_module_version": "1.2.0",
      "_model_name": "LayoutModel",
      "_view_count": null,
      "_view_module": "@jupyter-widgets/base",
      "_view_module_version": "1.2.0",
      "_view_name": "LayoutView",
      "align_content": null,
      "align_items": null,
      "align_self": null,
      "border": null,
      "bottom": null,
      "display": null,
      "flex": null,
      "flex_flow": null,
      "grid_area": null,
      "grid_auto_columns": null,
      "grid_auto_flow": null,
      "grid_auto_rows": null,
      "grid_column": null,
      "grid_gap": null,
      "grid_row": null,
      "grid_template_areas": null,
      "grid_template_columns": null,
      "grid_template_rows": null,
      "height": null,
      "justify_content": null,
      "justify_items": null,
      "left": null,
      "margin": null,
      "max_height": null,
      "max_width": null,
      "min_height": null,
      "min_width": null,
      "object_fit": null,
      "object_position": null,
      "order": null,
      "overflow": null,
      "overflow_x": null,
      "overflow_y": null,
      "padding": null,
      "right": null,
      "top": null,
      "visibility": null,
      "width": null
     }
    },
    "c565472f16804fb2b1a51ba8addd1deb": {
     "model_module": "@jupyter-widgets/controls",
     "model_module_version": "1.5.0",
     "model_name": "FloatProgressModel",
     "state": {
      "_dom_classes": [],
      "_model_module": "@jupyter-widgets/controls",
      "_model_module_version": "1.5.0",
      "_model_name": "FloatProgressModel",
      "_view_count": null,
      "_view_module": "@jupyter-widgets/controls",
      "_view_module_version": "1.5.0",
      "_view_name": "ProgressView",
      "bar_style": "success",
      "description": "",
      "description_tooltip": null,
      "layout": "IPY_MODEL_dfcf7caa2c8943f0aa191e76deb6b87f",
      "max": 12500,
      "min": 0,
      "orientation": "horizontal",
      "style": "IPY_MODEL_b61c571fab404823a0d853dce6678603",
      "value": 12500
     }
    },
    "c586fdbe57204e4593665e9b90d7b606": {
     "model_module": "@jupyter-widgets/controls",
     "model_module_version": "1.5.0",
     "model_name": "FloatProgressModel",
     "state": {
      "_dom_classes": [],
      "_model_module": "@jupyter-widgets/controls",
      "_model_module_version": "1.5.0",
      "_model_name": "FloatProgressModel",
      "_view_count": null,
      "_view_module": "@jupyter-widgets/controls",
      "_view_module_version": "1.5.0",
      "_view_name": "ProgressView",
      "bar_style": "success",
      "description": "",
      "description_tooltip": null,
      "layout": "IPY_MODEL_6be008a5f3fc456f88253db4e977a94e",
      "max": 12500,
      "min": 0,
      "orientation": "horizontal",
      "style": "IPY_MODEL_00d1eb98ed1b4c14b1e9ccbee080eeda",
      "value": 12500
     }
    },
    "c61bf41567644239b08c50896921dcbc": {
     "model_module": "@jupyter-widgets/base",
     "model_module_version": "1.2.0",
     "model_name": "LayoutModel",
     "state": {
      "_model_module": "@jupyter-widgets/base",
      "_model_module_version": "1.2.0",
      "_model_name": "LayoutModel",
      "_view_count": null,
      "_view_module": "@jupyter-widgets/base",
      "_view_module_version": "1.2.0",
      "_view_name": "LayoutView",
      "align_content": null,
      "align_items": null,
      "align_self": null,
      "border": null,
      "bottom": null,
      "display": null,
      "flex": null,
      "flex_flow": null,
      "grid_area": null,
      "grid_auto_columns": null,
      "grid_auto_flow": null,
      "grid_auto_rows": null,
      "grid_column": null,
      "grid_gap": null,
      "grid_row": null,
      "grid_template_areas": null,
      "grid_template_columns": null,
      "grid_template_rows": null,
      "height": null,
      "justify_content": null,
      "justify_items": null,
      "left": null,
      "margin": null,
      "max_height": null,
      "max_width": null,
      "min_height": null,
      "min_width": null,
      "object_fit": null,
      "object_position": null,
      "order": null,
      "overflow": null,
      "overflow_x": null,
      "overflow_y": null,
      "padding": null,
      "right": null,
      "top": null,
      "visibility": null,
      "width": null
     }
    },
    "c7af1c9e8f9f4135a881cd547ef74c27": {
     "model_module": "@jupyter-widgets/base",
     "model_module_version": "1.2.0",
     "model_name": "LayoutModel",
     "state": {
      "_model_module": "@jupyter-widgets/base",
      "_model_module_version": "1.2.0",
      "_model_name": "LayoutModel",
      "_view_count": null,
      "_view_module": "@jupyter-widgets/base",
      "_view_module_version": "1.2.0",
      "_view_name": "LayoutView",
      "align_content": null,
      "align_items": null,
      "align_self": null,
      "border": null,
      "bottom": null,
      "display": null,
      "flex": null,
      "flex_flow": null,
      "grid_area": null,
      "grid_auto_columns": null,
      "grid_auto_flow": null,
      "grid_auto_rows": null,
      "grid_column": null,
      "grid_gap": null,
      "grid_row": null,
      "grid_template_areas": null,
      "grid_template_columns": null,
      "grid_template_rows": null,
      "height": null,
      "justify_content": null,
      "justify_items": null,
      "left": null,
      "margin": null,
      "max_height": null,
      "max_width": null,
      "min_height": null,
      "min_width": null,
      "object_fit": null,
      "object_position": null,
      "order": null,
      "overflow": null,
      "overflow_x": null,
      "overflow_y": null,
      "padding": null,
      "right": null,
      "top": null,
      "visibility": null,
      "width": null
     }
    },
    "c7c9e19b00cd4a07817e1c3e66090096": {
     "model_module": "@jupyter-widgets/controls",
     "model_module_version": "1.5.0",
     "model_name": "HTMLModel",
     "state": {
      "_dom_classes": [],
      "_model_module": "@jupyter-widgets/controls",
      "_model_module_version": "1.5.0",
      "_model_name": "HTMLModel",
      "_view_count": null,
      "_view_module": "@jupyter-widgets/controls",
      "_view_module_version": "1.5.0",
      "_view_name": "HTMLView",
      "description": "",
      "description_tooltip": null,
      "layout": "IPY_MODEL_c96f561425274f0a8e035c230dda2ca3",
      "placeholder": "​",
      "style": "IPY_MODEL_89a28d3ea7354ccd9185f2126fcbbc3f",
      "value": "100%"
     }
    },
    "c96f561425274f0a8e035c230dda2ca3": {
     "model_module": "@jupyter-widgets/base",
     "model_module_version": "1.2.0",
     "model_name": "LayoutModel",
     "state": {
      "_model_module": "@jupyter-widgets/base",
      "_model_module_version": "1.2.0",
      "_model_name": "LayoutModel",
      "_view_count": null,
      "_view_module": "@jupyter-widgets/base",
      "_view_module_version": "1.2.0",
      "_view_name": "LayoutView",
      "align_content": null,
      "align_items": null,
      "align_self": null,
      "border": null,
      "bottom": null,
      "display": null,
      "flex": null,
      "flex_flow": null,
      "grid_area": null,
      "grid_auto_columns": null,
      "grid_auto_flow": null,
      "grid_auto_rows": null,
      "grid_column": null,
      "grid_gap": null,
      "grid_row": null,
      "grid_template_areas": null,
      "grid_template_columns": null,
      "grid_template_rows": null,
      "height": null,
      "justify_content": null,
      "justify_items": null,
      "left": null,
      "margin": null,
      "max_height": null,
      "max_width": null,
      "min_height": null,
      "min_width": null,
      "object_fit": null,
      "object_position": null,
      "order": null,
      "overflow": null,
      "overflow_x": null,
      "overflow_y": null,
      "padding": null,
      "right": null,
      "top": null,
      "visibility": null,
      "width": null
     }
    },
    "ca726151aafc438eaba754030cbb43d7": {
     "model_module": "@jupyter-widgets/controls",
     "model_module_version": "1.5.0",
     "model_name": "FloatProgressModel",
     "state": {
      "_dom_classes": [],
      "_model_module": "@jupyter-widgets/controls",
      "_model_module_version": "1.5.0",
      "_model_name": "FloatProgressModel",
      "_view_count": null,
      "_view_module": "@jupyter-widgets/controls",
      "_view_module_version": "1.5.0",
      "_view_name": "ProgressView",
      "bar_style": "success",
      "description": "",
      "description_tooltip": null,
      "layout": "IPY_MODEL_f227e39ca70949b096a10fce9c98b1c1",
      "max": 12500,
      "min": 0,
      "orientation": "horizontal",
      "style": "IPY_MODEL_f75ac41a6d774c1698525a7dd7885965",
      "value": 12500
     }
    },
    "cb4df5b43318418a9c4a16d7822ecbb7": {
     "model_module": "@jupyter-widgets/base",
     "model_module_version": "1.2.0",
     "model_name": "LayoutModel",
     "state": {
      "_model_module": "@jupyter-widgets/base",
      "_model_module_version": "1.2.0",
      "_model_name": "LayoutModel",
      "_view_count": null,
      "_view_module": "@jupyter-widgets/base",
      "_view_module_version": "1.2.0",
      "_view_name": "LayoutView",
      "align_content": null,
      "align_items": null,
      "align_self": null,
      "border": null,
      "bottom": null,
      "display": null,
      "flex": null,
      "flex_flow": null,
      "grid_area": null,
      "grid_auto_columns": null,
      "grid_auto_flow": null,
      "grid_auto_rows": null,
      "grid_column": null,
      "grid_gap": null,
      "grid_row": null,
      "grid_template_areas": null,
      "grid_template_columns": null,
      "grid_template_rows": null,
      "height": null,
      "justify_content": null,
      "justify_items": null,
      "left": null,
      "margin": null,
      "max_height": null,
      "max_width": null,
      "min_height": null,
      "min_width": null,
      "object_fit": null,
      "object_position": null,
      "order": null,
      "overflow": null,
      "overflow_x": null,
      "overflow_y": null,
      "padding": null,
      "right": null,
      "top": null,
      "visibility": null,
      "width": null
     }
    },
    "cb50fcbf0855430bbae928e6c1396181": {
     "model_module": "@jupyter-widgets/controls",
     "model_module_version": "1.5.0",
     "model_name": "HBoxModel",
     "state": {
      "_dom_classes": [],
      "_model_module": "@jupyter-widgets/controls",
      "_model_module_version": "1.5.0",
      "_model_name": "HBoxModel",
      "_view_count": null,
      "_view_module": "@jupyter-widgets/controls",
      "_view_module_version": "1.5.0",
      "_view_name": "HBoxView",
      "box_style": "",
      "children": [
       "IPY_MODEL_30c0c05f5e3e4004a59dbc6fc8a92945",
       "IPY_MODEL_1b4aed5470844b7580c4f127cd71a160",
       "IPY_MODEL_2b73c9def1c8454fb34e0dde3fbf4315"
      ],
      "layout": "IPY_MODEL_a6be9c2bc4344fdf84eb291ffbacea17"
     }
    },
    "cbbc0b323c5d494586ba413127d0ed77": {
     "model_module": "@jupyter-widgets/controls",
     "model_module_version": "1.5.0",
     "model_name": "FloatProgressModel",
     "state": {
      "_dom_classes": [],
      "_model_module": "@jupyter-widgets/controls",
      "_model_module_version": "1.5.0",
      "_model_name": "FloatProgressModel",
      "_view_count": null,
      "_view_module": "@jupyter-widgets/controls",
      "_view_module_version": "1.5.0",
      "_view_name": "ProgressView",
      "bar_style": "success",
      "description": "",
      "description_tooltip": null,
      "layout": "IPY_MODEL_f5f5bc26270445729d59e0c859942628",
      "max": 12500,
      "min": 0,
      "orientation": "horizontal",
      "style": "IPY_MODEL_8ef89c9d3ad747a1954d4893ccb2c1e2",
      "value": 12500
     }
    },
    "ce5aabcd008548efa0d25c67c4495b4e": {
     "model_module": "@jupyter-widgets/controls",
     "model_module_version": "1.5.0",
     "model_name": "DescriptionStyleModel",
     "state": {
      "_model_module": "@jupyter-widgets/controls",
      "_model_module_version": "1.5.0",
      "_model_name": "DescriptionStyleModel",
      "_view_count": null,
      "_view_module": "@jupyter-widgets/base",
      "_view_module_version": "1.2.0",
      "_view_name": "StyleView",
      "description_width": ""
     }
    },
    "cecb4ed6df184a78b9804ef9c086ed14": {
     "model_module": "@jupyter-widgets/controls",
     "model_module_version": "1.5.0",
     "model_name": "DescriptionStyleModel",
     "state": {
      "_model_module": "@jupyter-widgets/controls",
      "_model_module_version": "1.5.0",
      "_model_name": "DescriptionStyleModel",
      "_view_count": null,
      "_view_module": "@jupyter-widgets/base",
      "_view_module_version": "1.2.0",
      "_view_name": "StyleView",
      "description_width": ""
     }
    },
    "cf9b583d63b242faa8958a8e08923202": {
     "model_module": "@jupyter-widgets/base",
     "model_module_version": "1.2.0",
     "model_name": "LayoutModel",
     "state": {
      "_model_module": "@jupyter-widgets/base",
      "_model_module_version": "1.2.0",
      "_model_name": "LayoutModel",
      "_view_count": null,
      "_view_module": "@jupyter-widgets/base",
      "_view_module_version": "1.2.0",
      "_view_name": "LayoutView",
      "align_content": null,
      "align_items": null,
      "align_self": null,
      "border": null,
      "bottom": null,
      "display": null,
      "flex": null,
      "flex_flow": null,
      "grid_area": null,
      "grid_auto_columns": null,
      "grid_auto_flow": null,
      "grid_auto_rows": null,
      "grid_column": null,
      "grid_gap": null,
      "grid_row": null,
      "grid_template_areas": null,
      "grid_template_columns": null,
      "grid_template_rows": null,
      "height": null,
      "justify_content": null,
      "justify_items": null,
      "left": null,
      "margin": null,
      "max_height": null,
      "max_width": null,
      "min_height": null,
      "min_width": null,
      "object_fit": null,
      "object_position": null,
      "order": null,
      "overflow": null,
      "overflow_x": null,
      "overflow_y": null,
      "padding": null,
      "right": null,
      "top": null,
      "visibility": null,
      "width": null
     }
    },
    "cfaa29caa0154381bd11a9bfd4eadcd1": {
     "model_module": "@jupyter-widgets/base",
     "model_module_version": "1.2.0",
     "model_name": "LayoutModel",
     "state": {
      "_model_module": "@jupyter-widgets/base",
      "_model_module_version": "1.2.0",
      "_model_name": "LayoutModel",
      "_view_count": null,
      "_view_module": "@jupyter-widgets/base",
      "_view_module_version": "1.2.0",
      "_view_name": "LayoutView",
      "align_content": null,
      "align_items": null,
      "align_self": null,
      "border": null,
      "bottom": null,
      "display": null,
      "flex": null,
      "flex_flow": null,
      "grid_area": null,
      "grid_auto_columns": null,
      "grid_auto_flow": null,
      "grid_auto_rows": null,
      "grid_column": null,
      "grid_gap": null,
      "grid_row": null,
      "grid_template_areas": null,
      "grid_template_columns": null,
      "grid_template_rows": null,
      "height": null,
      "justify_content": null,
      "justify_items": null,
      "left": null,
      "margin": null,
      "max_height": null,
      "max_width": null,
      "min_height": null,
      "min_width": null,
      "object_fit": null,
      "object_position": null,
      "order": null,
      "overflow": null,
      "overflow_x": null,
      "overflow_y": null,
      "padding": null,
      "right": null,
      "top": null,
      "visibility": null,
      "width": null
     }
    },
    "cfb6bb4dc4d24e27a4924394fd5a0f55": {
     "model_module": "@jupyter-widgets/controls",
     "model_module_version": "1.5.0",
     "model_name": "HTMLModel",
     "state": {
      "_dom_classes": [],
      "_model_module": "@jupyter-widgets/controls",
      "_model_module_version": "1.5.0",
      "_model_name": "HTMLModel",
      "_view_count": null,
      "_view_module": "@jupyter-widgets/controls",
      "_view_module_version": "1.5.0",
      "_view_name": "HTMLView",
      "description": "",
      "description_tooltip": null,
      "layout": "IPY_MODEL_64c6d964401d41379a368a9e7603d812",
      "placeholder": "​",
      "style": "IPY_MODEL_4836a75333fe4a579c9c01fcea728304",
      "value": " 12500/12500 [02:13&lt;00:00, 90.90it/s]"
     }
    },
    "d0aae2e86e3846349c8bcecbaa28cd54": {
     "model_module": "@jupyter-widgets/controls",
     "model_module_version": "1.5.0",
     "model_name": "HTMLModel",
     "state": {
      "_dom_classes": [],
      "_model_module": "@jupyter-widgets/controls",
      "_model_module_version": "1.5.0",
      "_model_name": "HTMLModel",
      "_view_count": null,
      "_view_module": "@jupyter-widgets/controls",
      "_view_module_version": "1.5.0",
      "_view_name": "HTMLView",
      "description": "",
      "description_tooltip": null,
      "layout": "IPY_MODEL_616492e0e87b47e687a5deff6870d1d4",
      "placeholder": "​",
      "style": "IPY_MODEL_4657557f1673496fbf74b4ae40bf13d0",
      "value": "100%"
     }
    },
    "d0b86848e7c643a7bd79af270cfe9115": {
     "model_module": "@jupyter-widgets/base",
     "model_module_version": "1.2.0",
     "model_name": "LayoutModel",
     "state": {
      "_model_module": "@jupyter-widgets/base",
      "_model_module_version": "1.2.0",
      "_model_name": "LayoutModel",
      "_view_count": null,
      "_view_module": "@jupyter-widgets/base",
      "_view_module_version": "1.2.0",
      "_view_name": "LayoutView",
      "align_content": null,
      "align_items": null,
      "align_self": null,
      "border": null,
      "bottom": null,
      "display": null,
      "flex": null,
      "flex_flow": null,
      "grid_area": null,
      "grid_auto_columns": null,
      "grid_auto_flow": null,
      "grid_auto_rows": null,
      "grid_column": null,
      "grid_gap": null,
      "grid_row": null,
      "grid_template_areas": null,
      "grid_template_columns": null,
      "grid_template_rows": null,
      "height": null,
      "justify_content": null,
      "justify_items": null,
      "left": null,
      "margin": null,
      "max_height": null,
      "max_width": null,
      "min_height": null,
      "min_width": null,
      "object_fit": null,
      "object_position": null,
      "order": null,
      "overflow": null,
      "overflow_x": null,
      "overflow_y": null,
      "padding": null,
      "right": null,
      "top": null,
      "visibility": null,
      "width": null
     }
    },
    "d30b292744d242fbb49a681336ffea56": {
     "model_module": "@jupyter-widgets/base",
     "model_module_version": "1.2.0",
     "model_name": "LayoutModel",
     "state": {
      "_model_module": "@jupyter-widgets/base",
      "_model_module_version": "1.2.0",
      "_model_name": "LayoutModel",
      "_view_count": null,
      "_view_module": "@jupyter-widgets/base",
      "_view_module_version": "1.2.0",
      "_view_name": "LayoutView",
      "align_content": null,
      "align_items": null,
      "align_self": null,
      "border": null,
      "bottom": null,
      "display": null,
      "flex": null,
      "flex_flow": null,
      "grid_area": null,
      "grid_auto_columns": null,
      "grid_auto_flow": null,
      "grid_auto_rows": null,
      "grid_column": null,
      "grid_gap": null,
      "grid_row": null,
      "grid_template_areas": null,
      "grid_template_columns": null,
      "grid_template_rows": null,
      "height": null,
      "justify_content": null,
      "justify_items": null,
      "left": null,
      "margin": null,
      "max_height": null,
      "max_width": null,
      "min_height": null,
      "min_width": null,
      "object_fit": null,
      "object_position": null,
      "order": null,
      "overflow": null,
      "overflow_x": null,
      "overflow_y": null,
      "padding": null,
      "right": null,
      "top": null,
      "visibility": null,
      "width": null
     }
    },
    "d4025dbf67474119aaf2ecb6e41873cd": {
     "model_module": "@jupyter-widgets/controls",
     "model_module_version": "1.5.0",
     "model_name": "DescriptionStyleModel",
     "state": {
      "_model_module": "@jupyter-widgets/controls",
      "_model_module_version": "1.5.0",
      "_model_name": "DescriptionStyleModel",
      "_view_count": null,
      "_view_module": "@jupyter-widgets/base",
      "_view_module_version": "1.2.0",
      "_view_name": "StyleView",
      "description_width": ""
     }
    },
    "d4bb7d4621bc450ab5eba9d2dd9f2ba6": {
     "model_module": "@jupyter-widgets/base",
     "model_module_version": "1.2.0",
     "model_name": "LayoutModel",
     "state": {
      "_model_module": "@jupyter-widgets/base",
      "_model_module_version": "1.2.0",
      "_model_name": "LayoutModel",
      "_view_count": null,
      "_view_module": "@jupyter-widgets/base",
      "_view_module_version": "1.2.0",
      "_view_name": "LayoutView",
      "align_content": null,
      "align_items": null,
      "align_self": null,
      "border": null,
      "bottom": null,
      "display": null,
      "flex": null,
      "flex_flow": null,
      "grid_area": null,
      "grid_auto_columns": null,
      "grid_auto_flow": null,
      "grid_auto_rows": null,
      "grid_column": null,
      "grid_gap": null,
      "grid_row": null,
      "grid_template_areas": null,
      "grid_template_columns": null,
      "grid_template_rows": null,
      "height": null,
      "justify_content": null,
      "justify_items": null,
      "left": null,
      "margin": null,
      "max_height": null,
      "max_width": null,
      "min_height": null,
      "min_width": null,
      "object_fit": null,
      "object_position": null,
      "order": null,
      "overflow": null,
      "overflow_x": null,
      "overflow_y": null,
      "padding": null,
      "right": null,
      "top": null,
      "visibility": null,
      "width": null
     }
    },
    "d4deb41daf87466eacde4c9b35f41992": {
     "model_module": "@jupyter-widgets/base",
     "model_module_version": "1.2.0",
     "model_name": "LayoutModel",
     "state": {
      "_model_module": "@jupyter-widgets/base",
      "_model_module_version": "1.2.0",
      "_model_name": "LayoutModel",
      "_view_count": null,
      "_view_module": "@jupyter-widgets/base",
      "_view_module_version": "1.2.0",
      "_view_name": "LayoutView",
      "align_content": null,
      "align_items": null,
      "align_self": null,
      "border": null,
      "bottom": null,
      "display": null,
      "flex": null,
      "flex_flow": null,
      "grid_area": null,
      "grid_auto_columns": null,
      "grid_auto_flow": null,
      "grid_auto_rows": null,
      "grid_column": null,
      "grid_gap": null,
      "grid_row": null,
      "grid_template_areas": null,
      "grid_template_columns": null,
      "grid_template_rows": null,
      "height": null,
      "justify_content": null,
      "justify_items": null,
      "left": null,
      "margin": null,
      "max_height": null,
      "max_width": null,
      "min_height": null,
      "min_width": null,
      "object_fit": null,
      "object_position": null,
      "order": null,
      "overflow": null,
      "overflow_x": null,
      "overflow_y": null,
      "padding": null,
      "right": null,
      "top": null,
      "visibility": null,
      "width": null
     }
    },
    "dac3e7dd776648559f1a3e616cdf545c": {
     "model_module": "@jupyter-widgets/controls",
     "model_module_version": "1.5.0",
     "model_name": "HBoxModel",
     "state": {
      "_dom_classes": [],
      "_model_module": "@jupyter-widgets/controls",
      "_model_module_version": "1.5.0",
      "_model_name": "HBoxModel",
      "_view_count": null,
      "_view_module": "@jupyter-widgets/controls",
      "_view_module_version": "1.5.0",
      "_view_name": "HBoxView",
      "box_style": "",
      "children": [
       "IPY_MODEL_629af9939b7c4e749927580f896cb424",
       "IPY_MODEL_96933dfcff7940308f74b599b4a01cd4",
       "IPY_MODEL_3df288c725524d6fa0cf76bc127ca9b9"
      ],
      "layout": "IPY_MODEL_f005d1c46b5b4ace9f4da52463e7679d"
     }
    },
    "dbf5a911c9b848b880a95cd56bd7dc9c": {
     "model_module": "@jupyter-widgets/controls",
     "model_module_version": "1.5.0",
     "model_name": "DescriptionStyleModel",
     "state": {
      "_model_module": "@jupyter-widgets/controls",
      "_model_module_version": "1.5.0",
      "_model_name": "DescriptionStyleModel",
      "_view_count": null,
      "_view_module": "@jupyter-widgets/base",
      "_view_module_version": "1.2.0",
      "_view_name": "StyleView",
      "description_width": ""
     }
    },
    "dfcf7caa2c8943f0aa191e76deb6b87f": {
     "model_module": "@jupyter-widgets/base",
     "model_module_version": "1.2.0",
     "model_name": "LayoutModel",
     "state": {
      "_model_module": "@jupyter-widgets/base",
      "_model_module_version": "1.2.0",
      "_model_name": "LayoutModel",
      "_view_count": null,
      "_view_module": "@jupyter-widgets/base",
      "_view_module_version": "1.2.0",
      "_view_name": "LayoutView",
      "align_content": null,
      "align_items": null,
      "align_self": null,
      "border": null,
      "bottom": null,
      "display": null,
      "flex": null,
      "flex_flow": null,
      "grid_area": null,
      "grid_auto_columns": null,
      "grid_auto_flow": null,
      "grid_auto_rows": null,
      "grid_column": null,
      "grid_gap": null,
      "grid_row": null,
      "grid_template_areas": null,
      "grid_template_columns": null,
      "grid_template_rows": null,
      "height": null,
      "justify_content": null,
      "justify_items": null,
      "left": null,
      "margin": null,
      "max_height": null,
      "max_width": null,
      "min_height": null,
      "min_width": null,
      "object_fit": null,
      "object_position": null,
      "order": null,
      "overflow": null,
      "overflow_x": null,
      "overflow_y": null,
      "padding": null,
      "right": null,
      "top": null,
      "visibility": null,
      "width": null
     }
    },
    "e0e726cb39ff4115b22d926a9971ae5d": {
     "model_module": "@jupyter-widgets/controls",
     "model_module_version": "1.5.0",
     "model_name": "HTMLModel",
     "state": {
      "_dom_classes": [],
      "_model_module": "@jupyter-widgets/controls",
      "_model_module_version": "1.5.0",
      "_model_name": "HTMLModel",
      "_view_count": null,
      "_view_module": "@jupyter-widgets/controls",
      "_view_module_version": "1.5.0",
      "_view_name": "HTMLView",
      "description": "",
      "description_tooltip": null,
      "layout": "IPY_MODEL_23f9c5f0e0894f64986c80de42a2f63c",
      "placeholder": "​",
      "style": "IPY_MODEL_2b84899d574b4c909471581a60a7fcd2",
      "value": " 12500/12500 [01:44&lt;00:00, 120.46it/s]"
     }
    },
    "e1ae81d820094ddeb7dde2b9d562e521": {
     "model_module": "@jupyter-widgets/controls",
     "model_module_version": "1.5.0",
     "model_name": "HBoxModel",
     "state": {
      "_dom_classes": [],
      "_model_module": "@jupyter-widgets/controls",
      "_model_module_version": "1.5.0",
      "_model_name": "HBoxModel",
      "_view_count": null,
      "_view_module": "@jupyter-widgets/controls",
      "_view_module_version": "1.5.0",
      "_view_name": "HBoxView",
      "box_style": "",
      "children": [
       "IPY_MODEL_f4789374b8234951ae986d4085c9403a",
       "IPY_MODEL_21c0af3176464dd7a58747d0b139e6c1",
       "IPY_MODEL_e4bb97c8166141e59236add3b708df90"
      ],
      "layout": "IPY_MODEL_9866bce8afa446afb647f26bdda51eb2"
     }
    },
    "e407fa4d17ab4621a2cc26e7b88bdd0a": {
     "model_module": "@jupyter-widgets/base",
     "model_module_version": "1.2.0",
     "model_name": "LayoutModel",
     "state": {
      "_model_module": "@jupyter-widgets/base",
      "_model_module_version": "1.2.0",
      "_model_name": "LayoutModel",
      "_view_count": null,
      "_view_module": "@jupyter-widgets/base",
      "_view_module_version": "1.2.0",
      "_view_name": "LayoutView",
      "align_content": null,
      "align_items": null,
      "align_self": null,
      "border": null,
      "bottom": null,
      "display": null,
      "flex": null,
      "flex_flow": null,
      "grid_area": null,
      "grid_auto_columns": null,
      "grid_auto_flow": null,
      "grid_auto_rows": null,
      "grid_column": null,
      "grid_gap": null,
      "grid_row": null,
      "grid_template_areas": null,
      "grid_template_columns": null,
      "grid_template_rows": null,
      "height": null,
      "justify_content": null,
      "justify_items": null,
      "left": null,
      "margin": null,
      "max_height": null,
      "max_width": null,
      "min_height": null,
      "min_width": null,
      "object_fit": null,
      "object_position": null,
      "order": null,
      "overflow": null,
      "overflow_x": null,
      "overflow_y": null,
      "padding": null,
      "right": null,
      "top": null,
      "visibility": null,
      "width": null
     }
    },
    "e4bb97c8166141e59236add3b708df90": {
     "model_module": "@jupyter-widgets/controls",
     "model_module_version": "1.5.0",
     "model_name": "HTMLModel",
     "state": {
      "_dom_classes": [],
      "_model_module": "@jupyter-widgets/controls",
      "_model_module_version": "1.5.0",
      "_model_name": "HTMLModel",
      "_view_count": null,
      "_view_module": "@jupyter-widgets/controls",
      "_view_module_version": "1.5.0",
      "_view_name": "HTMLView",
      "description": "",
      "description_tooltip": null,
      "layout": "IPY_MODEL_ed4432b4d6944dfc899943f1cd5b7734",
      "placeholder": "​",
      "style": "IPY_MODEL_55c2580636874bbe8e21bbc4dd247d1c",
      "value": " 12500/12500 [02:14&lt;00:00, 94.32it/s]"
     }
    },
    "e5e8f6c7d08448a7a470815b61e750d1": {
     "model_module": "@jupyter-widgets/controls",
     "model_module_version": "1.5.0",
     "model_name": "ProgressStyleModel",
     "state": {
      "_model_module": "@jupyter-widgets/controls",
      "_model_module_version": "1.5.0",
      "_model_name": "ProgressStyleModel",
      "_view_count": null,
      "_view_module": "@jupyter-widgets/base",
      "_view_module_version": "1.2.0",
      "_view_name": "StyleView",
      "bar_color": null,
      "description_width": ""
     }
    },
    "e693d94c062646308d28a603b2e30674": {
     "model_module": "@jupyter-widgets/controls",
     "model_module_version": "1.5.0",
     "model_name": "HBoxModel",
     "state": {
      "_dom_classes": [],
      "_model_module": "@jupyter-widgets/controls",
      "_model_module_version": "1.5.0",
      "_model_name": "HBoxModel",
      "_view_count": null,
      "_view_module": "@jupyter-widgets/controls",
      "_view_module_version": "1.5.0",
      "_view_name": "HBoxView",
      "box_style": "",
      "children": [
       "IPY_MODEL_ff381af5901445b3b7a92cb6d81f14d3",
       "IPY_MODEL_07a567b436f5439486b2dd14301d80ab",
       "IPY_MODEL_9c917d934f444301ac8d0ceacd67245b"
      ],
      "layout": "IPY_MODEL_0ba17b34b05f400a96f70483870b5ab4"
     }
    },
    "e6a44b6b0f6543c19a0f959d9a08646a": {
     "model_module": "@jupyter-widgets/controls",
     "model_module_version": "1.5.0",
     "model_name": "FloatProgressModel",
     "state": {
      "_dom_classes": [],
      "_model_module": "@jupyter-widgets/controls",
      "_model_module_version": "1.5.0",
      "_model_name": "FloatProgressModel",
      "_view_count": null,
      "_view_module": "@jupyter-widgets/controls",
      "_view_module_version": "1.5.0",
      "_view_name": "ProgressView",
      "bar_style": "success",
      "description": "",
      "description_tooltip": null,
      "layout": "IPY_MODEL_1593f7fca88a4a45b3536274fe792aeb",
      "max": 12500,
      "min": 0,
      "orientation": "horizontal",
      "style": "IPY_MODEL_fd34c04193444828b24019799d6b71a2",
      "value": 12500
     }
    },
    "eae1f1a4fddb4ed486f752e6f31d7b71": {
     "model_module": "@jupyter-widgets/controls",
     "model_module_version": "1.5.0",
     "model_name": "HBoxModel",
     "state": {
      "_dom_classes": [],
      "_model_module": "@jupyter-widgets/controls",
      "_model_module_version": "1.5.0",
      "_model_name": "HBoxModel",
      "_view_count": null,
      "_view_module": "@jupyter-widgets/controls",
      "_view_module_version": "1.5.0",
      "_view_name": "HBoxView",
      "box_style": "",
      "children": [
       "IPY_MODEL_96097134231848ac813bb5e976c458af",
       "IPY_MODEL_c586fdbe57204e4593665e9b90d7b606",
       "IPY_MODEL_cfb6bb4dc4d24e27a4924394fd5a0f55"
      ],
      "layout": "IPY_MODEL_cb4df5b43318418a9c4a16d7822ecbb7"
     }
    },
    "eb421fa9be0e4072aac3e96e5c848d69": {
     "model_module": "@jupyter-widgets/base",
     "model_module_version": "1.2.0",
     "model_name": "LayoutModel",
     "state": {
      "_model_module": "@jupyter-widgets/base",
      "_model_module_version": "1.2.0",
      "_model_name": "LayoutModel",
      "_view_count": null,
      "_view_module": "@jupyter-widgets/base",
      "_view_module_version": "1.2.0",
      "_view_name": "LayoutView",
      "align_content": null,
      "align_items": null,
      "align_self": null,
      "border": null,
      "bottom": null,
      "display": null,
      "flex": null,
      "flex_flow": null,
      "grid_area": null,
      "grid_auto_columns": null,
      "grid_auto_flow": null,
      "grid_auto_rows": null,
      "grid_column": null,
      "grid_gap": null,
      "grid_row": null,
      "grid_template_areas": null,
      "grid_template_columns": null,
      "grid_template_rows": null,
      "height": null,
      "justify_content": null,
      "justify_items": null,
      "left": null,
      "margin": null,
      "max_height": null,
      "max_width": null,
      "min_height": null,
      "min_width": null,
      "object_fit": null,
      "object_position": null,
      "order": null,
      "overflow": null,
      "overflow_x": null,
      "overflow_y": null,
      "padding": null,
      "right": null,
      "top": null,
      "visibility": null,
      "width": null
     }
    },
    "ed4432b4d6944dfc899943f1cd5b7734": {
     "model_module": "@jupyter-widgets/base",
     "model_module_version": "1.2.0",
     "model_name": "LayoutModel",
     "state": {
      "_model_module": "@jupyter-widgets/base",
      "_model_module_version": "1.2.0",
      "_model_name": "LayoutModel",
      "_view_count": null,
      "_view_module": "@jupyter-widgets/base",
      "_view_module_version": "1.2.0",
      "_view_name": "LayoutView",
      "align_content": null,
      "align_items": null,
      "align_self": null,
      "border": null,
      "bottom": null,
      "display": null,
      "flex": null,
      "flex_flow": null,
      "grid_area": null,
      "grid_auto_columns": null,
      "grid_auto_flow": null,
      "grid_auto_rows": null,
      "grid_column": null,
      "grid_gap": null,
      "grid_row": null,
      "grid_template_areas": null,
      "grid_template_columns": null,
      "grid_template_rows": null,
      "height": null,
      "justify_content": null,
      "justify_items": null,
      "left": null,
      "margin": null,
      "max_height": null,
      "max_width": null,
      "min_height": null,
      "min_width": null,
      "object_fit": null,
      "object_position": null,
      "order": null,
      "overflow": null,
      "overflow_x": null,
      "overflow_y": null,
      "padding": null,
      "right": null,
      "top": null,
      "visibility": null,
      "width": null
     }
    },
    "edd9202311194b8582fdf0b24e4d00d0": {
     "model_module": "@jupyter-widgets/controls",
     "model_module_version": "1.5.0",
     "model_name": "HBoxModel",
     "state": {
      "_dom_classes": [],
      "_model_module": "@jupyter-widgets/controls",
      "_model_module_version": "1.5.0",
      "_model_name": "HBoxModel",
      "_view_count": null,
      "_view_module": "@jupyter-widgets/controls",
      "_view_module_version": "1.5.0",
      "_view_name": "HBoxView",
      "box_style": "",
      "children": [
       "IPY_MODEL_25244a8a0e2046dc9ca308a09fc4e376",
       "IPY_MODEL_9fec9a878a434bcfabd2d44bb75fd23e",
       "IPY_MODEL_acbaf78a222642e6a251ce6aff11e98a"
      ],
      "layout": "IPY_MODEL_4bf1a8f34e3b4dbdac59255d4ce5a2d2"
     }
    },
    "edf93b0f1a2b4f0698ff492c802d8516": {
     "model_module": "@jupyter-widgets/controls",
     "model_module_version": "1.5.0",
     "model_name": "ProgressStyleModel",
     "state": {
      "_model_module": "@jupyter-widgets/controls",
      "_model_module_version": "1.5.0",
      "_model_name": "ProgressStyleModel",
      "_view_count": null,
      "_view_module": "@jupyter-widgets/base",
      "_view_module_version": "1.2.0",
      "_view_name": "StyleView",
      "bar_color": null,
      "description_width": ""
     }
    },
    "efd82ee5d93543de85650c63d7339730": {
     "model_module": "@jupyter-widgets/base",
     "model_module_version": "1.2.0",
     "model_name": "LayoutModel",
     "state": {
      "_model_module": "@jupyter-widgets/base",
      "_model_module_version": "1.2.0",
      "_model_name": "LayoutModel",
      "_view_count": null,
      "_view_module": "@jupyter-widgets/base",
      "_view_module_version": "1.2.0",
      "_view_name": "LayoutView",
      "align_content": null,
      "align_items": null,
      "align_self": null,
      "border": null,
      "bottom": null,
      "display": null,
      "flex": null,
      "flex_flow": null,
      "grid_area": null,
      "grid_auto_columns": null,
      "grid_auto_flow": null,
      "grid_auto_rows": null,
      "grid_column": null,
      "grid_gap": null,
      "grid_row": null,
      "grid_template_areas": null,
      "grid_template_columns": null,
      "grid_template_rows": null,
      "height": null,
      "justify_content": null,
      "justify_items": null,
      "left": null,
      "margin": null,
      "max_height": null,
      "max_width": null,
      "min_height": null,
      "min_width": null,
      "object_fit": null,
      "object_position": null,
      "order": null,
      "overflow": null,
      "overflow_x": null,
      "overflow_y": null,
      "padding": null,
      "right": null,
      "top": null,
      "visibility": null,
      "width": null
     }
    },
    "f005d1c46b5b4ace9f4da52463e7679d": {
     "model_module": "@jupyter-widgets/base",
     "model_module_version": "1.2.0",
     "model_name": "LayoutModel",
     "state": {
      "_model_module": "@jupyter-widgets/base",
      "_model_module_version": "1.2.0",
      "_model_name": "LayoutModel",
      "_view_count": null,
      "_view_module": "@jupyter-widgets/base",
      "_view_module_version": "1.2.0",
      "_view_name": "LayoutView",
      "align_content": null,
      "align_items": null,
      "align_self": null,
      "border": null,
      "bottom": null,
      "display": null,
      "flex": null,
      "flex_flow": null,
      "grid_area": null,
      "grid_auto_columns": null,
      "grid_auto_flow": null,
      "grid_auto_rows": null,
      "grid_column": null,
      "grid_gap": null,
      "grid_row": null,
      "grid_template_areas": null,
      "grid_template_columns": null,
      "grid_template_rows": null,
      "height": null,
      "justify_content": null,
      "justify_items": null,
      "left": null,
      "margin": null,
      "max_height": null,
      "max_width": null,
      "min_height": null,
      "min_width": null,
      "object_fit": null,
      "object_position": null,
      "order": null,
      "overflow": null,
      "overflow_x": null,
      "overflow_y": null,
      "padding": null,
      "right": null,
      "top": null,
      "visibility": null,
      "width": null
     }
    },
    "f0d78dfde64b496e80b024d2dea43f8d": {
     "model_module": "@jupyter-widgets/controls",
     "model_module_version": "1.5.0",
     "model_name": "DescriptionStyleModel",
     "state": {
      "_model_module": "@jupyter-widgets/controls",
      "_model_module_version": "1.5.0",
      "_model_name": "DescriptionStyleModel",
      "_view_count": null,
      "_view_module": "@jupyter-widgets/base",
      "_view_module_version": "1.2.0",
      "_view_name": "StyleView",
      "description_width": ""
     }
    },
    "f227e39ca70949b096a10fce9c98b1c1": {
     "model_module": "@jupyter-widgets/base",
     "model_module_version": "1.2.0",
     "model_name": "LayoutModel",
     "state": {
      "_model_module": "@jupyter-widgets/base",
      "_model_module_version": "1.2.0",
      "_model_name": "LayoutModel",
      "_view_count": null,
      "_view_module": "@jupyter-widgets/base",
      "_view_module_version": "1.2.0",
      "_view_name": "LayoutView",
      "align_content": null,
      "align_items": null,
      "align_self": null,
      "border": null,
      "bottom": null,
      "display": null,
      "flex": null,
      "flex_flow": null,
      "grid_area": null,
      "grid_auto_columns": null,
      "grid_auto_flow": null,
      "grid_auto_rows": null,
      "grid_column": null,
      "grid_gap": null,
      "grid_row": null,
      "grid_template_areas": null,
      "grid_template_columns": null,
      "grid_template_rows": null,
      "height": null,
      "justify_content": null,
      "justify_items": null,
      "left": null,
      "margin": null,
      "max_height": null,
      "max_width": null,
      "min_height": null,
      "min_width": null,
      "object_fit": null,
      "object_position": null,
      "order": null,
      "overflow": null,
      "overflow_x": null,
      "overflow_y": null,
      "padding": null,
      "right": null,
      "top": null,
      "visibility": null,
      "width": null
     }
    },
    "f2c3d549b04e441a856c2ae03bf9b7df": {
     "model_module": "@jupyter-widgets/controls",
     "model_module_version": "1.5.0",
     "model_name": "HTMLModel",
     "state": {
      "_dom_classes": [],
      "_model_module": "@jupyter-widgets/controls",
      "_model_module_version": "1.5.0",
      "_model_name": "HTMLModel",
      "_view_count": null,
      "_view_module": "@jupyter-widgets/controls",
      "_view_module_version": "1.5.0",
      "_view_name": "HTMLView",
      "description": "",
      "description_tooltip": null,
      "layout": "IPY_MODEL_1c558ae71770441a807355de7ebf3070",
      "placeholder": "​",
      "style": "IPY_MODEL_458de056866442d0b317e16fded2d0a5",
      "value": " 12500/12500 [01:32&lt;00:00, 139.08it/s]"
     }
    },
    "f30b159d72344428bfe96a1ae9c033e8": {
     "model_module": "@jupyter-widgets/controls",
     "model_module_version": "1.5.0",
     "model_name": "FloatProgressModel",
     "state": {
      "_dom_classes": [],
      "_model_module": "@jupyter-widgets/controls",
      "_model_module_version": "1.5.0",
      "_model_name": "FloatProgressModel",
      "_view_count": null,
      "_view_module": "@jupyter-widgets/controls",
      "_view_module_version": "1.5.0",
      "_view_name": "ProgressView",
      "bar_style": "success",
      "description": "",
      "description_tooltip": null,
      "layout": "IPY_MODEL_93a6b6979b854f7c9b7cc01824939649",
      "max": 12500,
      "min": 0,
      "orientation": "horizontal",
      "style": "IPY_MODEL_736ac85434954b54b25113726d6a9920",
      "value": 12500
     }
    },
    "f39786c981944c4185c66195059d1e3d": {
     "model_module": "@jupyter-widgets/base",
     "model_module_version": "1.2.0",
     "model_name": "LayoutModel",
     "state": {
      "_model_module": "@jupyter-widgets/base",
      "_model_module_version": "1.2.0",
      "_model_name": "LayoutModel",
      "_view_count": null,
      "_view_module": "@jupyter-widgets/base",
      "_view_module_version": "1.2.0",
      "_view_name": "LayoutView",
      "align_content": null,
      "align_items": null,
      "align_self": null,
      "border": null,
      "bottom": null,
      "display": null,
      "flex": null,
      "flex_flow": null,
      "grid_area": null,
      "grid_auto_columns": null,
      "grid_auto_flow": null,
      "grid_auto_rows": null,
      "grid_column": null,
      "grid_gap": null,
      "grid_row": null,
      "grid_template_areas": null,
      "grid_template_columns": null,
      "grid_template_rows": null,
      "height": null,
      "justify_content": null,
      "justify_items": null,
      "left": null,
      "margin": null,
      "max_height": null,
      "max_width": null,
      "min_height": null,
      "min_width": null,
      "object_fit": null,
      "object_position": null,
      "order": null,
      "overflow": null,
      "overflow_x": null,
      "overflow_y": null,
      "padding": null,
      "right": null,
      "top": null,
      "visibility": null,
      "width": null
     }
    },
    "f3a30a1be89b49419110d979d167cb9f": {
     "model_module": "@jupyter-widgets/controls",
     "model_module_version": "1.5.0",
     "model_name": "ProgressStyleModel",
     "state": {
      "_model_module": "@jupyter-widgets/controls",
      "_model_module_version": "1.5.0",
      "_model_name": "ProgressStyleModel",
      "_view_count": null,
      "_view_module": "@jupyter-widgets/base",
      "_view_module_version": "1.2.0",
      "_view_name": "StyleView",
      "bar_color": null,
      "description_width": ""
     }
    },
    "f4789374b8234951ae986d4085c9403a": {
     "model_module": "@jupyter-widgets/controls",
     "model_module_version": "1.5.0",
     "model_name": "HTMLModel",
     "state": {
      "_dom_classes": [],
      "_model_module": "@jupyter-widgets/controls",
      "_model_module_version": "1.5.0",
      "_model_name": "HTMLModel",
      "_view_count": null,
      "_view_module": "@jupyter-widgets/controls",
      "_view_module_version": "1.5.0",
      "_view_name": "HTMLView",
      "description": "",
      "description_tooltip": null,
      "layout": "IPY_MODEL_eb421fa9be0e4072aac3e96e5c848d69",
      "placeholder": "​",
      "style": "IPY_MODEL_5d648b8512b047eaadfffab686adf469",
      "value": "100%"
     }
    },
    "f5f5bc26270445729d59e0c859942628": {
     "model_module": "@jupyter-widgets/base",
     "model_module_version": "1.2.0",
     "model_name": "LayoutModel",
     "state": {
      "_model_module": "@jupyter-widgets/base",
      "_model_module_version": "1.2.0",
      "_model_name": "LayoutModel",
      "_view_count": null,
      "_view_module": "@jupyter-widgets/base",
      "_view_module_version": "1.2.0",
      "_view_name": "LayoutView",
      "align_content": null,
      "align_items": null,
      "align_self": null,
      "border": null,
      "bottom": null,
      "display": null,
      "flex": null,
      "flex_flow": null,
      "grid_area": null,
      "grid_auto_columns": null,
      "grid_auto_flow": null,
      "grid_auto_rows": null,
      "grid_column": null,
      "grid_gap": null,
      "grid_row": null,
      "grid_template_areas": null,
      "grid_template_columns": null,
      "grid_template_rows": null,
      "height": null,
      "justify_content": null,
      "justify_items": null,
      "left": null,
      "margin": null,
      "max_height": null,
      "max_width": null,
      "min_height": null,
      "min_width": null,
      "object_fit": null,
      "object_position": null,
      "order": null,
      "overflow": null,
      "overflow_x": null,
      "overflow_y": null,
      "padding": null,
      "right": null,
      "top": null,
      "visibility": null,
      "width": null
     }
    },
    "f75ac41a6d774c1698525a7dd7885965": {
     "model_module": "@jupyter-widgets/controls",
     "model_module_version": "1.5.0",
     "model_name": "ProgressStyleModel",
     "state": {
      "_model_module": "@jupyter-widgets/controls",
      "_model_module_version": "1.5.0",
      "_model_name": "ProgressStyleModel",
      "_view_count": null,
      "_view_module": "@jupyter-widgets/base",
      "_view_module_version": "1.2.0",
      "_view_name": "StyleView",
      "bar_color": null,
      "description_width": ""
     }
    },
    "f88a1f3dff5a4aefacc8b8582969332f": {
     "model_module": "@jupyter-widgets/controls",
     "model_module_version": "1.5.0",
     "model_name": "ProgressStyleModel",
     "state": {
      "_model_module": "@jupyter-widgets/controls",
      "_model_module_version": "1.5.0",
      "_model_name": "ProgressStyleModel",
      "_view_count": null,
      "_view_module": "@jupyter-widgets/base",
      "_view_module_version": "1.2.0",
      "_view_name": "StyleView",
      "bar_color": null,
      "description_width": ""
     }
    },
    "f8fefe0543064e86882eb590442737b5": {
     "model_module": "@jupyter-widgets/controls",
     "model_module_version": "1.5.0",
     "model_name": "FloatProgressModel",
     "state": {
      "_dom_classes": [],
      "_model_module": "@jupyter-widgets/controls",
      "_model_module_version": "1.5.0",
      "_model_name": "FloatProgressModel",
      "_view_count": null,
      "_view_module": "@jupyter-widgets/controls",
      "_view_module_version": "1.5.0",
      "_view_name": "ProgressView",
      "bar_style": "success",
      "description": "",
      "description_tooltip": null,
      "layout": "IPY_MODEL_214f9437b325413d81e6aafbdbea8913",
      "max": 12500,
      "min": 0,
      "orientation": "horizontal",
      "style": "IPY_MODEL_a78fc26db7564507bb2cdb292d4370cd",
      "value": 12500
     }
    },
    "fb801f8fb8b94eb99f300e3d35e8c460": {
     "model_module": "@jupyter-widgets/controls",
     "model_module_version": "1.5.0",
     "model_name": "DescriptionStyleModel",
     "state": {
      "_model_module": "@jupyter-widgets/controls",
      "_model_module_version": "1.5.0",
      "_model_name": "DescriptionStyleModel",
      "_view_count": null,
      "_view_module": "@jupyter-widgets/base",
      "_view_module_version": "1.2.0",
      "_view_name": "StyleView",
      "description_width": ""
     }
    },
    "fbcfd0b0cc5640dd80d26fcc3e5493e8": {
     "model_module": "@jupyter-widgets/controls",
     "model_module_version": "1.5.0",
     "model_name": "HBoxModel",
     "state": {
      "_dom_classes": [],
      "_model_module": "@jupyter-widgets/controls",
      "_model_module_version": "1.5.0",
      "_model_name": "HBoxModel",
      "_view_count": null,
      "_view_module": "@jupyter-widgets/controls",
      "_view_module_version": "1.5.0",
      "_view_name": "HBoxView",
      "box_style": "",
      "children": [
       "IPY_MODEL_094631dc299c4639896e8fe7293cf007",
       "IPY_MODEL_cbbc0b323c5d494586ba413127d0ed77",
       "IPY_MODEL_2a64343bd19d47dba720ea02d9ab0f1f"
      ],
      "layout": "IPY_MODEL_bdb2dde6f6464758a3352756d402e64d"
     }
    },
    "fd34c04193444828b24019799d6b71a2": {
     "model_module": "@jupyter-widgets/controls",
     "model_module_version": "1.5.0",
     "model_name": "ProgressStyleModel",
     "state": {
      "_model_module": "@jupyter-widgets/controls",
      "_model_module_version": "1.5.0",
      "_model_name": "ProgressStyleModel",
      "_view_count": null,
      "_view_module": "@jupyter-widgets/base",
      "_view_module_version": "1.2.0",
      "_view_name": "StyleView",
      "bar_color": null,
      "description_width": ""
     }
    },
    "fe3498adf4fb4f199d60fb282b85e27c": {
     "model_module": "@jupyter-widgets/base",
     "model_module_version": "1.2.0",
     "model_name": "LayoutModel",
     "state": {
      "_model_module": "@jupyter-widgets/base",
      "_model_module_version": "1.2.0",
      "_model_name": "LayoutModel",
      "_view_count": null,
      "_view_module": "@jupyter-widgets/base",
      "_view_module_version": "1.2.0",
      "_view_name": "LayoutView",
      "align_content": null,
      "align_items": null,
      "align_self": null,
      "border": null,
      "bottom": null,
      "display": null,
      "flex": null,
      "flex_flow": null,
      "grid_area": null,
      "grid_auto_columns": null,
      "grid_auto_flow": null,
      "grid_auto_rows": null,
      "grid_column": null,
      "grid_gap": null,
      "grid_row": null,
      "grid_template_areas": null,
      "grid_template_columns": null,
      "grid_template_rows": null,
      "height": null,
      "justify_content": null,
      "justify_items": null,
      "left": null,
      "margin": null,
      "max_height": null,
      "max_width": null,
      "min_height": null,
      "min_width": null,
      "object_fit": null,
      "object_position": null,
      "order": null,
      "overflow": null,
      "overflow_x": null,
      "overflow_y": null,
      "padding": null,
      "right": null,
      "top": null,
      "visibility": null,
      "width": null
     }
    },
    "fee9731136b24738b79ad062e311716c": {
     "model_module": "@jupyter-widgets/base",
     "model_module_version": "1.2.0",
     "model_name": "LayoutModel",
     "state": {
      "_model_module": "@jupyter-widgets/base",
      "_model_module_version": "1.2.0",
      "_model_name": "LayoutModel",
      "_view_count": null,
      "_view_module": "@jupyter-widgets/base",
      "_view_module_version": "1.2.0",
      "_view_name": "LayoutView",
      "align_content": null,
      "align_items": null,
      "align_self": null,
      "border": null,
      "bottom": null,
      "display": null,
      "flex": null,
      "flex_flow": null,
      "grid_area": null,
      "grid_auto_columns": null,
      "grid_auto_flow": null,
      "grid_auto_rows": null,
      "grid_column": null,
      "grid_gap": null,
      "grid_row": null,
      "grid_template_areas": null,
      "grid_template_columns": null,
      "grid_template_rows": null,
      "height": null,
      "justify_content": null,
      "justify_items": null,
      "left": null,
      "margin": null,
      "max_height": null,
      "max_width": null,
      "min_height": null,
      "min_width": null,
      "object_fit": null,
      "object_position": null,
      "order": null,
      "overflow": null,
      "overflow_x": null,
      "overflow_y": null,
      "padding": null,
      "right": null,
      "top": null,
      "visibility": null,
      "width": null
     }
    },
    "ff381af5901445b3b7a92cb6d81f14d3": {
     "model_module": "@jupyter-widgets/controls",
     "model_module_version": "1.5.0",
     "model_name": "HTMLModel",
     "state": {
      "_dom_classes": [],
      "_model_module": "@jupyter-widgets/controls",
      "_model_module_version": "1.5.0",
      "_model_name": "HTMLModel",
      "_view_count": null,
      "_view_module": "@jupyter-widgets/controls",
      "_view_module_version": "1.5.0",
      "_view_name": "HTMLView",
      "description": "",
      "description_tooltip": null,
      "layout": "IPY_MODEL_408e35129aa8453f8683a740f4b75f64",
      "placeholder": "​",
      "style": "IPY_MODEL_0efb635fa7b141619e796b20a32f3b65",
      "value": "100%"
     }
    }
   }
  }
 },
 "nbformat": 4,
 "nbformat_minor": 4
}
