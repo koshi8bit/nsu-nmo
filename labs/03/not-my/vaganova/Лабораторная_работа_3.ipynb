{
  "nbformat": 4,
  "nbformat_minor": 0,
  "metadata": {
    "colab": {
      "name": "Лабораторная_работа_3.ipynb",
      "provenance": [],
      "collapsed_sections": []
    },
    "kernelspec": {
      "name": "python3",
      "display_name": "Python 3"
    },
    "language_info": {
      "name": "python"
    },
    "accelerator": "GPU"
  },
  "cells": [
    {
      "cell_type": "markdown",
      "metadata": {
        "id": "3yUxFs4OmjpF"
      },
      "source": [
        "# <center> Лабораторная работа 3.  </center>\n",
        "## <center> Применение свёрточных нейронных сетей в задаче классификации изображений</center>\n",
        "## <center> Ваганова А.И., группа 20223 </center>\n",
        "\n",
        "## Описание задачи \n",
        "### На основании предложенных примеров изучить сверточные нейронные сети для классификации изображений по базам MNIST и CIFAR10."
      ]
    },
    {
      "cell_type": "code",
      "metadata": {
        "id": "qqKzrmVzmaA1"
      },
      "source": [
        "from tensorflow.keras import datasets, Sequential, layers, callbacks\n",
        "import numpy as np\n",
        "import time"
      ],
      "execution_count": null,
      "outputs": []
    },
    {
      "cell_type": "code",
      "metadata": {
        "id": "SNmF5725nSZs",
        "colab": {
          "base_uri": "https://localhost:8080/"
        },
        "outputId": "8d570067-d999-4c2f-9617-5914fa157b44"
      },
      "source": [
        "(X, y), (X_test, y_test) = datasets.mnist.load_data()\n",
        "mnist = (X[..., None]/128 - 1, y)\n",
        "(X, y), (X_test, y_test) = datasets.cifar10.load_data()\n",
        "cifar = cifar = (X/128 - 1, y)"
      ],
      "execution_count": null,
      "outputs": [
        {
          "output_type": "stream",
          "name": "stdout",
          "text": [
            "Downloading data from https://storage.googleapis.com/tensorflow/tf-keras-datasets/mnist.npz\n",
            "11493376/11490434 [==============================] - 0s 0us/step\n",
            "11501568/11490434 [==============================] - 0s 0us/step\n",
            "Downloading data from https://www.cs.toronto.edu/~kriz/cifar-10-python.tar.gz\n",
            "170500096/170498071 [==============================] - 2s 0us/step\n",
            "170508288/170498071 [==============================] - 2s 0us/step\n"
          ]
        }
      ]
    },
    {
      "cell_type": "markdown",
      "metadata": {
        "id": "GvmdN5p3OK5p"
      },
      "source": [
        "\n",
        "\n",
        "---\n",
        "\n"
      ]
    },
    {
      "cell_type": "markdown",
      "metadata": {
        "id": "J3R_W7mPOOcg"
      },
      "source": [
        "\n",
        "\n",
        "---\n",
        "\n"
      ]
    },
    {
      "cell_type": "code",
      "metadata": {
        "id": "l2-NrIFEn-9k"
      },
      "source": [
        "def get_model(n_conv_layers=6, n_dense_layers=0, n_filters=32, act_fn='relu', pool='max'):\n",
        "  model = Sequential()\n",
        "  for i in range(n_conv_layers):\n",
        "    if i>0 and i%2 == 0:\n",
        "      model.add(layers.AvgPool2D() if pool=='avg' else layers.MaxPool2D())\n",
        "    model.add(layers.Conv2D(n_filters, kernel_size=3, padding='same', activation=act_fn))\n",
        "  model.add(layers.GlobalAvgPool2D() if pool=='avg' else layers.GlobalMaxPool2D())\n",
        "  for i in range(n_dense_layers):\n",
        "    model.add(layers.Dense(1000, activation=act_fn))\n",
        "  model.add(layers.Dense(10, 'softmax'))\n",
        "  model.compile('adam', 'sparse_categorical_crossentropy', 'accuracy')\n",
        "  return model"
      ],
      "execution_count": null,
      "outputs": []
    },
    {
      "cell_type": "code",
      "metadata": {
        "id": "UGm4-NA8oBXM"
      },
      "source": [
        "def train_model(dataset, model, verbose=0):\n",
        "  start_time = time.time()\n",
        "  callbacks_list = [callbacks.EarlyStopping(patience=5),\n",
        "                    callbacks.ReduceLROnPlateau(patience=3, min_lr=1e-5)]\n",
        "  model.fit(*dataset, validation_split=1/2, batch_size=256, epochs=100,\n",
        "            callbacks=callbacks_list, verbose=verbose)\n",
        "  elapsed_time = time.time() - start_time\n",
        "  return np.max(model.history.history['val_accuracy']), elapsed_time"
      ],
      "execution_count": null,
      "outputs": []
    },
    {
      "cell_type": "markdown",
      "source": [
        "# MNIST"
      ],
      "metadata": {
        "id": "LJfmH6bIjMyY"
      }
    },
    {
      "cell_type": "markdown",
      "metadata": {
        "id": "o7a3jeUurJfN"
      },
      "source": [
        "#### Точность классификации в зависимости от числа сверточных слоев"
      ]
    },
    {
      "cell_type": "code",
      "metadata": {
        "id": "HYIispK8CiLm"
      },
      "source": [
        "for n_conv_layers in range(1, 11):\n",
        "  acc, elapsed = train_model(mnist, get_model(n_conv_layers=n_conv_layers))\n",
        "  print(f'{n_conv_layers} conv layers, time {elapsed:.0f} sec, accuracy {acc:.4f}')"
      ],
      "execution_count": null,
      "outputs": []
    },
    {
      "cell_type": "markdown",
      "metadata": {
        "id": "WhrpB4j0plbL"
      },
      "source": [
        "1 conv layers, time 82 sec, accuracy 0.7428  \n",
        "2 conv layers, time 115 sec, accuracy 0.9430  \n",
        "3 conv layers, time 35 sec, accuracy 0.9767  \n",
        "4 conv layers, time 62 sec, accuracy 0.9844  \n",
        "5 conv layers, time 29 sec, accuracy 0.9859  \n",
        "6 conv layers, time 27 sec, accuracy 0.9860  \n",
        "7 conv layers, time 28 sec, accuracy 0.9892  \n",
        "8 conv layers, time 26 sec, accuracy 0.9894  \n",
        "9 conv layers, time 36 sec, accuracy 0.9900  \n",
        "10 conv layers, time 30 sec, accuracy 0.9863  "
      ]
    },
    {
      "cell_type": "markdown",
      "metadata": {
        "id": "iAqEXh8Vpzvs"
      },
      "source": [
        "Вывод: увеличение количества сверточных слоев повышает точность (только на 10 слоях наблюдается падение)."
      ]
    },
    {
      "cell_type": "markdown",
      "metadata": {
        "id": "9vF503-trQjN"
      },
      "source": [
        "#### Точность классификации в зависимости от числа каналов"
      ]
    },
    {
      "cell_type": "code",
      "metadata": {
        "id": "H_cCFH-SClm4"
      },
      "source": [
        "for n_filters in np.logspace(1, 2, num=10, dtype=int):\n",
        "  acc, elapsed = train_model(mnist, get_model(n_filters=n_filters))\n",
        "  print(f'{n_filters} filters, time {elapsed:.0f} sec, accuracy {acc:.4f}')"
      ],
      "execution_count": null,
      "outputs": []
    },
    {
      "cell_type": "markdown",
      "metadata": {
        "id": "D8kyIAkpptIO"
      },
      "source": [
        "10 filters, time 56 sec, accuracy 0.9769  \n",
        "12 filters, time 37 sec, accuracy 0.9801  \n",
        "16 filters, time 39 sec, accuracy 0.9837  \n",
        "21 filters, time 32 sec, accuracy 0.9849  \n",
        "27 filters, time 31 sec, accuracy 0.9857  \n",
        "35 filters, time 33 sec, accuracy 0.9874  \n",
        "46 filters, time 31 sec, accuracy 0.9884  \n",
        "59 filters, time 38 sec, accuracy 0.9894  \n",
        "77 filters, time 46 sec, accuracy 0.9907  \n",
        "100 filters, time 62 sec, accuracy 0.9906  \n"
      ]
    },
    {
      "cell_type": "markdown",
      "metadata": {
        "id": "UAnD6BnBp4zj"
      },
      "source": [
        "Вывод: увеличение количества каналов повышает точность. В этом эксперименте каждый слой имел одинаковое кол-во каналов."
      ]
    },
    {
      "cell_type": "markdown",
      "metadata": {
        "id": "6CurVI19rR67"
      },
      "source": [
        "#### Точность классификации в зависимости от типа пулинга"
      ]
    },
    {
      "cell_type": "code",
      "metadata": {
        "id": "8lh0DDWepw9M"
      },
      "source": [
        "for pool in ['max', 'avg']:\n",
        "  for i in range(3):\n",
        "    acc, elapsed = train_model(mnist, get_model(pool=pool))\n",
        "    print(f'{pool} pooling, time {elapsed:.0f} sec, accuracy {acc:.4f}')"
      ],
      "execution_count": null,
      "outputs": []
    },
    {
      "cell_type": "markdown",
      "metadata": {
        "id": "SA750tmPp-Ck"
      },
      "source": [
        "max pooling, time 29 sec, accuracy 0.9876  \n",
        "max pooling, time 29 sec, accuracy 0.9872  \n",
        "max pooling, time 36 sec, accuracy 0.9876  \n",
        "avg pooling, time 70 sec, accuracy 0.9850  \n",
        "avg pooling, time 56 sec, accuracy 0.9754  \n",
        "avg pooling, time 88 sec, accuracy 0.9848  "
      ]
    },
    {
      "cell_type": "markdown",
      "metadata": {
        "id": "E1EvYB8hp-Hw"
      },
      "source": [
        "Вывод: в этом эксперименте max pooling оказался лучше average pooling."
      ]
    },
    {
      "cell_type": "markdown",
      "metadata": {
        "id": "Xrkj5xuhrTGk"
      },
      "source": [
        "#### Точность классификации в зависимости от функции активации"
      ]
    },
    {
      "cell_type": "code",
      "metadata": {
        "id": "MP9-RU5mp9f8"
      },
      "source": [
        "for act_fn in ['relu', 'sigmoid', 'tanh', 'softplus', 'linear']:\n",
        "  for i in range(3):\n",
        "    acc, elapsed = train_model(mnist, get_model(act_fn=act_fn))\n",
        "    print(f'{act_fn} activation, time {elapsed:.0f} sec, accuracy {acc:.4f}')"
      ],
      "execution_count": null,
      "outputs": []
    },
    {
      "cell_type": "markdown",
      "metadata": {
        "id": "PHJpoD3TqHRE"
      },
      "source": [
        "relu activation, time 42 sec, accuracy 0.9863  \n",
        "relu activation, time 27 sec, accuracy 0.9870  \n",
        "relu activation, time 26 sec, accuracy 0.9868  \n",
        "sigmoid activation, time 203 sec, accuracy 0.9764  \n",
        "sigmoid activation, time 143 sec, accuracy 0.9830  \n",
        "sigmoid activation, time 145 sec, accuracy 0.9835  \n",
        "tanh activation, time 42 sec, accuracy 0.9899  \n",
        "tanh activation, time 36 sec, accuracy 0.9880  \n",
        "tanh activation, time 45 sec, accuracy 0.9889  \n",
        "softplus activation, time 38 sec, accuracy 0.9835  \n",
        "softplus activation, time 38 sec, accuracy 0.9836  \n",
        "softplus activation, time 32 sec, accuracy 0.9819  \n",
        "linear activation, time 27 sec, accuracy 0.9848  \n",
        "linear activation, time 31 sec, accuracy 0.9854  \n",
        "linear activation, time 31 sec, accuracy 0.9862  "
      ]
    },
    {
      "cell_type": "markdown",
      "metadata": {
        "id": "GzDWw9weqHTj"
      },
      "source": [
        "Вывод: в этом эксперименте наилучшую точность дает tanh, второе место за relu."
      ]
    },
    {
      "cell_type": "markdown",
      "metadata": {
        "id": "9P_2-G_rrU9j"
      },
      "source": [
        "#### Точность классификации в зависимости от числа полносвязных слоев\n"
      ]
    },
    {
      "cell_type": "code",
      "metadata": {
        "id": "Lwoa50B_qP9F"
      },
      "source": [
        "for n_dense_layers in range(5):\n",
        "  for i in range(2):\n",
        "    acc, elapsed = train_model(mnist, get_model(n_dense_layers=n_dense_layers))\n",
        "    print(f'{n_dense_layers} dense layers, time {elapsed:.0f} sec, accuracy {acc:.4f}')"
      ],
      "execution_count": null,
      "outputs": []
    },
    {
      "cell_type": "markdown",
      "metadata": {
        "id": "uVcxzfhXqRdU"
      },
      "source": [
        "0 dense layers, time 28 sec, accuracy 0.9864  \n",
        "0 dense layers, time 32 sec, accuracy 0.9868  \n",
        "1 dense layers, time 27 sec, accuracy 0.9897  \n",
        "1 dense layers, time 28 sec, accuracy 0.9878  \n",
        "2 dense layers, time 27 sec, accuracy 0.9899  \n",
        "2 dense layers, time 29 sec, accuracy 0.9905  \n",
        "3 dense layers, time 28 sec, accuracy 0.9898  \n",
        "3 dense layers, time 32 sec, accuracy 0.9906  \n",
        "4 dense layers, time 25 sec, accuracy 0.9882  \n",
        "4 dense layers, time 29 sec, accuracy 0.9882  "
      ]
    },
    {
      "cell_type": "markdown",
      "metadata": {
        "id": "i8HVMtM5qRfs"
      },
      "source": [
        "Вывод: при 6 сверточных слоях добавление 2-3 полносвязных слоев повышает точность."
      ]
    },
    {
      "cell_type": "code",
      "metadata": {
        "id": "-8IWp8wQqZBT"
      },
      "source": [
        "total_layers = 10\n",
        "for n_conv_layers in range(1, 11):\n",
        "  n_dense_layers = total_layers - n_conv_layers\n",
        "  acc, elapsed = train_model(mnist, get_model(n_conv_layers=n_conv_layers,\n",
        "                                              n_dense_layers=n_dense_layers))\n",
        "  print(f'{n_conv_layers} conv layers, {n_dense_layers} dense layers, time {elapsed:.0f} sec, accuracy {acc:.4f}')"
      ],
      "execution_count": null,
      "outputs": []
    },
    {
      "cell_type": "markdown",
      "metadata": {
        "id": "kLiCFgzVqygG"
      },
      "source": [
        "1 conv layers, 9 dense layers, time 46 sec, accuracy 0.7561  \n",
        "2 conv layers, 8 dense layers, time 39 sec, accuracy 0.9575  \n",
        "3 conv layers, 7 dense layers, time 33 sec, accuracy 0.9812  \n",
        "4 conv layers, 6 dense layers, time 33 sec, accuracy 0.9849  \n",
        "5 conv layers, 5 dense layers, time 32 sec, accuracy 0.9886  \n",
        "6 conv layers, 4 dense layers, time 27 sec, accuracy 0.9882  \n",
        "7 conv layers, 3 dense layers, time 24 sec, accuracy 0.9893  \n",
        "8 conv layers, 2 dense layers, time 33 sec, accuracy 0.9896  \n",
        "9 conv layers, 1 dense layers, time 22 sec, accuracy 0.9871  \n",
        "10 conv layers, 0 dense layers, time 30 sec, accuracy 0.9873  "
      ]
    },
    {
      "cell_type": "markdown",
      "metadata": {
        "id": "L8QipSBwq1p1"
      },
      "source": [
        "Вывод: если суммарное количество слоев равно 10, то в этом эксперименте оптимально использовать 8 сверточных и 2 полносвязных слоя."
      ]
    },
    {
      "cell_type": "markdown",
      "source": [
        "# CIFAR"
      ],
      "metadata": {
        "id": "9erXnxR0jk9m"
      }
    },
    {
      "cell_type": "markdown",
      "source": [
        "#### Точность классификации в зависимости от числа сверточных слоев"
      ],
      "metadata": {
        "id": "7p5Sr7ROjpjI"
      }
    },
    {
      "cell_type": "code",
      "source": [
        "for n_conv_layers in range(1, 11):\n",
        "  acc, elapsed = train_model(cifar, get_model(n_conv_layers=n_conv_layers))\n",
        "  print(f'{n_conv_layers} conv layers, time {elapsed:.0f} sec, accuracy {acc:.4f}')"
      ],
      "metadata": {
        "colab": {
          "base_uri": "https://localhost:8080/"
        },
        "id": "3HSpl60fkJkU",
        "outputId": "0819a926-9b63-4a91-d0f5-c502d1d50a82"
      },
      "execution_count": null,
      "outputs": [
        {
          "output_type": "stream",
          "name": "stdout",
          "text": [
            "1 conv layers, time 203 sec, accuracy 0.3995\n",
            "2 conv layers, time 323 sec, accuracy 0.5385\n",
            "3 conv layers, time 180 sec, accuracy 0.5944\n",
            "4 conv layers, time 179 sec, accuracy 0.6288\n",
            "5 conv layers, time 122 sec, accuracy 0.6672\n",
            "6 conv layers, time 136 sec, accuracy 0.6686\n",
            "7 conv layers, time 109 sec, accuracy 0.6842\n",
            "8 conv layers, time 98 sec, accuracy 0.6846\n",
            "9 conv layers, time 118 sec, accuracy 0.7101\n",
            "10 conv layers, time 106 sec, accuracy 0.7028\n"
          ]
        }
      ]
    },
    {
      "cell_type": "markdown",
      "source": [
        "1 conv layers, time 203 sec, accuracy 0.3995  \n",
        "2 conv layers, time 323 sec, accuracy 0.5385  \n",
        "3 conv layers, time 180 sec, accuracy 0.5944  \n",
        "4 conv layers, time 179 sec, accuracy 0.6288  \n",
        "5 conv layers, time 122 sec, accuracy 0.6672  \n",
        "6 conv layers, time 136 sec, accuracy 0.6686  \n",
        "7 conv layers, time 109 sec, accuracy 0.6842  \n",
        "8 conv layers, time 98 sec, accuracy 0.6846  \n",
        "9 conv layers, time 118 sec, accuracy 0.7101  \n",
        "10 conv layers, time 106 sec, accuracy 0.7028  "
      ],
      "metadata": {
        "id": "8DailtikKv7_"
      }
    },
    {
      "cell_type": "markdown",
      "source": [
        "Вывод: увеличение количества сверточных слоев повышает точность (только на 10 слоях наблюдается падение)."
      ],
      "metadata": {
        "id": "WVNIAUOhMC0o"
      }
    },
    {
      "cell_type": "markdown",
      "source": [
        "#### Точность классификации в зависимости от числа каналов"
      ],
      "metadata": {
        "id": "018VNpebjrj7"
      }
    },
    {
      "cell_type": "code",
      "source": [
        "for n_filters in np.logspace(1, 2, num=10, dtype=int):\n",
        "  acc, elapsed = train_model(cifar, get_model(n_filters=n_filters))\n",
        "  print(f'{n_filters} filters, time {elapsed:.0f} sec, accuracy {acc:.4f}')"
      ],
      "metadata": {
        "colab": {
          "base_uri": "https://localhost:8080/"
        },
        "id": "rH8QMH3zmRQ2",
        "outputId": "844e832d-21bc-4bb2-935b-294d48a6d6f6"
      },
      "execution_count": null,
      "outputs": [
        {
          "output_type": "stream",
          "name": "stdout",
          "text": [
            "10 filters, time 263 sec, accuracy 0.5618\n",
            "12 filters, time 143 sec, accuracy 0.5938\n",
            "16 filters, time 258 sec, accuracy 0.6127\n",
            "21 filters, time 133 sec, accuracy 0.6527\n",
            "27 filters, time 128 sec, accuracy 0.6649\n",
            "35 filters, time 151 sec, accuracy 0.6899\n",
            "46 filters, time 134 sec, accuracy 0.7040\n",
            "59 filters, time 129 sec, accuracy 0.7120\n",
            "77 filters, time 196 sec, accuracy 0.7209\n",
            "100 filters, time 208 sec, accuracy 0.7411\n"
          ]
        }
      ]
    },
    {
      "cell_type": "markdown",
      "source": [
        "10 filters, time 263 sec, accuracy 0.5618  \n",
        "12 filters, time 143 sec, accuracy 0.5938  \n",
        "16 filters, time 258 sec, accuracy 0.6127  \n",
        "21 filters, time 133 sec, accuracy 0.6527  \n",
        "27 filters, time 128 sec, accuracy 0.6649  \n",
        "35 filters, time 151 sec, accuracy 0.6899  \n",
        "46 filters, time 134 sec, accuracy 0.7040  \n",
        "59 filters, time 129 sec, accuracy 0.7120  \n",
        "77 filters, time 196 sec, accuracy 0.7209  \n",
        "100 filters, time 208 sec, accuracy 0.7411  "
      ],
      "metadata": {
        "id": "VFp2o3dKuph7"
      }
    },
    {
      "cell_type": "markdown",
      "source": [
        "Вывод: увеличение количества каналов повышает точность."
      ],
      "metadata": {
        "id": "WfgTP3wmMPIn"
      }
    },
    {
      "cell_type": "markdown",
      "source": [
        "#### Точность классификации в зависимости от типа пулинга"
      ],
      "metadata": {
        "id": "ttl0N1InjuaG"
      }
    },
    {
      "cell_type": "code",
      "source": [
        "for pool in ['max', 'avg']:\n",
        "  for i in range(3):\n",
        "    acc, elapsed = train_model(cifar, get_model(pool=pool))\n",
        "    print(f'{pool} pooling, time {elapsed:.0f} sec, accuracy {acc:.4f}')"
      ],
      "metadata": {
        "colab": {
          "base_uri": "https://localhost:8080/"
        },
        "id": "AjO616aNmVSk",
        "outputId": "fe15b982-5c08-4589-aa3a-3a7dee870923"
      },
      "execution_count": null,
      "outputs": [
        {
          "output_type": "stream",
          "name": "stdout",
          "text": [
            "max pooling, time 182 sec, accuracy 0.6961\n",
            "max pooling, time 150 sec, accuracy 0.6833\n",
            "max pooling, time 176 sec, accuracy 0.6829\n",
            "avg pooling, time 356 sec, accuracy 0.6921\n",
            "avg pooling, time 550 sec, accuracy 0.7083\n",
            "avg pooling, time 554 sec, accuracy 0.7100\n"
          ]
        }
      ]
    },
    {
      "cell_type": "markdown",
      "source": [
        "max pooling, time 182 sec, accuracy 0.6961  \n",
        "max pooling, time 150 sec, accuracy 0.6833  \n",
        "max pooling, time 176 sec, accuracy 0.6829  \n",
        "avg pooling, time 356 sec, accuracy 0.6921  \n",
        "avg pooling, time 550 sec, accuracy 0.7083  \n",
        "avg pooling, time 554 sec, accuracy 0.7100  "
      ],
      "metadata": {
        "id": "KHYQmbMzunGD"
      }
    },
    {
      "cell_type": "markdown",
      "source": [
        "Вывод: в этом эксперименте average pooling оказался лучше max pooling."
      ],
      "metadata": {
        "id": "6ra9KIRjMXoW"
      }
    },
    {
      "cell_type": "markdown",
      "source": [
        "#### Точность классификации в зависимости от функции активации"
      ],
      "metadata": {
        "id": "vxr-MFnIj7rB"
      }
    },
    {
      "cell_type": "code",
      "source": [
        "for act_fn in ['relu', 'sigmoid', 'tanh', 'softplus', 'linear']:\n",
        "  for i in range(3):\n",
        "    acc, elapsed = train_model(cifar, get_model(act_fn=act_fn))\n",
        "    print(f'{act_fn} activation, time {elapsed:.0f} sec, accuracy {acc:.4f}')"
      ],
      "metadata": {
        "colab": {
          "base_uri": "https://localhost:8080/"
        },
        "id": "vFwyvOW6mZzD",
        "outputId": "6117d164-25ee-4fb6-f617-cc8c4275120a"
      },
      "execution_count": null,
      "outputs": [
        {
          "output_type": "stream",
          "name": "stdout",
          "text": [
            "relu activation, time 151 sec, accuracy 0.6744\n",
            "relu activation, time 169 sec, accuracy 0.6788\n",
            "relu activation, time 160 sec, accuracy 0.6708\n",
            "sigmoid activation, time 683 sec, accuracy 0.5342\n",
            "sigmoid activation, time 614 sec, accuracy 0.5472\n",
            "sigmoid activation, time 623 sec, accuracy 0.5057\n",
            "tanh activation, time 204 sec, accuracy 0.6756\n",
            "tanh activation, time 210 sec, accuracy 0.6870\n",
            "tanh activation, time 218 sec, accuracy 0.6767\n",
            "softplus activation, time 149 sec, accuracy 0.5442\n",
            "softplus activation, time 217 sec, accuracy 0.5602\n",
            "softplus activation, time 143 sec, accuracy 0.5424\n",
            "linear activation, time 131 sec, accuracy 0.6648\n",
            "linear activation, time 148 sec, accuracy 0.6646\n",
            "linear activation, time 118 sec, accuracy 0.6685\n"
          ]
        }
      ]
    },
    {
      "cell_type": "markdown",
      "source": [
        "relu activation, time 151 sec, accuracy 0.6744  \n",
        "relu activation, time 169 sec, accuracy 0.6788  \n",
        "relu activation, time 160 sec, accuracy 0.6708  \n",
        "sigmoid activation, time 683 sec, accuracy 0.5342  \n",
        "sigmoid activation, time 614 sec, accuracy 0.5472  \n",
        "sigmoid activation, time 623 sec, accuracy 0.5057  \n",
        "tanh activation, time 204 sec, accuracy 0.6756  \n",
        "tanh activation, time 210 sec, accuracy 0.6870  \n",
        "tanh activation, time 218 sec, accuracy 0.6767  \n",
        "softplus activation, time 149 sec, accuracy 0.5442  \n",
        "softplus activation, time 217 sec, accuracy 0.5602  \n",
        "softplus activation, time 143 sec, accuracy 0.5424  \n",
        "linear activation, time 131 sec, accuracy 0.6648  \n",
        "linear activation, time 148 sec, accuracy 0.6646  \n",
        "linear activation, time 118 sec, accuracy 0.6685  "
      ],
      "metadata": {
        "id": "zqkDM0XQui2y"
      }
    },
    {
      "cell_type": "markdown",
      "source": [
        "Вывод: в этом эксперименте наилучшую точность дает relu, второе место за tanh."
      ],
      "metadata": {
        "id": "Mrwqd2_IMcvJ"
      }
    },
    {
      "cell_type": "markdown",
      "source": [
        "#### Точность классификации в зависимости от числа полносвязных слоев\n"
      ],
      "metadata": {
        "id": "WaM7a5xsj-Qa"
      }
    },
    {
      "cell_type": "code",
      "source": [
        "for n_dense_layers in range(5):\n",
        "  for i in range(2):\n",
        "    acc, elapsed = train_model(cifar, get_model(n_dense_layers=n_dense_layers))\n",
        "    print(f'{n_dense_layers} dense layers, time {elapsed:.0f} sec, accuracy {acc:.4f}')"
      ],
      "metadata": {
        "colab": {
          "base_uri": "https://localhost:8080/"
        },
        "id": "RTFxoLztmfjU",
        "outputId": "24d04bba-ea49-4c4d-9039-c1890a46593c"
      },
      "execution_count": null,
      "outputs": [
        {
          "output_type": "stream",
          "name": "stdout",
          "text": [
            "0 dense layers, time 163 sec, accuracy 0.6653\n",
            "0 dense layers, time 168 sec, accuracy 0.6750\n",
            "1 dense layers, time 150 sec, accuracy 0.6981\n",
            "1 dense layers, time 140 sec, accuracy 0.6874\n",
            "2 dense layers, time 138 sec, accuracy 0.6890\n",
            "2 dense layers, time 139 sec, accuracy 0.6970\n",
            "3 dense layers, time 140 sec, accuracy 0.6924\n",
            "3 dense layers, time 126 sec, accuracy 0.6772\n",
            "4 dense layers, time 124 sec, accuracy 0.6624\n",
            "4 dense layers, time 112 sec, accuracy 0.6609\n"
          ]
        }
      ]
    },
    {
      "cell_type": "markdown",
      "source": [
        "0 dense layers, time 163 sec, accuracy 0.6653  \n",
        "0 dense layers, time 168 sec, accuracy 0.6750  \n",
        "1 dense layers, time 150 sec, accuracy 0.6981  \n",
        "1 dense layers, time 140 sec, accuracy 0.6874  \n",
        "2 dense layers, time 138 sec, accuracy 0.6890  \n",
        "2 dense layers, time 139 sec, accuracy 0.6970  \n",
        "3 dense layers, time 140 sec, accuracy 0.6924  \n",
        "3 dense layers, time 126 sec, accuracy 0.6772  \n",
        "4 dense layers, time 124 sec, accuracy 0.6624  \n",
        "4 dense layers, time 112 sec, accuracy 0.6609  "
      ],
      "metadata": {
        "id": "o28sn043ufu7"
      }
    },
    {
      "cell_type": "markdown",
      "source": [
        "Вывод: при 6 сверточных слоях добавление 2-3 полносвязных слоев повышает точность."
      ],
      "metadata": {
        "id": "Iffwl-lpNOPo"
      }
    },
    {
      "cell_type": "code",
      "source": [
        "total_layers = 10\n",
        "for n_conv_layers in range(1, 11):\n",
        "  n_dense_layers = total_layers - n_conv_layers\n",
        "  acc, elapsed = train_model(cifar, get_model(n_conv_layers=n_conv_layers,\n",
        "                                              n_dense_layers=n_dense_layers))\n",
        "  print(f'{n_conv_layers} conv layers, {n_dense_layers} dense layers, time {elapsed:.0f} sec, accuracy {acc:.4f}')"
      ],
      "metadata": {
        "colab": {
          "base_uri": "https://localhost:8080/"
        },
        "id": "2-SjjLPpE2O9",
        "outputId": "09de96a6-f404-4dec-dd44-a5818a4f05a1"
      },
      "execution_count": null,
      "outputs": [
        {
          "output_type": "stream",
          "name": "stdout",
          "text": [
            "1 conv layers, 9 dense layers, time 163 sec, accuracy 0.4239\n",
            "2 conv layers, 8 dense layers, time 141 sec, accuracy 0.5547\n",
            "3 conv layers, 7 dense layers, time 132 sec, accuracy 0.5866\n",
            "4 conv layers, 6 dense layers, time 123 sec, accuracy 0.6116\n",
            "5 conv layers, 5 dense layers, time 139 sec, accuracy 0.6468\n",
            "6 conv layers, 4 dense layers, time 119 sec, accuracy 0.6642\n",
            "7 conv layers, 3 dense layers, time 98 sec, accuracy 0.6803\n",
            "8 conv layers, 2 dense layers, time 115 sec, accuracy 0.6942\n",
            "9 conv layers, 1 dense layers, time 135 sec, accuracy 0.7001\n",
            "10 conv layers, 0 dense layers, time 153 sec, accuracy 0.7060\n"
          ]
        }
      ]
    },
    {
      "cell_type": "markdown",
      "source": [
        "1 conv layers, 9 dense layers, time 163 sec, accuracy 0.4239  \n",
        "2 conv layers, 8 dense layers, time 141 sec, accuracy 0.5547  \n",
        "3 conv layers, 7 dense layers, time 132 sec, accuracy 0.5866  \n",
        "4 conv layers, 6 dense layers, time 123 sec, accuracy 0.6116  \n",
        "5 conv layers, 5 dense layers, time 139 sec, accuracy 0.6468  \n",
        "6 conv layers, 4 dense layers, time 119 sec, accuracy 0.6642  \n",
        "7 conv layers, 3 dense layers, time 98 sec, accuracy 0.6803  \n",
        "8 conv layers, 2 dense layers, time 115 sec, accuracy 0.6942  \n",
        "9 conv layers, 1 dense layers, time 135 sec, accuracy 0.7001  \n",
        "10 conv layers, 0 dense layers, time 153 sec, accuracy 0.7060  "
      ],
      "metadata": {
        "id": "OcPdbmLuucbs"
      }
    },
    {
      "cell_type": "markdown",
      "source": [
        "Вывод: если суммарное количество слоев равно 10, то в этом эксперименте оптимально 10 полносвязных слоев"
      ],
      "metadata": {
        "id": "ufSI1e7nMy--"
      }
    }
  ]
}